{
 "cells": [
  {
   "cell_type": "code",
   "execution_count": null,
   "metadata": {},
   "outputs": [],
   "source": [
    "'''\n",
    "some data types \n",
    "'''\n",
    "n = 76\n",
    "nn = 76.4\n",
    "nnn = False\n",
    "b = 3 - 5j\n",
    "print(type(n))\n",
    "print(type(nn))\n",
    "print(type(nnn))\n",
    "print(type(b))\n"
   ]
  },
  {
   "cell_type": "code",
   "execution_count": null,
   "metadata": {},
   "outputs": [],
   "source": [
    "#Lists is a collection of ordered and mutable elements. \n",
    "lst2=[1.0, 2, 'GFG', \"Geeks\"]\n",
    "\n",
    "#Tuples :\n",
    "# Tuples is a collection of ordered and immutable elements.\n",
    "tup2=(1, 'hi', 3.0)\n",
    "\n",
    "#Set is an unordered collection of data types that is iterable, mutable and has no duplicate elements.\n",
    "c = {1, 4, 5, \"Geeks\", 6.0}\n",
    "\n",
    "# A dictionary in Python is an\n",
    "#  unordered collection of data values in form of key-value pairs. Key-value is provided in the dictionary to make it more optimized. Each key-value pair in\n",
    "#  a Dictionary is separated by a colon : , whereas each key is separated by a ‘comma’.\n",
    "Dict2 = {1: 'Geeks', 2: 'For', 3: 'Geeks'}"
   ]
  },
  {
   "cell_type": "code",
   "execution_count": null,
   "metadata": {},
   "outputs": [],
   "source": [
    "\n",
    "a = \"Course Data Science with Python\"\n",
    "# print(a, end=' at ') # will add at at ending of string a  #Course Data Science with Python at \n",
    "print(\"Course\", \"Data\", \"Science\", \"with\", \"Python\", sep='-', end=' at ' )\n",
    "\n",
    "print(\"\",end='\\n')\n",
    "\n",
    "\n",
    "print('-----------------')\n",
    "\n",
    "print(\"sdfdsf\"+'asf',True)\n",
    "print(\"sdfdsf\",True,444,sep='+')\n"
   ]
  },
  {
   "cell_type": "code",
   "execution_count": null,
   "metadata": {},
   "outputs": [],
   "source": [
    "'''some operators '''\n",
    "print(4+5)\n",
    "print(5/4) #by default it would give in float\n",
    "print(5//4) # only tthe quotient part \n",
    "print(5*3)\n",
    "print(2**3) #exponentiaton\n",
    "print(pow(2,3))\n",
    "print(3%2) # remaindeer  part  \n",
    "\n",
    "print(abs(-423.342))\n",
    "print(round(4.343443434343434,2)) # round to 2 places \n"
   ]
  },
  {
   "cell_type": "code",
   "execution_count": null,
   "metadata": {},
   "outputs": [],
   "source": [
    "\n",
    " \n",
    "'''some comparators '''\n",
    "print(1==1.0)\n",
    "print(True == True)\n",
    "print('ahsish'== 'ahsisH')"
   ]
  },
  {
   "cell_type": "code",
   "execution_count": null,
   "metadata": {},
   "outputs": [],
   "source": [
    "print(True and False)\n",
    "print(True or False)\n",
    "print(True ^ False)\n",
    "print(not True)"
   ]
  },
  {
   "cell_type": "code",
   "execution_count": null,
   "metadata": {},
   "outputs": [],
   "source": [
    "print('ahsish'!= 'ahsisH')\n",
    "print(3>1)\n",
    "print(3 <= True)"
   ]
  },
  {
   "cell_type": "code",
   "execution_count": null,
   "metadata": {},
   "outputs": [],
   "source": [
    "\n",
    "'''typecasting '''\n",
    "\n",
    "print('------Typecasting------')\n",
    "print(int(' 10   '))\n",
    "\n",
    "print('------float-----')\n",
    "print(float( 3 ))\n",
    "print(float(True))\n",
    "\n",
    "print('------st5ring-----')\n",
    "print(str( 3 ))\n",
    "print(str(True))\n",
    "\n",
    "\n",
    "print('------bool-----')\n",
    "print(bool( 3 ))\n",
    "print(bool('asdfasf'))\n",
    "print(bool(' '))"
   ]
  },
  {
   "cell_type": "code",
   "execution_count": null,
   "metadata": {},
   "outputs": [],
   "source": [
    "print('------String operations ------')\n",
    " \n",
    "print('2times '*2)\n",
    "print(len(\"asfdadsf\"))\n",
    "\n",
    "\n",
    "print('-'*7 , \"string access\")\n",
    "\n",
    "\n",
    "\n",
    "\n",
    "print('sahilhaldankar'[4])  # l is printed \n",
    "print('sahilhaldankar'[-1]) #to access from reverse is 1based indexing  \n",
    "\n"
   ]
  },
  {
   "cell_type": "code",
   "execution_count": 1,
   "metadata": {},
   "outputs": [
    {
     "name": "stdout",
     "output_type": "stream",
     "text": [
      "string slicing ---\n",
      "sahil\n",
      "haldankar\n",
      "adsfdf\n",
      "------- string striping\n",
      "sadf sdf a\n",
      "------- string replacing \n",
      " xadf xdf a    \n",
      "------- string counting\n",
      "2\n",
      "------- string finding\n",
      "5\n",
      "------- string checking\n",
      "True\n",
      "------- string capitalization\n",
      "Sahil haldankar\n",
      "Sahil Haldankar\n",
      "------- check for string start and end \n",
      "True\n",
      "True\n",
      "------- string adjusting position \n",
      "**sahil haldankar***\n",
      "sahil haldankar*****\n",
      "*****sahil haldankar\n"
     ]
    }
   ],
   "source": [
    "\n",
    "print('string slicing ---') \n",
    "print('sahilhaldankar'[0:5])   # the end index considers 1 less than what is given \n",
    "\n",
    "print('sahilhaldankar'[-9:]) # this is 1 based indexing \n",
    "\n",
    "print('ADSFDF'.lower())\n",
    "\n",
    "print('-'*7 , \"string striping\")\n",
    "print(\" sadf sdf a    \".strip())\n",
    "\n",
    "\n",
    "print('-'*7 , \"string replacing \")\n",
    "print(\" sadf sdf a    \".replace('s','x'))\n",
    "\n",
    "print('-'*7 , \"string counting\")\n",
    "print(\" sadf sdf a    \".count('s'))\n",
    "\n",
    "\n",
    "print('-'*7 , \"string finding\")\n",
    "print(\"sadf sdf a    \".find('sdf'))\n",
    "\n",
    "print('-'*7 , \"string checking\")\n",
    "print('123'.isdigit())\n",
    "#similarly check for isalpha,isupper, islower\n",
    "\n",
    "print('-'*7 , \"string capitalization\")\n",
    "print('sahil haldankar'.capitalize()) #Sahil haldankar (only first letter )\n",
    "print('sahil haldankar'.title()) #Sahil Haldankar\n",
    "\n",
    "\n",
    "print('-'*7 , \"check for string start and end \")\n",
    "print('sahil haldankar'.startswith('sahil')) #Sahil haldankar (only first letter )\n",
    "print('sahil haldankar'.endswith('kar')) #Sahil Haldankar\n",
    "\n",
    "print('-'*7 , \"string adjusting position \")\n",
    "print('sahil haldankar'.center(20,\"*\")) #takes the string and makes it in center filling the rest poisitions with the * symbol\n",
    "print('sahil haldankar'.ljust(20,\"*\"))\n",
    "print('sahil haldankar'.rjust(20,\"*\"))\n",
    "\n",
    "'''variable assignment'''\n",
    "\n",
    "x , y, z = 1,2,3\n",
    "\n",
    "x= \"sdfsdf\""
   ]
  }
 ],
 "metadata": {
  "kernelspec": {
   "display_name": "Python 3",
   "language": "python",
   "name": "python3"
  },
  "language_info": {
   "codemirror_mode": {
    "name": "ipython",
    "version": 3
   },
   "file_extension": ".py",
   "mimetype": "text/x-python",
   "name": "python",
   "nbconvert_exporter": "python",
   "pygments_lexer": "ipython3",
   "version": "3.12.8"
  }
 },
 "nbformat": 4,
 "nbformat_minor": 2
}
