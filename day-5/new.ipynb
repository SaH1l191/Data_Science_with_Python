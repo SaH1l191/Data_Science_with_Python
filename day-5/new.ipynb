{
 "cells": [
  {
   "cell_type": "code",
   "execution_count": 40,
   "metadata": {},
   "outputs": [
    {
     "name": "stdout",
     "output_type": "stream",
     "text": [
      "<class 'numpy.ndarray'>\n",
      "[1 2 3 4 5]\n"
     ]
    }
   ],
   "source": [
    "#numpy\n",
    "import numpy as np \n",
    "\n",
    "lst = [1,2,3,4,5]\n",
    "arr = np.array(lst,ndmin=1)\n",
    "print(type(arr))\n",
    "print(arr)\n",
    " "
   ]
  },
  {
   "cell_type": "markdown",
   "metadata": {},
   "source": [
    "# Arrange function\n",
    "The arange([start,] stop[, step,][, dtype]) : Returns an array with evenly spaced elements as per the interval. The interval mentioned is half-opened i.e. [Start, Stop) "
   ]
  },
  {
   "cell_type": "code",
   "execution_count": 41,
   "metadata": {},
   "outputs": [
    {
     "data": {
      "text/plain": [
       "array([1, 3, 5, 7, 9])"
      ]
     },
     "execution_count": 41,
     "metadata": {},
     "output_type": "execute_result"
    }
   ],
   "source": [
    "np.arange(1,10,2)\n"
   ]
  },
  {
   "cell_type": "markdown",
   "metadata": {},
   "source": [
    "3. Multidimensional Array + Size function\n"
   ]
  },
  {
   "cell_type": "code",
   "execution_count": 42,
   "metadata": {},
   "outputs": [
    {
     "name": "stdout",
     "output_type": "stream",
     "text": [
      "[[1 2 3]\n",
      " [4 5 6]]\n",
      "Total:  6\n",
      "Rows : 2\n",
      "Cols : 3\n",
      "ARRshape (2, 3)\n"
     ]
    }
   ],
   "source": [
    "marr = np.array([[1,2,3],[4,5,6]])\n",
    "print(marr)\n",
    "\n",
    "print(\"Total: \",marr.size)\n",
    "print(\"Rows :\", np.size(marr,0))\n",
    "print(\"Cols :\", np.size(marr,1))\n",
    "print(\"ARRshape\", marr.shape)"
   ]
  },
  {
   "cell_type": "markdown",
   "metadata": {},
   "source": [
    "# Dtype Function\n",
    "Every ndarray has an associated data type (dtype) object. This data type object (dtype) informs us about the layout of the array. This means it gives us information about:\n",
    "\n",
    "Type of the data (integer, float, Python object, etc.)\n",
    "Size of the data (number of bytes)\n",
    "The byte order of the data (little-endian or big-endian)\n",
    "If the data type is a sub-array, what is its shape and data type?"
   ]
  },
  {
   "cell_type": "code",
   "execution_count": 43,
   "metadata": {},
   "outputs": [
    {
     "name": "stdout",
     "output_type": "stream",
     "text": [
      "int64\n"
     ]
    }
   ],
   "source": [
    "print(marr.dtype)"
   ]
  },
  {
   "cell_type": "markdown",
   "metadata": {},
   "source": [
    "# Ndim function\n",
    "> no of dimensions"
   ]
  },
  {
   "cell_type": "code",
   "execution_count": 44,
   "metadata": {},
   "outputs": [
    {
     "name": "stdout",
     "output_type": "stream",
     "text": [
      "2\n"
     ]
    }
   ],
   "source": [
    "print(marr.ndim) # prints no of dimensions"
   ]
  },
  {
   "cell_type": "code",
   "execution_count": 45,
   "metadata": {},
   "outputs": [
    {
     "name": "stdout",
     "output_type": "stream",
     "text": [
      "[1 2 3 1 2 3]\n",
      "3\n",
      "[[[1 2 3 1 2 3]]]\n"
     ]
    }
   ],
   "source": [
    "\n",
    "arr1 = np.array([1,2,3,1,2,3])\n",
    "print(arr1)\n",
    "arr3 = np.array(arr1, ndmin = 3)\n",
    "print(arr3.ndim)\n",
    "print(arr3)\n",
    "\n"
   ]
  },
  {
   "cell_type": "markdown",
   "metadata": {},
   "source": [
    "# Zeros  Function + Ones Function \n",
    "> The numpy.zeros() function returns a new array of given shape and type, with zeros. Syntax:\n",
    "\n",
    "> numpy.zeros(shape, dtype = None)"
   ]
  },
  {
   "cell_type": "code",
   "execution_count": 46,
   "metadata": {},
   "outputs": [
    {
     "name": "stdout",
     "output_type": "stream",
     "text": [
      "[[0. 0. 0.]\n",
      " [0. 0. 0.]]\n",
      "----------\n",
      "[[1 1 1]\n",
      " [1 1 1]]\n"
     ]
    }
   ],
   "source": [
    "arr1 = np.zeros(shape=(2,3) , dtype = float)\n",
    "print(arr1)\n",
    "\n",
    "print(\"-\"*10)\n",
    "arr1 = np.ones(shape=(2,3) , dtype = int)\n",
    "print(arr1)"
   ]
  },
  {
   "cell_type": "markdown",
   "metadata": {},
   "source": [
    "# 9. Eye  Function\n",
    "The eye tool returns a 2-D array with  1’s as the diagonal and  0’s elsewhere. The diagonal can be main, upper, or lower depending on the optional parameter k."
   ]
  },
  {
   "cell_type": "code",
   "execution_count": 47,
   "metadata": {},
   "outputs": [
    {
     "name": "stdout",
     "output_type": "stream",
     "text": [
      "[[1 0 0 0]\n",
      " [0 1 0 0]\n",
      " [0 0 1 0]\n",
      " [0 0 0 1]]\n"
     ]
    }
   ],
   "source": [
    "#  generating a identity matrix \n",
    "\n",
    "print(np.eye(4, dtype = 'int'))"
   ]
  },
  {
   "cell_type": "markdown",
   "metadata": {},
   "source": [
    "# Empty  Function\n",
    "Return am empty array of given shape and type"
   ]
  },
  {
   "cell_type": "code",
   "execution_count": 48,
   "metadata": {},
   "outputs": [
    {
     "data": {
      "text/plain": [
       "array([[0.00000000e+000, 1.31695336e-311],\n",
       "       [1.31695336e-311, 1.31695336e-311]])"
      ]
     },
     "execution_count": 48,
     "metadata": {},
     "output_type": "execute_result"
    }
   ],
   "source": [
    "np.empty(shape = (2,2))"
   ]
  },
  {
   "cell_type": "markdown",
   "metadata": {},
   "source": [
    "# Random  Functions\n",
    "a) np.random.rand /\n",
    "The numpy.random.rand() function creates an array of specified shape and fills it with random values."
   ]
  },
  {
   "cell_type": "code",
   "execution_count": 49,
   "metadata": {},
   "outputs": [
    {
     "data": {
      "text/plain": [
       "array([-1.40136364e+00, -4.48620889e-02, -1.10617020e+00, -5.38502789e-01,\n",
       "       -3.39409357e-02, -2.15782421e+00,  6.39318969e-01,  3.10847395e-02,\n",
       "        4.05912497e-02, -1.22128327e+00,  4.64493421e-01, -2.21565600e-01,\n",
       "        7.27545579e-01,  2.55893451e+00, -1.71665728e+00,  6.68840032e-01,\n",
       "        1.16579622e+00,  3.28205072e-01, -4.64347627e-01, -2.73125563e+00,\n",
       "        8.57549406e-01,  1.59666614e+00,  1.54004162e+00,  1.04158800e+00,\n",
       "        3.98014736e-01,  5.55167591e-01, -6.26104338e-01,  5.62260368e-01,\n",
       "        1.11926922e+00, -5.85815441e-01, -1.79597972e+00, -8.34738810e-01,\n",
       "        9.76146545e-01, -7.64288524e-01,  2.97075056e-01,  2.99700624e-01,\n",
       "       -5.99066993e-01,  4.05513163e-01, -8.56011489e-01,  1.39824285e+00,\n",
       "       -4.14155085e-01,  1.14613811e+00, -3.90353024e-01, -1.63784323e+00,\n",
       "       -1.42547264e+00,  7.44652928e-01,  5.23060094e-01,  8.31180625e-01,\n",
       "       -1.22253493e+00, -3.27727074e-01, -1.29466856e+00, -5.82149003e-01,\n",
       "        2.12253653e-01,  4.44588077e-01,  6.77516840e-01,  1.63883073e+00,\n",
       "       -3.35952418e-01, -3.29041238e-01,  6.97173345e-01, -3.62331749e-01,\n",
       "        1.88756525e+00,  7.19506049e-01, -2.36664540e-01, -1.62819861e+00,\n",
       "        6.84184996e-01,  1.04300678e+00, -7.73809216e-01,  9.60545383e-01,\n",
       "        6.03688623e-01,  8.74062917e-01, -3.00989032e-01, -4.79047641e-01,\n",
       "        4.59725415e-01,  4.84286498e-01, -5.46766137e-02, -1.49378699e+00,\n",
       "       -7.55236138e-01, -2.41458405e-01,  4.12780393e-02,  2.61033292e-01,\n",
       "       -7.30523173e-02,  5.83996359e-01,  4.95087455e-01, -3.99643410e-01,\n",
       "        6.45970453e-01, -6.14277749e-02, -4.65795949e-01,  7.37054389e-01,\n",
       "        7.94369215e-01, -1.26517740e+00,  8.40420348e-01,  6.23438673e-01,\n",
       "        7.32976155e-01,  5.53423188e-01, -6.55256370e-01, -8.75191917e-01,\n",
       "       -5.85202007e-01, -9.39104450e-01,  3.24048622e-01,  5.97936205e-01,\n",
       "       -1.45341202e-01, -1.76702809e+00,  1.15848858e+00,  1.45218028e+00,\n",
       "        7.45643644e-01, -1.05382197e+00,  2.93345885e-01,  6.56335351e-01,\n",
       "        8.28073255e-02, -1.04448254e+00, -4.67870622e-01, -6.31572848e-01,\n",
       "       -1.19317552e-01, -2.33342157e+00,  4.18884643e-01,  4.05924028e-01,\n",
       "        2.56562307e-01,  1.14334337e-01, -2.25280711e-01, -4.67685068e-01,\n",
       "        7.02552346e-01, -8.26478525e-01, -1.53694978e+00,  2.15505862e+00,\n",
       "       -1.93897666e+00, -4.78025531e-01,  8.88309686e-01,  2.14915711e-01,\n",
       "       -1.49852860e+00, -7.20944747e-01, -4.88848717e-01, -4.61970814e-01,\n",
       "        1.71275688e+00,  1.51404974e+00, -7.54818082e-01, -8.57337152e-01,\n",
       "        2.14403784e-01, -6.14108614e-01,  2.86634411e-01, -9.08442503e-01,\n",
       "        1.38495229e+00,  3.72740968e-01, -4.50910704e-01,  1.03950690e+00,\n",
       "        8.80484396e-01,  2.35448138e-01, -1.48143524e-01, -5.25601699e-01,\n",
       "        3.41182153e-01, -4.84315044e-01, -5.01993202e-01,  1.00440889e+00,\n",
       "       -3.28781772e-01,  4.51808722e-01,  1.92107549e-01, -3.21803008e-01,\n",
       "       -1.13166716e-02, -1.57182022e+00,  2.03470582e+00,  1.62259435e+00,\n",
       "       -5.06321397e-01, -1.34322998e-01,  1.74628903e+00, -5.34651271e-01,\n",
       "       -3.91070664e-01,  5.56773775e-01, -6.14420026e-01,  1.23012344e+00,\n",
       "        3.20392258e-01,  2.72608668e-01,  4.02759719e-01,  6.61302932e-02,\n",
       "        1.23191011e+00,  5.38214457e-02,  4.65901556e-01, -7.96646262e-01,\n",
       "        1.40617160e+00, -5.18056968e-01,  1.12324690e+00,  7.12380506e-01,\n",
       "       -1.82621666e+00, -7.26354006e-01, -6.61121720e-01,  1.57334170e+00,\n",
       "       -1.01232849e+00, -1.07869080e+00, -2.49727908e+00, -1.42755209e+00,\n",
       "        8.71921028e-02,  1.89113483e+00, -1.35970773e+00,  5.27851374e-01,\n",
       "        9.64752599e-01,  4.67682383e-01,  7.78284497e-01, -2.86832947e+00,\n",
       "       -6.79805419e-01, -3.49912173e-01, -4.97830003e-01,  1.51055046e-01,\n",
       "        5.21660549e-01, -3.27759154e-01,  4.87974360e-01,  6.65580554e-01,\n",
       "       -6.55846461e-01,  1.79538570e-02,  7.58954353e-01, -2.62530583e+00,\n",
       "        2.26925755e+00, -1.85107184e+00,  9.14988476e-01, -9.65608075e-01,\n",
       "       -1.37115195e+00,  4.98312036e-01, -2.71609790e-01,  6.32363198e-02,\n",
       "       -2.04064367e-01,  1.36798361e+00, -4.19324239e-01, -1.25475644e+00,\n",
       "        3.29031260e-01, -1.99262077e-02,  4.62796367e-01,  7.98233809e-01,\n",
       "       -1.38303478e+00,  1.22688142e+00, -1.36430237e+00,  3.50161745e-01,\n",
       "       -2.07327030e-03,  6.68816830e-02,  9.92624453e-01, -7.48962947e-01,\n",
       "       -9.05990499e-01, -5.29930286e-01,  3.54041423e-01, -1.09329387e-01,\n",
       "        5.91216614e-01, -4.48932099e-01,  2.00287878e+00,  3.34013951e-01,\n",
       "       -4.95181358e-01, -7.92543470e-02, -5.04480822e-01, -3.09521790e-01,\n",
       "        1.78147732e+00, -1.05707915e+00, -5.06656995e-01, -7.23289396e-01,\n",
       "        2.42837675e+00, -9.00713045e-01,  5.43407203e-01, -2.34552680e+00,\n",
       "        1.28855654e+00,  1.25683874e+00,  1.33673140e+00, -5.37444053e-01,\n",
       "       -2.10973081e-01,  9.03956023e-01, -5.57494569e-01, -2.44395936e+00,\n",
       "       -7.94856726e-02,  6.36733759e-01,  1.56479847e-01,  9.49421685e-01,\n",
       "        1.15096621e-01, -1.07036231e-01, -4.65303098e-02,  1.11349806e+00,\n",
       "        2.04215686e-02, -1.35679164e-01, -1.49940356e+00,  1.59989354e-01,\n",
       "        4.76254828e-01, -1.81843515e+00,  2.06696078e+00, -1.39421464e-01,\n",
       "        4.53294012e-01,  1.39004947e+00,  1.13472308e+00, -2.51443942e+00,\n",
       "        1.13872384e+00, -2.90632464e-01,  5.20259150e-01,  1.55297210e+00,\n",
       "       -1.02906843e+00,  1.01086885e+00, -1.57964743e-01,  1.54444686e+00,\n",
       "       -2.98608831e-01, -1.53713364e+00, -1.15387008e-01, -8.14417152e-02,\n",
       "        8.39547000e-01, -1.33691776e-01, -3.92267083e-01, -3.16902705e-01,\n",
       "        6.49894013e-01,  1.11380561e+00,  6.37841206e-01, -3.68212150e-01,\n",
       "       -9.60456190e-01,  9.54492836e-01,  6.23941987e-01, -5.53807425e-02,\n",
       "        9.14127170e-02, -1.77756456e+00, -2.03645721e+00,  9.97923051e-01,\n",
       "       -1.78930103e-01, -3.60512879e-02,  7.26616089e-01, -3.34324706e-01,\n",
       "        2.91309080e+00, -1.70363086e+00,  7.16227362e-01,  1.63778424e+00,\n",
       "        2.62263096e-01,  7.46170236e-01,  2.35419076e-01, -9.34192573e-01,\n",
       "       -9.20225656e-01,  1.17312211e+00,  6.86138592e-01,  6.44728886e-01,\n",
       "       -1.62553848e-01, -1.12388604e+00, -7.75784848e-01, -2.81260030e-01,\n",
       "       -1.35528133e+00, -8.25022082e-01, -1.89174232e+00,  9.80098491e-01,\n",
       "        2.18782758e+00, -1.13459891e+00,  1.61755083e+00, -3.72426819e-01,\n",
       "        1.18784952e+00, -1.04996005e+00,  9.36931785e-01,  6.65573629e-01,\n",
       "       -4.49443087e-01, -1.49769418e+00, -1.15246278e-01, -8.21228113e-01,\n",
       "        1.97171003e-01, -4.12114760e-01,  3.90661853e-01,  1.51561335e-01,\n",
       "        1.82306029e-01, -4.39338836e-01, -7.51826419e-01,  1.19759620e+00,\n",
       "        6.26609583e-01,  6.56449543e-01,  3.65445187e-01,  2.83620971e-01,\n",
       "        1.73297077e+00,  2.06281811e-01, -1.08504192e+00,  9.56544999e-01,\n",
       "        1.24798117e+00, -2.89354263e-01, -3.30898991e-01,  8.27929080e-01,\n",
       "        1.51929688e-01,  8.86425548e-02,  1.78847413e-02, -7.83944253e-01,\n",
       "        5.87482680e-01, -1.41180856e-01, -1.14469293e+00, -6.83154754e-01,\n",
       "        2.83305986e+00, -1.96449402e+00, -6.28588746e-01, -1.41303385e+00,\n",
       "        9.96389104e-01, -3.33225443e-01, -9.14088808e-01,  1.55344224e+00,\n",
       "        1.62801496e-01, -1.63575908e-02,  1.77767481e+00, -1.17532386e+00,\n",
       "       -6.99320753e-01,  8.39905963e-01,  2.05899579e+00,  6.89973273e-01,\n",
       "       -3.32720800e-01, -8.67618173e-01,  1.37364524e+00,  7.56677522e-01,\n",
       "       -6.70187954e-01,  2.84860399e-01, -6.57843145e-01, -6.25923176e-01,\n",
       "       -8.70412512e-02, -1.66505875e+00, -1.31128517e+00, -4.73543804e-01,\n",
       "       -1.13562005e+00,  1.12280652e-01,  1.86496907e+00, -4.48709733e-01,\n",
       "        3.90675833e-02, -1.27447910e+00, -4.41655886e-02, -1.35796449e-01,\n",
       "        7.62521714e-01,  4.54974721e-01, -8.91364419e-01,  9.51351655e-01,\n",
       "       -1.75134651e+00,  1.38357367e+00,  4.67490331e-01,  1.18115905e+00,\n",
       "       -7.91488177e-01, -2.08781411e-01, -3.90634475e-01,  8.46971603e-02,\n",
       "        1.97580303e+00, -3.90116924e-02, -1.26877212e+00,  3.73430117e-01,\n",
       "        1.26615044e+00,  5.77281438e-01,  3.24109264e-01, -1.49919699e+00,\n",
       "       -3.14214065e-01,  1.69292633e-01,  7.99298825e-01,  1.41845470e+00,\n",
       "       -1.43888819e+00,  7.43412234e-01,  4.11756808e-01, -4.34922915e-01,\n",
       "        6.07074563e-01,  7.21870830e-01,  1.83690570e-01,  6.59238655e-01,\n",
       "        1.46040161e+00, -1.64679819e-01,  1.43131816e-01,  1.63085418e-01,\n",
       "        8.96187195e-01,  8.34743165e-01,  7.43737529e-01,  1.57193168e+00,\n",
       "        5.69245986e-01,  8.83456259e-02,  1.11335403e+00, -1.19179127e+00,\n",
       "       -7.86179688e-01, -2.00537981e-01, -4.98019362e-01, -1.34479051e+00,\n",
       "        1.40014795e+00,  2.00106052e+00, -4.96860470e-01, -3.18420783e-01,\n",
       "       -2.25392472e+00,  7.22834547e-01, -8.75683631e-01,  1.47186012e-01,\n",
       "       -8.37437197e-01, -1.08547583e+00,  4.56510644e-01,  7.57871499e-01,\n",
       "        2.63425478e-01,  2.30661974e-01,  6.96864725e-01,  6.01088573e-01,\n",
       "        1.62516552e+00, -1.62711558e-01, -3.43750498e-01,  6.45154891e-01,\n",
       "       -2.99776602e-01,  1.61708741e+00,  7.02649280e-02, -3.43336389e-02,\n",
       "       -1.52024440e+00,  8.74073990e-01,  7.44469934e-01,  3.72301693e-01,\n",
       "        1.41620121e+00,  3.37547413e-01, -5.79624242e-01, -1.38186946e+00,\n",
       "        5.65008094e-01,  6.91246960e-01,  8.60961794e-01,  7.39141532e-01,\n",
       "        1.24722956e+00,  1.25858998e+00, -1.47058783e+00,  1.31142157e+00,\n",
       "        9.59293199e-01, -5.79435350e-01,  7.51718312e-01,  3.47229682e-01,\n",
       "       -7.52179777e-01, -1.40599570e+00,  1.30095684e+00,  1.18431809e+00,\n",
       "        5.35098764e-01,  2.29313134e-01, -3.09141326e-01,  1.09906148e+00,\n",
       "        1.18074421e+00, -7.59406195e-03,  4.42973125e-01,  9.51707293e-01,\n",
       "        6.01872671e-01,  1.22410769e+00, -3.88905627e-01,  2.92425639e-01,\n",
       "        1.03797106e+00, -2.03642664e+00,  2.67482810e-01,  2.41122794e-01,\n",
       "       -4.95832947e-01, -3.83141506e-01, -3.49627174e-01, -1.38456764e+00,\n",
       "        7.80118661e-01,  8.98201694e-01,  1.24329259e-01,  8.44565434e-01,\n",
       "       -1.09461264e+00, -1.18147369e+00, -3.45598628e-01, -1.12138777e+00,\n",
       "        1.96507315e-01,  2.28335879e+00,  7.66607480e-01, -1.53219671e+00,\n",
       "       -5.10852777e-01, -8.17406125e-01,  4.54217242e-01,  1.26770612e+00,\n",
       "        3.98555996e-01, -6.43522639e-01,  2.99503064e-01, -4.16400691e-01,\n",
       "       -1.32490888e+00,  3.16846389e-01,  1.14828006e-01, -1.05177530e+00,\n",
       "        2.93331046e-01, -1.45850455e+00, -3.84044921e-01, -2.16689472e+00,\n",
       "        8.90259941e-01, -1.52491680e+00,  5.78584572e-02, -2.31675631e-01,\n",
       "       -1.10262383e+00, -3.92170516e-01, -1.78860758e+00, -6.04856005e-01,\n",
       "        6.67875552e-01, -1.12423367e+00, -7.16860444e-01,  2.09994574e+00,\n",
       "        1.09821190e+00, -8.78438352e-01, -2.54895778e-01,  6.49888665e-01,\n",
       "        1.27972255e+00, -8.00703547e-01, -3.98771031e-01,  4.52087091e-01,\n",
       "       -1.41572482e+00, -6.06456451e-01,  1.46626708e+00,  7.85914040e-01,\n",
       "       -5.93881487e-01, -4.42750941e-01, -1.30992546e+00, -9.82042798e-01,\n",
       "       -3.76271386e-01,  5.59892518e-01, -1.60408439e-01, -5.53528663e-01,\n",
       "       -4.44431483e-01, -1.30765198e+00,  5.78338919e-01,  1.29286186e+00,\n",
       "        3.12121059e-01, -1.66556506e-02,  2.51536241e-01,  3.17799269e-01,\n",
       "        3.80126508e-01,  6.55897661e-01, -2.04547990e-01, -7.86254116e-01,\n",
       "       -3.74173095e-01,  1.94154452e-02,  9.66865333e-01,  9.02828605e-01,\n",
       "        2.93162348e-01, -1.29178851e-01,  4.20033858e-01,  5.13461556e-01,\n",
       "       -2.33711981e+00, -1.63335605e+00,  5.48274454e-01, -6.99110605e-01,\n",
       "       -5.31049331e-01, -1.15567972e+00,  4.78115240e-01, -4.73491097e-01,\n",
       "        1.44888952e+00, -7.89238352e-01, -9.01345583e-01,  1.01145354e+00,\n",
       "        7.85287998e-01, -6.51869550e-01, -3.00858440e-01,  2.17689697e+00,\n",
       "        1.08846610e+00,  7.62398958e-01,  1.00633375e+00, -1.12051288e+00,\n",
       "       -4.32085723e-01,  1.79321457e+00,  1.34426154e+00, -4.12152505e-01,\n",
       "       -1.13872221e+00, -1.91940042e-01,  8.31952175e-01,  6.70210252e-01,\n",
       "       -1.27765151e+00, -1.59187835e-01,  1.32542386e-02,  2.46940041e+00,\n",
       "       -9.59805202e-01, -2.37787517e-01,  1.09809090e+00, -1.40831783e+00,\n",
       "       -1.63924317e+00, -1.28391880e+00,  4.01201515e-01,  5.64106360e-01,\n",
       "       -1.38441433e+00, -3.51520633e-01,  5.22195046e-03, -1.19130334e+00,\n",
       "       -2.73105502e+00,  1.29931620e+00,  1.58759959e+00, -3.30767014e-01,\n",
       "       -6.34074964e-01, -1.21409340e+00,  2.43891561e-01, -4.18212307e-01,\n",
       "        1.53487696e-01, -1.68126722e+00,  5.86771864e-01,  1.59462832e+00,\n",
       "       -7.93797381e-01, -9.88028367e-01,  1.73780440e+00, -1.65991693e-01,\n",
       "        1.01072839e+00, -5.55276550e-01,  5.88662787e-01, -3.58398081e-01,\n",
       "        1.20173156e+00, -7.41220993e-01,  6.54281988e-01,  4.08789235e-01,\n",
       "        2.48617998e-02, -1.47922326e-01, -1.41498192e+00, -8.96383022e-01,\n",
       "        1.03402910e-01,  6.27244582e-01,  4.98517258e-01,  1.42958758e-01,\n",
       "        6.43557921e-01,  8.58564522e-01,  8.25841872e-01,  1.37345254e+00,\n",
       "        1.98338202e+00,  1.35272799e+00,  3.56432367e-01,  1.27151615e-01,\n",
       "        1.13278433e-01, -5.44880562e-01, -9.01946833e-01,  8.96290698e-01,\n",
       "        6.44622310e-03, -4.34324794e-02, -2.74987377e-01, -1.85005939e+00,\n",
       "        3.20853152e+00,  1.28645877e+00, -2.84151237e+00, -7.49343075e-01,\n",
       "       -5.83633630e-01,  1.00134312e+00, -8.94284458e-01,  6.76220136e-01,\n",
       "        2.55056028e+00, -3.36211976e-01,  1.59027654e+00,  4.80438672e-01,\n",
       "        2.16205435e+00, -6.26036691e-01,  7.85246037e-01, -7.59964296e-01,\n",
       "       -8.86659783e-01,  1.51961025e+00,  9.72491801e-01,  5.21060428e-01,\n",
       "        2.95833250e-01,  3.63257090e-02,  8.74388593e-01,  1.53889862e+00,\n",
       "       -8.34794766e-01,  9.99325599e-02, -1.16308128e+00,  1.03267205e-01,\n",
       "        8.46209495e-01, -5.48500607e-01, -4.58638826e-01, -8.43255447e-01,\n",
       "        4.67220516e-01, -3.50234615e-02,  1.24801370e-01,  8.02304518e-01,\n",
       "       -3.96101073e-01,  5.29260762e-01,  1.39321418e-01,  5.40705948e-01,\n",
       "        3.23688083e-01, -1.59977880e+00,  1.98223647e+00, -4.86619632e-01,\n",
       "        1.77753650e+00, -1.61490036e+00,  8.96143630e-01, -7.27822884e-01,\n",
       "        1.02841245e-01, -8.95071806e-01, -2.10014421e-01,  1.36075240e+00,\n",
       "        3.22491842e-02, -8.49876472e-01, -3.25829239e-01, -1.23629824e+00,\n",
       "        3.14831584e-01, -6.17249793e-01,  1.50307503e-01, -9.91303845e-01,\n",
       "       -9.18928643e-01, -1.97777704e-01,  6.27235393e-01,  6.08188970e-01,\n",
       "        1.39408652e+00,  6.65116677e-01,  2.56857352e-02,  5.96884018e-01,\n",
       "        1.39149457e-01, -1.25228878e+00, -2.83104024e-01,  8.87835017e-01,\n",
       "       -3.31233928e-02,  4.49071784e-01,  3.38109553e-02, -1.43028110e-01,\n",
       "        9.81346657e-02,  7.87024671e-01, -1.40441188e+00, -1.85010633e+00,\n",
       "        1.73463804e+00,  7.27490888e-01,  1.12571381e+00,  3.56579384e-01,\n",
       "        9.07874185e-01,  2.33560760e-01, -4.89621107e-01,  1.74109462e+00,\n",
       "       -6.54390390e-01,  1.10903072e+00,  1.07959917e+00,  1.69120426e-02,\n",
       "        4.04893501e-01, -1.11760103e+00, -8.14815896e-01,  2.75846633e+00,\n",
       "       -1.98656670e+00, -2.53079462e+00, -3.76048951e-02,  5.06856968e-01,\n",
       "        6.07355636e-01, -1.52397018e+00,  3.37935733e-01, -9.12547386e-01,\n",
       "        7.83345328e-01, -1.50779313e+00, -4.20377652e-01, -1.31325589e+00,\n",
       "       -8.35295296e-01, -3.87682629e-01,  1.97303152e+00, -3.65005440e-02,\n",
       "       -1.26174479e+00, -5.59250042e-01, -3.74962241e-01, -5.39974213e-01,\n",
       "        5.66014194e-01, -2.38264593e+00,  4.42700787e-01, -2.44105667e+00,\n",
       "        9.73070694e-01, -8.92554513e-01, -5.98354319e-02, -5.32102102e-01,\n",
       "       -2.21239485e+00,  7.29385293e-01, -3.35066022e-01, -2.21396722e+00,\n",
       "        7.39713227e-01, -5.08670880e-01, -1.87230827e+00, -1.28453925e+00,\n",
       "       -7.34260813e-02, -1.11316736e+00, -7.53043187e-01, -5.12436323e-02,\n",
       "        3.44793744e-01, -7.16678047e-01, -3.51610472e-01, -1.13700827e+00,\n",
       "       -1.33729556e+00,  1.39432784e+00,  1.15657086e+00,  6.56521877e-01,\n",
       "       -1.71848484e+00, -9.41416725e-01, -1.35234669e-01,  7.54905879e-01,\n",
       "       -7.98479583e-02, -3.79064681e-01,  3.88856064e-02, -9.86874001e-01,\n",
       "       -4.67748269e-01,  1.08199527e+00,  1.23036551e+00, -1.35873360e+00,\n",
       "        2.66217889e+00,  1.02447461e+00,  2.40535517e+00,  1.59055634e-03,\n",
       "       -1.93774123e-01,  2.97740514e-01,  3.93769471e-02,  1.49675042e+00,\n",
       "       -1.16863503e+00, -6.04766058e-01,  5.56409553e-01,  1.00760211e+00,\n",
       "       -2.38098377e-01, -1.18824220e+00, -1.82494172e-01, -4.99921652e-01,\n",
       "       -1.36763831e+00,  9.45461909e-01,  1.09623643e+00, -7.95103987e-01,\n",
       "       -1.70336298e+00,  9.43759143e-01,  5.59221581e-01, -1.99698636e-01,\n",
       "        8.07023235e-01, -1.66899608e+00,  3.58869957e-01, -6.08712199e-01,\n",
       "        4.13841934e-01, -2.09541939e-01, -5.71821374e-01,  2.05808830e-01,\n",
       "        1.23185751e+00,  1.07705332e+00,  1.51361387e+00, -8.57672410e-01,\n",
       "        2.28917546e-01, -7.72871401e-02,  3.30658964e-01, -9.71065680e-01,\n",
       "       -6.69867433e-01,  4.82110932e-01,  1.60120885e+00,  1.86763176e+00,\n",
       "       -2.05804552e-01, -8.13821623e-01, -1.97941953e-01, -4.94217899e-01,\n",
       "        1.19276144e+00, -1.14587891e+00,  1.09550326e+00, -5.21425609e-01,\n",
       "       -6.59276475e-02, -4.11453900e-01,  7.37016384e-01,  2.35975107e+00,\n",
       "       -1.78313941e+00,  2.68709093e-01,  1.23533716e+00,  3.31512472e-01,\n",
       "        2.97441071e-01,  1.46058441e+00, -2.28377946e-02, -5.27690642e-01,\n",
       "        1.31750575e+00,  5.71505742e-02,  6.32497091e-01,  6.79378638e-01,\n",
       "        2.95958262e-01,  1.81598278e-01,  7.87461199e-01,  6.60135217e-01,\n",
       "       -2.34620514e-01, -1.85748769e+00,  1.14984369e+00, -7.12355453e-01,\n",
       "        1.31995466e-01,  1.41833644e+00,  1.71258757e-01, -1.24741443e+00,\n",
       "       -2.33686920e-01, -1.23075518e+00,  1.49306160e+00,  7.56275307e-01,\n",
       "        1.51495632e-01, -2.06214159e+00,  9.12861075e-01, -4.06315093e-01,\n",
       "       -4.84629010e-01, -2.13874058e-01, -2.62724322e-01,  6.39573583e-01,\n",
       "        5.48917441e-01, -3.94874190e-01,  1.44878767e+00, -9.22071438e-01,\n",
       "       -9.73038387e-01,  6.74120102e-01,  1.63851509e-01, -7.90870230e-01,\n",
       "       -8.00207521e-01,  3.62840196e-01,  6.55070900e-01,  4.75061239e-01,\n",
       "        4.91651185e-01,  1.34729316e-01, -6.73499631e-01,  2.92973671e-02,\n",
       "        1.08755578e+00,  7.56520698e-01,  1.71733186e+00,  8.93934378e-01,\n",
       "        1.21045658e+00, -2.48599314e-01,  6.53529147e-01,  7.24814650e-01,\n",
       "        7.09976760e-01,  1.22742506e+00,  1.74730766e-01,  3.59243403e-02,\n",
       "       -9.91508040e-01, -1.05887804e+00,  7.20839837e-01, -8.98529740e-01,\n",
       "       -1.97935833e+00,  2.72947741e-01, -8.83220327e-01,  1.39068951e-01,\n",
       "        3.76013614e-01, -3.68132603e-01,  5.47408052e-01,  6.92211204e-01,\n",
       "       -6.44776358e-01, -5.94436826e-01, -1.80958437e+00, -7.02280146e-01,\n",
       "        3.84367216e-02, -7.95401499e-01,  5.89712962e-01, -1.52412721e-01,\n",
       "       -1.02593459e+00, -4.79990761e-01,  1.46528260e+00, -1.58377670e+00,\n",
       "        5.70525139e-01,  2.30642151e-01, -6.84816420e-01, -9.48447089e-01])"
      ]
     },
     "execution_count": 49,
     "metadata": {},
     "output_type": "execute_result"
    }
   ],
   "source": [
    "np.random.rand(2,3)\n",
    "\n",
    "# intiializes values iwthing range \n",
    "np.random.randint(low=1,high=15,size=10)\n",
    "\n",
    "np.random.randn(1000)\n",
    "#The function np.random.randn(1000) generates 1000 random numbers that \n",
    "# are drawn from a standard normal distribution \n",
    "# (also known as a Gaussian distribution) with a mean of 0 and a \n",
    "# standard deviation of 1.\n",
    "\n"
   ]
  },
  {
   "cell_type": "markdown",
   "metadata": {},
   "source": [
    "# Reshaping the array \n"
   ]
  },
  {
   "cell_type": "code",
   "execution_count": 50,
   "metadata": {},
   "outputs": [
    {
     "name": "stdout",
     "output_type": "stream",
     "text": [
      "12\n",
      "[[14  8  7 13]\n",
      " [ 9  7  7 11]\n",
      " [12 11  2  2]]\n",
      "**********\n",
      "12\n",
      "[[14  8  7]\n",
      " [13  9  7]\n",
      " [ 7 11 12]\n",
      " [11  2  2]]\n"
     ]
    }
   ],
   "source": [
    "arr  = np.random.randint(1,15,size = (3,4))\n",
    "print(arr.size)\n",
    "print(arr)\n",
    "print(\"*\"*10)\n",
    "arr2 = arr.reshape(4,3)\n",
    "print(arr2.size)\n",
    "print(arr2)"
   ]
  },
  {
   "cell_type": "markdown",
   "metadata": {},
   "source": [
    "# Linspace  Function\n",
    "The numpy.linspace() function returns number spaces evenly w.r.t interval. Similar to numpy.arange() function but instead of step it uses sample number."
   ]
  },
  {
   "cell_type": "code",
   "execution_count": 51,
   "metadata": {},
   "outputs": [
    {
     "data": {
      "text/plain": [
       "array([ 1,  1,  1,  1,  1,  1,  2,  2,  2,  2,  2,  3,  3,  3,  3,  3,  3,\n",
       "        4,  4,  4,  4,  4,  5,  5,  5,  5,  5,  5,  6,  6,  6,  6,  6,  7,\n",
       "        7,  7,  7,  7,  7,  8,  8,  8,  8,  8,  9,  9,  9,  9,  9, 10])"
      ]
     },
     "execution_count": 51,
     "metadata": {},
     "output_type": "execute_result"
    }
   ],
   "source": [
    "np.linspace(start=1, stop=10, num=50, endpoint=True, retstep=False, dtype='int', axis=0)\n",
    "\n",
    "#start=1: The sequence starts at 1.\n",
    "# stop=10: The sequence ends at 10 (inclusive because endpoint=True).\n",
    "# num=50: This specifies that 50 values should be generated in the sequence.\n",
    "# endpoint=True: The stop value (10) is included in the sequence.\n",
    "# retstep=False: This means that the step size (distance between consecutive values) will not be returned.\n",
    "# dtype='int': The values in the resulting array are converted to integers. Since the default behavior of np.linspace generates floating-point numbers, specifying dtype='int' will round or truncate the generated numbers to integers.\n",
    "# axis=0: The sequence will be generated along the first axis of the array (which is the default behavior and doesn't change the result here)."
   ]
  },
  {
   "cell_type": "markdown",
   "metadata": {},
   "source": [
    "# Flatten"
   ]
  },
  {
   "cell_type": "code",
   "execution_count": 52,
   "metadata": {},
   "outputs": [
    {
     "name": "stdout",
     "output_type": "stream",
     "text": [
      "(2, 3)\n",
      "[[3 9 4]\n",
      " [3 2 1]]\n",
      "******************* after flatenning\n",
      "[3 9 4 3 2 1]\n",
      "(6,)\n"
     ]
    }
   ],
   "source": [
    "arr = np.random.randint(1,10,size=(2,3))\n",
    "print(arr.shape)\n",
    "print(arr)\n",
    "print('*' * 19 , \"after flatenning\")\n",
    "flatttt =  arr.flatten()\n",
    "print(flatttt)\n",
    "print(flatttt.shape)"
   ]
  },
  {
   "cell_type": "markdown",
   "metadata": {},
   "source": [
    "# Logspace \n",
    "same as linspace but with log "
   ]
  },
  {
   "cell_type": "code",
   "execution_count": 53,
   "metadata": {},
   "outputs": [
    {
     "name": "stdout",
     "output_type": "stream",
     "text": [
      "[    3     3     4     5     6     8    10    12    15    18    22    27\n",
      "    33    41    50    61    75    92   113   138   169   207   254   310\n",
      "   380   465   569   697   852  1043  1276  1562  1911  2339  2862  3502\n",
      "  4285  5243  6415  7849  9605 11752 14380 17595 21529 26343 32233 39440\n",
      " 48258 59049]\n"
     ]
    }
   ],
   "source": [
    "print(np.logspace(1,10,base = 3,dtype=int))"
   ]
  },
  {
   "cell_type": "markdown",
   "metadata": {},
   "source": [
    "# . Copy function\n",
    "If we normally use the equals sign then the **id** of both the numpy array will be same, so we need to use to copy function"
   ]
  },
  {
   "cell_type": "code",
   "execution_count": 54,
   "metadata": {},
   "outputs": [
    {
     "name": "stdout",
     "output_type": "stream",
     "text": [
      "here both the ids are same \n",
      "[ 6  8  5  8  5 11  9  5 11 10] 2665936343984\n",
      "[ 6  8  5  8  5 11  9  5 11 10] 2665936343984\n",
      "*******\n",
      "here both the ids are diff \n",
      "[ 6  8  5  8  5 11  9  5 11 10] 2665936343984\n",
      "[ 6  8  5  8  5 11  9  5 11 10] 2665566894576\n"
     ]
    }
   ],
   "source": [
    "arr1 = np.random.randint(1,15,10)\n",
    "\n",
    "arr2 = arr1\n",
    "\n",
    "print(\"here both the ids are same \")\n",
    "print(arr1, id(arr1))\n",
    "print(arr2, id(arr2))\n",
    "\n",
    "print(\"*\"*7)\n",
    "arr2  = np.copy(arr1)\n",
    "print(\"here both the ids are diff \")\n",
    "print(arr1, id(arr1))\n",
    "print(arr2, id(arr2))\n"
   ]
  },
  {
   "cell_type": "markdown",
   "metadata": {},
   "source": [
    "# arr.max() ,  arr.min() ,     arr.sum() functions\n",
    "\n",
    "\n",
    "We can use the axis parameter to get the max, min and sum of a particular column or row\n",
    "\n",
    "axis=0 is for the column\n",
    "axis=1 is for the row"
   ]
  },
  {
   "cell_type": "code",
   "execution_count": 55,
   "metadata": {},
   "outputs": [
    {
     "name": "stdout",
     "output_type": "stream",
     "text": [
      "8\n",
      "2\n",
      "40\n",
      "[[6 5 3 2]\n",
      " [2 8 8 6]]\n",
      "max of a col (axix= 0)\n",
      "[ 8 13 11  8]\n"
     ]
    }
   ],
   "source": [
    "arr  = np.random.randint(1,10,(2,4))\n",
    "print(arr.max())\n",
    "print(arr.min())\n",
    "print(arr.sum())\n",
    "print(arr)\n",
    "print(\"max of a col (axix= 0)\")\n",
    "print(arr.sum(axis=0))"
   ]
  },
  {
   "cell_type": "markdown",
   "metadata": {},
   "source": [
    "# Seed Function\n",
    "random() function is used to generate random numbers in Python. Not actually random, rather this is used to generate pseudo-random numbers. That implies that these randomly generated numbers can be determined. random() function generates numbers for some values. This value is also called seed value."
   ]
  },
  {
   "cell_type": "code",
   "execution_count": 56,
   "metadata": {},
   "outputs": [
    {
     "name": "stdout",
     "output_type": "stream",
     "text": [
      "random array(seed value) \n",
      "[[9 4 9]\n",
      " [9 1 6]]\n"
     ]
    }
   ],
   "source": [
    "np.random.seed(3)\n",
    "print(\"random array(seed value) \")\n",
    "arr = np.random.randint(1,10,(2,3))\n",
    "print(arr)  # this wont change values \n",
    "\n",
    "\n"
   ]
  },
  {
   "cell_type": "code",
   "execution_count": 57,
   "metadata": {},
   "outputs": [
    {
     "name": "stdout",
     "output_type": "stream",
     "text": [
      "******\n",
      "random array \n",
      "[[4 6 8]\n",
      " [7 1 5]]\n"
     ]
    }
   ],
   "source": [
    "#but this wil generate random values everytime \n",
    "print(\"*\"*6)\n",
    "print(\"random array \")\n",
    "arr2 = np.random.randint(1,10,(2,3))\n",
    "print(arr2)"
   ]
  },
  {
   "cell_type": "markdown",
   "metadata": {},
   "source": [
    "# Sorting Function\n",
    "numpy.sort() : This function returns a sorted copy of an array.\n",
    "\n",
    "Parameters :\n",
    "\n",
    "arr : Array to be sorted.\n",
    "axis : Axis along which we need array to be started.\n",
    "order : This argument specifies which fields to compare first.\n",
    "kind : [‘quicksort’{default}, ‘mergesort’, ‘heapsort’]Sorting algorithm"
   ]
  },
  {
   "cell_type": "code",
   "execution_count": 58,
   "metadata": {},
   "outputs": [
    {
     "name": "stdout",
     "output_type": "stream",
     "text": [
      "[[8 9 2]\n",
      " [7 3 3]\n",
      " [2 4 6]]\n",
      "******\n",
      "[[2 2 3]\n",
      " [3 4 7]\n",
      " [6 8 9]]\n"
     ]
    }
   ],
   "source": [
    "arr2 = np.random.randint(1,10,(3,3))\n",
    "print(arr2)\n",
    "# arr2.sort(axis =1 ) # row wise\n",
    "# arr2\n",
    "\n",
    "arr2.sort(axis= 0)\n",
    "arr2  # col wiser\n",
    "\n",
    "print(\"*\"*6)\n",
    "\n",
    "arr2.sort(kind='mergesort')\n",
    "print(arr2)\n",
    "\n"
   ]
  },
  {
   "cell_type": "markdown",
   "metadata": {},
   "source": [
    "# array operationss \n"
   ]
  },
  {
   "cell_type": "code",
   "execution_count": 59,
   "metadata": {},
   "outputs": [
    {
     "name": "stdout",
     "output_type": "stream",
     "text": [
      "random array(seed value) \n",
      "[[9 4 9]\n",
      " [9 1 6]]\n",
      "******\n",
      "[[10  5 10]\n",
      " [10  2  7]]\n"
     ]
    }
   ],
   "source": [
    "np.random.seed(3)\n",
    "print(\"random array(seed value) \")\n",
    "arr = np.random.randint(1,10,(2,3))\n",
    "print(arr)    \n",
    "print(\"*\"*6)\n",
    "\n",
    "#addition (adds to all values of array)\n",
    "print(arr+1)\n",
    "\n",
    " \n"
   ]
  },
  {
   "cell_type": "markdown",
   "metadata": {},
   "source": [
    "# Matrix multiplication "
   ]
  },
  {
   "cell_type": "code",
   "execution_count": 63,
   "metadata": {},
   "outputs": [
    {
     "name": "stdout",
     "output_type": "stream",
     "text": [
      "random array(seed value) \n",
      "[[9 4]\n",
      " [9 9]]\n",
      "[[1 6]\n",
      " [4 6]]\n",
      "****** printing dot product \n",
      "[[81 16]\n",
      " [81 81]]\n"
     ]
    }
   ],
   "source": [
    "np.random.seed(3)\n",
    "print(\"random array(seed value) \")\n",
    "arr1 = np.random.randint(1,10,(2,2))\n",
    "arr2 = np.random.randint(1,10,(2,2))\n",
    "print(arr1)    \n",
    "print(arr2)\n",
    "print(\"*\"*6,\"printing dot product \")\n",
    " \n",
    "# for matrix multiplication \n",
    "arr1.dot(arr2)\n",
    "\n",
    "print(arr1**2)\n"
   ]
  },
  {
   "cell_type": "markdown",
   "metadata": {},
   "source": [
    "# Percentaile \n"
   ]
  },
  {
   "cell_type": "code",
   "execution_count": 94,
   "metadata": {},
   "outputs": [
    {
     "name": "stdout",
     "output_type": "stream",
     "text": [
      "[5 6 7 8]\n",
      "6.5\n"
     ]
    }
   ],
   "source": [
    " \n",
    "arr1 = np.array([5,6,7,8]) \n",
    "flattened_arr = arr1.flatten()\n",
    "print(flattened_arr)\n",
    "print(np.percentile(flattened_arr,50)) # 50th percentile is always the median \n",
    "#The median is calculated by averaging the two middle numbers (7 and 8)  "
   ]
  },
  {
   "cell_type": "markdown",
   "metadata": {},
   "source": [
    "# Mean, Variance and Standard deviation\n",
    "In NumPy, we can compute the mean, standard deviation, and variance of a given array along the second axis by two approaches first is by using inbuilt functions and second is by the formulas of the mean, standard deviation, and variance.\n",
    "\n",
    "Using numpy.mean(), numpy.std(), numpy.var()"
   ]
  },
  {
   "cell_type": "code",
   "execution_count": 107,
   "metadata": {},
   "outputs": [
    {
     "name": "stdout",
     "output_type": "stream",
     "text": [
      "[[7 3 3 2 4]]\n",
      "3.8\n",
      "2.9600000000000004\n",
      "1.7204650534085255\n"
     ]
    }
   ],
   "source": [
    "arr1 = np.random.randint(1,10,(1,5))\n",
    "print(arr1)\n",
    "print(arr1.mean())\n",
    "print(arr1.var()) # variance\n",
    "print(arr1.std()) # standard deviation"
   ]
  },
  {
   "cell_type": "markdown",
   "metadata": {},
   "source": [
    "# Filtering an Array"
   ]
  },
  {
   "cell_type": "code",
   "execution_count": 115,
   "metadata": {},
   "outputs": [
    {
     "name": "stdout",
     "output_type": "stream",
     "text": [
      "[False False False  True  True  True  True  True  True  True  True  True\n",
      "  True  True]\n",
      "***************\n",
      "[ 4  5  6  7  8  9 10 11 12 13 14]\n"
     ]
    }
   ],
   "source": [
    "arr = np.arange(1,15)\n",
    "arr\n",
    "print(arr> 3)\n",
    "print(\"*\"*15)\n",
    "#creating a new array satifsying this confition \n",
    "filtered = arr[arr >3]\n",
    "print(filtered)"
   ]
  },
  {
   "cell_type": "code",
   "execution_count": 116,
   "metadata": {},
   "outputs": [
    {
     "name": "stdout",
     "output_type": "stream",
     "text": [
      "[ 1  2  3 10 10 10 10 10 10 10 10 10 10 10]\n"
     ]
    }
   ],
   "source": [
    "# replacing all the values above 3 with 10 \n",
    "arr[arr > 3 ] = 10 \n",
    "print(arr)"
   ]
  },
  {
   "cell_type": "markdown",
   "metadata": {},
   "source": [
    "# Transposing an array\n",
    "With the help of Numpy ndarray.T object, we can make a Transpose of an array having dimension greater than or equal to 2."
   ]
  },
  {
   "cell_type": "code",
   "execution_count": 117,
   "metadata": {},
   "outputs": [
    {
     "name": "stdout",
     "output_type": "stream",
     "text": [
      "[[ 6  9 15  2 11]\n",
      " [ 8 12  2 16 17]\n",
      " [ 6 18 15  1  1]]\n",
      "--------------------\n",
      "[[ 6  8  6]\n",
      " [ 9 12 18]\n",
      " [15  2 15]\n",
      " [ 2 16  1]\n",
      " [11 17  1]]\n"
     ]
    }
   ],
   "source": [
    "arr = np.random.randint(1,20,(3,5))\n",
    "\n",
    "print(arr)\n",
    "print('-'*20)\n",
    "print(arr.T)"
   ]
  },
  {
   "cell_type": "markdown",
   "metadata": {},
   "source": [
    "# Where function \n",
    "The numpy.where() function returns the indices of elements in an input array where the given condition is satisfied.\n",
    "\n",
    "Syntax :numpy.where(condition[, x, y]) Parameters: condition : When True, yield x, otherwise yield y. x, y : Values from which to choose. x, y and condition need to be broadcastable to some shape."
   ]
  },
  {
   "cell_type": "code",
   "execution_count": 123,
   "metadata": {},
   "outputs": [
    {
     "name": "stdout",
     "output_type": "stream",
     "text": [
      "[12 85 11 81 77 69 45 45 20 17]\n",
      "--------------------\n",
      "['even' '85' '11' '81' '77' '69' '45' '45' 'even' '17']\n",
      "--------------------\n",
      "[ 1 85 11 81 77 69 45 45  1 17]\n"
     ]
    }
   ],
   "source": [
    "arr = np.random.randint(1,100,10)\n",
    "print(arr)\n",
    "print('-'*20)\n",
    "print(np.where(arr%2 == 0 , 'even', arr ))\n",
    "print('-'*20)\n",
    "print(np.where(arr%2 == 0 , 1, arr ))"
   ]
  },
  {
   "cell_type": "markdown",
   "metadata": {},
   "source": [
    "#  Merging Arrays"
   ]
  },
  {
   "cell_type": "markdown",
   "metadata": {},
   "source": [
    "We can perform the concatenation operation using the concatenate() function. With this function, arrays are concatenated either row-wise or column-wise, given that they have equal rows or columns respectively. Column-wise concatenation can be done by equating axis to 1 as an argument in the function.\n"
   ]
  },
  {
   "cell_type": "code",
   "execution_count": 126,
   "metadata": {},
   "outputs": [
    {
     "name": "stdout",
     "output_type": "stream",
     "text": [
      "[[1 8 5 9]\n",
      " [9 5 2 5]]\n",
      "---------------\n",
      "[[1 6 7 8]\n",
      " [1 8 9 2]]\n",
      "------------------------------\n",
      "[[1. 8. 5. 9.]\n",
      " [9. 5. 2. 5.]\n",
      " [1. 6. 7. 8.]\n",
      " [1. 8. 9. 2.]]\n",
      "------------------------------\n",
      "[[1 8 5 9 1 6 7 8]\n",
      " [9 5 2 5 1 8 9 2]]\n"
     ]
    }
   ],
   "source": [
    "arr1 = np.random.randint(1,10,(2,4))\n",
    "arr2 = np.random.randint(1,10,(2,4))\n",
    "\n",
    "print(arr1)\n",
    "print('-'*15)\n",
    "print(arr2)\n",
    "\n",
    "print('-'*30)\n",
    "print(np.concatenate((arr1,arr2), axis = 0,dtype='float'))\n",
    "print('-'*30)\n",
    "print(np.concatenate((arr1,arr2), axis = 1))"
   ]
  },
  {
   "cell_type": "markdown",
   "metadata": {},
   "source": [
    "> Hstack and v Stack"
   ]
  },
  {
   "cell_type": "code",
   "execution_count": 137,
   "metadata": {},
   "outputs": [
    {
     "name": "stdout",
     "output_type": "stream",
     "text": [
      "[[8 3 7 1]\n",
      " [2 1 5 7]]\n",
      "---------------\n",
      "[[6 7 5 8]\n",
      " [1 5 3 9]]\n",
      "---------------\n",
      "h stack\n",
      "[[8 3 7 1 6 7 5 8]\n",
      " [2 1 5 7 1 5 3 9]]\n",
      "v stack\n",
      "[[8 3 7 1]\n",
      " [2 1 5 7]\n",
      " [6 7 5 8]\n",
      " [1 5 3 9]]\n"
     ]
    }
   ],
   "source": [
    "arr1 = np.random.randint(1,10,(2,4))\n",
    "print(arr1)\n",
    "\n",
    "arr2 = np.random.randint(1,10,(2,4)) \n",
    "print('-'*15)\n",
    "print(arr2)\n",
    "\n",
    "print('-'*15)\n",
    "print(\"h stack\")\n",
    "print(np.hstack((arr1,arr2)))\n",
    "print(\"v stack\")\n",
    "print(np.vstack((arr1,arr2)))"
   ]
  },
  {
   "cell_type": "markdown",
   "metadata": {},
   "source": [
    "> splitting arrays "
   ]
  },
  {
   "cell_type": "code",
   "execution_count": 140,
   "metadata": {},
   "outputs": [
    {
     "name": "stdout",
     "output_type": "stream",
     "text": [
      "[[1 9 8 5]\n",
      " [4 4 7 2]]\n",
      "---------------\n",
      "[[8 2 3 1]\n",
      " [8 2 6 3]]\n",
      "---------------\n",
      "h stack\n",
      "[array([[1, 9],\n",
      "       [4, 4]], dtype=int32), array([[8, 5],\n",
      "       [7, 2]], dtype=int32)]\n",
      "---------------\n",
      "v stack\n",
      "[array([[8, 2, 3, 1]], dtype=int32), array([[8, 2, 6, 3]], dtype=int32)]\n"
     ]
    }
   ],
   "source": [
    "arr1 = np.random.randint(1,10,(2,4))\n",
    "print(arr1)\n",
    "\n",
    "arr2 = np.random.randint(1,10,(2,4)) \n",
    "print('-'*15)\n",
    "print(arr2)\n",
    "\n",
    "print('-'*15)\n",
    "print(\"h stack\")\n",
    "print(np.hsplit(arr1,2))\n",
    "print('-'*15)\n",
    "print(\"v stack\")\n",
    "\n",
    "print(np.vsplit(arr2,2))"
   ]
  },
  {
   "cell_type": "code",
   "execution_count": 143,
   "metadata": {},
   "outputs": [
    {
     "data": {
      "text/plain": [
       "array([[[0.09803922, 0.74509805, 0.92941177],\n",
       "        [0.09803922, 0.74509805, 0.92941177],\n",
       "        [0.09803922, 0.74509805, 0.92941177],\n",
       "        ...,\n",
       "        [0.09803922, 0.74509805, 0.92941177],\n",
       "        [0.09803922, 0.74509805, 0.92941177],\n",
       "        [0.09803922, 0.74509805, 0.92941177]],\n",
       "\n",
       "       [[0.09803922, 0.74509805, 0.92941177],\n",
       "        [0.09803922, 0.74509805, 0.92941177],\n",
       "        [0.09803922, 0.74509805, 0.92941177],\n",
       "        ...,\n",
       "        [0.09803922, 0.74509805, 0.92941177],\n",
       "        [0.09803922, 0.74509805, 0.92941177],\n",
       "        [0.09803922, 0.74509805, 0.92941177]],\n",
       "\n",
       "       [[0.09803922, 0.74509805, 0.92941177],\n",
       "        [0.09803922, 0.74509805, 0.92941177],\n",
       "        [0.09803922, 0.74509805, 0.92941177],\n",
       "        ...,\n",
       "        [0.09803922, 0.74509805, 0.92941177],\n",
       "        [0.09803922, 0.74509805, 0.92941177],\n",
       "        [0.09803922, 0.74509805, 0.92941177]],\n",
       "\n",
       "       ...,\n",
       "\n",
       "       [[0.05882353, 0.6039216 , 0.75686276],\n",
       "        [0.05882353, 0.6039216 , 0.75686276],\n",
       "        [0.05882353, 0.6039216 , 0.75686276],\n",
       "        ...,\n",
       "        [0.05882353, 0.6039216 , 0.75686276],\n",
       "        [0.05882353, 0.6039216 , 0.75686276],\n",
       "        [0.05882353, 0.6039216 , 0.75686276]],\n",
       "\n",
       "       [[0.05882353, 0.6039216 , 0.75686276],\n",
       "        [0.05882353, 0.6039216 , 0.75686276],\n",
       "        [0.05882353, 0.6039216 , 0.75686276],\n",
       "        ...,\n",
       "        [0.05882353, 0.6039216 , 0.75686276],\n",
       "        [0.05882353, 0.6039216 , 0.75686276],\n",
       "        [0.05882353, 0.6039216 , 0.75686276]],\n",
       "\n",
       "       [[0.05882353, 0.6039216 , 0.75686276],\n",
       "        [0.05882353, 0.6039216 , 0.75686276],\n",
       "        [0.05882353, 0.6039216 , 0.75686276],\n",
       "        ...,\n",
       "        [0.05882353, 0.6039216 , 0.75686276],\n",
       "        [0.05882353, 0.6039216 , 0.75686276],\n",
       "        [0.05882353, 0.6039216 , 0.75686276]]],\n",
       "      shape=(607, 1000, 3), dtype=float32)"
      ]
     },
     "execution_count": 143,
     "metadata": {},
     "output_type": "execute_result"
    }
   ],
   "source": [
    "from matplotlib.image import imread \n",
    "\n",
    "img = imread('GFG.png')\n",
    "img\n"
   ]
  }
 ],
 "metadata": {
  "kernelspec": {
   "display_name": "Python 3",
   "language": "python",
   "name": "python3"
  },
  "language_info": {
   "codemirror_mode": {
    "name": "ipython",
    "version": 3
   },
   "file_extension": ".py",
   "mimetype": "text/x-python",
   "name": "python",
   "nbconvert_exporter": "python",
   "pygments_lexer": "ipython3",
   "version": "3.12.8"
  }
 },
 "nbformat": 4,
 "nbformat_minor": 2
}
