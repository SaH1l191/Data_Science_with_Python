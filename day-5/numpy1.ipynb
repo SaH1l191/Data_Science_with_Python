{
 "cells": [
  {
   "cell_type": "markdown",
   "metadata": {},
   "source": [
    "# Array VS List comparison \n"
   ]
  },
  {
   "cell_type": "code",
   "execution_count": 9,
   "metadata": {},
   "outputs": [
    {
     "name": "stdout",
     "output_type": "stream",
     "text": [
      "[1, 2, 3, 4]\n",
      "[1 2 4 4]\n",
      "<class 'list'>\n",
      "<class 'numpy.ndarray'>\n",
      "[ True  True False  True]\n",
      "False\n"
     ]
    }
   ],
   "source": [
    "import numpy as np\n",
    "lst =[1,2,3,4]\n",
    "print(lst)\n",
    "\n",
    "arr = np.array([1,2,4,4])\n",
    "print(arr)\n",
    "print(type(lst))\n",
    "print(type(arr))\n",
    "print(lst == arr)\n",
    "print(arr.tolist() == lst)"
   ]
  },
  {
   "cell_type": "markdown",
   "metadata": {},
   "source": [
    "# Adding elements in an Array vs List"
   ]
  },
  {
   "cell_type": "code",
   "execution_count": 10,
   "metadata": {},
   "outputs": [
    {
     "name": "stdout",
     "output_type": "stream",
     "text": [
      "[1 2 3]\n",
      "[ 1  2  3 99]\n"
     ]
    }
   ],
   "source": [
    "arr = np.array([1,2,3])\n",
    "print(arr)\n",
    "arr= np.append(arr,99)\n",
    "print(arr)"
   ]
  },
  {
   "cell_type": "markdown",
   "metadata": {},
   "source": [
    "# Removing elements in array VS List "
   ]
  },
  {
   "cell_type": "code",
   "execution_count": 15,
   "metadata": {},
   "outputs": [
    {
     "name": "stdout",
     "output_type": "stream",
     "text": [
      "[1 2 3]\n",
      "[2 3]\n"
     ]
    }
   ],
   "source": [
    "arr = np.array([1,2,3])\n",
    "print(arr)\n",
    "arr = np.delete(arr,0)\n",
    "print(arr)"
   ]
  },
  {
   "cell_type": "markdown",
   "metadata": {},
   "source": [
    "# Updating elements in array VS List "
   ]
  },
  {
   "cell_type": "code",
   "execution_count": 16,
   "metadata": {},
   "outputs": [
    {
     "name": "stdout",
     "output_type": "stream",
     "text": [
      "[1 2 3]\n",
      "[1 2 3 4]\n"
     ]
    }
   ],
   "source": [
    "arr = np.array([1,2,3])\n",
    "print(arr)\n",
    "arr = np.array([1,2,3,4])\n",
    "print(arr)"
   ]
  },
  {
   "cell_type": "markdown",
   "metadata": {},
   "source": [
    "# Array VS List Comparison"
   ]
  },
  {
   "cell_type": "code",
   "execution_count": 17,
   "metadata": {},
   "outputs": [
    {
     "name": "stdout",
     "output_type": "stream",
     "text": [
      "List :  2.519253730773926\n",
      "Array :  0.8863210678100586\n"
     ]
    }
   ],
   "source": [
    "import time\n",
    "\n",
    "# Creating the data\n",
    "my_list = list(range(10000000))\n",
    "my_array = np.arange(10000000)\n",
    "\n",
    "# Search time for list\n",
    "start_time = time.time()\n",
    "for _ in range(100):\n",
    "  if 5000000 in my_list:\n",
    "    pass\n",
    "end_time = time.time()\n",
    "print('List : ', end_time - start_time)\n",
    "\n",
    "\n",
    "# Search time for Array\n",
    "start_time = time.time()\n",
    "for _ in range(100):\n",
    "  if 5000000 in my_array:\n",
    "    pass\n",
    "end_time = time.time()\n",
    "print('Array : ', end_time - start_time)"
   ]
  },
  {
   "cell_type": "markdown",
   "metadata": {},
   "source": [
    "# 1. Converting Data Structures to Numpy Array"
   ]
  },
  {
   "cell_type": "code",
   "execution_count": 19,
   "metadata": {},
   "outputs": [
    {
     "name": "stdout",
     "output_type": "stream",
     "text": [
      "(1, 2, 3)\n",
      "<class 'tuple'>\n",
      "----------\n",
      "[1 2 3]\n",
      "<class 'numpy.ndarray'>\n"
     ]
    }
   ],
   "source": [
    "tpl = (1,2,3)\n",
    "print(tpl)\n",
    "print(type(tpl))\n",
    "print('-'*10)\n",
    "\n",
    "arr = np.array(tpl)\n",
    "print(arr)\n",
    "print(type(arr))"
   ]
  },
  {
   "cell_type": "markdown",
   "metadata": {},
   "source": [
    "# Converting a list to an array"
   ]
  },
  {
   "cell_type": "code",
   "execution_count": 20,
   "metadata": {},
   "outputs": [
    {
     "name": "stdout",
     "output_type": "stream",
     "text": [
      "[1, 2, 3]\n",
      "<class 'list'>\n",
      "----------\n",
      "[1 2 3]\n",
      "<class 'numpy.ndarray'>\n"
     ]
    }
   ],
   "source": [
    "\n",
    "lst = [1,2,3]\n",
    "print(lst)\n",
    "print(type(lst))\n",
    "print('-'*10)\n",
    "\n",
    "arr = np.array(lst)\n",
    "print(arr)\n",
    "print(type(arr))"
   ]
  },
  {
   "cell_type": "markdown",
   "metadata": {},
   "source": [
    "# Converting a dictionary to an array"
   ]
  },
  {
   "cell_type": "code",
   "execution_count": 21,
   "metadata": {},
   "outputs": [
    {
     "name": "stdout",
     "output_type": "stream",
     "text": [
      "[dict_keys([1, 2, 3])]\n",
      "[dict_values(['mango', 'apple', 'banana'])]\n"
     ]
    }
   ],
   "source": [
    "dict = {1:\"mango\",2:'apple',3:\"banana\"}\n",
    "arr_k = np.array([dict.keys()])\n",
    "arr_v = np.array([dict.values()])\n",
    "print(arr_k) \n",
    "print(arr_v)"
   ]
  },
  {
   "cell_type": "markdown",
   "metadata": {},
   "source": [
    "# Converting a set to an array"
   ]
  },
  {
   "cell_type": "code",
   "execution_count": 23,
   "metadata": {},
   "outputs": [
    {
     "name": "stdout",
     "output_type": "stream",
     "text": [
      "{1, 2, 3}\n",
      "{1, 2, 3}\n",
      "[1 2 3]\n",
      "<class 'numpy.ndarray'>\n"
     ]
    }
   ],
   "source": [
    "set_ = {1,2,3}\n",
    "print(set_)\n",
    "\n",
    "arr = np.array(set_)\n",
    "arr1 = np.array(list(set_))\n",
    "print(arr)\n",
    "print(arr1)\n",
    "print(type(arr))"
   ]
  },
  {
   "cell_type": "markdown",
   "metadata": {},
   "source": [
    "# Converting a string to a array "
   ]
  },
  {
   "cell_type": "code",
   "execution_count": 6,
   "metadata": {},
   "outputs": [
    {
     "name": "stdout",
     "output_type": "stream",
     "text": [
      "hello word\n",
      "<class 'numpy.ndarray'>\n",
      "<class 'numpy.ndarray'>\n",
      "['h' 'e' 'l' 'l' 'o' ' ' 'w' 'o' 'r' 'd']\n"
     ]
    }
   ],
   "source": [
    "import numpy as np\n",
    "arr  =np.array('hello word')\n",
    "print(arr)\n",
    "print(type(arr))\n",
    "arr = np.array(list('hello word'))\n",
    "print(type(arr))\n",
    "print(arr)"
   ]
  },
  {
   "cell_type": "markdown",
   "metadata": {},
   "source": [
    "# 2. Convering the Datatype of Numpy Array"
   ]
  },
  {
   "cell_type": "code",
   "execution_count": 32,
   "metadata": {},
   "outputs": [
    {
     "name": "stdout",
     "output_type": "stream",
     "text": [
      "[1. 2. 3. 4.]\n",
      "['1.0' '2.0' '3.0' '4.0']\n",
      "[ True  True  True  True]\n"
     ]
    }
   ],
   "source": [
    "arr = np.array([1,2,3,4])\n",
    "arr = arr.astype('float')\n",
    "print(arr)\n",
    "arr = arr.astype('str')\n",
    "print(arr)\n",
    "arr = arr.astype('bool')\n",
    "print(arr)\n",
    "#  similary for remaining types and viceversa "
   ]
  }
 ],
 "metadata": {
  "kernelspec": {
   "display_name": "Python 3",
   "language": "python",
   "name": "python3"
  },
  "language_info": {
   "codemirror_mode": {
    "name": "ipython",
    "version": 3
   },
   "file_extension": ".py",
   "mimetype": "text/x-python",
   "name": "python",
   "nbconvert_exporter": "python",
   "pygments_lexer": "ipython3",
   "version": "3.12.8"
  }
 },
 "nbformat": 4,
 "nbformat_minor": 2
}
