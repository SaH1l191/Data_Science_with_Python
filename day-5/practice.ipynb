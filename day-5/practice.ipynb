{
 "cells": [
  {
   "cell_type": "code",
   "execution_count": 2,
   "metadata": {},
   "outputs": [
    {
     "name": "stdout",
     "output_type": "stream",
     "text": [
      "**********\n",
      "[[3 2 6 5]\n",
      " [5 6 8 4]]\n",
      "[array([[3, 2],\n",
      "       [5, 6]], dtype=int32), array([[6, 5],\n",
      "       [8, 4]], dtype=int32)]\n"
     ]
    }
   ],
   "source": [
    "import numpy as np\n",
    "lst = [1,2,3,4]\n",
    "arr =np.array(lst,dtype='float')\n",
    "# print(type(arr))\n",
    "# print(arr)\n",
    "\n",
    "#  [start ,stop)\n",
    "np.arange(1,10,2,dtype='float')\n",
    "\n",
    "# print(arr.dtype)\n",
    "# print(arr.ndim)\n",
    "\n",
    "\n",
    "arr1 = np.zeros(shape=(3,3),dtype=float) # zeros array\n",
    "# print(arr1)\n",
    "arr1 = np.ones(shape=(3,3),dtype=float) # ones array\n",
    "# print(arr1)\n",
    "\n",
    "arr1 = np.eye(3,2) # identity matrix\n",
    "# print(arr1)\n",
    "\n",
    "arr1 = np.empty(shape=(3,4))  # empty values initialization\n",
    "# print(arr1)\n",
    "\n",
    "np.random.rand(2,2)  # random interger array \n",
    "arr1 =np.random.randint(1,4,size=(2,3)) # for a range\n",
    "\n",
    "print(\"*\" *10)\n",
    "# print(arr1)\n",
    "# np.reshape(arr1,shape=(3,2)) \n",
    "\n",
    "np.linspace(1,10,5,dtype=float,endpoint=False)\n",
    "# print(np.logspace(1,10,base = 3,dtype=int))\n",
    "flatttt =  arr.flatten()\n",
    "\n",
    "# print(arr1)\n",
    "arr2 = np.copy(arr1)\n",
    "# print(arr2)\n",
    "\n",
    "# print(arr1.max())\n",
    "\n",
    "np.random.seed(2)\n",
    "np.random.randint(1,19,(2,4)) # will be fixed as seed is used \n",
    "\n",
    "arr2.sort(axis=1)\n",
    "arr2\n",
    "\n",
    "# arr1.dot(arr2)\n",
    "\n",
    "\n",
    "# print(np.percentile(arr1,40))\n",
    "\n",
    "# print(arr1.mean())\n",
    "\n",
    "\n",
    "arr1 = np.arange(1,14,dtype=int)\n",
    "filterred = arr1[arr1 > 3]\n",
    "# print(filterred)\n",
    "arr3 = np.array([[1, 2, 3], [4, 5, 6]])\n",
    "# print(arr3.T)\n",
    "\n",
    "# print(np.where(arr3 % 2 != 0 ,\"false\",arr3))\n",
    "\n",
    "arr1 = np.random.randint(1,10,(2,4))\n",
    "arr2 = np.random.randint(1,10,(2,4))\n",
    "np.concatenate((arr1,arr2),axis=1)\n",
    " \n",
    "harr = np.hstack((arr1,arr2))\n",
    "# print(harr)\n",
    "print(arr1)\n",
    "print(np.hsplit(arr1,2))\n",
    "\n",
    "np.append(arr1,00)\n",
    "np.delete(arr1,00)\n",
    "arr = np.array([1,2,3,4])\n",
    "arr = arr.astype(float)"
   ]
  },
  {
   "cell_type": "code",
   "execution_count": null,
   "metadata": {},
   "outputs": [],
   "source": []
  }
 ],
 "metadata": {
  "kernelspec": {
   "display_name": "Python 3",
   "language": "python",
   "name": "python3"
  },
  "language_info": {
   "codemirror_mode": {
    "name": "ipython",
    "version": 3
   },
   "file_extension": ".py",
   "mimetype": "text/x-python",
   "name": "python",
   "nbconvert_exporter": "python",
   "pygments_lexer": "ipython3",
   "version": "3.12.8"
  }
 },
 "nbformat": 4,
 "nbformat_minor": 2
}
