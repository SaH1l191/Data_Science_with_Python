{
 "cells": [
  {
   "cell_type": "code",
   "execution_count": null,
   "metadata": {},
   "outputs": [
    {
     "name": "stdout",
     "output_type": "stream",
     "text": [
      "<class 'numpy.ndarray'>\n",
      "[[1 2 3 4 5]]\n"
     ]
    }
   ],
   "source": [
    "#numpy\n",
    "import numpy as np \n",
    "\n",
    "lst = [1,2,3,4,5]\n",
    "arr = np.array(lst,ndmin=1)\n",
    "print(type(arr))\n",
    "print(arr)\n",
    " \n",
    "\n"
   ]
  },
  {
   "cell_type": "markdown",
   "metadata": {},
   "source": [
    "# Arrange function\n",
    "The arange([start,] stop[, step,][, dtype]) : Returns an array with evenly spaced elements as per the interval. The interval mentioned is half-opened i.e. [Start, Stop) "
   ]
  },
  {
   "cell_type": "code",
   "execution_count": 11,
   "metadata": {},
   "outputs": [
    {
     "data": {
      "text/plain": [
       "array([1. , 2.5, 4. , 5.5, 7. , 8.5])"
      ]
     },
     "execution_count": 11,
     "metadata": {},
     "output_type": "execute_result"
    }
   ],
   "source": [
    "np.arange(1,10,1.5)\n"
   ]
  },
  {
   "cell_type": "markdown",
   "metadata": {},
   "source": [
    "3. Multidimensional Array + Size function\n"
   ]
  },
  {
   "cell_type": "code",
   "execution_count": 42,
   "metadata": {},
   "outputs": [
    {
     "name": "stdout",
     "output_type": "stream",
     "text": [
      "[[1 2 3]\n",
      " [4 5 6]]\n",
      "Total:  6\n",
      "Rows : 2\n",
      "Cols : 3\n",
      "ARRshape (2, 3)\n"
     ]
    }
   ],
   "source": [
    "marr = np.array([[1,2,3],[4,5,6]])\n",
    "print(marr)\n",
    "\n",
    "print(\"Total: \",marr.size)\n",
    "print(\"Rows :\", np.size(marr,0))\n",
    "print(\"Cols :\", np.size(marr,1))\n",
    "print(\"ARRshape\", marr.shape)"
   ]
  },
  {
   "cell_type": "markdown",
   "metadata": {},
   "source": [
    "# Dtype Function\n",
    "Every ndarray has an associated data type (dtype) object. This data type object (dtype) informs us about the layout of the array. This means it gives us information about:\n",
    "\n",
    "Type of the data (integer, float, Python object, etc.)\n",
    "Size of the data (number of bytes)\n",
    "The byte order of the data (little-endian or big-endian)\n",
    "If the data type is a sub-array, what is its shape and data type?"
   ]
  },
  {
   "cell_type": "code",
   "execution_count": 43,
   "metadata": {},
   "outputs": [
    {
     "name": "stdout",
     "output_type": "stream",
     "text": [
      "int64\n"
     ]
    }
   ],
   "source": [
    "print(marr.dtype)"
   ]
  },
  {
   "cell_type": "markdown",
   "metadata": {},
   "source": [
    "# Ndim function\n",
    "> no of dimensions"
   ]
  },
  {
   "cell_type": "code",
   "execution_count": 44,
   "metadata": {},
   "outputs": [
    {
     "name": "stdout",
     "output_type": "stream",
     "text": [
      "2\n"
     ]
    }
   ],
   "source": [
    "print(marr.ndim) # prints no of dimensions"
   ]
  },
  {
   "cell_type": "code",
   "execution_count": 45,
   "metadata": {},
   "outputs": [
    {
     "name": "stdout",
     "output_type": "stream",
     "text": [
      "[1 2 3 1 2 3]\n",
      "3\n",
      "[[[1 2 3 1 2 3]]]\n"
     ]
    }
   ],
   "source": [
    "\n",
    "arr1 = np.array([1,2,3,1,2,3])\n",
    "print(arr1)\n",
    "arr3 = np.array(arr1, ndmin = 3)\n",
    "print(arr3.ndim)\n",
    "print(arr3)\n",
    "\n"
   ]
  },
  {
   "cell_type": "markdown",
   "metadata": {},
   "source": [
    "# Zeros  Function + Ones Function \n",
    "> The numpy.zeros() function returns a new array of given shape and type, with zeros. Syntax:\n",
    "\n",
    "> numpy.zeros(shape, dtype = None)"
   ]
  },
  {
   "cell_type": "code",
   "execution_count": 46,
   "metadata": {},
   "outputs": [
    {
     "name": "stdout",
     "output_type": "stream",
     "text": [
      "[[0. 0. 0.]\n",
      " [0. 0. 0.]]\n",
      "----------\n",
      "[[1 1 1]\n",
      " [1 1 1]]\n"
     ]
    }
   ],
   "source": [
    "arr1 = np.zeros(shape=(2,3) , dtype = float)\n",
    "print(arr1)\n",
    "\n",
    "print(\"-\"*10)\n",
    "arr1 = np.ones(shape=(2,3) , dtype = int)\n",
    "print(arr1)"
   ]
  },
  {
   "cell_type": "markdown",
   "metadata": {},
   "source": [
    "# 9. Eye  Function\n",
    "The eye tool returns a 2-D array with  1’s as the diagonal and  0’s elsewhere. The diagonal can be main, upper, or lower depending on the optional parameter k."
   ]
  },
  {
   "cell_type": "code",
   "execution_count": 47,
   "metadata": {},
   "outputs": [
    {
     "name": "stdout",
     "output_type": "stream",
     "text": [
      "[[1 0 0 0]\n",
      " [0 1 0 0]\n",
      " [0 0 1 0]\n",
      " [0 0 0 1]]\n"
     ]
    }
   ],
   "source": [
    "#  generating a identity matrix \n",
    "\n",
    "print(np.eye(4, dtype = 'int'))"
   ]
  },
  {
   "cell_type": "markdown",
   "metadata": {},
   "source": [
    "# Empty  Function\n",
    "Return am empty array of given shape and type"
   ]
  },
  {
   "cell_type": "code",
   "execution_count": 48,
   "metadata": {},
   "outputs": [
    {
     "data": {
      "text/plain": [
       "array([[0.00000000e+000, 1.31695336e-311],\n",
       "       [1.31695336e-311, 1.31695336e-311]])"
      ]
     },
     "execution_count": 48,
     "metadata": {},
     "output_type": "execute_result"
    }
   ],
   "source": [
    "np.empty(shape = (2,2))"
   ]
  },
  {
   "cell_type": "markdown",
   "metadata": {},
   "source": [
    "# Random  Functions\n",
    "a) np.random.rand /\n",
    "The numpy.random.rand() function creates an array of specified shape and fills it with random values."
   ]
  },
  {
   "cell_type": "code",
   "execution_count": 12,
   "metadata": {},
   "outputs": [
    {
     "data": {
      "text/plain": [
       "array([ 2.02882991e-01,  4.70814204e-01, -1.24162896e+00, -1.56910654e+00,\n",
       "       -6.76945672e-01,  6.20350123e-01, -4.14330829e-01, -3.42631198e-01,\n",
       "       -1.95583913e+00,  2.00921732e+00,  5.51163230e-01,  7.77039127e-01,\n",
       "       -2.92378855e+00, -1.32829103e-01,  8.85280267e-01, -1.02342555e+00,\n",
       "       -3.74346286e-01, -1.12621107e+00,  7.11378875e-01,  8.26443684e-01,\n",
       "        1.86387350e-01, -2.51655475e-01, -2.21510569e-02, -7.52628068e-02,\n",
       "        1.58605005e+00,  6.81804418e-01, -9.58841698e-01, -1.96109829e+00,\n",
       "        1.38239177e+00,  1.89125872e-01, -1.81686295e+00, -1.31305551e+00,\n",
       "        2.17142433e+00,  1.08621900e+00, -1.39804011e+00,  1.37261156e+00,\n",
       "        1.58383377e+00, -1.41627553e+00,  1.51547861e+00,  2.78236132e-01,\n",
       "        9.68874889e-01, -1.16164750e+00, -8.66307901e-01,  1.24198651e+00,\n",
       "        1.66484309e-04,  1.26442937e+00,  2.16819642e-01, -1.26039540e+00,\n",
       "        5.07607479e-01,  4.95852538e-01,  1.86729611e-02, -2.74930918e+00,\n",
       "       -6.63777253e-01,  2.05733836e+00, -1.68420179e-01, -3.66428080e+00,\n",
       "       -5.18501347e-01, -6.25599653e-02,  9.57799468e-01, -6.99347108e-02,\n",
       "        2.72945103e-01, -7.91699794e-01, -2.02376791e-02,  9.25378428e-01,\n",
       "       -1.87452540e+00, -1.17989460e+00,  5.30543285e-02, -2.84906701e-01,\n",
       "       -2.28620818e-01,  5.28233423e-01,  7.47027363e-01, -9.14622438e-01,\n",
       "        9.58480534e-01, -1.04543365e+00,  4.99521288e-01,  6.03392880e-01,\n",
       "       -1.27598204e+00,  8.10846258e-02, -1.33114578e+00, -6.84970114e-01,\n",
       "       -1.50912644e-01, -4.97246497e-01,  9.12102521e-01, -1.22978621e+00,\n",
       "        1.95989739e-01, -1.92431376e+00,  2.20227356e-01,  9.53416271e-01,\n",
       "        4.37550969e-01, -6.79523771e-02, -1.27551175e+00, -2.72468725e-01,\n",
       "       -1.02697332e+00,  5.13765422e-01,  5.81258526e-01,  4.06589807e-01,\n",
       "       -9.26048656e-01, -1.63887731e+00, -7.36347804e-01, -6.21301807e-01,\n",
       "        6.49248171e-01, -8.73496177e-02,  1.30564002e+00,  3.07589082e-03,\n",
       "       -4.55993623e-01,  1.86273105e+00, -1.30803453e+00, -2.24456776e+00,\n",
       "        4.39002314e-01,  8.65941352e-01, -1.82163863e-01,  3.71136624e-02,\n",
       "       -4.04260637e-01, -1.07641831e+00, -4.11733953e-01,  9.60203380e-02,\n",
       "       -2.10109084e-01, -5.21006033e-01, -8.62535977e-01, -8.48851321e-01,\n",
       "       -7.19841669e-01, -6.93425113e-01, -9.40854933e-03, -2.07841590e-02,\n",
       "        7.10715223e-01, -1.63285221e-01,  8.62794585e-01, -5.62618937e-01,\n",
       "        6.25977864e-01,  6.46380918e-01, -9.94217441e-02, -3.19115852e-01,\n",
       "       -8.87143250e-01, -1.32917719e+00,  1.25221127e+00, -9.08075108e-01,\n",
       "        7.62771545e-01, -6.74835351e-01,  1.16694776e+00, -1.25269511e+00,\n",
       "       -7.12064367e-01,  2.32977940e+00,  5.84247188e-01, -4.89563709e-01,\n",
       "       -1.06111168e+00, -8.28616197e-01, -5.02960604e-01,  7.09011098e-01,\n",
       "        1.24590747e+00, -8.39539422e-01, -4.72700274e-01, -4.43225628e-02,\n",
       "       -4.23986419e-01, -2.74615496e+00, -1.87276291e+00, -1.72302431e+00,\n",
       "        1.76143649e+00,  1.14364169e+00,  1.34039652e-01, -8.25953385e-02,\n",
       "       -8.62537182e-01,  6.50805735e-01,  1.07502303e+00, -1.43745334e+00,\n",
       "        1.68514638e+00,  1.19515526e-01,  1.61290980e+00, -1.82152464e-01,\n",
       "       -1.29337382e+00, -2.37684530e-01,  1.57446470e-01,  1.77205748e+00,\n",
       "       -1.06636827e+00, -3.55015942e+00,  6.86586304e-01, -1.20235023e-01,\n",
       "        2.82324627e-01,  6.22832437e-01, -1.78773283e+00, -4.86520535e-01,\n",
       "        1.80975417e+00,  1.09562758e+00, -1.72729300e+00,  1.68532949e+00,\n",
       "        1.68057623e-01,  3.67048389e-01,  4.49930800e-01, -8.82783925e-01,\n",
       "       -8.41913199e-01, -6.29317745e-02,  1.22494440e-01, -9.40709379e-02,\n",
       "       -7.61925856e-01, -5.77768337e-01, -3.70495611e-01,  3.26202316e-01,\n",
       "        3.37742743e-01,  2.19317410e+00,  9.64945307e-01, -9.98263325e-01])"
      ]
     },
     "execution_count": 12,
     "metadata": {},
     "output_type": "execute_result"
    }
   ],
   "source": [
    "# np.random.rand(2,3)\n",
    "\n",
    "# intiializes values iwthing range \n",
    "# np.random.randint(low=1,high=15,size=10)\n",
    "\n",
    "np.random.randn(200)\n",
    "# The function np.random.randn(1000) generates 1000 random numbers that \n",
    "# are drawn from a standard normal distribution \n",
    "# (also known as a Gaussian distribution) with a mean of 0 and a \n",
    "# standard deviation of 1.\n",
    "\n"
   ]
  },
  {
   "cell_type": "markdown",
   "metadata": {},
   "source": [
    "# Reshaping the array \n"
   ]
  },
  {
   "cell_type": "code",
   "execution_count": 50,
   "metadata": {},
   "outputs": [
    {
     "name": "stdout",
     "output_type": "stream",
     "text": [
      "12\n",
      "[[14  8  7 13]\n",
      " [ 9  7  7 11]\n",
      " [12 11  2  2]]\n",
      "**********\n",
      "12\n",
      "[[14  8  7]\n",
      " [13  9  7]\n",
      " [ 7 11 12]\n",
      " [11  2  2]]\n"
     ]
    }
   ],
   "source": [
    "arr  = np.random.randint(1,15,size = (3,4))\n",
    "print(arr.size)\n",
    "print(arr)\n",
    "print(\"*\"*10)\n",
    "arr2 = arr.reshape(4,3)\n",
    "print(arr2.size)\n",
    "print(arr2)"
   ]
  },
  {
   "cell_type": "markdown",
   "metadata": {},
   "source": [
    "# Linspace  Function\n",
    "The numpy.linspace() function returns number spaces evenly w.r.t interval. Similar to numpy.arange() function but instead of step it uses sample number."
   ]
  },
  {
   "cell_type": "code",
   "execution_count": 15,
   "metadata": {},
   "outputs": [
    {
     "data": {
      "text/plain": [
       "array([ 1,  1,  1,  1,  1,  1,  2,  2,  2,  2,  2,  3,  3,  3,  3,  3,  3,\n",
       "        4,  4,  4,  4,  4,  5,  5,  5,  5,  5,  5,  6,  6,  6,  6,  6,  7,\n",
       "        7,  7,  7,  7,  7,  8,  8,  8,  8,  8,  9,  9,  9,  9,  9, 10])"
      ]
     },
     "execution_count": 15,
     "metadata": {},
     "output_type": "execute_result"
    }
   ],
   "source": [
    "np.linspace(start=1, stop=10, num=50, endpoint=True, retstep=False, dtype='int', axis=0)\n",
    "\n",
    "#start=1: The sequence starts at 1.\n",
    "# stop=10: The sequence ends at 10 (inclusive because endpoint=True).\n",
    "# num=50: This specifies that 50 values should be generated in the sequence.\n",
    "# endpoint=True: The stop value (10) is included in the sequence.\n",
    "# retstep=False: This means that the step size (distance between consecutive values) will not be returned.\n",
    "# dtype='int': The values in the resulting array are converted to integers. Since the default behavior of np.linspace generates floating-point numbers, specifying dtype='int' will round or truncate the generated numbers to integers.\n",
    "# axis=0: The sequence will be generated along the first axis of the array (which is the default behavior and doesn't change the result here)."
   ]
  },
  {
   "cell_type": "markdown",
   "metadata": {},
   "source": [
    "# Flatten"
   ]
  },
  {
   "cell_type": "code",
   "execution_count": 52,
   "metadata": {},
   "outputs": [
    {
     "name": "stdout",
     "output_type": "stream",
     "text": [
      "(2, 3)\n",
      "[[3 9 4]\n",
      " [3 2 1]]\n",
      "******************* after flatenning\n",
      "[3 9 4 3 2 1]\n",
      "(6,)\n"
     ]
    }
   ],
   "source": [
    "arr = np.random.randint(1,10,size=(2,3))\n",
    "print(arr.shape)\n",
    "print(arr)\n",
    "print('*' * 19 , \"after flatenning\")\n",
    "flatttt =  arr.flatten()\n",
    "print(flatttt)\n",
    "print(flatttt.shape)"
   ]
  },
  {
   "cell_type": "markdown",
   "metadata": {},
   "source": [
    "# Logspace \n",
    "same as linspace but with log "
   ]
  },
  {
   "cell_type": "code",
   "execution_count": 53,
   "metadata": {},
   "outputs": [
    {
     "name": "stdout",
     "output_type": "stream",
     "text": [
      "[    3     3     4     5     6     8    10    12    15    18    22    27\n",
      "    33    41    50    61    75    92   113   138   169   207   254   310\n",
      "   380   465   569   697   852  1043  1276  1562  1911  2339  2862  3502\n",
      "  4285  5243  6415  7849  9605 11752 14380 17595 21529 26343 32233 39440\n",
      " 48258 59049]\n"
     ]
    }
   ],
   "source": [
    "print(np.logspace(1,10,base = 3,dtype=int))"
   ]
  },
  {
   "cell_type": "markdown",
   "metadata": {},
   "source": [
    "# . Copy function\n",
    "If we normally use the equals sign then the **id** of both the numpy array will be same, so we need to use to copy function"
   ]
  },
  {
   "cell_type": "code",
   "execution_count": 54,
   "metadata": {},
   "outputs": [
    {
     "name": "stdout",
     "output_type": "stream",
     "text": [
      "here both the ids are same \n",
      "[ 6  8  5  8  5 11  9  5 11 10] 2665936343984\n",
      "[ 6  8  5  8  5 11  9  5 11 10] 2665936343984\n",
      "*******\n",
      "here both the ids are diff \n",
      "[ 6  8  5  8  5 11  9  5 11 10] 2665936343984\n",
      "[ 6  8  5  8  5 11  9  5 11 10] 2665566894576\n"
     ]
    }
   ],
   "source": [
    "arr1 = np.random.randint(1,15,10)\n",
    "\n",
    "arr2 = arr1\n",
    "\n",
    "print(\"here both the ids are same \")\n",
    "print(arr1, id(arr1))\n",
    "print(arr2, id(arr2))\n",
    "\n",
    "print(\"*\"*7)\n",
    "arr2  = np.copy(arr1)\n",
    "print(\"here both the ids are diff \")\n",
    "print(arr1, id(arr1))\n",
    "print(arr2, id(arr2))\n"
   ]
  },
  {
   "cell_type": "markdown",
   "metadata": {},
   "source": [
    "# arr.max() ,  arr.min() ,     arr.sum() functions\n",
    "\n",
    "\n",
    "We can use the axis parameter to get the max, min and sum of a particular column or row\n",
    "\n",
    "axis=0 is for the column\n",
    "axis=1 is for the row"
   ]
  },
  {
   "cell_type": "code",
   "execution_count": 55,
   "metadata": {},
   "outputs": [
    {
     "name": "stdout",
     "output_type": "stream",
     "text": [
      "8\n",
      "2\n",
      "40\n",
      "[[6 5 3 2]\n",
      " [2 8 8 6]]\n",
      "max of a col (axix= 0)\n",
      "[ 8 13 11  8]\n"
     ]
    }
   ],
   "source": [
    "arr  = np.random.randint(1,10,(2,4))\n",
    "print(arr.max())\n",
    "print(arr.min())\n",
    "print(arr.sum())\n",
    "print(arr)\n",
    "print(\"max of a col (axix= 0)\")\n",
    "print(arr.sum(axis=0))"
   ]
  },
  {
   "cell_type": "markdown",
   "metadata": {},
   "source": [
    "# Seed Function\n",
    "random() function is used to generate random numbers in Python. Not actually random, rather this is used to generate pseudo-random numbers. That implies that these randomly generated numbers can be determined. random() function generates numbers for some values. This value is also called seed value."
   ]
  },
  {
   "cell_type": "code",
   "execution_count": 20,
   "metadata": {},
   "outputs": [
    {
     "name": "stdout",
     "output_type": "stream",
     "text": [
      "random array(seed value) \n",
      "[[9 4 9]\n",
      " [9 1 6]]\n"
     ]
    }
   ],
   "source": [
    "np.random.seed(3)\n",
    "print(\"random array(seed value) \")\n",
    "arr = np.random.randint(1,10,(2,3))\n",
    "print(arr)  # this wont change values \n",
    "\n",
    "\n"
   ]
  },
  {
   "cell_type": "code",
   "execution_count": 57,
   "metadata": {},
   "outputs": [
    {
     "name": "stdout",
     "output_type": "stream",
     "text": [
      "******\n",
      "random array \n",
      "[[4 6 8]\n",
      " [7 1 5]]\n"
     ]
    }
   ],
   "source": [
    "#but this wil generate random values everytime \n",
    "print(\"*\"*6)\n",
    "print(\"random array \")\n",
    "arr2 = np.random.randint(1,10,(2,3))\n",
    "print(arr2)"
   ]
  },
  {
   "cell_type": "markdown",
   "metadata": {},
   "source": [
    "# Sorting Function\n",
    "numpy.sort() : This function returns a sorted copy of an array.\n",
    "\n",
    "Parameters :\n",
    "\n",
    "arr : Array to be sorted.\n",
    "axis : Axis along which we need array to be started.\n",
    "order : This argument specifies which fields to compare first.\n",
    "kind : [‘quicksort’{default}, ‘mergesort’, ‘heapsort’]Sorting algorithm"
   ]
  },
  {
   "cell_type": "code",
   "execution_count": 58,
   "metadata": {},
   "outputs": [
    {
     "name": "stdout",
     "output_type": "stream",
     "text": [
      "[[8 9 2]\n",
      " [7 3 3]\n",
      " [2 4 6]]\n",
      "******\n",
      "[[2 2 3]\n",
      " [3 4 7]\n",
      " [6 8 9]]\n"
     ]
    }
   ],
   "source": [
    "arr2 = np.random.randint(1,10,(3,3))\n",
    "print(arr2)\n",
    "# arr2.sort(axis =1 ) # row wise\n",
    "# arr2\n",
    "\n",
    "arr2.sort(axis= 0)\n",
    "arr2  # col wiser\n",
    "\n",
    "print(\"*\"*6)\n",
    "\n",
    "arr2.sort(kind='mergesort')\n",
    "print(arr2)\n",
    "\n"
   ]
  },
  {
   "cell_type": "markdown",
   "metadata": {},
   "source": [
    "# array operationss \n"
   ]
  },
  {
   "cell_type": "code",
   "execution_count": 59,
   "metadata": {},
   "outputs": [
    {
     "name": "stdout",
     "output_type": "stream",
     "text": [
      "random array(seed value) \n",
      "[[9 4 9]\n",
      " [9 1 6]]\n",
      "******\n",
      "[[10  5 10]\n",
      " [10  2  7]]\n"
     ]
    }
   ],
   "source": [
    "np.random.seed(3)\n",
    "print(\"random array(seed value) \")\n",
    "arr = np.random.randint(1,10,(2,3))\n",
    "print(arr)    \n",
    "print(\"*\"*6)\n",
    "\n",
    "#addition (adds to all values of array)\n",
    "print(arr+1)\n",
    "\n",
    " \n"
   ]
  },
  {
   "cell_type": "markdown",
   "metadata": {},
   "source": [
    "# Matrix multiplication "
   ]
  },
  {
   "cell_type": "code",
   "execution_count": 2,
   "metadata": {},
   "outputs": [
    {
     "name": "stdout",
     "output_type": "stream",
     "text": [
      "random array(seed value) \n",
      "[[9 4]\n",
      " [9 9]]\n",
      "[[1 6]\n",
      " [4 6]]\n",
      "****** printing dot product \n",
      "[[81 16]\n",
      " [81 81]]\n",
      "****** printing mat multiplication  \n",
      "[[ 25  78]\n",
      " [ 45 108]]\n"
     ]
    }
   ],
   "source": [
    "import numpy as np \n",
    "np.random.seed(3)\n",
    "print(\"random array(seed value) \")\n",
    "arr1 = np.random.randint(1,10,(2,2))\n",
    "arr2 = np.random.randint(1,10,(2,2))\n",
    "print(arr1)    \n",
    "print(arr2)\n",
    "print(\"*\"*6,\"printing dot product \")\n",
    " \n",
    "# for matrix multiplication \n",
    "arr1.dot(arr2)\n",
    "\n",
    "print(arr1**2)\n",
    "print(\"*\"*6,\"printing mat multiplication  \")\n",
    "print(np.matmul(arr1,arr2))\n"
   ]
  },
  {
   "cell_type": "markdown",
   "metadata": {},
   "source": [
    "# Determinant Inverse \n"
   ]
  },
  {
   "cell_type": "code",
   "execution_count": 7,
   "metadata": {},
   "outputs": [
    {
     "name": "stdout",
     "output_type": "stream",
     "text": [
      "-2.0000000000000004\n",
      "[[1 3]\n",
      " [2 4]]\n",
      "[[-2.   1. ]\n",
      " [ 1.5 -0.5]]\n",
      "[[-4. ]\n",
      " [ 4.5]]\n",
      "[6. 1.]\n",
      "[[ 0.9701425  -0.70710678]\n",
      " [ 0.24253563  0.70710678]]\n"
     ]
    }
   ],
   "source": [
    "import numpy as np\n",
    "A = np.array([[1,2],[3,4]])\n",
    "determinant = np.linalg.det(A) # finding the determinant of a matrix \n",
    "print(determinant)\n",
    "\n",
    "determinant = np.transpose(A)  # transpose \n",
    "print(determinant)\n",
    "\n",
    "\n",
    "Inverse = np.linalg.inv(A)\n",
    "print(Inverse)\n",
    "\n",
    "# if there is  a system of  equations to solve like foe g \n",
    "#  x+ 2y =  5\n",
    "#  3x  + 4y = 6\n",
    "A = np.array([[1,2],[3,4]])\n",
    "B= np.array([[5],[6]])\n",
    "solution = np.linalg.solve(A,B)\n",
    "print(solution)\n",
    "\n",
    "\n",
    "\n",
    "\n",
    "import numpy as np\n",
    "A = np.array([[5, 4], [1, 2]])\n",
    "eigenvalues, eigenvectors = np.linalg.eig(A)\n",
    "print(eigenvalues)\n",
    "print(eigenvectors)\n",
    "\n"
   ]
  },
  {
   "cell_type": "markdown",
   "metadata": {},
   "source": [
    "# Percentaile \n"
   ]
  },
  {
   "cell_type": "code",
   "execution_count": 94,
   "metadata": {},
   "outputs": [
    {
     "name": "stdout",
     "output_type": "stream",
     "text": [
      "[5 6 7 8]\n",
      "6.5\n"
     ]
    }
   ],
   "source": [
    " \n",
    "arr1 = np.array([5,6,7,8]) \n",
    "flattened_arr = arr1.flatten()\n",
    "print(flattened_arr)\n",
    "print(np.percentile(flattened_arr,50)) # 50th percentile is always the median \n",
    "#The median is calculated by averaging the two middle numbers (7 and 8)  "
   ]
  },
  {
   "cell_type": "markdown",
   "metadata": {},
   "source": [
    "# Mean, Variance and Standard deviation\n",
    "In NumPy, we can compute the mean, standard deviation, and variance of a given array along the second axis by two approaches first is by using inbuilt functions and second is by the formulas of the mean, standard deviation, and variance.\n",
    "\n",
    "Using numpy.mean(), numpy.std(), numpy.var()"
   ]
  },
  {
   "cell_type": "code",
   "execution_count": 107,
   "metadata": {},
   "outputs": [
    {
     "name": "stdout",
     "output_type": "stream",
     "text": [
      "[[7 3 3 2 4]]\n",
      "3.8\n",
      "2.9600000000000004\n",
      "1.7204650534085255\n"
     ]
    }
   ],
   "source": [
    "arr1 = np.random.randint(1,10,(1,5))\n",
    "print(arr1)\n",
    "print(arr1.mean())\n",
    "print(arr1.var()) # variance\n",
    "print(arr1.std()) # standard deviation"
   ]
  },
  {
   "cell_type": "markdown",
   "metadata": {},
   "source": [
    "# Filtering an Array"
   ]
  },
  {
   "cell_type": "code",
   "execution_count": 115,
   "metadata": {},
   "outputs": [
    {
     "name": "stdout",
     "output_type": "stream",
     "text": [
      "[False False False  True  True  True  True  True  True  True  True  True\n",
      "  True  True]\n",
      "***************\n",
      "[ 4  5  6  7  8  9 10 11 12 13 14]\n"
     ]
    }
   ],
   "source": [
    "arr = np.arange(1,15)\n",
    "arr\n",
    "print(arr> 3)\n",
    "print(\"*\"*15)\n",
    "#creating a new array satifsying this confition \n",
    "filtered = arr[arr >3]\n",
    "print(filtered)"
   ]
  },
  {
   "cell_type": "code",
   "execution_count": 116,
   "metadata": {},
   "outputs": [
    {
     "name": "stdout",
     "output_type": "stream",
     "text": [
      "[ 1  2  3 10 10 10 10 10 10 10 10 10 10 10]\n"
     ]
    }
   ],
   "source": [
    "# replacing all the values above 3 with 10 \n",
    "arr[arr > 3 ] = 10 \n",
    "print(arr)"
   ]
  },
  {
   "cell_type": "markdown",
   "metadata": {},
   "source": [
    "# Transposing an array\n",
    "With the help of Numpy ndarray.T object, we can make a Transpose of an array having dimension greater than or equal to 2."
   ]
  },
  {
   "cell_type": "code",
   "execution_count": 117,
   "metadata": {},
   "outputs": [
    {
     "name": "stdout",
     "output_type": "stream",
     "text": [
      "[[ 6  9 15  2 11]\n",
      " [ 8 12  2 16 17]\n",
      " [ 6 18 15  1  1]]\n",
      "--------------------\n",
      "[[ 6  8  6]\n",
      " [ 9 12 18]\n",
      " [15  2 15]\n",
      " [ 2 16  1]\n",
      " [11 17  1]]\n"
     ]
    }
   ],
   "source": [
    "arr = np.random.randint(1,20,(3,5))\n",
    "\n",
    "print(arr)\n",
    "print('-'*20)\n",
    "print(arr.T)"
   ]
  },
  {
   "cell_type": "markdown",
   "metadata": {},
   "source": [
    "# Where function \n",
    "The numpy.where() function returns the indices of elements in an input array where the given condition is satisfied.\n",
    "\n",
    "Syntax :numpy.where(condition[, x, y]) Parameters: condition : When True, yield x, otherwise yield y. x, y : Values from which to choose. x, y and condition need to be broadcastable to some shape."
   ]
  },
  {
   "cell_type": "code",
   "execution_count": 2,
   "metadata": {},
   "outputs": [
    {
     "name": "stdout",
     "output_type": "stream",
     "text": [
      "[11  5 33 35 31 39 30  2 82 10]\n",
      "--------------------\n",
      "['11' '5' '33' '35' '31' '39' 'even' 'even' 'even' 'even']\n",
      "--------------------\n",
      "[11  5 33 35 31 39  1  1  1  1]\n"
     ]
    }
   ],
   "source": [
    "import numpy as np\n",
    "arr = np.random.randint(1,100,10)\n",
    "print(arr)\n",
    "print('-'*20)\n",
    "print(np.where(arr%2 == 0 , 'even', arr ))\n",
    "print('-'*20)\n",
    "print(np.where(arr%2 == 0 , 1, arr ))"
   ]
  },
  {
   "cell_type": "markdown",
   "metadata": {},
   "source": [
    "#  Merging Arrays"
   ]
  },
  {
   "cell_type": "markdown",
   "metadata": {},
   "source": [
    "We can perform the concatenation operation using the concatenate() function. With this function, arrays are concatenated either row-wise or column-wise, given that they have equal rows or columns respectively. Column-wise concatenation can be done by equating axis to 1 as an argument in the function.\n"
   ]
  },
  {
   "cell_type": "code",
   "execution_count": 126,
   "metadata": {},
   "outputs": [
    {
     "name": "stdout",
     "output_type": "stream",
     "text": [
      "[[1 8 5 9]\n",
      " [9 5 2 5]]\n",
      "---------------\n",
      "[[1 6 7 8]\n",
      " [1 8 9 2]]\n",
      "------------------------------\n",
      "[[1. 8. 5. 9.]\n",
      " [9. 5. 2. 5.]\n",
      " [1. 6. 7. 8.]\n",
      " [1. 8. 9. 2.]]\n",
      "------------------------------\n",
      "[[1 8 5 9 1 6 7 8]\n",
      " [9 5 2 5 1 8 9 2]]\n"
     ]
    }
   ],
   "source": [
    "arr1 = np.random.randint(1,10,(2,4))\n",
    "arr2 = np.random.randint(1,10,(2,4))\n",
    "\n",
    "print(arr1)\n",
    "print('-'*15)\n",
    "print(arr2)\n",
    "\n",
    "print('-'*30)\n",
    "print(np.concatenate((arr1,arr2), axis = 0,dtype='float'))\n",
    "print('-'*30)\n",
    "print(np.concatenate((arr1,arr2), axis = 1))"
   ]
  },
  {
   "cell_type": "markdown",
   "metadata": {},
   "source": [
    "> Hstack and v Stack"
   ]
  },
  {
   "cell_type": "code",
   "execution_count": 137,
   "metadata": {},
   "outputs": [
    {
     "name": "stdout",
     "output_type": "stream",
     "text": [
      "[[8 3 7 1]\n",
      " [2 1 5 7]]\n",
      "---------------\n",
      "[[6 7 5 8]\n",
      " [1 5 3 9]]\n",
      "---------------\n",
      "h stack\n",
      "[[8 3 7 1 6 7 5 8]\n",
      " [2 1 5 7 1 5 3 9]]\n",
      "v stack\n",
      "[[8 3 7 1]\n",
      " [2 1 5 7]\n",
      " [6 7 5 8]\n",
      " [1 5 3 9]]\n"
     ]
    }
   ],
   "source": [
    "arr1 = np.random.randint(1,10,(2,4))\n",
    "print(arr1)\n",
    "\n",
    "arr2 = np.random.randint(1,10,(2,4)) \n",
    "print('-'*15)\n",
    "print(arr2)\n",
    "\n",
    "print('-'*15)\n",
    "print(\"h stack\")\n",
    "print(np.hstack((arr1,arr2)))\n",
    "print(\"v stack\")\n",
    "print(np.vstack((arr1,arr2)))"
   ]
  },
  {
   "cell_type": "markdown",
   "metadata": {},
   "source": [
    "> splitting arrays "
   ]
  },
  {
   "cell_type": "code",
   "execution_count": 140,
   "metadata": {},
   "outputs": [
    {
     "name": "stdout",
     "output_type": "stream",
     "text": [
      "[[1 9 8 5]\n",
      " [4 4 7 2]]\n",
      "---------------\n",
      "[[8 2 3 1]\n",
      " [8 2 6 3]]\n",
      "---------------\n",
      "h stack\n",
      "[array([[1, 9],\n",
      "       [4, 4]], dtype=int32), array([[8, 5],\n",
      "       [7, 2]], dtype=int32)]\n",
      "---------------\n",
      "v stack\n",
      "[array([[8, 2, 3, 1]], dtype=int32), array([[8, 2, 6, 3]], dtype=int32)]\n"
     ]
    }
   ],
   "source": [
    "arr1 = np.random.randint(1,10,(2,4))\n",
    "print(arr1)\n",
    "\n",
    "arr2 = np.random.randint(1,10,(2,4)) \n",
    "print('-'*15)\n",
    "print(arr2)\n",
    "\n",
    "print('-'*15)\n",
    "print(\"h stack\")\n",
    "print(np.hsplit(arr1,2))\n",
    "print('-'*15)\n",
    "print(\"v stack\")\n",
    "\n",
    "print(np.vsplit(arr2,2))"
   ]
  },
  {
   "cell_type": "code",
   "execution_count": 143,
   "metadata": {},
   "outputs": [
    {
     "data": {
      "text/plain": [
       "array([[[0.09803922, 0.74509805, 0.92941177],\n",
       "        [0.09803922, 0.74509805, 0.92941177],\n",
       "        [0.09803922, 0.74509805, 0.92941177],\n",
       "        ...,\n",
       "        [0.09803922, 0.74509805, 0.92941177],\n",
       "        [0.09803922, 0.74509805, 0.92941177],\n",
       "        [0.09803922, 0.74509805, 0.92941177]],\n",
       "\n",
       "       [[0.09803922, 0.74509805, 0.92941177],\n",
       "        [0.09803922, 0.74509805, 0.92941177],\n",
       "        [0.09803922, 0.74509805, 0.92941177],\n",
       "        ...,\n",
       "        [0.09803922, 0.74509805, 0.92941177],\n",
       "        [0.09803922, 0.74509805, 0.92941177],\n",
       "        [0.09803922, 0.74509805, 0.92941177]],\n",
       "\n",
       "       [[0.09803922, 0.74509805, 0.92941177],\n",
       "        [0.09803922, 0.74509805, 0.92941177],\n",
       "        [0.09803922, 0.74509805, 0.92941177],\n",
       "        ...,\n",
       "        [0.09803922, 0.74509805, 0.92941177],\n",
       "        [0.09803922, 0.74509805, 0.92941177],\n",
       "        [0.09803922, 0.74509805, 0.92941177]],\n",
       "\n",
       "       ...,\n",
       "\n",
       "       [[0.05882353, 0.6039216 , 0.75686276],\n",
       "        [0.05882353, 0.6039216 , 0.75686276],\n",
       "        [0.05882353, 0.6039216 , 0.75686276],\n",
       "        ...,\n",
       "        [0.05882353, 0.6039216 , 0.75686276],\n",
       "        [0.05882353, 0.6039216 , 0.75686276],\n",
       "        [0.05882353, 0.6039216 , 0.75686276]],\n",
       "\n",
       "       [[0.05882353, 0.6039216 , 0.75686276],\n",
       "        [0.05882353, 0.6039216 , 0.75686276],\n",
       "        [0.05882353, 0.6039216 , 0.75686276],\n",
       "        ...,\n",
       "        [0.05882353, 0.6039216 , 0.75686276],\n",
       "        [0.05882353, 0.6039216 , 0.75686276],\n",
       "        [0.05882353, 0.6039216 , 0.75686276]],\n",
       "\n",
       "       [[0.05882353, 0.6039216 , 0.75686276],\n",
       "        [0.05882353, 0.6039216 , 0.75686276],\n",
       "        [0.05882353, 0.6039216 , 0.75686276],\n",
       "        ...,\n",
       "        [0.05882353, 0.6039216 , 0.75686276],\n",
       "        [0.05882353, 0.6039216 , 0.75686276],\n",
       "        [0.05882353, 0.6039216 , 0.75686276]]],\n",
       "      shape=(607, 1000, 3), dtype=float32)"
      ]
     },
     "execution_count": 143,
     "metadata": {},
     "output_type": "execute_result"
    }
   ],
   "source": [
    "from matplotlib.image import imread \n",
    "\n",
    "img = imread('GFG.png')\n",
    "img\n"
   ]
  },
  {
   "cell_type": "markdown",
   "metadata": {},
   "source": [
    "# Print the item size | bytes taken by each element in an array"
   ]
  },
  {
   "cell_type": "code",
   "execution_count": 3,
   "metadata": {},
   "outputs": [
    {
     "name": "stdout",
     "output_type": "stream",
     "text": [
      "8\n"
     ]
    }
   ],
   "source": [
    "import numpy as np \n",
    "arr = np.array([[1,1,2],[1,2,3],[3,2,1]])\n",
    "print(arr.itemsize)"
   ]
  }
 ],
 "metadata": {
  "kernelspec": {
   "display_name": "Python 3",
   "language": "python",
   "name": "python3"
  },
  "language_info": {
   "codemirror_mode": {
    "name": "ipython",
    "version": 3
   },
   "file_extension": ".py",
   "mimetype": "text/x-python",
   "name": "python",
   "nbconvert_exporter": "python",
   "pygments_lexer": "ipython3",
   "version": "3.12.8"
  }
 },
 "nbformat": 4,
 "nbformat_minor": 2
}
