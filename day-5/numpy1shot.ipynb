{
 "cells": [
  {
   "cell_type": "code",
   "execution_count": 1,
   "metadata": {},
   "outputs": [
    {
     "name": "stdout",
     "output_type": "stream",
     "text": [
      "<class 'numpy.ndarray'>\n",
      "[1 2 3 4 5]\n"
     ]
    }
   ],
   "source": [
    "#numpy\n",
    "import numpy as np \n",
    "\n",
    "lst = [1,2,3,4,5]\n",
    "arr = np.array(lst,ndmin=1)\n",
    "print(type(arr))\n",
    "print(arr)\n",
    " "
   ]
  },
  {
   "cell_type": "markdown",
   "metadata": {},
   "source": [
    "# Arrange function\n",
    "The arange([start,] stop[, step,][, dtype]) : Returns an array with evenly spaced elements as per the interval. The interval mentioned is half-opened i.e. [Start, Stop) "
   ]
  },
  {
   "cell_type": "code",
   "execution_count": 41,
   "metadata": {},
   "outputs": [
    {
     "data": {
      "text/plain": [
       "array([1, 3, 5, 7, 9])"
      ]
     },
     "execution_count": 41,
     "metadata": {},
     "output_type": "execute_result"
    }
   ],
   "source": [
    "np.arange(1,10,2)\n"
   ]
  },
  {
   "cell_type": "markdown",
   "metadata": {},
   "source": [
    "3. Multidimensional Array + Size function\n"
   ]
  },
  {
   "cell_type": "code",
   "execution_count": 42,
   "metadata": {},
   "outputs": [
    {
     "name": "stdout",
     "output_type": "stream",
     "text": [
      "[[1 2 3]\n",
      " [4 5 6]]\n",
      "Total:  6\n",
      "Rows : 2\n",
      "Cols : 3\n",
      "ARRshape (2, 3)\n"
     ]
    }
   ],
   "source": [
    "marr = np.array([[1,2,3],[4,5,6]])\n",
    "print(marr)\n",
    "\n",
    "print(\"Total: \",marr.size)\n",
    "print(\"Rows :\", np.size(marr,0))\n",
    "print(\"Cols :\", np.size(marr,1))\n",
    "print(\"ARRshape\", marr.shape)"
   ]
  },
  {
   "cell_type": "markdown",
   "metadata": {},
   "source": [
    "# Dtype Function\n",
    "Every ndarray has an associated data type (dtype) object. This data type object (dtype) informs us about the layout of the array. This means it gives us information about:\n",
    "\n",
    "Type of the data (integer, float, Python object, etc.)\n",
    "Size of the data (number of bytes)\n",
    "The byte order of the data (little-endian or big-endian)\n",
    "If the data type is a sub-array, what is its shape and data type?"
   ]
  },
  {
   "cell_type": "code",
   "execution_count": 43,
   "metadata": {},
   "outputs": [
    {
     "name": "stdout",
     "output_type": "stream",
     "text": [
      "int64\n"
     ]
    }
   ],
   "source": [
    "print(marr.dtype)"
   ]
  },
  {
   "cell_type": "markdown",
   "metadata": {},
   "source": [
    "# Ndim function\n",
    "> no of dimensions"
   ]
  },
  {
   "cell_type": "code",
   "execution_count": 44,
   "metadata": {},
   "outputs": [
    {
     "name": "stdout",
     "output_type": "stream",
     "text": [
      "2\n"
     ]
    }
   ],
   "source": [
    "print(marr.ndim) # prints no of dimensions"
   ]
  },
  {
   "cell_type": "code",
   "execution_count": 45,
   "metadata": {},
   "outputs": [
    {
     "name": "stdout",
     "output_type": "stream",
     "text": [
      "[1 2 3 1 2 3]\n",
      "3\n",
      "[[[1 2 3 1 2 3]]]\n"
     ]
    }
   ],
   "source": [
    "\n",
    "arr1 = np.array([1,2,3,1,2,3])\n",
    "print(arr1)\n",
    "arr3 = np.array(arr1, ndmin = 3)\n",
    "print(arr3.ndim)\n",
    "print(arr3)\n",
    "\n"
   ]
  },
  {
   "cell_type": "markdown",
   "metadata": {},
   "source": [
    "# Zeros  Function + Ones Function \n",
    "> The numpy.zeros() function returns a new array of given shape and type, with zeros. Syntax:\n",
    "\n",
    "> numpy.zeros(shape, dtype = None)"
   ]
  },
  {
   "cell_type": "code",
   "execution_count": 46,
   "metadata": {},
   "outputs": [
    {
     "name": "stdout",
     "output_type": "stream",
     "text": [
      "[[0. 0. 0.]\n",
      " [0. 0. 0.]]\n",
      "----------\n",
      "[[1 1 1]\n",
      " [1 1 1]]\n"
     ]
    }
   ],
   "source": [
    "arr1 = np.zeros(shape=(2,3) , dtype = float)\n",
    "print(arr1)\n",
    "\n",
    "print(\"-\"*10)\n",
    "arr1 = np.ones(shape=(2,3) , dtype = int)\n",
    "print(arr1)"
   ]
  },
  {
   "cell_type": "markdown",
   "metadata": {},
   "source": [
    "# 9. Eye  Function\n",
    "The eye tool returns a 2-D array with  1’s as the diagonal and  0’s elsewhere. The diagonal can be main, upper, or lower depending on the optional parameter k."
   ]
  },
  {
   "cell_type": "code",
   "execution_count": 47,
   "metadata": {},
   "outputs": [
    {
     "name": "stdout",
     "output_type": "stream",
     "text": [
      "[[1 0 0 0]\n",
      " [0 1 0 0]\n",
      " [0 0 1 0]\n",
      " [0 0 0 1]]\n"
     ]
    }
   ],
   "source": [
    "#  generating a identity matrix \n",
    "\n",
    "print(np.eye(4, dtype = 'int'))"
   ]
  },
  {
   "cell_type": "markdown",
   "metadata": {},
   "source": [
    "# Empty  Function\n",
    "Return am empty array of given shape and type"
   ]
  },
  {
   "cell_type": "code",
   "execution_count": 48,
   "metadata": {},
   "outputs": [
    {
     "data": {
      "text/plain": [
       "array([[0.00000000e+000, 1.31695336e-311],\n",
       "       [1.31695336e-311, 1.31695336e-311]])"
      ]
     },
     "execution_count": 48,
     "metadata": {},
     "output_type": "execute_result"
    }
   ],
   "source": [
    "np.empty(shape = (2,2))"
   ]
  },
  {
   "cell_type": "markdown",
   "metadata": {},
   "source": [
    "# Random  Functions\n",
    "a) np.random.rand /\n",
    "The numpy.random.rand() function creates an array of specified shape and fills it with random values."
   ]
  },
  {
   "cell_type": "code",
   "execution_count": 2,
   "metadata": {},
   "outputs": [
    {
     "data": {
      "text/plain": [
       "array([ 4, 14,  6, 14, 11, 11,  7,  9,  8, 14], dtype=int32)"
      ]
     },
     "execution_count": 2,
     "metadata": {},
     "output_type": "execute_result"
    }
   ],
   "source": [
    "np.random.rand(2,3)\n",
    "\n",
    "# intiializes values iwthing range \n",
    "np.random.randint(low=1,high=15,size=10)\n",
    "\n",
    "# np.random.randn(1000)\n",
    "#The function np.random.randn(1000) generates 1000 random numbers that \n",
    "# are drawn from a standard normal distribution \n",
    "# (also known as a Gaussian distribution) with a mean of 0 and a \n",
    "# standard deviation of 1.\n",
    "\n"
   ]
  },
  {
   "cell_type": "markdown",
   "metadata": {},
   "source": [
    "# Reshaping the array \n"
   ]
  },
  {
   "cell_type": "code",
   "execution_count": 50,
   "metadata": {},
   "outputs": [
    {
     "name": "stdout",
     "output_type": "stream",
     "text": [
      "12\n",
      "[[14  8  7 13]\n",
      " [ 9  7  7 11]\n",
      " [12 11  2  2]]\n",
      "**********\n",
      "12\n",
      "[[14  8  7]\n",
      " [13  9  7]\n",
      " [ 7 11 12]\n",
      " [11  2  2]]\n"
     ]
    }
   ],
   "source": [
    "arr  = np.random.randint(1,15,size = (3,4))\n",
    "print(arr.size)\n",
    "print(arr)\n",
    "print(\"*\"*10)\n",
    "arr2 = arr.reshape(4,3)\n",
    "print(arr2.size)\n",
    "print(arr2)"
   ]
  },
  {
   "cell_type": "markdown",
   "metadata": {},
   "source": [
    "# Linspace  Function\n",
    "The numpy.linspace() function returns number spaces evenly w.r.t interval. Similar to numpy.arange() function but instead of step it uses sample number."
   ]
  },
  {
   "cell_type": "code",
   "execution_count": 51,
   "metadata": {},
   "outputs": [
    {
     "data": {
      "text/plain": [
       "array([ 1,  1,  1,  1,  1,  1,  2,  2,  2,  2,  2,  3,  3,  3,  3,  3,  3,\n",
       "        4,  4,  4,  4,  4,  5,  5,  5,  5,  5,  5,  6,  6,  6,  6,  6,  7,\n",
       "        7,  7,  7,  7,  7,  8,  8,  8,  8,  8,  9,  9,  9,  9,  9, 10])"
      ]
     },
     "execution_count": 51,
     "metadata": {},
     "output_type": "execute_result"
    }
   ],
   "source": [
    "np.linspace(start=1, stop=10, num=50, endpoint=True, retstep=False, dtype='int', axis=0)\n",
    "\n",
    "#start=1: The sequence starts at 1.\n",
    "# stop=10: The sequence ends at 10 (inclusive because endpoint=True).\n",
    "# num=50: This specifies that 50 values should be generated in the sequence.\n",
    "# endpoint=True: The stop value (10) is included in the sequence.\n",
    "# retstep=False: This means that the step size (distance between consecutive values) will not be returned.\n",
    "# dtype='int': The values in the resulting array are converted to integers. Since the default behavior of np.linspace generates floating-point numbers, specifying dtype='int' will round or truncate the generated numbers to integers.\n",
    "# axis=0: The sequence will be generated along the first axis of the array (which is the default behavior and doesn't change the result here)."
   ]
  },
  {
   "cell_type": "markdown",
   "metadata": {},
   "source": [
    "# Flatten"
   ]
  },
  {
   "cell_type": "code",
   "execution_count": 52,
   "metadata": {},
   "outputs": [
    {
     "name": "stdout",
     "output_type": "stream",
     "text": [
      "(2, 3)\n",
      "[[3 9 4]\n",
      " [3 2 1]]\n",
      "******************* after flatenning\n",
      "[3 9 4 3 2 1]\n",
      "(6,)\n"
     ]
    }
   ],
   "source": [
    "arr = np.random.randint(1,10,size=(2,3))\n",
    "print(arr.shape)\n",
    "print(arr)\n",
    "print('*' * 19 , \"after flatenning\")\n",
    "flatttt =  arr.flatten()\n",
    "print(flatttt)\n",
    "print(flatttt.shape)"
   ]
  },
  {
   "cell_type": "markdown",
   "metadata": {},
   "source": [
    "# Logspace \n",
    "same as linspace but with log "
   ]
  },
  {
   "cell_type": "code",
   "execution_count": 53,
   "metadata": {},
   "outputs": [
    {
     "name": "stdout",
     "output_type": "stream",
     "text": [
      "[    3     3     4     5     6     8    10    12    15    18    22    27\n",
      "    33    41    50    61    75    92   113   138   169   207   254   310\n",
      "   380   465   569   697   852  1043  1276  1562  1911  2339  2862  3502\n",
      "  4285  5243  6415  7849  9605 11752 14380 17595 21529 26343 32233 39440\n",
      " 48258 59049]\n"
     ]
    }
   ],
   "source": [
    "print(np.logspace(1,10,base = 3,dtype=int))"
   ]
  },
  {
   "cell_type": "markdown",
   "metadata": {},
   "source": [
    "# . Copy function\n",
    "If we normally use the equals sign then the **id** of both the numpy array will be same, so we need to use to copy function"
   ]
  },
  {
   "cell_type": "code",
   "execution_count": 54,
   "metadata": {},
   "outputs": [
    {
     "name": "stdout",
     "output_type": "stream",
     "text": [
      "here both the ids are same \n",
      "[ 6  8  5  8  5 11  9  5 11 10] 2665936343984\n",
      "[ 6  8  5  8  5 11  9  5 11 10] 2665936343984\n",
      "*******\n",
      "here both the ids are diff \n",
      "[ 6  8  5  8  5 11  9  5 11 10] 2665936343984\n",
      "[ 6  8  5  8  5 11  9  5 11 10] 2665566894576\n"
     ]
    }
   ],
   "source": [
    "arr1 = np.random.randint(1,15,10)\n",
    "\n",
    "arr2 = arr1\n",
    "\n",
    "print(\"here both the ids are same \")\n",
    "print(arr1, id(arr1))\n",
    "print(arr2, id(arr2))\n",
    "\n",
    "print(\"*\"*7)\n",
    "arr2  = np.copy(arr1)\n",
    "print(\"here both the ids are diff \")\n",
    "print(arr1, id(arr1))\n",
    "print(arr2, id(arr2))\n"
   ]
  },
  {
   "cell_type": "markdown",
   "metadata": {},
   "source": [
    "# arr.max() ,  arr.min() ,     arr.sum() functions\n",
    "\n",
    "\n",
    "We can use the axis parameter to get the max, min and sum of a particular column or row\n",
    "\n",
    "axis=0 is for the column\n",
    "axis=1 is for the row"
   ]
  },
  {
   "cell_type": "code",
   "execution_count": 55,
   "metadata": {},
   "outputs": [
    {
     "name": "stdout",
     "output_type": "stream",
     "text": [
      "8\n",
      "2\n",
      "40\n",
      "[[6 5 3 2]\n",
      " [2 8 8 6]]\n",
      "max of a col (axix= 0)\n",
      "[ 8 13 11  8]\n"
     ]
    }
   ],
   "source": [
    "arr  = np.random.randint(1,10,(2,4))\n",
    "print(arr.max())\n",
    "print(arr.min())\n",
    "print(arr.sum())\n",
    "print(arr)\n",
    "print(\"max of a col (axix= 0)\")\n",
    "print(arr.sum(axis=0))"
   ]
  },
  {
   "cell_type": "markdown",
   "metadata": {},
   "source": [
    "# Seed Function\n",
    "random() function is used to generate random numbers in Python. Not actually random, rather this is used to generate pseudo-random numbers. That implies that these randomly generated numbers can be determined. random() function generates numbers for some values. This value is also called seed value."
   ]
  },
  {
   "cell_type": "code",
   "execution_count": 56,
   "metadata": {},
   "outputs": [
    {
     "name": "stdout",
     "output_type": "stream",
     "text": [
      "random array(seed value) \n",
      "[[9 4 9]\n",
      " [9 1 6]]\n"
     ]
    }
   ],
   "source": [
    "np.random.seed(3)\n",
    "print(\"random array(seed value) \")\n",
    "arr = np.random.randint(1,10,(2,3))\n",
    "print(arr)  # this wont change values \n",
    "\n",
    "\n"
   ]
  },
  {
   "cell_type": "code",
   "execution_count": 57,
   "metadata": {},
   "outputs": [
    {
     "name": "stdout",
     "output_type": "stream",
     "text": [
      "******\n",
      "random array \n",
      "[[4 6 8]\n",
      " [7 1 5]]\n"
     ]
    }
   ],
   "source": [
    "#but this wil generate random values everytime \n",
    "print(\"*\"*6)\n",
    "print(\"random array \")\n",
    "arr2 = np.random.randint(1,10,(2,3))\n",
    "print(arr2)"
   ]
  },
  {
   "cell_type": "markdown",
   "metadata": {},
   "source": [
    "# Sorting Function\n",
    "numpy.sort() : This function returns a sorted copy of an array.\n",
    "\n",
    "Parameters :\n",
    "\n",
    "arr : Array to be sorted.\n",
    "axis : Axis along which we need array to be started.\n",
    "order : This argument specifies which fields to compare first.\n",
    "kind : [‘quicksort’{default}, ‘mergesort’, ‘heapsort’]Sorting algorithm"
   ]
  },
  {
   "cell_type": "code",
   "execution_count": 58,
   "metadata": {},
   "outputs": [
    {
     "name": "stdout",
     "output_type": "stream",
     "text": [
      "[[8 9 2]\n",
      " [7 3 3]\n",
      " [2 4 6]]\n",
      "******\n",
      "[[2 2 3]\n",
      " [3 4 7]\n",
      " [6 8 9]]\n"
     ]
    }
   ],
   "source": [
    "arr2 = np.random.randint(1,10,(3,3))\n",
    "print(arr2)\n",
    "# arr2.sort(axis =1 ) # row wise\n",
    "# arr2\n",
    "\n",
    "arr2.sort(axis= 0)\n",
    "arr2  # col wiser\n",
    "\n",
    "print(\"*\"*6)\n",
    "\n",
    "arr2.sort(kind='mergesort')\n",
    "print(arr2)\n",
    "\n"
   ]
  },
  {
   "cell_type": "markdown",
   "metadata": {},
   "source": [
    "# array operationss \n"
   ]
  },
  {
   "cell_type": "code",
   "execution_count": 59,
   "metadata": {},
   "outputs": [
    {
     "name": "stdout",
     "output_type": "stream",
     "text": [
      "random array(seed value) \n",
      "[[9 4 9]\n",
      " [9 1 6]]\n",
      "******\n",
      "[[10  5 10]\n",
      " [10  2  7]]\n"
     ]
    }
   ],
   "source": [
    "np.random.seed(3)\n",
    "print(\"random array(seed value) \")\n",
    "arr = np.random.randint(1,10,(2,3))\n",
    "print(arr)    \n",
    "print(\"*\"*6)\n",
    "\n",
    "#addition (adds to all values of array)\n",
    "print(arr+1)\n",
    "\n",
    " \n"
   ]
  },
  {
   "cell_type": "markdown",
   "metadata": {},
   "source": [
    "# Matrix multiplication "
   ]
  },
  {
   "cell_type": "code",
   "execution_count": 63,
   "metadata": {},
   "outputs": [
    {
     "name": "stdout",
     "output_type": "stream",
     "text": [
      "random array(seed value) \n",
      "[[9 4]\n",
      " [9 9]]\n",
      "[[1 6]\n",
      " [4 6]]\n",
      "****** printing dot product \n",
      "[[81 16]\n",
      " [81 81]]\n"
     ]
    }
   ],
   "source": [
    "np.random.seed(3)\n",
    "print(\"random array(seed value) \")\n",
    "arr1 = np.random.randint(1,10,(2,2))\n",
    "arr2 = np.random.randint(1,10,(2,2))\n",
    "print(arr1)    \n",
    "print(arr2)\n",
    "print(\"*\"*6,\"printing dot product \")\n",
    " \n",
    "# for matrix multiplication \n",
    "arr1.dot(arr2)\n",
    "\n",
    "print(arr1**2)\n"
   ]
  },
  {
   "cell_type": "markdown",
   "metadata": {},
   "source": [
    "# Percentaile \n"
   ]
  },
  {
   "cell_type": "code",
   "execution_count": 94,
   "metadata": {},
   "outputs": [
    {
     "name": "stdout",
     "output_type": "stream",
     "text": [
      "[5 6 7 8]\n",
      "6.5\n"
     ]
    }
   ],
   "source": [
    " \n",
    "arr1 = np.array([5,6,7,8]) \n",
    "flattened_arr = arr1.flatten()\n",
    "print(flattened_arr)\n",
    "print(np.percentile(flattened_arr,50)) # 50th percentile is always the median \n",
    "#The median is calculated by averaging the two middle numbers (7 and 8)  "
   ]
  },
  {
   "cell_type": "markdown",
   "metadata": {},
   "source": [
    "# Mean, Variance and Standard deviation\n",
    "In NumPy, we can compute the mean, standard deviation, and variance of a given array along the second axis by two approaches first is by using inbuilt functions and second is by the formulas of the mean, standard deviation, and variance.\n",
    "\n",
    "Using numpy.mean(), numpy.std(), numpy.var()"
   ]
  },
  {
   "cell_type": "code",
   "execution_count": 107,
   "metadata": {},
   "outputs": [
    {
     "name": "stdout",
     "output_type": "stream",
     "text": [
      "[[7 3 3 2 4]]\n",
      "3.8\n",
      "2.9600000000000004\n",
      "1.7204650534085255\n"
     ]
    }
   ],
   "source": [
    "arr1 = np.random.randint(1,10,(1,5))\n",
    "print(arr1)\n",
    "print(arr1.mean())\n",
    "print(arr1.var()) # variance\n",
    "print(arr1.std()) # standard deviation"
   ]
  },
  {
   "cell_type": "markdown",
   "metadata": {},
   "source": [
    "# Filtering an Array"
   ]
  },
  {
   "cell_type": "code",
   "execution_count": 115,
   "metadata": {},
   "outputs": [
    {
     "name": "stdout",
     "output_type": "stream",
     "text": [
      "[False False False  True  True  True  True  True  True  True  True  True\n",
      "  True  True]\n",
      "***************\n",
      "[ 4  5  6  7  8  9 10 11 12 13 14]\n"
     ]
    }
   ],
   "source": [
    "arr = np.arange(1,15)\n",
    "arr\n",
    "print(arr> 3)\n",
    "print(\"*\"*15)\n",
    "#creating a new array satifsying this confition \n",
    "filtered = arr[arr >3]\n",
    "print(filtered)"
   ]
  },
  {
   "cell_type": "code",
   "execution_count": 116,
   "metadata": {},
   "outputs": [
    {
     "name": "stdout",
     "output_type": "stream",
     "text": [
      "[ 1  2  3 10 10 10 10 10 10 10 10 10 10 10]\n"
     ]
    }
   ],
   "source": [
    "# replacing all the values above 3 with 10 \n",
    "arr[arr > 3 ] = 10 \n",
    "print(arr)"
   ]
  },
  {
   "cell_type": "markdown",
   "metadata": {},
   "source": [
    "# Transposing an array\n",
    "With the help of Numpy ndarray.T object, we can make a Transpose of an array having dimension greater than or equal to 2."
   ]
  },
  {
   "cell_type": "code",
   "execution_count": 117,
   "metadata": {},
   "outputs": [
    {
     "name": "stdout",
     "output_type": "stream",
     "text": [
      "[[ 6  9 15  2 11]\n",
      " [ 8 12  2 16 17]\n",
      " [ 6 18 15  1  1]]\n",
      "--------------------\n",
      "[[ 6  8  6]\n",
      " [ 9 12 18]\n",
      " [15  2 15]\n",
      " [ 2 16  1]\n",
      " [11 17  1]]\n"
     ]
    }
   ],
   "source": [
    "arr = np.random.randint(1,20,(3,5))\n",
    "\n",
    "print(arr)\n",
    "print('-'*20)\n",
    "print(arr.T)"
   ]
  },
  {
   "cell_type": "markdown",
   "metadata": {},
   "source": [
    "# Where function \n",
    "The numpy.where() function returns the indices of elements in an input array where the given condition is satisfied.\n",
    "\n",
    "Syntax :numpy.where(condition[, x, y]) Parameters: condition : When True, yield x, otherwise yield y. x, y : Values from which to choose. x, y and condition need to be broadcastable to some shape."
   ]
  },
  {
   "cell_type": "code",
   "execution_count": 123,
   "metadata": {},
   "outputs": [
    {
     "name": "stdout",
     "output_type": "stream",
     "text": [
      "[12 85 11 81 77 69 45 45 20 17]\n",
      "--------------------\n",
      "['even' '85' '11' '81' '77' '69' '45' '45' 'even' '17']\n",
      "--------------------\n",
      "[ 1 85 11 81 77 69 45 45  1 17]\n"
     ]
    }
   ],
   "source": [
    "arr = np.random.randint(1,100,10)\n",
    "print(arr)\n",
    "print('-'*20)\n",
    "print(np.where(arr%2 == 0 , 'even', arr ))\n",
    "print('-'*20)\n",
    "print(np.where(arr%2 == 0 , 1, arr ))"
   ]
  },
  {
   "cell_type": "markdown",
   "metadata": {},
   "source": [
    "#  Merging Arrays"
   ]
  },
  {
   "cell_type": "markdown",
   "metadata": {},
   "source": [
    "We can perform the concatenation operation using the concatenate() function. With this function, arrays are concatenated either row-wise or column-wise, given that they have equal rows or columns respectively. Column-wise concatenation can be done by equating axis to 1 as an argument in the function.\n"
   ]
  },
  {
   "cell_type": "code",
   "execution_count": 126,
   "metadata": {},
   "outputs": [
    {
     "name": "stdout",
     "output_type": "stream",
     "text": [
      "[[1 8 5 9]\n",
      " [9 5 2 5]]\n",
      "---------------\n",
      "[[1 6 7 8]\n",
      " [1 8 9 2]]\n",
      "------------------------------\n",
      "[[1. 8. 5. 9.]\n",
      " [9. 5. 2. 5.]\n",
      " [1. 6. 7. 8.]\n",
      " [1. 8. 9. 2.]]\n",
      "------------------------------\n",
      "[[1 8 5 9 1 6 7 8]\n",
      " [9 5 2 5 1 8 9 2]]\n"
     ]
    }
   ],
   "source": [
    "arr1 = np.random.randint(1,10,(2,4))\n",
    "arr2 = np.random.randint(1,10,(2,4))\n",
    "\n",
    "print(arr1)\n",
    "print('-'*15)\n",
    "print(arr2)\n",
    "\n",
    "print('-'*30)\n",
    "print(np.concatenate((arr1,arr2), axis = 0,dtype='float'))\n",
    "print('-'*30)\n",
    "print(np.concatenate((arr1,arr2), axis = 1))"
   ]
  },
  {
   "cell_type": "markdown",
   "metadata": {},
   "source": [
    "> Hstack and v Stack"
   ]
  },
  {
   "cell_type": "code",
   "execution_count": 137,
   "metadata": {},
   "outputs": [
    {
     "name": "stdout",
     "output_type": "stream",
     "text": [
      "[[8 3 7 1]\n",
      " [2 1 5 7]]\n",
      "---------------\n",
      "[[6 7 5 8]\n",
      " [1 5 3 9]]\n",
      "---------------\n",
      "h stack\n",
      "[[8 3 7 1 6 7 5 8]\n",
      " [2 1 5 7 1 5 3 9]]\n",
      "v stack\n",
      "[[8 3 7 1]\n",
      " [2 1 5 7]\n",
      " [6 7 5 8]\n",
      " [1 5 3 9]]\n"
     ]
    }
   ],
   "source": [
    "arr1 = np.random.randint(1,10,(2,4))\n",
    "print(arr1)\n",
    "\n",
    "arr2 = np.random.randint(1,10,(2,4)) \n",
    "print('-'*15)\n",
    "print(arr2)\n",
    "\n",
    "print('-'*15)\n",
    "print(\"h stack\")\n",
    "print(np.hstack((arr1,arr2)))\n",
    "print(\"v stack\")\n",
    "print(np.vstack((arr1,arr2)))"
   ]
  },
  {
   "cell_type": "markdown",
   "metadata": {},
   "source": [
    "> splitting arrays "
   ]
  },
  {
   "cell_type": "code",
   "execution_count": 140,
   "metadata": {},
   "outputs": [
    {
     "name": "stdout",
     "output_type": "stream",
     "text": [
      "[[1 9 8 5]\n",
      " [4 4 7 2]]\n",
      "---------------\n",
      "[[8 2 3 1]\n",
      " [8 2 6 3]]\n",
      "---------------\n",
      "h stack\n",
      "[array([[1, 9],\n",
      "       [4, 4]], dtype=int32), array([[8, 5],\n",
      "       [7, 2]], dtype=int32)]\n",
      "---------------\n",
      "v stack\n",
      "[array([[8, 2, 3, 1]], dtype=int32), array([[8, 2, 6, 3]], dtype=int32)]\n"
     ]
    }
   ],
   "source": [
    "arr1 = np.random.randint(1,10,(2,4))\n",
    "print(arr1)\n",
    "\n",
    "arr2 = np.random.randint(1,10,(2,4)) \n",
    "print('-'*15)\n",
    "print(arr2)\n",
    "\n",
    "print('-'*15)\n",
    "print(\"h stack\")\n",
    "print(np.hsplit(arr1,2))\n",
    "print('-'*15)\n",
    "print(\"v stack\")\n",
    "\n",
    "print(np.vsplit(arr2,2))"
   ]
  },
  {
   "cell_type": "code",
   "execution_count": 143,
   "metadata": {},
   "outputs": [
    {
     "data": {
      "text/plain": [
       "array([[[0.09803922, 0.74509805, 0.92941177],\n",
       "        [0.09803922, 0.74509805, 0.92941177],\n",
       "        [0.09803922, 0.74509805, 0.92941177],\n",
       "        ...,\n",
       "        [0.09803922, 0.74509805, 0.92941177],\n",
       "        [0.09803922, 0.74509805, 0.92941177],\n",
       "        [0.09803922, 0.74509805, 0.92941177]],\n",
       "\n",
       "       [[0.09803922, 0.74509805, 0.92941177],\n",
       "        [0.09803922, 0.74509805, 0.92941177],\n",
       "        [0.09803922, 0.74509805, 0.92941177],\n",
       "        ...,\n",
       "        [0.09803922, 0.74509805, 0.92941177],\n",
       "        [0.09803922, 0.74509805, 0.92941177],\n",
       "        [0.09803922, 0.74509805, 0.92941177]],\n",
       "\n",
       "       [[0.09803922, 0.74509805, 0.92941177],\n",
       "        [0.09803922, 0.74509805, 0.92941177],\n",
       "        [0.09803922, 0.74509805, 0.92941177],\n",
       "        ...,\n",
       "        [0.09803922, 0.74509805, 0.92941177],\n",
       "        [0.09803922, 0.74509805, 0.92941177],\n",
       "        [0.09803922, 0.74509805, 0.92941177]],\n",
       "\n",
       "       ...,\n",
       "\n",
       "       [[0.05882353, 0.6039216 , 0.75686276],\n",
       "        [0.05882353, 0.6039216 , 0.75686276],\n",
       "        [0.05882353, 0.6039216 , 0.75686276],\n",
       "        ...,\n",
       "        [0.05882353, 0.6039216 , 0.75686276],\n",
       "        [0.05882353, 0.6039216 , 0.75686276],\n",
       "        [0.05882353, 0.6039216 , 0.75686276]],\n",
       "\n",
       "       [[0.05882353, 0.6039216 , 0.75686276],\n",
       "        [0.05882353, 0.6039216 , 0.75686276],\n",
       "        [0.05882353, 0.6039216 , 0.75686276],\n",
       "        ...,\n",
       "        [0.05882353, 0.6039216 , 0.75686276],\n",
       "        [0.05882353, 0.6039216 , 0.75686276],\n",
       "        [0.05882353, 0.6039216 , 0.75686276]],\n",
       "\n",
       "       [[0.05882353, 0.6039216 , 0.75686276],\n",
       "        [0.05882353, 0.6039216 , 0.75686276],\n",
       "        [0.05882353, 0.6039216 , 0.75686276],\n",
       "        ...,\n",
       "        [0.05882353, 0.6039216 , 0.75686276],\n",
       "        [0.05882353, 0.6039216 , 0.75686276],\n",
       "        [0.05882353, 0.6039216 , 0.75686276]]],\n",
       "      shape=(607, 1000, 3), dtype=float32)"
      ]
     },
     "execution_count": 143,
     "metadata": {},
     "output_type": "execute_result"
    }
   ],
   "source": [
    "from matplotlib.image import imread \n",
    "\n",
    "img = imread('GFG.png')\n",
    "img\n"
   ]
  },
  {
   "cell_type": "markdown",
   "metadata": {},
   "source": [
    "# Print the item size | bytes taken by each element in an array"
   ]
  },
  {
   "cell_type": "code",
   "execution_count": 3,
   "metadata": {},
   "outputs": [
    {
     "name": "stdout",
     "output_type": "stream",
     "text": [
      "8\n"
     ]
    }
   ],
   "source": [
    "import numpy as np \n",
    "arr = np.array([[1,1,2],[1,2,3],[3,2,1]])\n",
    "print(arr.itemsize)"
   ]
  }
 ],
 "metadata": {
  "kernelspec": {
   "display_name": "Python 3",
   "language": "python",
   "name": "python3"
  },
  "language_info": {
   "codemirror_mode": {
    "name": "ipython",
    "version": 3
   },
   "file_extension": ".py",
   "mimetype": "text/x-python",
   "name": "python",
   "nbconvert_exporter": "python",
   "pygments_lexer": "ipython3",
   "version": "3.12.1"
  }
 },
 "nbformat": 4,
 "nbformat_minor": 2
}
