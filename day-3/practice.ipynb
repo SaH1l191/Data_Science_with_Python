{
 "cells": [
  {
   "cell_type": "code",
   "execution_count": 100,
   "metadata": {},
   "outputs": [
    {
     "name": "stdout",
     "output_type": "stream",
     "text": [
      "False\n",
      "strin\n",
      "['this', 'is', 'a', 'multiline', 'string', '']\n",
      "fasfds+asf\n",
      "this is a multiline string \n",
      "False\n",
      "[1, 'first', 2, 3, 4, 'true', 'newentrue', 'enwentrio', 'apple']\n",
      "[23, 5, 4, 2, 1]\n"
     ]
    }
   ],
   "source": [
    "fruits = [\"apple\", \"banana\",\"orange\"]\n",
    "x ,y , z= fruits\n",
    "# print(x,y,z)\n",
    "\n",
    "h = 0+2j\n",
    "# print(type(h),h)\n",
    "\n",
    "x = range(3) \n",
    "# print(x) \n",
    "\n",
    "twople = (1,2,3,4,5,5)\n",
    " \n",
    "\n",
    "\n",
    " #all string operations \n",
    "a = '''this is a multiline string '''\n",
    "print('this' not in a)\n",
    "print(a[-7 : -2])\n",
    "a.upper()\n",
    "a.lower()\n",
    "a.capitalize()\n",
    "a.title()\n",
    "a.strip()\n",
    "a.replace('t','tt')\n",
    "print(a.split(\" \"))\n",
    "print(\"fasfds\" , 'asf',  sep='+')\n",
    "print(f\"{a}\")\n",
    "print(bool(None))\n",
    "\n",
    "\n",
    "listt = [1,2,3,4,'true',True,\"apple\"]\n",
    "# listt.append('324')\n",
    "# listt.extend([1,3,4]) \n",
    "# print(len(listt))\n",
    "#inserting in list \n",
    "listt[5:6] = [\"newentrue\",\"enwentrio\"]\n",
    "listt.insert(1,'first')\n",
    "print(listt)\n",
    "#list concatenation \n",
    "# print([i for i in range(1,3)])\n",
    "#list constructor \n",
    "# print(list(a))\n",
    "\n",
    "#list removinhg \n",
    "listt.remove(\"true\")\n",
    "listt.count(1)\n",
    "listt.pop(1) #first ele or any ele \n",
    "#del keyword\n",
    "listt.clear()\n",
    "\n",
    "\n",
    "fruits = ['apple', 'banana', 'cherry']\n",
    "x = fruits.index(\"cherry\")\n",
    "\n",
    "l = [1,5,4,23,2]\n",
    "l.sort(reverse=True)\n",
    "print(l)\n",
    "\n",
    "newlist = l.copy()\n"
   ]
  },
  {
   "cell_type": "code",
   "execution_count": 68,
   "metadata": {},
   "outputs": [
    {
     "name": "stdout",
     "output_type": "stream",
     "text": [
      "2\n"
     ]
    }
   ],
   "source": [
    "\n",
    "#tuples \n",
    "#tuples cna be added to tuples though\n",
    "tup = (1,2,4,1) \n",
    "# del tup\n",
    "print(tup.count(1))\n",
    "\n",
    "# rest all opeartions are available by converting it to a list \n"
   ]
  },
  {
   "cell_type": "code",
   "execution_count": 75,
   "metadata": {},
   "outputs": [
    {
     "name": "stdout",
     "output_type": "stream",
     "text": [
      "{'apple', 'cherry', 'orange', 'banana'}\n",
      "{'mango', 'papaya', 'banana', 'apple', 'pineapple', 'cherry'}\n",
      "{'google', 'banana', 'cherry', 'microsoft'}\n"
     ]
    }
   ],
   "source": [
    "#set \n",
    "thisset = {\"apple\", \"banana\", \"cherry\"}\n",
    "#set constructor \n",
    "thisset.add(\"orange\")\n",
    "\n",
    "print(thisset)\n",
    "\n",
    "thisset = {\"apple\", \"banana\", \"cherry\"}\n",
    "tropical = {\"pineapple\", \"mango\", \"papaya\"}\n",
    "\n",
    "thisset.update(tropical)\n",
    "print(thisset)\n",
    "# thisset.clear()\n",
    "\n",
    "thisset.discard(\"banana\")\n",
    "thisset.pop() # this will remove a random item \n",
    "\n",
    "#set operations \n",
    "set1 = {\"apple\", \"banana\", \"cherry\"}\n",
    "set2 = {\"google\", \"microsoft\", \"apple\"}\n",
    "set3 = set1.union(set2)\n",
    "set5 = set1.intersection(set2)\n",
    "set4 =  set1.symmetric_difference(set2)\n",
    "print(set4)\n"
   ]
  },
  {
   "cell_type": "code",
   "execution_count": 86,
   "metadata": {},
   "outputs": [
    {
     "name": "stdout",
     "output_type": "stream",
     "text": [
      "{'name': 'John', 'age': 36, 'country': 'Norway'}\n",
      "John\n",
      "dict_keys(['name', 'age', 'country'])\n",
      "dict_values(['John', 36, 'Norway'])\n",
      "{'name': 'john', 'age': 36, 'phoneno': '9123'}\n"
     ]
    }
   ],
   "source": [
    "thisdict = dict(name = \"John\", age = 36, country = \"Norway\")\n",
    "print(thisdict)\n",
    "print(thisdict.get(\"name\"))\n",
    "print(thisdict.keys())\n",
    "print(thisdict.values())\n",
    "thisdict[\"phoneno\"] = \"9123\"\n",
    "thisdict.update({\"name\" : \"john\"})\n",
    "thisdict.pop(\"country\")\n",
    "# del thisdict[\"model\"]\n",
    "print(thisdict)\n",
    "newDict = thisdict.copy()"
   ]
  },
  {
   "cell_type": "code",
   "execution_count": 110,
   "metadata": {},
   "outputs": [
    {
     "name": "stdout",
     "output_type": "stream",
     "text": [
      "[[0, 1, 2], [0, 1, 2], [0, 1, 2], [0, 1, 2]]\n"
     ]
    }
   ],
   "source": [
    "print([ [y for y in range(3)]  for x in range(4)])\n"
   ]
  }
 ],
 "metadata": {
  "kernelspec": {
   "display_name": "Python 3",
   "language": "python",
   "name": "python3"
  },
  "language_info": {
   "codemirror_mode": {
    "name": "ipython",
    "version": 3
   },
   "file_extension": ".py",
   "mimetype": "text/x-python",
   "name": "python",
   "nbconvert_exporter": "python",
   "pygments_lexer": "ipython3",
   "version": "3.12.8"
  }
 },
 "nbformat": 4,
 "nbformat_minor": 2
}
