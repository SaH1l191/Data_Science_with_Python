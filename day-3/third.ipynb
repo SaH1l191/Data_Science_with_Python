{
 "cells": [
  {
   "cell_type": "code",
   "execution_count": 11,
   "metadata": {},
   "outputs": [
    {
     "name": "stdout",
     "output_type": "stream",
     "text": [
      "{1, 2, 3, 4, 5}\n",
      "<class 'set'>\n",
      "True\n",
      "Union:  {1, 2, 3, 4, 5, 6, 7}\n",
      "Union:  {1, 2, 3, 4, 5, 6, 7}\n",
      "intersction:  {1, 2, 5}\n",
      "intersction:  {1, 2, 5}\n",
      "set diff :  {3, 4}\n",
      "removing comon el between two :  {3, 4, 6, 7}\n"
     ]
    }
   ],
   "source": [
    "#tuples and set \n",
    "\n",
    "#  set {}     tuple ()\n",
    "# mutable     immutable \n",
    "#  unique       not required\n",
    "#unordered      ordered\n",
    "\n"
   ]
  },
  {
   "cell_type": "code",
   "execution_count": 20,
   "metadata": {},
   "outputs": [
    {
     "name": "stdout",
     "output_type": "stream",
     "text": [
      "{1, 2, 3, 4, 5}\n",
      "<class 'set'>\n",
      "True\n",
      "Union:  {1, 2, 3, 4, 5, 6, 7}\n",
      "Union:  {1, 2, 3, 4, 5, 6, 7}\n",
      "intersction:  {1, 2, 5}\n",
      "intersction:  {1, 2, 5}\n",
      "set diff :  {3, 4}\n",
      "removing comon el between two :  {3, 4, 6, 7}\n",
      "copy of set  {0, 2, 3, 4, 7, 8}  set length  6\n"
     ]
    }
   ],
   "source": [
    "\n",
    "#set \n",
    "\n",
    "#creating \n",
    "my_set = {1,2,3,4,5,5}\n",
    "print(my_set)  #sizez only 5 \n",
    "print(type(my_set))\n",
    "\n",
    "#adding a el to a set \n",
    "my_set.add(3)\n",
    "\n",
    "my_set.pop()  #pops from the first el in set \n",
    "# print(my_set)\n",
    " \n",
    "\n",
    "\n",
    "my_set.discard(5) # removes certain el\n",
    "print(4 in my_set)\n",
    "\n",
    "my_set.update([7,8,9])\n",
    "\n",
    "# set operations \n",
    "set_1 = {1,2,3,4,5}\n",
    "set_2 = {5,6,7,2,1}\n",
    "print(\"Union: \",set_1.union(set_2) )\n",
    "print(\"Union: \",set_1 | set_2 )\n",
    "print(\"intersction: \",set_1.intersection(set_2) )\n",
    "print(\"intersction: \",set_1 &  set_2 )\n",
    "print(\"set diff : \",set_1 - set_2 )\n",
    "print(\"removing comon el between two : \",set_1 ^ set_2 )\n",
    "\n",
    "\n",
    "\n",
    "Set = {2, 3, 4, 7, 8, 0}\n",
    "copy_set = Set.copy()\n",
    "set_length = len(Set)\n",
    "print(\"copy of set \", copy_set,\" set length \", set_length)\n",
    "Set.clear()"
   ]
  },
  {
   "cell_type": "code",
   "execution_count": 17,
   "metadata": {},
   "outputs": [
    {
     "name": "stdout",
     "output_type": "stream",
     "text": [
      "1st :  1\n",
      "1:4 : (2, 3, 4)\n",
      "tot tup :  (1, 2, 3, 4, 1, 2, 3, 4)\n",
      "True\n",
      "Count :  2\n",
      "index of 4:  3\n",
      "tot_tup *2 :  (1, 2, 3, 4, 1, 2, 3, 4, 1, 2, 3, 4, 1, 2, 3, 4)\n"
     ]
    }
   ],
   "source": [
    "#tuples \n",
    "# ordered , immutable (cannot change )\n",
    "tup = ( 1,2,3,4)\n",
    "print(\"1st : \",tup[0])\n",
    "print(\"1:4 :\",tup[1:4])\n",
    "tup_1 = (1,2,3,4)\n",
    "tot_tup = tup + tup_1\n",
    "print(\"tot tup : \",tot_tup)\n",
    "print(1 in tot_tup)\n",
    "print('Count : ',tot_tup.count(4))\n",
    "print('index of 4: ',tot_tup.index(4))\n",
    "print(\"tot_tup *2 : \",tot_tup*2)"
   ]
  },
  {
   "cell_type": "code",
   "execution_count": 39,
   "metadata": {},
   "outputs": [
    {
     "name": "stdout",
     "output_type": "stream",
     "text": [
      "4\n",
      "3\n",
      "3\n",
      "0.5740312677277188\n",
      "0.8939966636005579\n",
      "-0.4480736161291701\n",
      "-1.995200412208242\n",
      "4.358898943540674\n",
      "3628800\n",
      "3.141592653589793\n",
      "2.718281828459045\n",
      "--------------------\n",
      "random\n",
      "0.307889120054297\n",
      "9\n",
      "[3, 4]\n",
      "--------------------\n",
      "date-time\n",
      "2025-01-05 18:23:26.665489\n",
      "2023-11-19 10:30:00\n",
      "01/05/25 18:23\n",
      "Counter({3: 4, 1: 3, 2: 1, 4: 1, 6: 1})\n",
      "OrderedDict({'one': 1, 'two': 2})\n",
      "[5, 3, 4, 1, 2]\n",
      "1\n"
     ]
    }
   ],
   "source": [
    "import math \n",
    "xd =3.75 \n",
    "print(math.ceil(xd))\n",
    "print(math.floor(xd))\n",
    "print(math.trunc(xd))\n",
    "print(math.log10(xd))\n",
    "\n",
    "x=90 \n",
    "print(math.sin(x))\n",
    "print(math.cos(x))\n",
    "print(math.tan(x))\n",
    "print(math.sqrt(19))\n",
    "\n",
    "print(math.factorial(10))\n",
    "print(math.pi)\n",
    "print(math.e)\n",
    "\n",
    "print(\"-\" * 20)\n",
    "print(\"random\")\n",
    "import random \n",
    "print(random.random())\n",
    "print(random.randint(1,10))\n",
    "print(random.sample([1,2,3,4,5],2))\n",
    "\n",
    "print(\"-\" * 20)\n",
    "print(\"date-time\")\n",
    "\n",
    "import datetime  \n",
    "print(datetime.datetime.now())\n",
    "# current_date = date.today()\n",
    "# print(current_date)\n",
    "print(datetime.datetime(2023,11,19,10,30,0))\n",
    "print(datetime.datetime.now().strftime(\"%m/%d/%y %H:%M\"))\n",
    "\n",
    "\n",
    "#to count ele \n",
    "from collections import  Counter,OrderedDict\n",
    "lst = [1,2,3,3,1,3,4,6,3,1]\n",
    "print(Counter(lst))\n",
    "\n",
    "d = OrderedDict()\n",
    "d['one'] = 1\n",
    "d['two'] = 2 \n",
    "print(d)\n",
    "\n",
    "import random\n",
    "my_list = [1, 2, 3, 4, 5]\n",
    "random.shuffle(my_list)\n",
    "print(my_list)\n",
    "value = random.choice(my_list)\n",
    "print(value)\n",
    "\n"
   ]
  },
  {
   "cell_type": "code",
   "execution_count": 42,
   "metadata": {},
   "outputs": [
    {
     "name": "stdout",
     "output_type": "stream",
     "text": [
      "19\n",
      "sahil\n"
     ]
    },
    {
     "data": {
      "text/plain": [
       "2"
      ]
     },
     "execution_count": 42,
     "metadata": {},
     "output_type": "execute_result"
    }
   ],
   "source": [
    "#OOOPS \n",
    "class person : \n",
    "    # name \n",
    "    # age \n",
    "\n",
    "    def __init__(self, name, age):\n",
    "        self.name = name\n",
    "        self.age = age\n",
    "\n",
    "    def greet(self):\n",
    "        return f\"Hello {self.name}\"\n",
    "    def mul(self , n):\n",
    "        return n\n",
    "    \n",
    "\n",
    "p1 = person(\"sahil\",19)\n",
    "\n",
    "print(p1.age )\n",
    "print(p1.name)\n",
    "del p1.age\n",
    "p1.greet()\n",
    "p1.mul(2)\n",
    "del p1\n",
    "\n",
    "\n",
    "\n",
    "\n"
   ]
  },
  {
   "cell_type": "code",
   "execution_count": 43,
   "metadata": {},
   "outputs": [
    {
     "name": "stdout",
     "output_type": "stream",
     "text": [
      "Starting the game: Warzone - Genre: Action\n",
      "Game Difficulty: Hard\n",
      "Available Weapons: Gun, Grenade, Knife\n"
     ]
    }
   ],
   "source": [
    "class Game:\n",
    "    def __init__(self, title, genre):\n",
    "        self.title = title\n",
    "        self.genre = genre\n",
    "    \n",
    "    def start_game(self):\n",
    "        print(f\"Starting the game: {self.title} - Genre: {self.genre}\")\n",
    "    \n",
    "    def end_game(self):\n",
    "        print(f\"Ending the game: {self.title}\")\n",
    "\n",
    "# Derived class for Action games (inherits from Game)\n",
    "class ActionGame(Game):\n",
    "    def __init__(self, title, difficulty, weapons):\n",
    "        super().__init__(title, \"Action\")  # Calling parent class constructor\n",
    "        self.difficulty = difficulty\n",
    "        self.weapons = weapons\n",
    "    \n",
    "    def start_game(self):\n",
    "        super().start_game()  # Call start_game from Game class\n",
    "        print(f\"Game Difficulty: {self.difficulty}\")\n",
    "    \n",
    "    def action_specific_method(self):\n",
    "        print(f\"Available Weapons: {', '.join(self.weapons)}\")\n",
    "\n",
    "action_game = ActionGame(\"Warzone\", \"Hard\", [\"Gun\", \"Grenade\", \"Knife\"])\n",
    "action_game.start_game()\n",
    "action_game.action_specific_method()\n",
    "\n",
    " "
   ]
  }
 ],
 "metadata": {
  "kernelspec": {
   "display_name": "Python 3",
   "language": "python",
   "name": "python3"
  },
  "language_info": {
   "codemirror_mode": {
    "name": "ipython",
    "version": 3
   },
   "file_extension": ".py",
   "mimetype": "text/x-python",
   "name": "python",
   "nbconvert_exporter": "python",
   "pygments_lexer": "ipython3",
   "version": "3.12.8"
  }
 },
 "nbformat": 4,
 "nbformat_minor": 2
}
