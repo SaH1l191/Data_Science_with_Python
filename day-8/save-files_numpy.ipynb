{
 "cells": [
  {
   "cell_type": "code",
   "execution_count": 1,
   "metadata": {},
   "outputs": [],
   "source": [
    "import numpy as np \n",
    "arr = np.array([[1,2,3],[4,5,6]])\n",
    "np.savetxt('data.txt',arr)\n",
    "\n",
    "arr2 = np.array([[1,2,3],[4,5,6],[7,8,9]])\n",
    "np.save('data1.npy', arr)\n",
    "\n",
    "arr3 = np.array([[1,2,3],[4,5,6],[7,8,9]])\n",
    "np.savetxt('data2.csv',arr3,delimiter=',',header='a,b,c')\n",
    "\n",
    "arr = np.array([[1,2,3],[4,5,6]])\n",
    "\n",
    "np.savetxt('data.yaml',arr, delimiter = ',', header = '- data : ')\n",
    "\n",
    "arr = np.array([[1,2,3],[4,5,6]])\n",
    "np.savetxt('data.json',arr, delimiter = ',', header = '{\"data\"  : [', footer = ']}')"
   ]
  },
  {
   "cell_type": "code",
   "execution_count": 6,
   "metadata": {},
   "outputs": [
    {
     "name": "stdout",
     "output_type": "stream",
     "text": [
      "[[1. 2. 3.]\n",
      " [4. 5. 6.]]\n",
      "[[1. 2. 3.]\n",
      " [4. 5. 6.]\n",
      " [7. 8. 9.]]\n",
      "[[1. 2. 3.]\n",
      " [4. 5. 6.]]\n",
      "[[1. 2. 3.]\n",
      " [4. 5. 6.]]\n"
     ]
    }
   ],
   "source": [
    "import numpy as np \n",
    "\n",
    "data = np.loadtxt('data.txt')\n",
    "print(data)\n",
    "\n",
    "\n",
    "data = np.loadtxt('data2.csv',delimiter=',')\n",
    "print(data)\n",
    "\n",
    "\n",
    "data = np.loadtxt('data.json',delimiter=',')\n",
    "print(data)\n",
    "\n",
    "\n",
    "\n",
    "data = np.loadtxt('data.yaml', delimiter = ',')\n",
    "\n",
    "print(data)"
   ]
  },
  {
   "cell_type": "markdown",
   "metadata": {},
   "source": [
    "# Replacing existing content"
   ]
  },
  {
   "cell_type": "code",
   "execution_count": 19,
   "metadata": {},
   "outputs": [],
   "source": [
    "import numpy as np\n",
    "data = np.array([1,2,3])\n",
    "np.savetxt('data-1.txt', data, delimiter = ',')\n",
    "\n",
    "data = np.array([4,5,6])\n",
    "np.savetxt('data-2.txt', data, delimiter = ',')"
   ]
  },
  {
   "cell_type": "markdown",
   "metadata": {},
   "source": [
    "# Appending data on existing file "
   ]
  },
  {
   "cell_type": "code",
   "execution_count": 28,
   "metadata": {},
   "outputs": [
    {
     "name": "stdout",
     "output_type": "stream",
     "text": [
      "[[1 2 3]\n",
      " [4 5 6]]\n"
     ]
    }
   ],
   "source": [
    "import numpy as np\n",
    "data = np.load('data1.npy',allow_pickle=True)\n",
    "# np.savetxt('data11.txt', data, delimiter = ',')\n",
    "print(data)\n",
    "np.save('new_data.npy', data)"
   ]
  }
 ],
 "metadata": {
  "kernelspec": {
   "display_name": "Python 3",
   "language": "python",
   "name": "python3"
  },
  "language_info": {
   "codemirror_mode": {
    "name": "ipython",
    "version": 3
   },
   "file_extension": ".py",
   "mimetype": "text/x-python",
   "name": "python",
   "nbconvert_exporter": "python",
   "pygments_lexer": "ipython3",
   "version": "3.12.8"
  }
 },
 "nbformat": 4,
 "nbformat_minor": 2
}
