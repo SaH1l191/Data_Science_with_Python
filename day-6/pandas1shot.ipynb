{
 "cells": [
  {
   "cell_type": "markdown",
   "metadata": {},
   "source": [
    "# Creating Series"
   ]
  },
  {
   "cell_type": "code",
   "execution_count": 1,
   "metadata": {},
   "outputs": [
    {
     "name": "stdout",
     "output_type": "stream",
     "text": [
      "1     first\n",
      "2    second\n",
      "3     third\n",
      "dtype: object\n"
     ]
    }
   ],
   "source": [
    "import pandas as pd \n",
    "import numpy as np \n",
    "\n",
    "arr = np.array([1,2,3,4,5])\n",
    "# print(pd.Series(arr))\n",
    "\n",
    "# or manuallly create from own end \n",
    "print(pd.Series(index=[1,2,3],data=[\"first\",\"second\",\"third\"]))\n",
    "\n",
    "#through dictionary \n",
    "dict ={1:'osteps',2:\"1steps\",3:\"nosteps\"}\n",
    "# print(pd.Series(dict))\n",
    "\n"
   ]
  },
  {
   "cell_type": "markdown",
   "metadata": {},
   "source": [
    "# Repeat + Reset Functiions \n"
   ]
  },
  {
   "cell_type": "code",
   "execution_count": 1,
   "metadata": {},
   "outputs": [
    {
     "ename": "NameError",
     "evalue": "name 'pd' is not defined",
     "output_type": "error",
     "traceback": [
      "\u001b[1;31m---------------------------------------------------------------------------\u001b[0m",
      "\u001b[1;31mNameError\u001b[0m                                 Traceback (most recent call last)",
      "Cell \u001b[1;32mIn[1], line 4\u001b[0m\n\u001b[0;32m      1\u001b[0m \u001b[38;5;66;03m# print(pd.Series(4).repeat(3).reset_index())\u001b[39;00m\n\u001b[1;32m----> 4\u001b[0m s \u001b[38;5;241m=\u001b[39m (\u001b[43mpd\u001b[49m\u001b[38;5;241m.\u001b[39mSeries([\u001b[38;5;241m10\u001b[39m,\u001b[38;5;241m20\u001b[39m])\u001b[38;5;241m.\u001b[39mrepeat([\u001b[38;5;241m2\u001b[39m,\u001b[38;5;241m3\u001b[39m])\u001b[38;5;241m.\u001b[39mreset_index(drop\u001b[38;5;241m=\u001b[39m\u001b[38;5;28;01mTrue\u001b[39;00m))\n\u001b[0;32m      5\u001b[0m \u001b[38;5;28mprint\u001b[39m(s[\u001b[38;5;241m0\u001b[39m])\n\u001b[0;32m      6\u001b[0m \u001b[38;5;28mprint\u001b[39m(s[\u001b[38;5;241m1\u001b[39m:\u001b[38;5;241m3\u001b[39m])\n",
      "\u001b[1;31mNameError\u001b[0m: name 'pd' is not defined"
     ]
    }
   ],
   "source": [
    "# print(pd.Series(4).repeat(3).reset_index())\n",
    "\n",
    "\n",
    "s = (pd.Series([10,20]).repeat([2,3]).reset_index(drop=True))\n",
    "print(s[0])\n",
    "print(s[1:3])\n",
    "\n",
    "print(\"*\"*20)\n",
    "\n",
    "\n",
    "\n"
   ]
  },
  {
   "cell_type": "markdown",
   "metadata": {},
   "source": [
    "# Aggregate\n"
   ]
  },
  {
   "cell_type": "code",
   "execution_count": 183,
   "metadata": {},
   "outputs": [
    {
     "name": "stdout",
     "output_type": "stream",
     "text": [
      "0    10\n",
      "1    10\n",
      "2    20\n",
      "3    20\n",
      "4    20\n",
      "dtype: int64\n",
      "********************\n"
     ]
    },
    {
     "name": "stderr",
     "output_type": "stream",
     "text": [
      "C:\\Users\\aspha\\AppData\\Local\\Temp\\ipykernel_4600\\4074911641.py:7: FutureWarning: The provided callable <built-in function min> is currently using Series.min. In a future version of pandas, the provided callable will be used directly. To keep current behavior pass the string \"min\" instead.\n",
      "  st.agg([min,max,sum])\n",
      "C:\\Users\\aspha\\AppData\\Local\\Temp\\ipykernel_4600\\4074911641.py:7: FutureWarning: The provided callable <built-in function max> is currently using Series.max. In a future version of pandas, the provided callable will be used directly. To keep current behavior pass the string \"max\" instead.\n",
      "  st.agg([min,max,sum])\n",
      "C:\\Users\\aspha\\AppData\\Local\\Temp\\ipykernel_4600\\4074911641.py:7: FutureWarning: The provided callable <built-in function sum> is currently using Series.sum. In a future version of pandas, the provided callable will be used directly. To keep current behavior pass the string \"sum\" instead.\n",
      "  st.agg([min,max,sum])\n"
     ]
    },
    {
     "data": {
      "text/plain": [
       "min    10\n",
       "max    20\n",
       "sum    80\n",
       "dtype: int64"
      ]
     },
     "execution_count": 183,
     "metadata": {},
     "output_type": "execute_result"
    }
   ],
   "source": [
    "# print(pd.Series(4).repeat(3).reset_index())\n",
    "\n",
    "\n",
    "st = (pd.Series([10,20]).repeat([2,3]).reset_index(drop=True))\n",
    "print(st)\n",
    "print(\"*\"*20)\n",
    "st.agg([min,max,sum])\n",
    "\n"
   ]
  },
  {
   "cell_type": "markdown",
   "metadata": {},
   "source": [
    "# Absolute function"
   ]
  },
  {
   "cell_type": "code",
   "execution_count": 184,
   "metadata": {},
   "outputs": [
    {
     "name": "stdout",
     "output_type": "stream",
     "text": [
      "0    10\n",
      "1    20\n",
      "2    -1\n",
      "3    -2\n",
      "4   -10\n",
      "dtype: int64\n",
      "********************\n"
     ]
    },
    {
     "data": {
      "text/plain": [
       "0    10\n",
       "1    20\n",
       "2     1\n",
       "3     2\n",
       "4    10\n",
       "dtype: int64"
      ]
     },
     "execution_count": 184,
     "metadata": {},
     "output_type": "execute_result"
    }
   ],
   "source": [
    "st = (pd.Series([10,20,-1,-2,-10]))\n",
    "print(st)\n",
    "print(\"*\"*20)\n",
    "st.abs()"
   ]
  },
  {
   "cell_type": "markdown",
   "metadata": {},
   "source": [
    "# Appending Series"
   ]
  },
  {
   "cell_type": "code",
   "execution_count": 5,
   "metadata": {},
   "outputs": [
    {
     "data": {
      "text/plain": [
       "0    1\n",
       "1   -2\n",
       "2    3\n",
       "3    1\n",
       "4    2\n",
       "5    3\n",
       "dtype: int64"
      ]
     },
     "execution_count": 5,
     "metadata": {},
     "output_type": "execute_result"
    }
   ],
   "source": [
    "# sr1 = pd.Series([1,-2,3])\n",
    "# sr2 = pd.Series([1,2,3])\n",
    "# sr3 = sr2.append(sr1)\n",
    "import pandas as pd \n",
    "import numpy as np\n",
    "\n",
    "sr1 = pd.Series([1,-2,3])\n",
    "sr2 = pd.Series([1,2,3])\n",
    "sr3 = np.concatenate((sr1,sr2))\n",
    "sr3 = pd.Series(sr3)\n",
    "sr3"
   ]
  },
  {
   "cell_type": "markdown",
   "metadata": {},
   "source": [
    "# Astype"
   ]
  },
  {
   "cell_type": "code",
   "execution_count": 31,
   "metadata": {},
   "outputs": [
    {
     "data": {
      "text/plain": [
       "0    1.0\n",
       "1   -2.0\n",
       "2    3.0\n",
       "dtype: float64"
      ]
     },
     "execution_count": 31,
     "metadata": {},
     "output_type": "execute_result"
    }
   ],
   "source": [
    "sr1\n",
    "type(sr1)\n",
    "\n",
    "sr1.astype(float)"
   ]
  },
  {
   "cell_type": "markdown",
   "metadata": {},
   "source": [
    "# Between"
   ]
  },
  {
   "cell_type": "code",
   "execution_count": 32,
   "metadata": {},
   "outputs": [
    {
     "name": "stdout",
     "output_type": "stream",
     "text": [
      "0    10\n",
      "1    20\n",
      "2    -1\n",
      "3    -2\n",
      "4   -10\n",
      "5     6\n",
      "6     8\n",
      "7     9\n",
      "8    13\n",
      "9    14\n",
      "dtype: int64\n",
      "********************\n"
     ]
    },
    {
     "data": {
      "text/plain": [
       "0     True\n",
       "1     True\n",
       "2    False\n",
       "3    False\n",
       "4    False\n",
       "5    False\n",
       "6    False\n",
       "7    False\n",
       "8     True\n",
       "9     True\n",
       "dtype: bool"
      ]
     },
     "execution_count": 32,
     "metadata": {},
     "output_type": "execute_result"
    }
   ],
   "source": [
    "st = (pd.Series([10,20,-1,-2,-10,6,8,9,13,14]))\n",
    "print(st)\n",
    "print(\"*\"*20)\n",
    "\n",
    "st.between(10,20)"
   ]
  },
  {
   "cell_type": "markdown",
   "metadata": {},
   "source": [
    "# String functions "
   ]
  },
  {
   "cell_type": "code",
   "execution_count": null,
   "metadata": {},
   "outputs": [
    {
     "name": "stdout",
     "output_type": "stream",
     "text": [
      "0         Eshant Das\n",
      "1       Data Science\n",
      "2    Geeks for Geeks\n",
      "dtype: object\n",
      "********************\n",
      "0         ESHANT DAS\n",
      "1       DATA SCIENCE\n",
      "2    GEEKS FOR GEEKS\n",
      "dtype: object\n",
      "********************\n",
      "0         Eshant Das\n",
      "1       Data Science\n",
      "2    Geeks For Geeks\n",
      "dtype: object\n",
      "********************\n",
      "10\n",
      "12\n",
      "15\n",
      "********************\n",
      "0          [Eshant, Das]\n",
      "1        [Data, Science]\n",
      "2    [Geeks, for, Geeks]\n",
      "dtype: object\n",
      "********************\n",
      "['Eshant', 'Das']\n",
      "********************\n",
      "0     True\n",
      "1    False\n",
      "2    False\n",
      "dtype: bool\n",
      "********************\n",
      "0    1\n",
      "1    0\n",
      "2    0\n",
      "dtype: int64\n"
     ]
    }
   ],
   "source": [
    "st = (pd.Series([\"Eshant Das\" , \"Data Science\" , \"Geeks for Geeks\" ]))\n",
    "print(st)\n",
    "print(\"*\"*20)\n",
    "\n",
    "\n",
    "# all string functions available here \n",
    "\n",
    "#upper case \n",
    "print(st.str.upper())\n",
    "print(\"*\"*20)\n",
    "#title case \n",
    "print(st.str.title())\n",
    "print(\"*\"*20)\n",
    "#length\n",
    "for i in st:\n",
    "    print(len(i))\n",
    "\n",
    "print(\"*\"*20)\n",
    "\n",
    "print(st.str.split())\n",
    "print(\"*\"*20)\n",
    "print(st.str.split()[0])\n",
    "\n",
    "print(\"*\"*20)\n",
    "print(st.str.contains('Das'))\n",
    "# similarly for .replace function \n",
    "\n",
    "print(\"*\"*20)\n",
    "print(st.str.count('Das'))"
   ]
  },
  {
   "cell_type": "markdown",
   "metadata": {},
   "source": [
    "# convertin a series to list "
   ]
  },
  {
   "cell_type": "code",
   "execution_count": 44,
   "metadata": {},
   "outputs": [
    {
     "name": "stdout",
     "output_type": "stream",
     "text": [
      "0         Eshant Das\n",
      "1       Data Science\n",
      "2    Geeks for Geeks\n",
      "dtype: object\n",
      "******************************\n",
      "['Eshant Das', 'Data Science', 'Geeks for Geeks']\n"
     ]
    }
   ],
   "source": [
    "print(st)\n",
    "print(\"*\"*30)\n",
    "print(st.tolist())"
   ]
  },
  {
   "cell_type": "markdown",
   "metadata": {},
   "source": [
    "# DataFrame (2d instead of 1d like series)"
   ]
  },
  {
   "cell_type": "code",
   "execution_count": null,
   "metadata": {},
   "outputs": [
    {
     "name": "stdout",
     "output_type": "stream",
     "text": [
      "0       dsaf\n",
      "1    asdfasd\n",
      "2       adsf\n",
      "dtype: object\n",
      "******************************\n",
      "         0\n",
      "0     dsaf\n",
      "1  asdfasd\n",
      "2     adsf\n",
      "******************************\n",
      "secondgeek    Geek\n",
      "second         one\n",
      "dtype: object\n",
      "******************************\n",
      "               0\n",
      "secondgeek  Geek\n",
      "second       one\n",
      "******************************\n",
      "    name  age\n",
      "0    Tom   20\n",
      "1   nick   21\n",
      "2  krish   19\n",
      "3   jack   18\n",
      "******************************\n"
     ]
    },
    {
     "data": {
      "text/html": [
       "<div>\n",
       "<style scoped>\n",
       "    .dataframe tbody tr th:only-of-type {\n",
       "        vertical-align: middle;\n",
       "    }\n",
       "\n",
       "    .dataframe tbody tr th {\n",
       "        vertical-align: top;\n",
       "    }\n",
       "\n",
       "    .dataframe thead th {\n",
       "        text-align: right;\n",
       "    }\n",
       "</style>\n",
       "<table border=\"1\" class=\"dataframe\">\n",
       "  <thead>\n",
       "    <tr style=\"text-align: right;\">\n",
       "      <th></th>\n",
       "      <th>Name</th>\n",
       "      <th>Qualification</th>\n",
       "    </tr>\n",
       "  </thead>\n",
       "  <tbody>\n",
       "    <tr>\n",
       "      <th>0</th>\n",
       "      <td>Jai</td>\n",
       "      <td>Msc</td>\n",
       "    </tr>\n",
       "    <tr>\n",
       "      <th>1</th>\n",
       "      <td>Princi</td>\n",
       "      <td>MA</td>\n",
       "    </tr>\n",
       "    <tr>\n",
       "      <th>2</th>\n",
       "      <td>Gaurav</td>\n",
       "      <td>MCA</td>\n",
       "    </tr>\n",
       "    <tr>\n",
       "      <th>3</th>\n",
       "      <td>Anuj</td>\n",
       "      <td>Phd</td>\n",
       "    </tr>\n",
       "  </tbody>\n",
       "</table>\n",
       "</div>"
      ],
      "text/plain": [
       "     Name Qualification\n",
       "0     Jai           Msc\n",
       "1  Princi            MA\n",
       "2  Gaurav           MCA\n",
       "3    Anuj           Phd"
      ]
     },
     "execution_count": 157,
     "metadata": {},
     "output_type": "execute_result"
    }
   ],
   "source": [
    "sr1 = pd.Series([\"dsaf\",\"asdfasd\",\"adsf\"])\n",
    "print(sr1)\n",
    "print(\"*\"*30)\n",
    "print(pd.DataFrame(sr1))\n",
    "\n",
    "print(\"*\"*30)\n",
    "#               values          rowname\n",
    "sr1 = pd.Series(data=[\"Geek\",\"one\"],index= [\"secondgeek\",'second'])\n",
    "print(sr1)\n",
    "print(\"*\"*30)\n",
    "print(pd.DataFrame(sr1))\n",
    "\n",
    "\n",
    "print(\"*\"*30)\n",
    "\n",
    "\n",
    "data = {'name':['Tom', 'nick', 'krish', 'jack'], 'age':[20, 21, 19, 18]}\n",
    "print(pd.DataFrame(data))\n",
    "\n",
    "\n",
    "print(\"*\"*30)\n",
    "data = { 'Name'         :['Jai', 'Princi', 'Gaurav', 'Anuj'],\n",
    "         'Age'          :[27, 24, 22, 32],\n",
    "         'Address'      :['Delhi', 'Kanpur', 'Allahabad', 'Kannauj'],\n",
    "         'Qualification':['Msc', 'MA', 'MCA', 'Phd']}\n",
    "df = pd.DataFrame(data)\n",
    "df[['Name', 'Qualification']]\n",
    "\n",
    "\n",
    "\n"
   ]
  },
  {
   "cell_type": "markdown",
   "metadata": {},
   "source": [
    "# Slicing dataFrame"
   ]
  },
  {
   "cell_type": "code",
   "execution_count": 65,
   "metadata": {},
   "outputs": [
    {
     "name": "stdout",
     "output_type": "stream",
     "text": [
      "   one  two  three  four\n",
      "0    1   10    100  1000\n",
      "1    2   20    200  2000\n",
      "2    3   30    300  3000\n",
      "3    4   40    400  4000\n",
      "******************************\n",
      "   three  four\n",
      "0    100  1000\n",
      "1    200  2000\n",
      "2    300  3000\n",
      "******************************\n",
      "   two  three\n",
      "1   20    200\n"
     ]
    }
   ],
   "source": [
    "\n",
    "data = {'one'   : pd.Series([1, 2, 3, 4]),\n",
    "        'two'   : pd.Series([10, 20, 30, 40]),\n",
    "        'three' : pd.Series([100, 200, 300, 400]),\n",
    "        'four'  : pd.Series([1000, 2000, 3000, 4000])}\n",
    "\n",
    "df = pd.DataFrame(data)\n",
    "print(df)\n",
    "print(\"*\"*30)\n",
    "\n",
    "\n",
    "#loc function\n",
    "print(df.loc[0:2,'three':'four'])\n",
    "\n",
    "\n",
    "print(\"*\"*30)\n",
    "#iloc function \n",
    "#This method does not include the last element of the range passed in it unlike loc(). \n",
    " \n",
    "print(df.iloc[1:2,1:-1])\n",
    "\n",
    "\n",
    "\n",
    "\n",
    "\n",
    "\n"
   ]
  },
  {
   "cell_type": "markdown",
   "metadata": {},
   "source": [
    "# Slciing using data frames "
   ]
  },
  {
   "cell_type": "code",
   "execution_count": null,
   "metadata": {},
   "outputs": [
    {
     "name": "stdout",
     "output_type": "stream",
     "text": [
      "   one  two  three  four\n",
      "0    1   10    100  1000\n",
      "1    2   20    200  2000\n",
      "2    3   30    300  3000\n",
      "3    4   40    400  4000\n",
      "******************************\n",
      "   one  two  three  four\n",
      "2    3   30    300  3000\n",
      "3    4   40    400  4000\n",
      "******************************\n",
      "   one  two  three  four\n",
      "2    3   30    300  3000\n",
      "3    4   40    400  4000 ['three', 'four']\n",
      "******************************\n",
      "0    False\n",
      "1     True\n",
      "2     True\n",
      "3     True\n",
      "Name: two, dtype: bool\n"
     ]
    }
   ],
   "source": [
    "print(df)\n",
    "print(\"*\"*30)\n",
    "print(df[df['three'] > 200])\n",
    "\n",
    "print(\"*\"*30)\n",
    "print(df.loc[df['two'] > 20],['three','four'])\n",
    "\n",
    "\n",
    "\n",
    "print(\"*\"*30)\n",
    "print(df['two'] > 10 )\n",
    "\n",
    "\n"
   ]
  },
  {
   "cell_type": "markdown",
   "metadata": {},
   "source": [
    "# add a new colm"
   ]
  },
  {
   "cell_type": "code",
   "execution_count": 76,
   "metadata": {},
   "outputs": [
    {
     "name": "stdout",
     "output_type": "stream",
     "text": [
      "   one  two  three  four five  seven\n",
      "0    1   10    100  1000    k     10\n",
      "1    2   20    200  2000    j     20\n",
      "2    3   30    300  3000    h     30\n",
      "3    4   40    400  4000    g     40\n",
      "******************************\n",
      "   one  two  three  four five  seven\n",
      "0    1   10    100  1000    k     10\n",
      "1    2   20    200  2000    j     20\n",
      "2    3   30    300  3000    h     30\n",
      "3    4   40    400  4000    g     40\n",
      "******************************\n",
      "   one  two  three  four five  seven\n",
      "0    1   10    100  1000    k    100\n",
      "1    2   20    200  2000    j    200\n",
      "2    3   30    300  3000    h    300\n",
      "3    4   40    400  4000    g    400\n"
     ]
    }
   ],
   "source": [
    "print(df)\n",
    "\n",
    "l = ['k','j','h','g']\n",
    "df['five'] = l \n",
    "\n",
    "print(\"*\"*30)\n",
    "print(df )\n",
    "\n",
    "print(\"*\"*30)\n",
    "df['seven'] = df['one'] * 100\n",
    "\n",
    "print(df)"
   ]
  },
  {
   "cell_type": "markdown",
   "metadata": {},
   "source": [
    " # Delete\n",
    " "
   ]
  },
  {
   "cell_type": "code",
   "execution_count": 77,
   "metadata": {},
   "outputs": [
    {
     "name": "stdout",
     "output_type": "stream",
     "text": [
      "   one  two  three  four five  seven\n",
      "0    1   10    100  1000    k    100\n",
      "1    2   20    200  2000    j    200\n",
      "2    3   30    300  3000    h    300\n",
      "3    4   40    400  4000    g    400\n",
      "******************************\n",
      "   one  two  three  four five\n",
      "0    1   10    100  1000    k\n",
      "1    2   20    200  2000    j\n",
      "2    3   30    300  3000    h\n",
      "3    4   40    400  4000    g\n"
     ]
    }
   ],
   "source": [
    "print(df)\n",
    "print(\"*\"*30)\n",
    "del df['seven']\n",
    "# df.pop('seven')\n",
    "print(df)"
   ]
  },
  {
   "cell_type": "markdown",
   "metadata": {},
   "source": [
    "# Add new rows"
   ]
  },
  {
   "cell_type": "code",
   "execution_count": 83,
   "metadata": {},
   "outputs": [
    {
     "name": "stdout",
     "output_type": "stream",
     "text": [
      "df1:\n",
      "   a  b\n",
      "0  1  2\n",
      "1  3  4\n",
      "******************************\n",
      "df2:\n",
      "   a  b\n",
      "0  5  6\n",
      "1  7  8\n",
      "******************************\n",
      "After appending and resetting index:\n",
      "   a  b\n",
      "0  1  2\n",
      "1  3  4\n",
      "2  5  6\n",
      "3  7  8\n"
     ]
    }
   ],
   "source": [
    " \n",
    "# Create the DataFrames\n",
    "df1 = pd.DataFrame([[1, 2], [3, 4]], columns=['a', 'b'])\n",
    "df2 = pd.DataFrame([[5, 6], [7, 8]], columns=['a', 'b'])\n",
    "\n",
    "# Print the DataFrames before appending\n",
    "print(\"df1:\")\n",
    "print(df1)\n",
    "print(\"*\" * 30)\n",
    "\n",
    "print(\"df2:\")\n",
    "print(df2)\n",
    "print(\"*\" * 30)\n",
    "\n",
    "# Append df2 to df1 and reset index\n",
    "result = pd.concat([df1, df2], ignore_index=True)\n",
    "# Print the result\n",
    "print(\"After appending and resetting index:\")\n",
    "print(result)\n"
   ]
  },
  {
   "cell_type": "markdown",
   "metadata": {},
   "source": [
    "# Drop function "
   ]
  },
  {
   "cell_type": "code",
   "execution_count": 88,
   "metadata": {},
   "outputs": [
    {
     "name": "stdout",
     "output_type": "stream",
     "text": [
      "   one  two  three  four\n",
      "0    1   10    100  1000\n",
      "1    2   20    200  2000\n",
      "2    3   30    300  3000\n",
      "3    4   40    400  4000\n",
      "******************************\n",
      "   one  two  three  four\n",
      "2    3   30    300  3000\n",
      "3    4   40    400  4000\n",
      "Transpose of a Matrix\n",
      "          2     3\n",
      "one       3     4\n",
      "two      30    40\n",
      "three   300   400\n",
      "four   3000  4000\n"
     ]
    }
   ],
   "source": [
    "data = {'one'   : pd.Series([1, 2, 3, 4]),\n",
    "        'two'   : pd.Series([10, 20, 30, 40]),\n",
    "        'three' : pd.Series([100, 200, 300, 400]),\n",
    "        'four'  : pd.Series([1000, 2000, 3000, 4000])}\n",
    "\n",
    "df = pd.DataFrame(data)\n",
    "print(df)\n",
    "print(\"*\"*30)\n",
    "\n",
    "# axis - 0 for rows \n",
    "df.drop([0,1],axis=0,inplace= True)\n",
    "\n",
    "print(df)\n",
    "\n",
    "print(\"Transpose of a Matrix\")\n",
    "\n",
    "print(df.T)"
   ]
  },
  {
   "cell_type": "markdown",
   "metadata": {},
   "source": [
    "# More functionalities \n"
   ]
  },
  {
   "cell_type": "code",
   "execution_count": 95,
   "metadata": {},
   "outputs": [
    {
     "name": "stdout",
     "output_type": "stream",
     "text": [
      "[RangeIndex(start=2, stop=4, step=1), Index(['one', 'two', 'three', 'four'], dtype='object')]\n",
      "**********\n",
      "2\n",
      "**********\n",
      "one      int64\n",
      "two      int64\n",
      "three    int64\n",
      "four     int64\n",
      "dtype: object\n",
      "**********\n",
      "(2, 4)\n",
      "**********\n",
      "   one  two  three  four\n",
      "2    3   30    300  3000\n",
      "3    4   40    400  4000\n",
      "**********\n",
      "   one  two  three  four\n",
      "2    3   30    300  3000\n",
      "3    4   40    400  4000\n",
      "**********\n",
      "False\n"
     ]
    }
   ],
   "source": [
    "print(df.axes)\n",
    "print(\"*\"*10)\n",
    "print(df.ndim)\n",
    "print(\"*\"*10)\n",
    "print(df.dtypes)\n",
    "print(\"*\"*10)\n",
    "print(df.shape)\n",
    "print(\"*\"*10)\n",
    "print(df.head()) # prints only the first 5 rows by default\n",
    "print(\"*\"*10)\n",
    "print(df.tail()) # prints only the last 5 rows by default\n",
    "print(\"*\"*10)\n",
    "\n",
    "print(df.empty)"
   ]
  },
  {
   "cell_type": "markdown",
   "metadata": {},
   "source": [
    "# Mathematical Functions "
   ]
  },
  {
   "cell_type": "code",
   "execution_count": 105,
   "metadata": {},
   "outputs": [
    {
     "name": "stdout",
     "output_type": "stream",
     "text": [
      "   one  two  three  four\n",
      "0    1   10    100  1000\n",
      "1    2   20    200  2000\n",
      "2    3   30    300  3000\n",
      "3    4   40    400  4000\n",
      "******************************\n",
      "one         10\n",
      "two        100\n",
      "three     1000\n",
      "four     10000\n",
      "dtype: int64\n",
      "******************************\n",
      "one         2.5\n",
      "two        25.0\n",
      "three     250.0\n",
      "four     2500.0\n",
      "dtype: float64\n",
      "******************************\n",
      "   one  two  three  four\n",
      "0    1   10    100  1000\n",
      "1    2   20    200  2000\n",
      "2    3   30    300  3000\n",
      "3    4   40    400  4000\n",
      "******************************\n",
      "2.5\n",
      "******************************\n",
      "1\n",
      "******************************\n",
      "4\n",
      "******************************\n",
      "1.6666666666666667\n",
      "******************************\n",
      "1.2909944487358056\n",
      "******************************\n"
     ]
    }
   ],
   "source": [
    "data = {'one'   : pd.Series([1, 2, 3, 4]),\n",
    "        'two'   : pd.Series([10, 20, 30, 40]),\n",
    "        'three' : pd.Series([100, 200, 300, 400]),\n",
    "        'four'  : pd.Series([1000, 2000, 3000, 4000])}\n",
    "\n",
    "df = pd.DataFrame(data)\n",
    "print(df)\n",
    "print(\"*\"*30)\n",
    "\n",
    "print(df.sum())\n",
    "print(\"*\"*30) \n",
    "\n",
    "print(df.mean()) # of col \n",
    "print(\"*\"*30)\n",
    "\n",
    "print(df.mode()) \n",
    "print(\"*\"*30)\n",
    "\n",
    "\n",
    "print(df['one'].mean())\n",
    "print(\"*\"*30)\n",
    "\n",
    "\n",
    "print(df['one'].min())\n",
    "print(\"*\"*30)\n",
    "\n",
    "print(df['one'].max())\n",
    "print(\"*\"*30)\n",
    "\n",
    "print(df['one'].var())\n",
    "print(\"*\"*30)\n",
    "\n",
    "print(df['one'].std())\n",
    "print(\"*\"*30)"
   ]
  },
  {
   "cell_type": "markdown",
   "metadata": {},
   "source": [
    "# Describe Function"
   ]
  },
  {
   "cell_type": "code",
   "execution_count": 116,
   "metadata": {},
   "outputs": [
    {
     "name": "stdout",
     "output_type": "stream",
     "text": [
      "   one  two  three  four\n",
      "0    1   10    100  1000\n",
      "1    2   20    200  2000\n",
      "2    3   30    300  3000\n",
      "3    4   40    400  4000\n",
      "******************************\n",
      "            one        two       three         four\n",
      "count  4.000000   4.000000    4.000000     4.000000\n",
      "mean   2.500000  25.000000  250.000000  2500.000000\n",
      "std    1.290994  12.909944  129.099445  1290.994449\n",
      "min    1.000000  10.000000  100.000000  1000.000000\n",
      "25%    1.750000  17.500000  175.000000  1750.000000\n",
      "50%    2.500000  25.000000  250.000000  2500.000000\n",
      "75%    3.250000  32.500000  325.000000  3250.000000\n",
      "max    4.000000  40.000000  400.000000  4000.000000\n",
      "******************************\n"
     ]
    }
   ],
   "source": [
    "data = {'one'   : pd.Series([1, 2, 3, 4]),\n",
    "        'two'   : pd.Series([10, 20, 30, 40]),\n",
    "        'three' : pd.Series([100, 200, 300, 400]),\n",
    "        'four'  : pd.Series([1000, 2000, 3000, 4000])}\n",
    "\n",
    "df = pd.DataFrame(data)\n",
    "print(df)\n",
    "print(\"*\"*30)\n",
    "print(df.describe())\n",
    "print(\"*\"*30)\n",
    " "
   ]
  },
  {
   "cell_type": "markdown",
   "metadata": {},
   "source": [
    "# Pipe Function"
   ]
  },
  {
   "cell_type": "code",
   "execution_count": 121,
   "metadata": {},
   "outputs": [
    {
     "name": "stdout",
     "output_type": "stream",
     "text": [
      "   one  two  three  four\n",
      "0    1   10    100  1000\n",
      "1    2   20    200  2000\n",
      "2    3   30    300  3000\n",
      "3    4   40    400  4000\n",
      "******************************\n",
      "   one  two  three  four\n",
      "0   11   20    110  1010\n",
      "1   12   30    210  2010\n",
      "2   13   40    310  3010\n",
      "3   14   50    410  4010\n",
      "******************************\n"
     ]
    },
    {
     "data": {
      "text/plain": [
       "one            6.25\n",
       "two          625.00\n",
       "three      62500.00\n",
       "four     6250000.00\n",
       "dtype: float64"
      ]
     },
     "execution_count": 121,
     "metadata": {},
     "output_type": "execute_result"
    }
   ],
   "source": [
    "data = {'one'   : pd.Series([1, 2, 3, 4]),\n",
    "        'two'   : pd.Series([10, 20, 30, 40]),\n",
    "        'three' : pd.Series([100, 200, 300, 400]),\n",
    "        'four'  : pd.Series([1000, 2000, 3000, 4000])}\n",
    "\n",
    "df = pd.DataFrame(data)\n",
    "print(df)\n",
    "print(\"*\"*30) \n",
    "\n",
    "def add_func(i,j) :\n",
    "    return i+j\n",
    "\n",
    "# by default it will take value as one arg ,pass other one\n",
    "print(df.pipe(add_func,10))\n",
    "print(\"*\"*30)\n",
    " \n",
    "# to find the mean square \n",
    "#in pippe function the value passes by default \n",
    "\n",
    "def mean_(col):\n",
    "    return col.mean()\n",
    "\n",
    "def square(i):\n",
    "    return i ** 2\n",
    "\n",
    "df.pipe(mean_).pipe(square)\n",
    "\n"
   ]
  },
  {
   "cell_type": "markdown",
   "metadata": {},
   "source": [
    "# Apply Function"
   ]
  },
  {
   "cell_type": "code",
   "execution_count": 129,
   "metadata": {},
   "outputs": [
    {
     "name": "stdout",
     "output_type": "stream",
     "text": [
      "   one  two  three  four\n",
      "0    1   10    100  1000\n",
      "1    2   20    200  2000\n",
      "2    3   30    300  3000\n",
      "3    4   40    400  4000\n",
      "******************************\n",
      "one         2.5\n",
      "two        25.0\n",
      "three     250.0\n",
      "four     2500.0\n",
      "dtype: float64\n",
      "******************************\n",
      "one         3\n",
      "two        30\n",
      "three     300\n",
      "four     3000\n",
      "dtype: int64\n"
     ]
    }
   ],
   "source": [
    "import numpy as np\n",
    "data = {'one'   : pd.Series([1, 2, 3, 4]),\n",
    "        'two'   : pd.Series([10, 20, 30, 40]),\n",
    "        'three' : pd.Series([100, 200, 300, 400]),\n",
    "        'four'  : pd.Series([1000, 2000, 3000, 4000])}\n",
    "\n",
    "df = pd.DataFrame(data)\n",
    "print(df)\n",
    "print(\"*\"*30) \n",
    "\n",
    "print(df.apply(np.mean)) \n",
    "print(\"*\"*30) \n",
    "\n",
    "print( df.apply(lambda x : x.max() - x.min()))\n"
   ]
  },
  {
   "cell_type": "markdown",
   "metadata": {},
   "source": [
    "# apply map function"
   ]
  },
  {
   "cell_type": "code",
   "execution_count": 134,
   "metadata": {},
   "outputs": [
    {
     "name": "stdout",
     "output_type": "stream",
     "text": [
      "   one  two  three  four\n",
      "0    1   10    100  1000\n",
      "1    2   20    200  2000\n",
      "2    3   30    300  3000\n",
      "3    4   40    400  4000\n",
      "******************************\n",
      "    one   two  three  four\n",
      "0  1000  1009   1099  1999\n",
      "1  1001  1019   1199  2999\n",
      "2  1002  1029   1299  3999\n",
      "3  1003  1039   1399  4999\n"
     ]
    },
    {
     "name": "stderr",
     "output_type": "stream",
     "text": [
      "C:\\Users\\aspha\\AppData\\Local\\Temp\\ipykernel_4600\\8178636.py:13: FutureWarning: DataFrame.applymap has been deprecated. Use DataFrame.map instead.\n",
      "  print(df.applymap(lambda x : x+999))\n"
     ]
    }
   ],
   "source": [
    "# difference is that apply can be used for row or cloumn wise too \n",
    "#  but apply map on all values \n",
    " \n",
    "data = {'one'   : pd.Series([1, 2, 3, 4]),\n",
    "        'two'   : pd.Series([10, 20, 30, 40]),\n",
    "        'three' : pd.Series([100, 200, 300, 400]),\n",
    "        'four'  : pd.Series([1000, 2000, 3000, 4000])}\n",
    "\n",
    "df = pd.DataFrame(data)\n",
    "print(df)\n",
    "print(\"*\"*30) \n",
    "\n",
    "print(df.applymap(lambda x : x+999)) "
   ]
  },
  {
   "cell_type": "code",
   "execution_count": 137,
   "metadata": {},
   "outputs": [
    {
     "name": "stdout",
     "output_type": "stream",
     "text": [
      "   one  two  three  four\n",
      "0    1   10    100  1000\n",
      "1    2   20    200  2000\n",
      "2    3   30    300  3000\n",
      "3    4   40    400  4000\n",
      "******************************\n",
      "0     277.75\n",
      "1     555.50\n",
      "2     833.25\n",
      "3    1111.00\n",
      "dtype: float64\n"
     ]
    }
   ],
   "source": [
    "data = {'one'   : pd.Series([1, 2, 3, 4]),\n",
    "        'two'   : pd.Series([10, 20, 30, 40]),\n",
    "        'three' : pd.Series([100, 200, 300, 400]),\n",
    "        'four'  : pd.Series([1000, 2000, 3000, 4000])}\n",
    "\n",
    "df = pd.DataFrame(data)\n",
    "print(df)\n",
    "print(\"*\"*30)\n",
    "\n",
    "# applied to each colm \n",
    "print(df.apply(lambda x : x.mean(),axis=1)) # all rows\n"
   ]
  },
  {
   "cell_type": "markdown",
   "metadata": {},
   "source": [
    "# Reindex + ReNaming function"
   ]
  },
  {
   "cell_type": "code",
   "execution_count": null,
   "metadata": {},
   "outputs": [
    {
     "name": "stdout",
     "output_type": "stream",
     "text": [
      "   one  two  three  four\n",
      "0    1   10    100  1000\n",
      "1    2   20    200  2000\n",
      "2    3   30    300  3000\n",
      "3    4   40    400  4000\n",
      "******************************\n",
      "   one  two  three  four\n",
      "1    2   20    200  2000\n",
      "0    1   10    100  1000\n",
      "2    3   30    300  3000\n",
      "3    4   40    400  4000\n",
      "   two  one  three  four\n",
      "0   10    1    100  1000\n",
      "1   20    2    200  2000\n",
      "2   30    3    300  3000\n",
      "3   40    4    400  4000\n",
      "******************************\n",
      "Renaming cols \n",
      "   ONE  TWO  three  four\n",
      "0    1   10    100  1000\n",
      "1    2   20    200  2000\n",
      "2    3   30    300  3000\n",
      "3    4   40    400  4000\n"
     ]
    }
   ],
   "source": [
    "data = {'one'   : pd.Series([1, 2, 3, 4]),\n",
    "        'two'   : pd.Series([10, 20, 30, 40]),\n",
    "        'three' : pd.Series([100, 200, 300, 400]),\n",
    "        'four'  : pd.Series([1000, 2000, 3000, 4000])}\n",
    "\n",
    "df = pd.DataFrame(data)\n",
    "print(df)\n",
    "print(\"*\"*30)\n",
    "\n",
    "# by default rows are selected\n",
    "print(df.reindex( [1,0,2,3]))\n",
    "\n",
    "# columns \n",
    "print(df.reindex(columns= [\"two\",\"one\",\"three\",\"four\" ]))\n",
    " \n",
    "\n",
    "print(\"*\"*30)\n",
    "\n",
    "\n",
    "print(\"Renaming cols \")\n",
    "\n",
    "print(df.rename(columns={\"one\":\"ONE\" , \"two\":\"TWO\"}))\n",
    "\n",
    "\n"
   ]
  },
  {
   "cell_type": "markdown",
   "metadata": {},
   "source": [
    "# Sorting in pandas dataframe"
   ]
  },
  {
   "cell_type": "code",
   "execution_count": 152,
   "metadata": {},
   "outputs": [
    {
     "name": "stdout",
     "output_type": "stream",
     "text": [
      "   one  two  three  four\n",
      "0   19   10    100  1000\n",
      "1   27   20    200  2000\n",
      "2   53   30    300  3000\n",
      "3   34   40    400  4000\n",
      "******************************\n",
      "   one  two  three  four\n",
      "2   53   30    300  3000\n",
      "3   34   40    400  4000\n",
      "1   27   20    200  2000\n",
      "0   19   10    100  1000\n"
     ]
    }
   ],
   "source": [
    "data = {'one'   : pd.Series([19, 27, 53, 34]),\n",
    "        'two'   : pd.Series([10, 20, 30, 40]),\n",
    "        'three' : pd.Series([100, 200, 300, 400]),\n",
    "        'four'  : pd.Series([1000, 2000, 3000, 4000])}\n",
    "\n",
    "df = pd.DataFrame(data)\n",
    "print(df)\n",
    "print(\"*\"*30)\n",
    "\n",
    "\n",
    "print(df.sort_values(by='one',ascending=False,kind='mergesort'))\n",
    "\n"
   ]
  },
  {
   "cell_type": "markdown",
   "metadata": {},
   "source": [
    "# Group Functioncs"
   ]
  },
  {
   "cell_type": "code",
   "execution_count": 176,
   "metadata": {},
   "outputs": [
    {
     "name": "stdout",
     "output_type": "stream",
     "text": [
      "         Team  Rank  Year  Points\n",
      "0       India     2  2014     876\n",
      "1       India     3  2015     801\n",
      "2   Australia     1  2014     891\n",
      "3   Australia     2  2015     815\n",
      "4          SA     3  2014     776\n",
      "5          SA     4  2015     784\n",
      "6          SA     1  2016     834\n",
      "7          SA     1  2017     824\n",
      "8          NZ     2  2016     758\n",
      "9          NZ     4  2014     691\n",
      "10         NZ     1  2015     883\n",
      "11      India     2  2017     782\n",
      "******************************\n",
      "{'Australia': [2, 3], 'India': [0, 1, 11], 'NZ': [8, 9, 10], 'SA': [4, 5, 6, 7]}\n",
      "******************************\n",
      "        Team  Rank  Year  Points\n",
      "2  Australia     1  2014     891\n",
      "******************************\n",
      "<pandas.core.groupby.generic.DataFrameGroupBy object at 0x00000182F9B0BD70>\n",
      "******************************\n",
      "Team\n",
      "Australia    1706\n",
      "India        2459\n",
      "NZ           2332\n",
      "SA           3218\n",
      "Name: Points, dtype: int64\n",
      "******************************\n",
      "         Team  Rank  Year  Points\n",
      "2   Australia     1  2014     891\n",
      "3   Australia     2  2015     815\n",
      "0       India     2  2014     876\n",
      "1       India     3  2015     801\n",
      "11      India     2  2017     782\n",
      "8          NZ     2  2016     758\n",
      "9          NZ     4  2014     691\n",
      "10         NZ     1  2015     883\n",
      "4          SA     3  2014     776\n",
      "5          SA     4  2015     784\n",
      "6          SA     1  2016     834\n",
      "7          SA     1  2017     824\n",
      "******************************\n",
      "            sum        mean\n",
      "Team                       \n",
      "Australia  1706  853.000000\n",
      "India      2459  819.666667\n",
      "NZ         2332  777.333333\n",
      "SA         3218  804.500000\n",
      "******************************\n"
     ]
    },
    {
     "name": "stderr",
     "output_type": "stream",
     "text": [
      "C:\\Users\\aspha\\AppData\\Local\\Temp\\ipykernel_4600\\274273043.py:33: FutureWarning: The provided callable <function sum at 0x00000182F6F3CE00> is currently using SeriesGroupBy.sum. In a future version of pandas, the provided callable will be used directly. To keep current behavior pass the string \"sum\" instead.\n",
      "  print(groups['Points'].agg([np.sum,np.mean]))\n",
      "C:\\Users\\aspha\\AppData\\Local\\Temp\\ipykernel_4600\\274273043.py:33: FutureWarning: The provided callable <function mean at 0x00000182F6F3E200> is currently using SeriesGroupBy.mean. In a future version of pandas, the provided callable will be used directly. To keep current behavior pass the string \"mean\" instead.\n",
      "  print(groups['Points'].agg([np.sum,np.mean]))\n"
     ]
    }
   ],
   "source": [
    "cricket = {'Team'   : ['India', 'India', 'Australia', 'Australia', 'SA', 'SA', 'SA', 'SA', 'NZ', 'NZ', 'NZ', 'India'],\n",
    "           'Rank'   : [2, 3, 1,2, 3,4 ,1 ,1,2 , 4,1,2],\n",
    "           'Year'   : [2014,2015,2014,2015,2014,2015,2016,2017,2016,2014,2015,2017],\n",
    "           'Points' : [876,801,891,815,776,784,834,824,758,691,883,782]}\n",
    "\n",
    "df = pd.DataFrame(cricket)\n",
    "print(df)\n",
    "print(\"*\"*30)\n",
    "\n",
    "\n",
    "print(df.groupby('Team').groups) # it will group all by params \n",
    "\n",
    "\n",
    "print(\"*\"*30)\n",
    "\n",
    "#  now searching based on groups \n",
    "print(df.groupby(['Team','Year']).get_group(('Australia',2014)))\n",
    "\n",
    "\n",
    "print(\"*\"*30)\n",
    "\n",
    "print(df.groupby('Team'))\n",
    "print(\"*\"*30)\n",
    "\n",
    "print(df.groupby('Team').sum()['Points'])\n",
    "print(\"*\"*30)\n",
    "\n",
    "# sorting based on points \n",
    "print(df.sort_values(by='Team', ascending=True))\n",
    "print(\"*\"*30)\n",
    "\n",
    "groups = df.groupby(\"Team\")\n",
    "print(groups['Points'].agg([np.sum,np.mean]))\n",
    "\n",
    "print(\"*\"*30)\n",
    "\n"
   ]
  },
  {
   "cell_type": "code",
   "execution_count": 179,
   "metadata": {},
   "outputs": [
    {
     "name": "stdout",
     "output_type": "stream",
     "text": [
      "         Team  Rank  Year  Points\n",
      "0       India     2  2014     876\n",
      "1       India     3  2015     801\n",
      "2   Australia     1  2014     891\n",
      "3   Australia     2  2015     815\n",
      "4          SA     3  2014     776\n",
      "5          SA     4  2015     784\n",
      "6          SA     1  2016     834\n",
      "7          SA     1  2017     824\n",
      "8          NZ     2  2016     758\n",
      "9          NZ     4  2014     691\n",
      "10         NZ     1  2015     883\n",
      "11      India     2  2017     782\n",
      "******************************\n",
      "  Team  Rank  Year  Points\n",
      "4   SA     3  2014     776\n",
      "5   SA     4  2015     784\n",
      "6   SA     1  2016     834\n",
      "7   SA     1  2017     824\n"
     ]
    }
   ],
   "source": [
    "print(df)\n",
    "print(\"*\"*30)\n",
    "\n",
    "print(df.groupby(\"Team\").filter(lambda x: len(x) ==4))"
   ]
  },
  {
   "cell_type": "markdown",
   "metadata": {},
   "source": [
    "# Working with .CSV Files \n"
   ]
  },
  {
   "cell_type": "code",
   "execution_count": 187,
   "metadata": {},
   "outputs": [
    {
     "name": "stdout",
     "output_type": "stream",
     "text": [
      "  Country   League   Club       Player Names  Matches_Played  Substitution   \\\n",
      "0   Spain  La Liga  (BET)    Juanmi Callejon              19             16   \n",
      "1   Spain  La Liga  (BAR)  Antoine Griezmann              36              0   \n",
      "2   Spain  La Liga  (ATL)        Luis Suarez              34              1   \n",
      "3   Spain  La Liga  (CAR)       Ruben Castro              32              3   \n",
      "4   Spain  La Liga  (VAL)      Kevin Gameiro              21             10   \n",
      "\n",
      "   Mins  Goals     xG  xG Per Avg Match  Shots  OnTarget  Shots Per Avg Match  \\\n",
      "0  1849     11   6.62              0.34     48        20                 2.47   \n",
      "1  3129     16  11.86              0.36     88        41                 2.67   \n",
      "2  2940     28  23.21              0.75    120        57                 3.88   \n",
      "3  2842     13  14.06              0.47    117        42                 3.91   \n",
      "4  1745     13  10.65              0.58     50        23                 2.72   \n",
      "\n",
      "   On Target Per Avg Match  Year  \n",
      "0                     1.03  2016  \n",
      "1                     1.24  2016  \n",
      "2                     1.84  2016  \n",
      "3                     1.40  2016  \n",
      "4                     1.25  2016  \n"
     ]
    }
   ],
   "source": [
    "df = pd.read_csv('Football.csv')\n",
    "print(df.head())"
   ]
  },
  {
   "cell_type": "code",
   "execution_count": 188,
   "metadata": {},
   "outputs": [
    {
     "name": "stdout",
     "output_type": "stream",
     "text": [
      "<class 'pandas.core.frame.DataFrame'>\n",
      "RangeIndex: 660 entries, 0 to 659\n",
      "Data columns (total 15 columns):\n",
      " #   Column                   Non-Null Count  Dtype  \n",
      "---  ------                   --------------  -----  \n",
      " 0   Country                  660 non-null    object \n",
      " 1   League                   660 non-null    object \n",
      " 2   Club                     626 non-null    object \n",
      " 3   Player Names             660 non-null    object \n",
      " 4   Matches_Played           660 non-null    int64  \n",
      " 5   Substitution             660 non-null    int64  \n",
      " 6   Mins                     660 non-null    int64  \n",
      " 7   Goals                    660 non-null    int64  \n",
      " 8   xG                       660 non-null    float64\n",
      " 9   xG Per Avg Match         660 non-null    float64\n",
      " 10  Shots                    660 non-null    int64  \n",
      " 11  OnTarget                 660 non-null    int64  \n",
      " 12  Shots Per Avg Match      660 non-null    float64\n",
      " 13  On Target Per Avg Match  660 non-null    float64\n",
      " 14  Year                     660 non-null    int64  \n",
      "dtypes: float64(4), int64(7), object(4)\n",
      "memory usage: 77.5+ KB\n",
      "None\n"
     ]
    }
   ],
   "source": [
    "print(df.info())"
   ]
  },
  {
   "cell_type": "code",
   "execution_count": 189,
   "metadata": {},
   "outputs": [
    {
     "name": "stdout",
     "output_type": "stream",
     "text": [
      "     Country  League   Club  Player Names  Matches_Played  Substitution   \\\n",
      "0      False   False  False         False           False          False   \n",
      "1      False   False  False         False           False          False   \n",
      "2      False   False  False         False           False          False   \n",
      "3      False   False  False         False           False          False   \n",
      "4      False   False  False         False           False          False   \n",
      "..       ...     ...    ...           ...             ...            ...   \n",
      "655    False   False  False         False           False          False   \n",
      "656    False   False  False         False           False          False   \n",
      "657    False   False  False         False           False          False   \n",
      "658    False   False   True         False           False          False   \n",
      "659    False   False  False         False           False          False   \n",
      "\n",
      "      Mins  Goals     xG  xG Per Avg Match  Shots  OnTarget  \\\n",
      "0    False  False  False             False  False     False   \n",
      "1    False  False  False             False  False     False   \n",
      "2    False  False  False             False  False     False   \n",
      "3    False  False  False             False  False     False   \n",
      "4    False  False  False             False  False     False   \n",
      "..     ...    ...    ...               ...    ...       ...   \n",
      "655  False  False  False             False  False     False   \n",
      "656  False  False  False             False  False     False   \n",
      "657  False  False  False             False  False     False   \n",
      "658  False  False  False             False  False     False   \n",
      "659  False  False  False             False  False     False   \n",
      "\n",
      "     Shots Per Avg Match  On Target Per Avg Match   Year  \n",
      "0                  False                    False  False  \n",
      "1                  False                    False  False  \n",
      "2                  False                    False  False  \n",
      "3                  False                    False  False  \n",
      "4                  False                    False  False  \n",
      "..                   ...                      ...    ...  \n",
      "655                False                    False  False  \n",
      "656                False                    False  False  \n",
      "657                False                    False  False  \n",
      "658                False                    False  False  \n",
      "659                False                    False  False  \n",
      "\n",
      "[660 rows x 15 columns]\n"
     ]
    }
   ],
   "source": [
    "print(df.isnull())"
   ]
  },
  {
   "cell_type": "code",
   "execution_count": 190,
   "metadata": {},
   "outputs": [
    {
     "name": "stdout",
     "output_type": "stream",
     "text": [
      "Country                     0\n",
      "League                      0\n",
      "Club                       34\n",
      "Player Names                0\n",
      "Matches_Played              0\n",
      "Substitution                0\n",
      "Mins                        0\n",
      "Goals                       0\n",
      "xG                          0\n",
      "xG Per Avg Match            0\n",
      "Shots                       0\n",
      "OnTarget                    0\n",
      "Shots Per Avg Match         0\n",
      "On Target Per Avg Match     0\n",
      "Year                        0\n",
      "dtype: int64\n"
     ]
    }
   ],
   "source": [
    "print(df.isnull().sum())"
   ]
  },
  {
   "cell_type": "code",
   "execution_count": 191,
   "metadata": {},
   "outputs": [
    {
     "name": "stdout",
     "output_type": "stream",
     "text": [
      "3520.0199999999995\n"
     ]
    }
   ],
   "source": [
    "print(df['Mins'].quantile(.99)) #which is the value below which 99% of the data in the Mins column falls."
   ]
  },
  {
   "cell_type": "code",
   "execution_count": 197,
   "metadata": {},
   "outputs": [
    {
     "data": {
      "text/html": [
       "<div>\n",
       "<style scoped>\n",
       "    .dataframe tbody tr th:only-of-type {\n",
       "        vertical-align: middle;\n",
       "    }\n",
       "\n",
       "    .dataframe tbody tr th {\n",
       "        vertical-align: top;\n",
       "    }\n",
       "\n",
       "    .dataframe thead th {\n",
       "        text-align: right;\n",
       "    }\n",
       "</style>\n",
       "<table border=\"1\" class=\"dataframe\">\n",
       "  <thead>\n",
       "    <tr style=\"text-align: right;\">\n",
       "      <th></th>\n",
       "      <th>Country</th>\n",
       "      <th>League</th>\n",
       "      <th>Club</th>\n",
       "      <th>Player Names</th>\n",
       "      <th>Matches_Played</th>\n",
       "      <th>Substitution</th>\n",
       "      <th>Mins</th>\n",
       "      <th>Goals</th>\n",
       "      <th>xG</th>\n",
       "      <th>xG Per Avg Match</th>\n",
       "      <th>Shots</th>\n",
       "      <th>OnTarget</th>\n",
       "      <th>Shots Per Avg Match</th>\n",
       "      <th>On Target Per Avg Match</th>\n",
       "      <th>Year</th>\n",
       "      <th>YEAR+==100</th>\n",
       "    </tr>\n",
       "  </thead>\n",
       "  <tbody>\n",
       "    <tr>\n",
       "      <th>0</th>\n",
       "      <td>Spain</td>\n",
       "      <td>La Liga</td>\n",
       "      <td>(BET)</td>\n",
       "      <td>Juanmi Callejon</td>\n",
       "      <td>19</td>\n",
       "      <td>16</td>\n",
       "      <td>1849</td>\n",
       "      <td>11</td>\n",
       "      <td>6.62</td>\n",
       "      <td>0.34</td>\n",
       "      <td>48</td>\n",
       "      <td>20</td>\n",
       "      <td>2.47</td>\n",
       "      <td>1.03</td>\n",
       "      <td>2016</td>\n",
       "      <td>2116</td>\n",
       "    </tr>\n",
       "    <tr>\n",
       "      <th>1</th>\n",
       "      <td>Spain</td>\n",
       "      <td>La Liga</td>\n",
       "      <td>(BAR)</td>\n",
       "      <td>Antoine Griezmann</td>\n",
       "      <td>36</td>\n",
       "      <td>0</td>\n",
       "      <td>3129</td>\n",
       "      <td>16</td>\n",
       "      <td>11.86</td>\n",
       "      <td>0.36</td>\n",
       "      <td>88</td>\n",
       "      <td>41</td>\n",
       "      <td>2.67</td>\n",
       "      <td>1.24</td>\n",
       "      <td>2016</td>\n",
       "      <td>2116</td>\n",
       "    </tr>\n",
       "  </tbody>\n",
       "</table>\n",
       "</div>"
      ],
      "text/plain": [
       "  Country   League   Club       Player Names  Matches_Played  Substitution   \\\n",
       "0   Spain  La Liga  (BET)    Juanmi Callejon              19             16   \n",
       "1   Spain  La Liga  (BAR)  Antoine Griezmann              36              0   \n",
       "\n",
       "   Mins  Goals     xG  xG Per Avg Match  Shots  OnTarget  Shots Per Avg Match  \\\n",
       "0  1849     11   6.62              0.34     48        20                 2.47   \n",
       "1  3129     16  11.86              0.36     88        41                 2.67   \n",
       "\n",
       "   On Target Per Avg Match  Year  YEAR+==100  \n",
       "0                     1.03  2016        2116  \n",
       "1                     1.24  2016        2116  "
      ]
     },
     "execution_count": 197,
     "metadata": {},
     "output_type": "execute_result"
    }
   ],
   "source": [
    "de =  df.copy()\n",
    "de.head(3)\n",
    "\n",
    "de['YEAR+==100'] = de['Year'] + 100 \n",
    "de.head(2)"
   ]
  },
  {
   "cell_type": "markdown",
   "metadata": {},
   "source": [
    "# value counts functinon"
   ]
  },
  {
   "cell_type": "code",
   "execution_count": 198,
   "metadata": {},
   "outputs": [
    {
     "data": {
      "text/plain": [
       "Player Names\n",
       "Lionel Messi          5\n",
       "Luis Suarez           5\n",
       "Fabio Quagliarella    5\n",
       "Andrea Belotti        5\n",
       "Robert Lewandowski    5\n",
       "                     ..\n",
       "Robson                1\n",
       "Renato Kayzer         1\n",
       "Donny van de Beek     1\n",
       "Teun Koopmeiners      1\n",
       "Cantalapiedra         1\n",
       "Name: count, Length: 444, dtype: int64"
      ]
     },
     "execution_count": 198,
     "metadata": {},
     "output_type": "execute_result"
    }
   ],
   "source": [
    "df['Player Names'].value_counts()"
   ]
  },
  {
   "cell_type": "code",
   "execution_count": null,
   "metadata": {},
   "outputs": [],
   "source": [
    "df['Player Names'].unique()"
   ]
  },
  {
   "cell_type": "code",
   "execution_count": null,
   "metadata": {},
   "outputs": [],
   "source": [
    "df['Player Names'].nunique()"
   ]
  },
  {
   "cell_type": "markdown",
   "metadata": {},
   "source": [
    "# dropna func"
   ]
  },
  {
   "cell_type": "code",
   "execution_count": null,
   "metadata": {},
   "outputs": [],
   "source": [
    "# to delete null rows \n",
    "df.dropna(inplace=True)"
   ]
  },
  {
   "cell_type": "markdown",
   "metadata": {},
   "source": [
    "# Fillna Function"
   ]
  },
  {
   "cell_type": "code",
   "execution_count": 200,
   "metadata": {},
   "outputs": [
    {
     "name": "stdout",
     "output_type": "stream",
     "text": [
      "10841\n",
      "10841\n"
     ]
    }
   ],
   "source": [
    "\n",
    "link = 'https://raw.githubusercontent.com/AshishJangra27/Data-Analysis-with-Python-GFG/main/3.%20Data%20Preprocessing%20-%20Removing%20Null%20Value%20Rows/googleplaystore.csv'\n",
    "\n",
    "df = pd.read_csv(link)\n",
    "\n",
    "print(len(df))\n",
    "\n",
    "# replacing all the null values with the mean \n",
    "mis = round(df['Rating'].mean(),2)\n",
    "\n",
    "df['Rating'] = df['Rating'].fillna(mis)\n",
    "\n",
    "print(len(df))\n"
   ]
  },
  {
   "cell_type": "code",
   "execution_count": null,
   "metadata": {},
   "outputs": [],
   "source": [
    "\n",
    "# filling the current ver NULL values wiht the text\n",
    "df['Current Ver'] = df['Current Ver'].fillna('Varies on Device')\n",
    "\n"
   ]
  },
  {
   "cell_type": "markdown",
   "metadata": {},
   "source": [
    "# sample function \n"
   ]
  },
  {
   "cell_type": "code",
   "execution_count": 201,
   "metadata": {},
   "outputs": [
    {
     "data": {
      "text/html": [
       "<div>\n",
       "<style scoped>\n",
       "    .dataframe tbody tr th:only-of-type {\n",
       "        vertical-align: middle;\n",
       "    }\n",
       "\n",
       "    .dataframe tbody tr th {\n",
       "        vertical-align: top;\n",
       "    }\n",
       "\n",
       "    .dataframe thead th {\n",
       "        text-align: right;\n",
       "    }\n",
       "</style>\n",
       "<table border=\"1\" class=\"dataframe\">\n",
       "  <thead>\n",
       "    <tr style=\"text-align: right;\">\n",
       "      <th></th>\n",
       "      <th>App</th>\n",
       "      <th>Category</th>\n",
       "      <th>Rating</th>\n",
       "      <th>Reviews</th>\n",
       "      <th>Size</th>\n",
       "      <th>Installs</th>\n",
       "      <th>Type</th>\n",
       "      <th>Price</th>\n",
       "      <th>Content Rating</th>\n",
       "      <th>Genres</th>\n",
       "      <th>Last Updated</th>\n",
       "      <th>Current Ver</th>\n",
       "      <th>Android Ver</th>\n",
       "    </tr>\n",
       "  </thead>\n",
       "  <tbody>\n",
       "    <tr>\n",
       "      <th>10614</th>\n",
       "      <td>Ocala Star Banner, FL</td>\n",
       "      <td>NEWS_AND_MAGAZINES</td>\n",
       "      <td>4.5</td>\n",
       "      <td>75</td>\n",
       "      <td>8.1M</td>\n",
       "      <td>5,000+</td>\n",
       "      <td>Free</td>\n",
       "      <td>0</td>\n",
       "      <td>Everyone</td>\n",
       "      <td>News &amp; Magazines</td>\n",
       "      <td>July 25, 2018</td>\n",
       "      <td>5.1</td>\n",
       "      <td>4.4 and up</td>\n",
       "    </tr>\n",
       "  </tbody>\n",
       "</table>\n",
       "</div>"
      ],
      "text/plain": [
       "                         App            Category  Rating Reviews  Size  \\\n",
       "10614  Ocala Star Banner, FL  NEWS_AND_MAGAZINES     4.5      75  8.1M   \n",
       "\n",
       "      Installs  Type Price Content Rating            Genres   Last Updated  \\\n",
       "10614   5,000+  Free     0       Everyone  News & Magazines  July 25, 2018   \n",
       "\n",
       "      Current Ver Android Ver  \n",
       "10614         5.1  4.4 and up  "
      ]
     },
     "execution_count": 201,
     "metadata": {},
     "output_type": "execute_result"
    }
   ],
   "source": [
    "df.sample()"
   ]
  },
  {
   "cell_type": "code",
   "execution_count": 203,
   "metadata": {},
   "outputs": [],
   "source": [
    "data = { 'one'   : pd.Series([1, 2, 3, 4]),\n",
    "         'two'   : pd.Series([10, 20, 30, 40]),\n",
    "         'three' : pd.Series([100, 200, 300, 400]),\n",
    "         'four'  : pd.Series([1000, 2000, 3000, 4000])}\n",
    "\n",
    "df = pd.DataFrame(data)\n",
    "\n",
    "df.to_csv('Number.csv', index = False)"
   ]
  },
  {
   "cell_type": "markdown",
   "metadata": {},
   "source": [
    "# pANDA PROFILING\n"
   ]
  },
  {
   "cell_type": "code",
   "execution_count": 207,
   "metadata": {},
   "outputs": [
    {
     "name": "stderr",
     "output_type": "stream",
     "text": [
      "c:\\Users\\aspha\\AppData\\Local\\Programs\\Python\\Python312\\Lib\\site-packages\\tqdm\\auto.py:21: TqdmWarning: IProgress not found. Please update jupyter and ipywidgets. See https://ipywidgets.readthedocs.io/en/stable/user_install.html\n",
      "  from .autonotebook import tqdm as notebook_tqdm\n"
     ]
    },
    {
     "ename": "PydanticImportError",
     "evalue": "`BaseSettings` has been moved to the `pydantic-settings` package. See https://docs.pydantic.dev/2.10/migration/#basesettings-has-moved-to-pydantic-settings for more details.\n\nFor further information visit https://errors.pydantic.dev/2.10/u/import-error",
     "output_type": "error",
     "traceback": [
      "\u001b[1;31m---------------------------------------------------------------------------\u001b[0m",
      "\u001b[1;31mPydanticImportError\u001b[0m                       Traceback (most recent call last)",
      "Cell \u001b[1;32mIn[207], line 2\u001b[0m\n\u001b[0;32m      1\u001b[0m \u001b[38;5;28;01mimport\u001b[39;00m \u001b[38;5;21;01mmatplotlib\u001b[39;00m\n\u001b[1;32m----> 2\u001b[0m \u001b[38;5;28;01mimport\u001b[39;00m \u001b[38;5;21;01mpandas_profiling\u001b[39;00m \u001b[38;5;28;01mas\u001b[39;00m \u001b[38;5;21;01mpp\u001b[39;00m\n\u001b[0;32m      5\u001b[0m df \u001b[38;5;241m=\u001b[39m pd\u001b[38;5;241m.\u001b[39mread_csv(\u001b[38;5;124m'\u001b[39m\u001b[38;5;124mFootball.csv\u001b[39m\u001b[38;5;124m'\u001b[39m)\n\u001b[0;32m      6\u001b[0m df\u001b[38;5;241m.\u001b[39mhead()\n",
      "File \u001b[1;32mc:\\Users\\aspha\\AppData\\Local\\Programs\\Python\\Python312\\Lib\\site-packages\\pandas_profiling\\__init__.py:6\u001b[0m\n\u001b[0;32m      1\u001b[0m \u001b[38;5;124;03m\"\"\"Main module of pandas-profiling.\u001b[39;00m\n\u001b[0;32m      2\u001b[0m \n\u001b[0;32m      3\u001b[0m \u001b[38;5;124;03m.. include:: ../../README.md\u001b[39;00m\n\u001b[0;32m      4\u001b[0m \u001b[38;5;124;03m\"\"\"\u001b[39;00m\n\u001b[1;32m----> 6\u001b[0m \u001b[38;5;28;01mfrom\u001b[39;00m \u001b[38;5;21;01mpandas_profiling\u001b[39;00m\u001b[38;5;21;01m.\u001b[39;00m\u001b[38;5;21;01mcontroller\u001b[39;00m \u001b[38;5;28;01mimport\u001b[39;00m pandas_decorator\n\u001b[0;32m      7\u001b[0m \u001b[38;5;28;01mfrom\u001b[39;00m \u001b[38;5;21;01mpandas_profiling\u001b[39;00m\u001b[38;5;21;01m.\u001b[39;00m\u001b[38;5;21;01mprofile_report\u001b[39;00m \u001b[38;5;28;01mimport\u001b[39;00m ProfileReport\n\u001b[0;32m      8\u001b[0m \u001b[38;5;28;01mfrom\u001b[39;00m \u001b[38;5;21;01mpandas_profiling\u001b[39;00m\u001b[38;5;21;01m.\u001b[39;00m\u001b[38;5;21;01mversion\u001b[39;00m \u001b[38;5;28;01mimport\u001b[39;00m __version__\n",
      "File \u001b[1;32mc:\\Users\\aspha\\AppData\\Local\\Programs\\Python\\Python312\\Lib\\site-packages\\pandas_profiling\\controller\\pandas_decorator.py:4\u001b[0m\n\u001b[0;32m      1\u001b[0m \u001b[38;5;124;03m\"\"\"This file add the decorator on the DataFrame object.\"\"\"\u001b[39;00m\n\u001b[0;32m      2\u001b[0m \u001b[38;5;28;01mfrom\u001b[39;00m \u001b[38;5;21;01mpandas\u001b[39;00m \u001b[38;5;28;01mimport\u001b[39;00m DataFrame\n\u001b[1;32m----> 4\u001b[0m \u001b[38;5;28;01mfrom\u001b[39;00m \u001b[38;5;21;01mpandas_profiling\u001b[39;00m\u001b[38;5;21;01m.\u001b[39;00m\u001b[38;5;21;01mprofile_report\u001b[39;00m \u001b[38;5;28;01mimport\u001b[39;00m ProfileReport\n\u001b[0;32m      7\u001b[0m \u001b[38;5;28;01mdef\u001b[39;00m \u001b[38;5;21mprofile_report\u001b[39m(df: DataFrame, \u001b[38;5;241m*\u001b[39m\u001b[38;5;241m*\u001b[39mkwargs) \u001b[38;5;241m-\u001b[39m\u001b[38;5;241m>\u001b[39m ProfileReport:\n\u001b[0;32m      8\u001b[0m \u001b[38;5;250m    \u001b[39m\u001b[38;5;124;03m\"\"\"Profile a DataFrame.\u001b[39;00m\n\u001b[0;32m      9\u001b[0m \n\u001b[0;32m     10\u001b[0m \u001b[38;5;124;03m    Args:\u001b[39;00m\n\u001b[1;32m   (...)\u001b[0m\n\u001b[0;32m     15\u001b[0m \u001b[38;5;124;03m        A ProfileReport of the DataFrame.\u001b[39;00m\n\u001b[0;32m     16\u001b[0m \u001b[38;5;124;03m    \"\"\"\u001b[39;00m\n",
      "File \u001b[1;32mc:\\Users\\aspha\\AppData\\Local\\Programs\\Python\\Python312\\Lib\\site-packages\\pandas_profiling\\profile_report.py:13\u001b[0m\n\u001b[0;32m     10\u001b[0m \u001b[38;5;28;01mfrom\u001b[39;00m \u001b[38;5;21;01mtqdm\u001b[39;00m\u001b[38;5;21;01m.\u001b[39;00m\u001b[38;5;21;01mauto\u001b[39;00m \u001b[38;5;28;01mimport\u001b[39;00m tqdm\n\u001b[0;32m     11\u001b[0m \u001b[38;5;28;01mfrom\u001b[39;00m \u001b[38;5;21;01mvisions\u001b[39;00m \u001b[38;5;28;01mimport\u001b[39;00m VisionsTypeset\n\u001b[1;32m---> 13\u001b[0m \u001b[38;5;28;01mfrom\u001b[39;00m \u001b[38;5;21;01mpandas_profiling\u001b[39;00m\u001b[38;5;21;01m.\u001b[39;00m\u001b[38;5;21;01mconfig\u001b[39;00m \u001b[38;5;28;01mimport\u001b[39;00m Config, Settings\n\u001b[0;32m     14\u001b[0m \u001b[38;5;28;01mfrom\u001b[39;00m \u001b[38;5;21;01mpandas_profiling\u001b[39;00m\u001b[38;5;21;01m.\u001b[39;00m\u001b[38;5;21;01mexpectations_report\u001b[39;00m \u001b[38;5;28;01mimport\u001b[39;00m ExpectationsReport\n\u001b[0;32m     15\u001b[0m \u001b[38;5;28;01mfrom\u001b[39;00m \u001b[38;5;21;01mpandas_profiling\u001b[39;00m\u001b[38;5;21;01m.\u001b[39;00m\u001b[38;5;21;01mmodel\u001b[39;00m\u001b[38;5;21;01m.\u001b[39;00m\u001b[38;5;21;01malerts\u001b[39;00m \u001b[38;5;28;01mimport\u001b[39;00m AlertType\n",
      "File \u001b[1;32mc:\\Users\\aspha\\AppData\\Local\\Programs\\Python\\Python312\\Lib\\site-packages\\pandas_profiling\\config.py:5\u001b[0m\n\u001b[0;32m      2\u001b[0m \u001b[38;5;28;01mfrom\u001b[39;00m \u001b[38;5;21;01menum\u001b[39;00m \u001b[38;5;28;01mimport\u001b[39;00m Enum\n\u001b[0;32m      3\u001b[0m \u001b[38;5;28;01mfrom\u001b[39;00m \u001b[38;5;21;01mtyping\u001b[39;00m \u001b[38;5;28;01mimport\u001b[39;00m Any, Dict, List, Optional\n\u001b[1;32m----> 5\u001b[0m \u001b[38;5;28;01mfrom\u001b[39;00m \u001b[38;5;21;01mpydantic\u001b[39;00m \u001b[38;5;28;01mimport\u001b[39;00m BaseModel, BaseSettings, Field\n\u001b[0;32m      8\u001b[0m \u001b[38;5;28;01mdef\u001b[39;00m \u001b[38;5;21m_merge_dictionaries\u001b[39m(dict1: \u001b[38;5;28mdict\u001b[39m, dict2: \u001b[38;5;28mdict\u001b[39m) \u001b[38;5;241m-\u001b[39m\u001b[38;5;241m>\u001b[39m \u001b[38;5;28mdict\u001b[39m:\n\u001b[0;32m      9\u001b[0m \u001b[38;5;250m    \u001b[39m\u001b[38;5;124;03m\"\"\"\u001b[39;00m\n\u001b[0;32m     10\u001b[0m \u001b[38;5;124;03m    Recursive merge dictionaries.\u001b[39;00m\n\u001b[0;32m     11\u001b[0m \n\u001b[1;32m   (...)\u001b[0m\n\u001b[0;32m     14\u001b[0m \u001b[38;5;124;03m    :return: Merged dictionary\u001b[39;00m\n\u001b[0;32m     15\u001b[0m \u001b[38;5;124;03m    \"\"\"\u001b[39;00m\n",
      "File \u001b[1;32mc:\\Users\\aspha\\AppData\\Local\\Programs\\Python\\Python312\\Lib\\site-packages\\pydantic\\__init__.py:412\u001b[0m, in \u001b[0;36m__getattr__\u001b[1;34m(attr_name)\u001b[0m\n\u001b[0;32m    410\u001b[0m dynamic_attr \u001b[38;5;241m=\u001b[39m _dynamic_imports\u001b[38;5;241m.\u001b[39mget(attr_name)\n\u001b[0;32m    411\u001b[0m \u001b[38;5;28;01mif\u001b[39;00m dynamic_attr \u001b[38;5;129;01mis\u001b[39;00m \u001b[38;5;28;01mNone\u001b[39;00m:\n\u001b[1;32m--> 412\u001b[0m     \u001b[38;5;28;01mreturn\u001b[39;00m \u001b[43m_getattr_migration\u001b[49m\u001b[43m(\u001b[49m\u001b[43mattr_name\u001b[49m\u001b[43m)\u001b[49m\n\u001b[0;32m    414\u001b[0m package, module_name \u001b[38;5;241m=\u001b[39m dynamic_attr\n\u001b[0;32m    416\u001b[0m \u001b[38;5;28;01mif\u001b[39;00m module_name \u001b[38;5;241m==\u001b[39m \u001b[38;5;124m'\u001b[39m\u001b[38;5;124m__module__\u001b[39m\u001b[38;5;124m'\u001b[39m:\n",
      "File \u001b[1;32mc:\\Users\\aspha\\AppData\\Local\\Programs\\Python\\Python312\\Lib\\site-packages\\pydantic\\_migration.py:296\u001b[0m, in \u001b[0;36mgetattr_migration.<locals>.wrapper\u001b[1;34m(name)\u001b[0m\n\u001b[0;32m    294\u001b[0m     \u001b[38;5;28;01mreturn\u001b[39;00m import_string(REDIRECT_TO_V1[import_path])\n\u001b[0;32m    295\u001b[0m \u001b[38;5;28;01mif\u001b[39;00m import_path \u001b[38;5;241m==\u001b[39m \u001b[38;5;124m'\u001b[39m\u001b[38;5;124mpydantic:BaseSettings\u001b[39m\u001b[38;5;124m'\u001b[39m:\n\u001b[1;32m--> 296\u001b[0m     \u001b[38;5;28;01mraise\u001b[39;00m PydanticImportError(\n\u001b[0;32m    297\u001b[0m         \u001b[38;5;124m'\u001b[39m\u001b[38;5;124m`BaseSettings` has been moved to the `pydantic-settings` package. \u001b[39m\u001b[38;5;124m'\u001b[39m\n\u001b[0;32m    298\u001b[0m         \u001b[38;5;124mf\u001b[39m\u001b[38;5;124m'\u001b[39m\u001b[38;5;124mSee https://docs.pydantic.dev/\u001b[39m\u001b[38;5;132;01m{\u001b[39;00mversion_short()\u001b[38;5;132;01m}\u001b[39;00m\u001b[38;5;124m/migration/#basesettings-has-moved-to-pydantic-settings \u001b[39m\u001b[38;5;124m'\u001b[39m\n\u001b[0;32m    299\u001b[0m         \u001b[38;5;124m'\u001b[39m\u001b[38;5;124mfor more details.\u001b[39m\u001b[38;5;124m'\u001b[39m\n\u001b[0;32m    300\u001b[0m     )\n\u001b[0;32m    301\u001b[0m \u001b[38;5;28;01mif\u001b[39;00m import_path \u001b[38;5;129;01min\u001b[39;00m REMOVED_IN_V2:\n\u001b[0;32m    302\u001b[0m     \u001b[38;5;28;01mraise\u001b[39;00m PydanticImportError(\u001b[38;5;124mf\u001b[39m\u001b[38;5;124m'\u001b[39m\u001b[38;5;124m`\u001b[39m\u001b[38;5;132;01m{\u001b[39;00mimport_path\u001b[38;5;132;01m}\u001b[39;00m\u001b[38;5;124m` has been removed in V2.\u001b[39m\u001b[38;5;124m'\u001b[39m)\n",
      "\u001b[1;31mPydanticImportError\u001b[0m: `BaseSettings` has been moved to the `pydantic-settings` package. See https://docs.pydantic.dev/2.10/migration/#basesettings-has-moved-to-pydantic-settings for more details.\n\nFor further information visit https://errors.pydantic.dev/2.10/u/import-error"
     ]
    }
   ],
   "source": [
    " \n",
    "import matplotlib\n",
    "import pandas_profiling as pp\n",
    "\n",
    "\n",
    "df = pd.read_csv('Football.csv')\n",
    "df.head()\n"
   ]
  }
 ],
 "metadata": {
  "kernelspec": {
   "display_name": "Python 3",
   "language": "python",
   "name": "python3"
  },
  "language_info": {
   "codemirror_mode": {
    "name": "ipython",
    "version": 3
   },
   "file_extension": ".py",
   "mimetype": "text/x-python",
   "name": "python",
   "nbconvert_exporter": "python",
   "pygments_lexer": "ipython3",
   "version": "3.12.8"
  }
 },
 "nbformat": 4,
 "nbformat_minor": 2
}
