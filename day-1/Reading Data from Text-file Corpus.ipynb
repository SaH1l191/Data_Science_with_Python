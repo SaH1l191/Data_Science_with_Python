{
 "cells": [
  {
   "cell_type": "code",
   "execution_count": 2,
   "id": "2072bec2",
   "metadata": {
    "panel-layout": {
     "height": 0,
     "visible": true,
     "width": 100
    }
   },
   "outputs": [],
   "source": [
    "fd = open('data.txt','r')\n",
    "txt = fd.read()\n",
    "fd.close()"
   ]
  },
  {
   "cell_type": "code",
   "execution_count": 31,
   "id": "a29fda39",
   "metadata": {
    "panel-layout": {
     "height": 256.828125,
     "visible": true,
     "width": 100
    }
   },
   "outputs": [
    {
     "data": {
      "text/plain": [
       "\"Coronavirus disease 2019 (COVID-19) is a contagious disease caused by severe acute respiratory syndrome coronavirus 2 (SARS-CoV-2). The first known case was identified in Wuhan, China, in December 2019.[7] The disease has since spread worldwide, leading to an ongoing pandemic.[8]\\\\n\\\\nSymptoms of COVID-19 are variable, but often include fever,[9] cough, headache,[10] fatigue, breathing difficulties, and loss of smell and taste.[11][12][13] Symptoms may begin one to fourteen days after exposure to the virus. At least a third of people who are infected do not develop noticeable symptoms.[14] Of those people who develop symptoms noticeable enough to be classed as patients, most (81%) develop mild to moderate symptoms (up to mild pneumonia), while 14% develop severe symptoms (dyspnea, hypoxia, or more than 50% lung involvement on imaging), and 5% suffer critical symptoms (respiratory failure, shock, or multi-organ dysfunction).[15] Older people are at a higher risk of developing severe symptoms. Some people continue to experience a range of effects (long COVID) for months after recovery, and damage to organs has been observed.[16] Multi-year studies are underway to further investigate the long-term effects of the disease.[16]\\\\n\\\\nCOVID-19 transmits when people breathe in air contaminated by droplets and small airborne particles containing the virus. The risk of breathing these in is highest when people are in close proximity, but they can be inhaled over longer distances, particularly indoors. Transmission can also occur if splashed or sprayed with contaminated fluids in the eyes, nose or mouth, and, rarely, via contaminated surfaces. People remain contagious for up to 20 days, and can spread the virus even if they do not develop symptoms.[17][18]\\\\n\\\\nSeveral testing methods have been developed to diagnose the disease. The standard diagnostic method is by detection of the virus' nucleic acid by real-time reverse transcription polymerase chain reaction (rRT-PCR), transcription-mediated amplification (TMA), or by reverse transcription loop-mediated isothermal amplification (RT-LAMP) from a nasopharyngeal swab.\\\\n\\\\nPreventive measures include physical or social distancing, quarantining, ventilation of indoor spaces, covering coughs and sneezes, hand washing, and keeping unwashed hands away from the face. The use of face masks or coverings has been recommended in public settings to minimise the risk of transmissions.\\\\n\\\\nWhile work is underway to develop drugs that inhibit the virus (and several vaccines for it have been approved and distributed in various countries, which have since initiated mass vaccination campaigns), the primary treatment is symptomatic. Management involves the treatment of symptoms, supportive care, isolation, and experimental measures\""
      ]
     },
     "execution_count": 31,
     "metadata": {},
     "output_type": "execute_result"
    }
   ],
   "source": [
    "txt"
   ]
  },
  {
   "cell_type": "code",
   "execution_count": null,
   "id": "6dee2e48",
   "metadata": {},
   "outputs": [],
   "source": []
  },
  {
   "cell_type": "code",
   "execution_count": 4,
   "id": "d7c1b558",
   "metadata": {},
   "outputs": [],
   "source": [
    "txt = txt.replace(\"\\n\\n\",' ')"
   ]
  },
  {
   "cell_type": "code",
   "execution_count": 33,
   "id": "9aaa3da8",
   "metadata": {
    "panel-layout": {
     "height": 0,
     "visible": true,
     "width": 100
    }
   },
   "outputs": [
    {
     "name": "stdout",
     "output_type": "stream",
     "text": [
      "Coronavirus disease 2019 (COVID-19) is a contagious disease caused by severe acute respiratory syndrome coronavirus 2 (SARS-CoV-2). The first known case was identified in Wuhan, China, in December 2019.[7] The disease has since spread worldwide, leading to an ongoing pandemic.[8]\\n\\nSymptoms of COVID-19 are variable, but often include fever,[9] cough, headache,[10] fatigue, breathing difficulties, and loss of smell and taste.[11][12][13] Symptoms may begin one to fourteen days after exposure to the virus. At least a third of people who are infected do not develop noticeable symptoms.[14] Of those people who develop symptoms noticeable enough to be classed as patients, most (81%) develop mild to moderate symptoms (up to mild pneumonia), while 14% develop severe symptoms (dyspnea, hypoxia, or more than 50% lung involvement on imaging), and 5% suffer critical symptoms (respiratory failure, shock, or multi-organ dysfunction).[15] Older people are at a higher risk of developing severe symptoms. Some people continue to experience a range of effects (long COVID) for months after recovery, and damage to organs has been observed.[16] Multi-year studies are underway to further investigate the long-term effects of the disease.[16]\\n\\nCOVID-19 transmits when people breathe in air contaminated by droplets and small airborne particles containing the virus. The risk of breathing these in is highest when people are in close proximity, but they can be inhaled over longer distances, particularly indoors. Transmission can also occur if splashed or sprayed with contaminated fluids in the eyes, nose or mouth, and, rarely, via contaminated surfaces. People remain contagious for up to 20 days, and can spread the virus even if they do not develop symptoms.[17][18]\\n\\nSeveral testing methods have been developed to diagnose the disease. The standard diagnostic method is by detection of the virus' nucleic acid by real-time reverse transcription polymerase chain reaction (rRT-PCR), transcription-mediated amplification (TMA), or by reverse transcription loop-mediated isothermal amplification (RT-LAMP) from a nasopharyngeal swab.\\n\\nPreventive measures include physical or social distancing, quarantining, ventilation of indoor spaces, covering coughs and sneezes, hand washing, and keeping unwashed hands away from the face. The use of face masks or coverings has been recommended in public settings to minimise the risk of transmissions.\\n\\nWhile work is underway to develop drugs that inhibit the virus (and several vaccines for it have been approved and distributed in various countries, which have since initiated mass vaccination campaigns), the primary treatment is symptomatic. Management involves the treatment of symptoms, supportive care, isolation, and experimental measures\n"
     ]
    }
   ],
   "source": [
    "print(txt)\n"
   ]
  },
  {
   "cell_type": "code",
   "execution_count": 3,
   "id": "2a4288b6",
   "metadata": {
    "panel-layout": {
     "height": 0,
     "visible": true,
     "width": 100
    }
   },
   "outputs": [
    {
     "name": "stdout",
     "output_type": "stream",
     "text": [
      "<class 'list'>\n",
      "1\n",
      "[\"Coronavirus disease 2019 (COVID-19) is a contagious disease caused by severe acute respiratory syndrome coronavirus 2 (SARS-CoV-2). The first known case was identified in Wuhan, China, in December 2019.[7] The disease has since spread worldwide, leading to an ongoing pandemic.[8]\\\\n\\\\nSymptoms of COVID-19 are variable, but often include fever,[9] cough, headache,[10] fatigue, breathing difficulties, and loss of smell and taste.[11][12][13] Symptoms may begin one to fourteen days after exposure to the virus. At least a third of people who are infected do not develop noticeable symptoms.[14] Of those people who develop symptoms noticeable enough to be classed as patients, most (81%) develop mild to moderate symptoms (up to mild pneumonia), while 14% develop severe symptoms (dyspnea, hypoxia, or more than 50% lung involvement on imaging), and 5% suffer critical symptoms (respiratory failure, shock, or multi-organ dysfunction).[15] Older people are at a higher risk of developing severe symptoms. Some people continue to experience a range of effects (long COVID) for months after recovery, and damage to organs has been observed.[16] Multi-year studies are underway to further investigate the long-term effects of the disease.[16]\\\\n\\\\nCOVID-19 transmits when people breathe in air contaminated by droplets and small airborne particles containing the virus. The risk of breathing these in is highest when people are in close proximity, but they can be inhaled over longer distances, particularly indoors. Transmission can also occur if splashed or sprayed with contaminated fluids in the eyes, nose or mouth, and, rarely, via contaminated surfaces. People remain contagious for up to 20 days, and can spread the virus even if they do not develop symptoms.[17][18]\\\\n\\\\nSeveral testing methods have been developed to diagnose the disease. The standard diagnostic method is by detection of the virus' nucleic acid by real-time reverse transcription polymerase chain reaction (rRT-PCR), transcription-mediated amplification (TMA), or by reverse transcription loop-mediated isothermal amplification (RT-LAMP) from a nasopharyngeal swab.\\\\n\\\\nPreventive measures include physical or social distancing, quarantining, ventilation of indoor spaces, covering coughs and sneezes, hand washing, and keeping unwashed hands away from the face. The use of face masks or coverings has been recommended in public settings to minimise the risk of transmissions.\\\\n\\\\nWhile work is underway to develop drugs that inhibit the virus (and several vaccines for it have been approved and distributed in various countries, which have since initiated mass vaccination campaigns), the primary treatment is symptomatic. Management involves the treatment of symptoms, supportive care, isolation, and experimental measures\"]\n"
     ]
    }
   ],
   "source": [
    "\n",
    "\n",
    "fd = open('data.txt','r')\n",
    "txt = fd.read()\n",
    "fd.close()\n",
    "paras = txt.split('/n/n')\n",
    "print(type(paras))\n",
    "print(len(paras))\n",
    "print(paras)\n"
   ]
  },
  {
   "cell_type": "code",
   "execution_count": 11,
   "id": "15845788-6b93-4e07-9282-02e183b96cbc",
   "metadata": {
    "panel-layout": {
     "height": 0,
     "visible": true,
     "width": 100
    }
   },
   "outputs": [
    {
     "name": "stdout",
     "output_type": "stream",
     "text": [
      "20\n",
      "['Coronavirus disease 2019 (COVID-19) is a contagious disease caused by severe acute respiratory syndrome coronavirus 2 (SARS-CoV-2)', ' The first known case was identified in Wuhan, China, in December 2019', '[7] The disease has since spread worldwide, leading to an ongoing pandemic', '[8]\\\\n\\\\nSymptoms of COVID-19 are variable, but often include fever,[9] cough, headache,[10] fatigue, breathing difficulties, and loss of smell and taste', '[11][12][13] Symptoms may begin one to fourteen days after exposure to the virus', ' At least a third of people who are infected do not develop noticeable symptoms', '[14] Of those people who develop symptoms noticeable enough to be classed as patients, most (81%) develop mild to moderate symptoms (up to mild pneumonia), while 14% develop severe symptoms (dyspnea, hypoxia, or more than 50% lung involvement on imaging), and 5% suffer critical symptoms (respiratory failure, shock, or multi-organ dysfunction)', '[15] Older people are at a higher risk of developing severe symptoms', ' Some people continue to experience a range of effects (long COVID) for months after recovery, and damage to organs has been observed', '[16] Multi-year studies are underway to further investigate the long-term effects of the disease', '[16]\\\\n\\\\nCOVID-19 transmits when people breathe in air contaminated by droplets and small airborne particles containing the virus', ' The risk of breathing these in is highest when people are in close proximity, but they can be inhaled over longer distances, particularly indoors', ' Transmission can also occur if splashed or sprayed with contaminated fluids in the eyes, nose or mouth, and, rarely, via contaminated surfaces', ' People remain contagious for up to 20 days, and can spread the virus even if they do not develop symptoms', '[17][18]\\\\n\\\\nSeveral testing methods have been developed to diagnose the disease', \" The standard diagnostic method is by detection of the virus' nucleic acid by real-time reverse transcription polymerase chain reaction (rRT-PCR), transcription-mediated amplification (TMA), or by reverse transcription loop-mediated isothermal amplification (RT-LAMP) from a nasopharyngeal swab\", '\\\\n\\\\nPreventive measures include physical or social distancing, quarantining, ventilation of indoor spaces, covering coughs and sneezes, hand washing, and keeping unwashed hands away from the face', ' The use of face masks or coverings has been recommended in public settings to minimise the risk of transmissions', '\\\\n\\\\nWhile work is underway to develop drugs that inhibit the virus (and several vaccines for it have been approved and distributed in various countries, which have since initiated mass vaccination campaigns), the primary treatment is symptomatic', ' Management involves the treatment of symptoms, supportive care, isolation, and experimental measures']\n"
     ]
    }
   ],
   "source": [
    "\n",
    "fd = open('data.txt','r')\n",
    "txt = fd.read()\n",
    "fd.close()\n",
    "lines = txt.split('.')\n",
    "print(len(lines))\n",
    "print(lines)"
   ]
  },
  {
   "cell_type": "code",
   "execution_count": 15,
   "id": "82277d84-53a5-473e-9fce-d3c950f45a87",
   "metadata": {},
   "outputs": [
    {
     "name": "stdout",
     "output_type": "stream",
     "text": [
      "398\n",
      "['Coronavirus', 'disease', '2019', '(COVID-19)', 'is', 'a', 'contagious', 'disease', 'caused', 'by', 'severe', 'acute', 'respiratory', 'syndrome', 'coronavirus', '2', '(SARS-CoV-2).', 'The', 'first', 'known', 'case', 'was', 'identified', 'in', 'Wuhan,', 'China,', 'in', 'December', '2019.[7]', 'The', 'disease', 'has', 'since', 'spread', 'worldwide,', 'leading', 'to', 'an', 'ongoing', 'pandemic.[8]\\\\n\\\\nSymptoms', 'of', 'COVID-19', 'are', 'variable,', 'but', 'often', 'include', 'fever,[9]', 'cough,', 'headache,[10]', 'fatigue,', 'breathing', 'difficulties,', 'and', 'loss', 'of', 'smell', 'and', 'taste.[11][12][13]', 'Symptoms', 'may', 'begin', 'one', 'to', 'fourteen', 'days', 'after', 'exposure', 'to', 'the', 'virus.', 'At', 'least', 'a', 'third', 'of', 'people', 'who', 'are', 'infected', 'do', 'not', 'develop', 'noticeable', 'symptoms.[14]', 'Of', 'those', 'people', 'who', 'develop', 'symptoms', 'noticeable', 'enough', 'to', 'be', 'classed', 'as', 'patients,', 'most', '(81%)', 'develop', 'mild', 'to', 'moderate', 'symptoms', '(up', 'to', 'mild', 'pneumonia),', 'while', '14%', 'develop', 'severe', 'symptoms', '(dyspnea,', 'hypoxia,', 'or', 'more', 'than', '50%', 'lung', 'involvement', 'on', 'imaging),', 'and', '5%', 'suffer', 'critical', 'symptoms', '(respiratory', 'failure,', 'shock,', 'or', 'multi-organ', 'dysfunction).[15]', 'Older', 'people', 'are', 'at', 'a', 'higher', 'risk', 'of', 'developing', 'severe', 'symptoms.', 'Some', 'people', 'continue', 'to', 'experience', 'a', 'range', 'of', 'effects', '(long', 'COVID)', 'for', 'months', 'after', 'recovery,', 'and', 'damage', 'to', 'organs', 'has', 'been', 'observed.[16]', 'Multi-year', 'studies', 'are', 'underway', 'to', 'further', 'investigate', 'the', 'long-term', 'effects', 'of', 'the', 'disease.[16]\\\\n\\\\nCOVID-19', 'transmits', 'when', 'people', 'breathe', 'in', 'air', 'contaminated', 'by', 'droplets', 'and', 'small', 'airborne', 'particles', 'containing', 'the', 'virus.', 'The', 'risk', 'of', 'breathing', 'these', 'in', 'is', 'highest', 'when', 'people', 'are', 'in', 'close', 'proximity,', 'but', 'they', 'can', 'be', 'inhaled', 'over', 'longer', 'distances,', 'particularly', 'indoors.', 'Transmission', 'can', 'also', 'occur', 'if', 'splashed', 'or', 'sprayed', 'with', 'contaminated', 'fluids', 'in', 'the', 'eyes,', 'nose', 'or', 'mouth,', 'and,', 'rarely,', 'via', 'contaminated', 'surfaces.', 'People', 'remain', 'contagious', 'for', 'up', 'to', '20', 'days,', 'and', 'can', 'spread', 'the', 'virus', 'even', 'if', 'they', 'do', 'not', 'develop', 'symptoms.[17][18]\\\\n\\\\nSeveral', 'testing', 'methods', 'have', 'been', 'developed', 'to', 'diagnose', 'the', 'disease.', 'The', 'standard', 'diagnostic', 'method', 'is', 'by', 'detection', 'of', 'the', \"virus'\", 'nucleic', 'acid', 'by', 'real-time', 'reverse', 'transcription', 'polymerase', 'chain', 'reaction', '(rRT-PCR),', 'transcription-mediated', 'amplification', '(TMA),', 'or', 'by', 'reverse', 'transcription', 'loop-mediated', 'isothermal', 'amplification', '(RT-LAMP)', 'from', 'a', 'nasopharyngeal', 'swab.\\\\n\\\\nPreventive', 'measures', 'include', 'physical', 'or', 'social', 'distancing,', 'quarantining,', 'ventilation', 'of', 'indoor', 'spaces,', 'covering', 'coughs', 'and', 'sneezes,', 'hand', 'washing,', 'and', 'keeping', 'unwashed', 'hands', 'away', 'from', 'the', 'face.', 'The', 'use', 'of', 'face', 'masks', 'or', 'coverings', 'has', 'been', 'recommended', 'in', 'public', 'settings', 'to', 'minimise', 'the', 'risk', 'of', 'transmissions.\\\\n\\\\nWhile', 'work', 'is', 'underway', 'to', 'develop', 'drugs', 'that', 'inhibit', 'the', 'virus', '(and', 'several', 'vaccines', 'for', 'it', 'have', 'been', 'approved', 'and', 'distributed', 'in', 'various', 'countries,', 'which', 'have', 'since', 'initiated', 'mass', 'vaccination', 'campaigns),', 'the', 'primary', 'treatment', 'is', 'symptomatic.', 'Management', 'involves', 'the', 'treatment', 'of', 'symptoms,', 'supportive', 'care,', 'isolation,', 'and', 'experimental', 'measures']\n"
     ]
    }
   ],
   "source": [
    "fd = open('data.txt','r')\n",
    "txt = fd.read()\n",
    "fd.close()\n",
    "words = txt.split(' ')\n",
    "print(len(words))\n",
    "print(words)"
   ]
  },
  {
   "cell_type": "code",
   "execution_count": null,
   "id": "d90d29d1-7cf7-4a16-937a-badc9e79dd11",
   "metadata": {},
   "outputs": [],
   "source": []
  }
 ],
 "metadata": {
  "kernelspec": {
   "display_name": "Python 3 (ipykernel)",
   "language": "python",
   "name": "python3"
  },
  "language_info": {
   "codemirror_mode": {
    "name": "ipython",
    "version": 3
   },
   "file_extension": ".py",
   "mimetype": "text/x-python",
   "name": "python",
   "nbconvert_exporter": "python",
   "pygments_lexer": "ipython3",
   "version": "3.12.7"
  },
  "panel-cell-order": [
   "2072bec2",
   "a29fda39",
   "9aaa3da8",
   "2a4288b6",
   "15845788-6b93-4e07-9282-02e183b96cbc"
  ]
 },
 "nbformat": 4,
 "nbformat_minor": 5
}
