{
 "cells": [
  {
   "cell_type": "code",
   "execution_count": 5,
   "id": "f47e8bab",
   "metadata": {
    "scrolled": true
   },
   "outputs": [
    {
     "data": {
      "text/html": [
       "<div>\n",
       "<style scoped>\n",
       "    .dataframe tbody tr th:only-of-type {\n",
       "        vertical-align: middle;\n",
       "    }\n",
       "\n",
       "    .dataframe tbody tr th {\n",
       "        vertical-align: top;\n",
       "    }\n",
       "\n",
       "    .dataframe thead th {\n",
       "        text-align: right;\n",
       "    }\n",
       "</style>\n",
       "<table border=\"1\" class=\"dataframe\">\n",
       "  <thead>\n",
       "    <tr style=\"text-align: right;\">\n",
       "      <th></th>\n",
       "      <th>img_link</th>\n",
       "      <th>tags</th>\n",
       "      <th>likes</th>\n",
       "      <th>comments</th>\n",
       "      <th>img_id</th>\n",
       "      <th>img_path</th>\n",
       "    </tr>\n",
       "  </thead>\n",
       "  <tbody>\n",
       "    <tr>\n",
       "      <th>0</th>\n",
       "      <td>https://cdn.pixabay.com/photo/2022/03/06/05/30...</td>\n",
       "      <td>Clouds, Sky, Atmosphere, Blue Sky</td>\n",
       "      <td>196</td>\n",
       "      <td>55</td>\n",
       "      <td>A00000001</td>\n",
       "      <td>Imgs/A00000001.jpg</td>\n",
       "    </tr>\n",
       "    <tr>\n",
       "      <th>1</th>\n",
       "      <td>https://cdn.pixabay.com/photo/2022/04/07/11/45...</td>\n",
       "      <td>Bird, Ornithology, Hummingbird</td>\n",
       "      <td>76</td>\n",
       "      <td>20</td>\n",
       "      <td>A00000002</td>\n",
       "      <td>Imgs/A00000002.jpg</td>\n",
       "    </tr>\n",
       "    <tr>\n",
       "      <th>2</th>\n",
       "      <td>https://cdn.pixabay.com/photo/2022/02/28/15/28...</td>\n",
       "      <td>Sea, Rainbow, Rainfall, Subtropical</td>\n",
       "      <td>282</td>\n",
       "      <td>106</td>\n",
       "      <td>A00000003</td>\n",
       "      <td>Imgs/A00000003.jpg</td>\n",
       "    </tr>\n",
       "    <tr>\n",
       "      <th>3</th>\n",
       "      <td>https://cdn.pixabay.com/photo/2022/04/04/02/52...</td>\n",
       "      <td>Cherry Blossoms, Road, Japan, Sakura</td>\n",
       "      <td>42</td>\n",
       "      <td>11</td>\n",
       "      <td>A00000004</td>\n",
       "      <td>Imgs/A00000004.jpg</td>\n",
       "    </tr>\n",
       "    <tr>\n",
       "      <th>4</th>\n",
       "      <td>https://cdn.pixabay.com/photo/2022/04/09/18/06...</td>\n",
       "      <td>Cape Marguerite, Flower, Plant</td>\n",
       "      <td>39</td>\n",
       "      <td>15</td>\n",
       "      <td>A00000005</td>\n",
       "      <td>Imgs/A00000005.jpg</td>\n",
       "    </tr>\n",
       "  </tbody>\n",
       "</table>\n",
       "</div>"
      ],
      "text/plain": [
       "                                            img_link  \\\n",
       "0  https://cdn.pixabay.com/photo/2022/03/06/05/30...   \n",
       "1  https://cdn.pixabay.com/photo/2022/04/07/11/45...   \n",
       "2  https://cdn.pixabay.com/photo/2022/02/28/15/28...   \n",
       "3  https://cdn.pixabay.com/photo/2022/04/04/02/52...   \n",
       "4  https://cdn.pixabay.com/photo/2022/04/09/18/06...   \n",
       "\n",
       "                                   tags  likes  comments     img_id  \\\n",
       "0     Clouds, Sky, Atmosphere, Blue Sky    196        55  A00000001   \n",
       "1        Bird, Ornithology, Hummingbird     76        20  A00000002   \n",
       "2   Sea, Rainbow, Rainfall, Subtropical    282       106  A00000003   \n",
       "3  Cherry Blossoms, Road, Japan, Sakura     42        11  A00000004   \n",
       "4        Cape Marguerite, Flower, Plant     39        15  A00000005   \n",
       "\n",
       "             img_path  \n",
       "0  Imgs/A00000001.jpg  \n",
       "1  Imgs/A00000002.jpg  \n",
       "2  Imgs/A00000003.jpg  \n",
       "3  Imgs/A00000004.jpg  \n",
       "4  Imgs/A00000005.jpg  "
      ]
     },
     "execution_count": 5,
     "metadata": {},
     "output_type": "execute_result"
    }
   ],
   "source": [
    "import os\n",
    "import pandas as pd\n",
    "from tqdm import tqdm\n",
    "from shutil import copyfile as copy\n",
    "    \n",
    "df = pd.read_csv('Imgs.csv')\n",
    "df.head()"
   ]
  },
  {
   "cell_type": "markdown",
   "id": "61a20124",
   "metadata": {},
   "source": [
    "### 1. Remove Unnecessary Columns"
   ]
  },
  {
   "cell_type": "code",
   "execution_count": 6,
   "id": "10c078bd",
   "metadata": {},
   "outputs": [
    {
     "data": {
      "text/html": [
       "<div>\n",
       "<style scoped>\n",
       "    .dataframe tbody tr th:only-of-type {\n",
       "        vertical-align: middle;\n",
       "    }\n",
       "\n",
       "    .dataframe tbody tr th {\n",
       "        vertical-align: top;\n",
       "    }\n",
       "\n",
       "    .dataframe thead th {\n",
       "        text-align: right;\n",
       "    }\n",
       "</style>\n",
       "<table border=\"1\" class=\"dataframe\">\n",
       "  <thead>\n",
       "    <tr style=\"text-align: right;\">\n",
       "      <th></th>\n",
       "      <th>tags</th>\n",
       "      <th>img_path</th>\n",
       "    </tr>\n",
       "  </thead>\n",
       "  <tbody>\n",
       "    <tr>\n",
       "      <th>0</th>\n",
       "      <td>Clouds, Sky, Atmosphere, Blue Sky</td>\n",
       "      <td>Imgs/A00000001.jpg</td>\n",
       "    </tr>\n",
       "    <tr>\n",
       "      <th>1</th>\n",
       "      <td>Bird, Ornithology, Hummingbird</td>\n",
       "      <td>Imgs/A00000002.jpg</td>\n",
       "    </tr>\n",
       "    <tr>\n",
       "      <th>2</th>\n",
       "      <td>Sea, Rainbow, Rainfall, Subtropical</td>\n",
       "      <td>Imgs/A00000003.jpg</td>\n",
       "    </tr>\n",
       "    <tr>\n",
       "      <th>3</th>\n",
       "      <td>Cherry Blossoms, Road, Japan, Sakura</td>\n",
       "      <td>Imgs/A00000004.jpg</td>\n",
       "    </tr>\n",
       "    <tr>\n",
       "      <th>4</th>\n",
       "      <td>Cape Marguerite, Flower, Plant</td>\n",
       "      <td>Imgs/A00000005.jpg</td>\n",
       "    </tr>\n",
       "  </tbody>\n",
       "</table>\n",
       "</div>"
      ],
      "text/plain": [
       "                                   tags            img_path\n",
       "0     Clouds, Sky, Atmosphere, Blue Sky  Imgs/A00000001.jpg\n",
       "1        Bird, Ornithology, Hummingbird  Imgs/A00000002.jpg\n",
       "2   Sea, Rainbow, Rainfall, Subtropical  Imgs/A00000003.jpg\n",
       "3  Cherry Blossoms, Road, Japan, Sakura  Imgs/A00000004.jpg\n",
       "4        Cape Marguerite, Flower, Plant  Imgs/A00000005.jpg"
      ]
     },
     "execution_count": 6,
     "metadata": {},
     "output_type": "execute_result"
    }
   ],
   "source": [
    "del df['img_link']\n",
    "del df['img_id']\n",
    "del df['likes']\n",
    "del df['comments']\n",
    "\n",
    "df.head()"
   ]
  },
  {
   "cell_type": "markdown",
   "id": "8c88fcf5",
   "metadata": {},
   "source": [
    "### 2. Finding all the tags"
   ]
  },
  {
   "cell_type": "code",
   "execution_count": 9,
   "id": "d03b397a",
   "metadata": {},
   "outputs": [],
   "source": [
    "t = []\n",
    "\n",
    "for tags in df['tags']:  # Replace NaN with empty string\n",
    "    t += [tag.strip() for tag in tags.split(',')]\n",
    "\n",
    "tags = list(set(t))"
   ]
  },
  {
   "cell_type": "markdown",
   "id": "a76e1b97",
   "metadata": {},
   "source": [
    "### 3. Creating Folders for each Tag"
   ]
  },
  {
   "cell_type": "code",
   "execution_count": 10,
   "id": "5e15750c",
   "metadata": {},
   "outputs": [
    {
     "name": "stderr",
     "output_type": "stream",
     "text": [
      "100%|██████████| 940/940 [00:00<00:00, 12792.03it/s]\n"
     ]
    }
   ],
   "source": [
    "for tag in tqdm(tags):\n",
    "    \n",
    "    try:\n",
    "        os.mkdir('Dataset/' + tag)\n",
    "    except:\n",
    "        pass"
   ]
  },
  {
   "cell_type": "markdown",
   "id": "fb1f2173",
   "metadata": {},
   "source": [
    "### 4. Saving Images in Specific Folders"
   ]
  },
  {
   "cell_type": "code",
   "execution_count": 11,
   "id": "85993615",
   "metadata": {
    "scrolled": true
   },
   "outputs": [
    {
     "name": "stderr",
     "output_type": "stream",
     "text": [
      "100%|██████████| 529/529 [00:03<00:00, 158.19it/s]"
     ]
    },
    {
     "name": "stdout",
     "output_type": "stream",
     "text": [
      "Total errors encountered: 7\n"
     ]
    },
    {
     "name": "stderr",
     "output_type": "stream",
     "text": [
      "\n"
     ]
    }
   ],
   "source": [
    "from shutil import copy\n",
    "from tqdm import tqdm\n",
    "\n",
    "error = 0\n",
    "\n",
    "for data in tqdm(df.values):  # Skip the first row\n",
    "\n",
    "    tags = str(data[0])  # Convert to string to avoid 'float' error\n",
    "    tags = ['Dataset/' + tag.strip() + '/' for tag in tags.split(',')]  # Split and format tags\n",
    "    \n",
    "    src = data[1]\n",
    "    \n",
    "    for tag in tags:\n",
    "        dst = tag + src.split('/')[-1]  # Construct destination path\n",
    "        \n",
    "        try:\n",
    "            copy(src, dst)  # Try copying the file\n",
    "        except Exception as e:  # Catch any exceptions and log the error\n",
    "            error += 1\n",
    "            # print(f\"Error copying from {src} to {dst}: {e}\")\n",
    "\n",
    "# After the loop, print the error count\n",
    "print(f\"Total errors encountered: {error}\")\n"
   ]
  },
  {
   "cell_type": "markdown",
   "id": "7de99750",
   "metadata": {},
   "source": [
    "### 5. Checking Number of Folders"
   ]
  },
  {
   "cell_type": "code",
   "execution_count": 12,
   "id": "417e0edc",
   "metadata": {},
   "outputs": [
    {
     "name": "stdout",
     "output_type": "stream",
     "text": [
      "935\n"
     ]
    }
   ],
   "source": [
    "folders = os.listdir('Dataset')\n",
    "\n",
    "print(len(folders))"
   ]
  },
  {
   "cell_type": "markdown",
   "id": "60399877",
   "metadata": {},
   "source": [
    "### 6. Checking number of Images in Each Folder"
   ]
  },
  {
   "cell_type": "code",
   "execution_count": 13,
   "id": "6a21eb6f",
   "metadata": {},
   "outputs": [
    {
     "name": "stderr",
     "output_type": "stream",
     "text": [
      "100%|██████████| 935/935 [00:00<00:00, 42676.53it/s]\n"
     ]
    }
   ],
   "source": [
    "folder_ = []\n",
    "freq    = []\n",
    "\n",
    "for folder in tqdm(folders):\n",
    "    \n",
    "    try:\n",
    "        freq.append(len(os.listdir('Dataset/' + folder)))\n",
    "        folder_.append(folder)\n",
    "\n",
    "    except:\n",
    "        pass"
   ]
  },
  {
   "cell_type": "markdown",
   "id": "aa4f10bd",
   "metadata": {},
   "source": [
    "### 7. Top 10 Folders with most number of Images"
   ]
  },
  {
   "cell_type": "code",
   "execution_count": 14,
   "id": "29cc7db1",
   "metadata": {
    "scrolled": true
   },
   "outputs": [
    {
     "data": {
      "text/html": [
       "<div>\n",
       "<style scoped>\n",
       "    .dataframe tbody tr th:only-of-type {\n",
       "        vertical-align: middle;\n",
       "    }\n",
       "\n",
       "    .dataframe tbody tr th {\n",
       "        vertical-align: top;\n",
       "    }\n",
       "\n",
       "    .dataframe thead th {\n",
       "        text-align: right;\n",
       "    }\n",
       "</style>\n",
       "<table border=\"1\" class=\"dataframe\">\n",
       "  <thead>\n",
       "    <tr style=\"text-align: right;\">\n",
       "      <th></th>\n",
       "      <th>folder</th>\n",
       "      <th>freq</th>\n",
       "    </tr>\n",
       "  </thead>\n",
       "  <tbody>\n",
       "    <tr>\n",
       "      <th>565</th>\n",
       "      <td>Nature</td>\n",
       "      <td>57</td>\n",
       "    </tr>\n",
       "    <tr>\n",
       "      <th>346</th>\n",
       "      <td>Flowers</td>\n",
       "      <td>53</td>\n",
       "    </tr>\n",
       "    <tr>\n",
       "      <th>73</th>\n",
       "      <td>Bird</td>\n",
       "      <td>53</td>\n",
       "    </tr>\n",
       "    <tr>\n",
       "      <th>344</th>\n",
       "      <td>Flower</td>\n",
       "      <td>47</td>\n",
       "    </tr>\n",
       "    <tr>\n",
       "      <th>23</th>\n",
       "      <td>Animal</td>\n",
       "      <td>33</td>\n",
       "    </tr>\n",
       "    <tr>\n",
       "      <th>588</th>\n",
       "      <td>Ornithology</td>\n",
       "      <td>26</td>\n",
       "    </tr>\n",
       "    <tr>\n",
       "      <th>778</th>\n",
       "      <td>Spring</td>\n",
       "      <td>25</td>\n",
       "    </tr>\n",
       "    <tr>\n",
       "      <th>645</th>\n",
       "      <td>Plant</td>\n",
       "      <td>23</td>\n",
       "    </tr>\n",
       "    <tr>\n",
       "      <th>774</th>\n",
       "      <td>Species</td>\n",
       "      <td>22</td>\n",
       "    </tr>\n",
       "    <tr>\n",
       "      <th>84</th>\n",
       "      <td>Bloom</td>\n",
       "      <td>21</td>\n",
       "    </tr>\n",
       "  </tbody>\n",
       "</table>\n",
       "</div>"
      ],
      "text/plain": [
       "          folder  freq\n",
       "565       Nature    57\n",
       "346      Flowers    53\n",
       "73          Bird    53\n",
       "344       Flower    47\n",
       "23        Animal    33\n",
       "588  Ornithology    26\n",
       "778       Spring    25\n",
       "645        Plant    23\n",
       "774      Species    22\n",
       "84         Bloom    21"
      ]
     },
     "execution_count": 14,
     "metadata": {},
     "output_type": "execute_result"
    }
   ],
   "source": [
    "df_ = pd.DataFrame()\n",
    "\n",
    "df_['folder'] = folder_\n",
    "df_['freq']   = freq\n",
    "\n",
    "df_.sort_values(by = 'freq', ascending = False).head(10)"
   ]
  },
  {
   "cell_type": "markdown",
   "id": "2f5b75e2",
   "metadata": {},
   "source": [
    "### 8. Top 10 Folders with least number of Images"
   ]
  },
  {
   "cell_type": "code",
   "execution_count": 15,
   "id": "7b194451",
   "metadata": {
    "scrolled": false
   },
   "outputs": [
    {
     "data": {
      "text/html": [
       "<div>\n",
       "<style scoped>\n",
       "    .dataframe tbody tr th:only-of-type {\n",
       "        vertical-align: middle;\n",
       "    }\n",
       "\n",
       "    .dataframe tbody tr th {\n",
       "        vertical-align: top;\n",
       "    }\n",
       "\n",
       "    .dataframe thead th {\n",
       "        text-align: right;\n",
       "    }\n",
       "</style>\n",
       "<table border=\"1\" class=\"dataframe\">\n",
       "  <thead>\n",
       "    <tr style=\"text-align: right;\">\n",
       "      <th></th>\n",
       "      <th>folder</th>\n",
       "      <th>freq</th>\n",
       "    </tr>\n",
       "  </thead>\n",
       "  <tbody>\n",
       "    <tr>\n",
       "      <th>466</th>\n",
       "      <td>In einem kleinen Städtchen</td>\n",
       "      <td>0</td>\n",
       "    </tr>\n",
       "    <tr>\n",
       "      <th>916</th>\n",
       "      <td>Wise Men</td>\n",
       "      <td>1</td>\n",
       "    </tr>\n",
       "    <tr>\n",
       "      <th>915</th>\n",
       "      <td>wintering in regions without snow cover and in...</td>\n",
       "      <td>1</td>\n",
       "    </tr>\n",
       "    <tr>\n",
       "      <th>18</th>\n",
       "      <td>America</td>\n",
       "      <td>1</td>\n",
       "    </tr>\n",
       "    <tr>\n",
       "      <th>17</th>\n",
       "      <td>Alpine</td>\n",
       "      <td>1</td>\n",
       "    </tr>\n",
       "    <tr>\n",
       "      <th>16</th>\n",
       "      <td>Alley</td>\n",
       "      <td>1</td>\n",
       "    </tr>\n",
       "    <tr>\n",
       "      <th>15</th>\n",
       "      <td>Alarm Clocks</td>\n",
       "      <td>1</td>\n",
       "    </tr>\n",
       "    <tr>\n",
       "      <th>14</th>\n",
       "      <td>Airspace</td>\n",
       "      <td>1</td>\n",
       "    </tr>\n",
       "    <tr>\n",
       "      <th>13</th>\n",
       "      <td>Airport</td>\n",
       "      <td>1</td>\n",
       "    </tr>\n",
       "    <tr>\n",
       "      <th>12</th>\n",
       "      <td>Aircraft</td>\n",
       "      <td>1</td>\n",
       "    </tr>\n",
       "  </tbody>\n",
       "</table>\n",
       "</div>"
      ],
      "text/plain": [
       "                                                folder  freq\n",
       "466                         In einem kleinen Städtchen     0\n",
       "916                                           Wise Men     1\n",
       "915  wintering in regions without snow cover and in...     1\n",
       "18                                             America     1\n",
       "17                                              Alpine     1\n",
       "16                                               Alley     1\n",
       "15                                        Alarm Clocks     1\n",
       "14                                            Airspace     1\n",
       "13                                             Airport     1\n",
       "12                                            Aircraft     1"
      ]
     },
     "execution_count": 15,
     "metadata": {},
     "output_type": "execute_result"
    }
   ],
   "source": [
    "df_.sort_values(by = 'freq', ascending = True).head(10)"
   ]
  },
  {
   "cell_type": "markdown",
   "id": "f22b7f96",
   "metadata": {},
   "source": [
    "### 9. How many folders are having images more than 10"
   ]
  },
  {
   "cell_type": "code",
   "execution_count": 16,
   "id": "1bfc6765",
   "metadata": {},
   "outputs": [
    {
     "data": {
      "text/html": [
       "<div>\n",
       "<style scoped>\n",
       "    .dataframe tbody tr th:only-of-type {\n",
       "        vertical-align: middle;\n",
       "    }\n",
       "\n",
       "    .dataframe tbody tr th {\n",
       "        vertical-align: top;\n",
       "    }\n",
       "\n",
       "    .dataframe thead th {\n",
       "        text-align: right;\n",
       "    }\n",
       "</style>\n",
       "<table border=\"1\" class=\"dataframe\">\n",
       "  <thead>\n",
       "    <tr style=\"text-align: right;\">\n",
       "      <th></th>\n",
       "      <th>folder</th>\n",
       "      <th>freq</th>\n",
       "    </tr>\n",
       "  </thead>\n",
       "  <tbody>\n",
       "    <tr>\n",
       "      <th>23</th>\n",
       "      <td>Animal</td>\n",
       "      <td>33</td>\n",
       "    </tr>\n",
       "    <tr>\n",
       "      <th>64</th>\n",
       "      <td>Beach</td>\n",
       "      <td>12</td>\n",
       "    </tr>\n",
       "    <tr>\n",
       "      <th>73</th>\n",
       "      <td>Bird</td>\n",
       "      <td>53</td>\n",
       "    </tr>\n",
       "    <tr>\n",
       "      <th>75</th>\n",
       "      <td>Birds</td>\n",
       "      <td>10</td>\n",
       "    </tr>\n",
       "    <tr>\n",
       "      <th>84</th>\n",
       "      <td>Bloom</td>\n",
       "      <td>21</td>\n",
       "    </tr>\n",
       "    <tr>\n",
       "      <th>86</th>\n",
       "      <td>Blossom</td>\n",
       "      <td>18</td>\n",
       "    </tr>\n",
       "    <tr>\n",
       "      <th>97</th>\n",
       "      <td>Botany</td>\n",
       "      <td>10</td>\n",
       "    </tr>\n",
       "    <tr>\n",
       "      <th>148</th>\n",
       "      <td>Cat</td>\n",
       "      <td>10</td>\n",
       "    </tr>\n",
       "    <tr>\n",
       "      <th>173</th>\n",
       "      <td>City</td>\n",
       "      <td>10</td>\n",
       "    </tr>\n",
       "    <tr>\n",
       "      <th>321</th>\n",
       "      <td>Fauna</td>\n",
       "      <td>12</td>\n",
       "    </tr>\n",
       "    <tr>\n",
       "      <th>344</th>\n",
       "      <td>Flower</td>\n",
       "      <td>47</td>\n",
       "    </tr>\n",
       "    <tr>\n",
       "      <th>346</th>\n",
       "      <td>Flowers</td>\n",
       "      <td>53</td>\n",
       "    </tr>\n",
       "    <tr>\n",
       "      <th>352</th>\n",
       "      <td>Forest</td>\n",
       "      <td>16</td>\n",
       "    </tr>\n",
       "    <tr>\n",
       "      <th>491</th>\n",
       "      <td>Lake</td>\n",
       "      <td>13</td>\n",
       "    </tr>\n",
       "    <tr>\n",
       "      <th>494</th>\n",
       "      <td>Landscape</td>\n",
       "      <td>13</td>\n",
       "    </tr>\n",
       "    <tr>\n",
       "      <th>537</th>\n",
       "      <td>Meadow</td>\n",
       "      <td>11</td>\n",
       "    </tr>\n",
       "    <tr>\n",
       "      <th>554</th>\n",
       "      <td>Mountains</td>\n",
       "      <td>14</td>\n",
       "    </tr>\n",
       "    <tr>\n",
       "      <th>565</th>\n",
       "      <td>Nature</td>\n",
       "      <td>57</td>\n",
       "    </tr>\n",
       "    <tr>\n",
       "      <th>588</th>\n",
       "      <td>Ornithology</td>\n",
       "      <td>26</td>\n",
       "    </tr>\n",
       "    <tr>\n",
       "      <th>589</th>\n",
       "      <td>Outdoors</td>\n",
       "      <td>10</td>\n",
       "    </tr>\n",
       "    <tr>\n",
       "      <th>624</th>\n",
       "      <td>Pet</td>\n",
       "      <td>11</td>\n",
       "    </tr>\n",
       "    <tr>\n",
       "      <th>625</th>\n",
       "      <td>Petals</td>\n",
       "      <td>11</td>\n",
       "    </tr>\n",
       "    <tr>\n",
       "      <th>645</th>\n",
       "      <td>Plant</td>\n",
       "      <td>23</td>\n",
       "    </tr>\n",
       "    <tr>\n",
       "      <th>705</th>\n",
       "      <td>Road</td>\n",
       "      <td>10</td>\n",
       "    </tr>\n",
       "    <tr>\n",
       "      <th>731</th>\n",
       "      <td>Sea</td>\n",
       "      <td>17</td>\n",
       "    </tr>\n",
       "    <tr>\n",
       "      <th>763</th>\n",
       "      <td>Snow</td>\n",
       "      <td>10</td>\n",
       "    </tr>\n",
       "    <tr>\n",
       "      <th>774</th>\n",
       "      <td>Species</td>\n",
       "      <td>22</td>\n",
       "    </tr>\n",
       "    <tr>\n",
       "      <th>778</th>\n",
       "      <td>Spring</td>\n",
       "      <td>25</td>\n",
       "    </tr>\n",
       "    <tr>\n",
       "      <th>805</th>\n",
       "      <td>Sunset</td>\n",
       "      <td>12</td>\n",
       "    </tr>\n",
       "    <tr>\n",
       "      <th>856</th>\n",
       "      <td>Travel</td>\n",
       "      <td>10</td>\n",
       "    </tr>\n",
       "    <tr>\n",
       "      <th>857</th>\n",
       "      <td>Tree</td>\n",
       "      <td>10</td>\n",
       "    </tr>\n",
       "    <tr>\n",
       "      <th>858</th>\n",
       "      <td>Trees</td>\n",
       "      <td>11</td>\n",
       "    </tr>\n",
       "    <tr>\n",
       "      <th>885</th>\n",
       "      <td>Water</td>\n",
       "      <td>14</td>\n",
       "    </tr>\n",
       "    <tr>\n",
       "      <th>914</th>\n",
       "      <td>Winter</td>\n",
       "      <td>14</td>\n",
       "    </tr>\n",
       "  </tbody>\n",
       "</table>\n",
       "</div>"
      ],
      "text/plain": [
       "          folder  freq\n",
       "23        Animal    33\n",
       "64         Beach    12\n",
       "73          Bird    53\n",
       "75         Birds    10\n",
       "84         Bloom    21\n",
       "86       Blossom    18\n",
       "97        Botany    10\n",
       "148          Cat    10\n",
       "173         City    10\n",
       "321        Fauna    12\n",
       "344       Flower    47\n",
       "346      Flowers    53\n",
       "352       Forest    16\n",
       "491         Lake    13\n",
       "494    Landscape    13\n",
       "537       Meadow    11\n",
       "554    Mountains    14\n",
       "565       Nature    57\n",
       "588  Ornithology    26\n",
       "589     Outdoors    10\n",
       "624          Pet    11\n",
       "625       Petals    11\n",
       "645        Plant    23\n",
       "705         Road    10\n",
       "731          Sea    17\n",
       "763         Snow    10\n",
       "774      Species    22\n",
       "778       Spring    25\n",
       "805       Sunset    12\n",
       "856       Travel    10\n",
       "857         Tree    10\n",
       "858        Trees    11\n",
       "885        Water    14\n",
       "914       Winter    14"
      ]
     },
     "execution_count": 16,
     "metadata": {},
     "output_type": "execute_result"
    }
   ],
   "source": [
    "df_[df_['freq'] >= 10]"
   ]
  },
  {
   "cell_type": "markdown",
   "id": "ab1f88dd",
   "metadata": {},
   "source": [
    "### 10. Removing the Folders with less than 4 Images"
   ]
  },
  {
   "cell_type": "code",
   "execution_count": 17,
   "id": "1735ff7b",
   "metadata": {
    "scrolled": true
   },
   "outputs": [
    {
     "name": "stderr",
     "output_type": "stream",
     "text": [
      "100%|██████████| 832/832 [00:00<00:00, 1675.09it/s]\n"
     ]
    }
   ],
   "source": [
    "import shutil\n",
    "for i in tqdm(df_[df_['freq'] < 4]['folder']):\n",
    "    \n",
    "    \n",
    "    src = 'Dataset/' + i\n",
    "    dst = 'Temp/' + i\n",
    "    \n",
    "    shutil.move(src, dst)    "
   ]
  },
  {
   "cell_type": "code",
   "execution_count": 18,
   "id": "76b0b245",
   "metadata": {},
   "outputs": [],
   "source": [
    "df = pd.read_csv('final.csv')\n",
    "\n",
    "# del df['img_link']\n",
    "# del df['img_id']\n",
    "# del df['likes']\n",
    "# del df['comments']\n",
    "\n",
    "df.to_csv('final.csv', index = False)\n"
   ]
  },
  {
   "cell_type": "code",
   "execution_count": 19,
   "id": "c08e4c70",
   "metadata": {},
   "outputs": [
    {
     "data": {
      "text/html": [
       "<div>\n",
       "<style scoped>\n",
       "    .dataframe tbody tr th:only-of-type {\n",
       "        vertical-align: middle;\n",
       "    }\n",
       "\n",
       "    .dataframe tbody tr th {\n",
       "        vertical-align: top;\n",
       "    }\n",
       "\n",
       "    .dataframe thead th {\n",
       "        text-align: right;\n",
       "    }\n",
       "</style>\n",
       "<table border=\"1\" class=\"dataframe\">\n",
       "  <thead>\n",
       "    <tr style=\"text-align: right;\">\n",
       "      <th></th>\n",
       "      <th>tags</th>\n",
       "      <th>path</th>\n",
       "    </tr>\n",
       "  </thead>\n",
       "  <tbody>\n",
       "    <tr>\n",
       "      <th>0</th>\n",
       "      <td>Clouds, Sky, Atmosphere, Blue Sky</td>\n",
       "      <td>Imgs/A00000000.jpg</td>\n",
       "    </tr>\n",
       "    <tr>\n",
       "      <th>1</th>\n",
       "      <td>Bird, Ornithology, Hummingbird</td>\n",
       "      <td>Imgs/A00000001.jpg</td>\n",
       "    </tr>\n",
       "    <tr>\n",
       "      <th>2</th>\n",
       "      <td>Sea, Rainbow, Rainfall, Subtropical</td>\n",
       "      <td>Imgs/A00000002.jpg</td>\n",
       "    </tr>\n",
       "    <tr>\n",
       "      <th>3</th>\n",
       "      <td>Cherry Blossoms, Road, Japan, Sakura</td>\n",
       "      <td>Imgs/A00000003.jpg</td>\n",
       "    </tr>\n",
       "    <tr>\n",
       "      <th>4</th>\n",
       "      <td>Cape Marguerite, Flower, Plant</td>\n",
       "      <td>Imgs/A00000004.jpg</td>\n",
       "    </tr>\n",
       "  </tbody>\n",
       "</table>\n",
       "</div>"
      ],
      "text/plain": [
       "                                   tags                path\n",
       "0     Clouds, Sky, Atmosphere, Blue Sky  Imgs/A00000000.jpg\n",
       "1        Bird, Ornithology, Hummingbird  Imgs/A00000001.jpg\n",
       "2   Sea, Rainbow, Rainfall, Subtropical  Imgs/A00000002.jpg\n",
       "3  Cherry Blossoms, Road, Japan, Sakura  Imgs/A00000003.jpg\n",
       "4        Cape Marguerite, Flower, Plant  Imgs/A00000004.jpg"
      ]
     },
     "execution_count": 19,
     "metadata": {},
     "output_type": "execute_result"
    }
   ],
   "source": [
    "df.head()\n"
   ]
  }
 ],
 "metadata": {
  "kernelspec": {
   "display_name": "Python 3",
   "language": "python",
   "name": "python3"
  },
  "language_info": {
   "codemirror_mode": {
    "name": "ipython",
    "version": 3
   },
   "file_extension": ".py",
   "mimetype": "text/x-python",
   "name": "python",
   "nbconvert_exporter": "python",
   "pygments_lexer": "ipython3",
   "version": "3.12.8"
  }
 },
 "nbformat": 4,
 "nbformat_minor": 5
}
