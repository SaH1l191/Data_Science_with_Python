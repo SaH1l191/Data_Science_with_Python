{
 "cells": [
  {
   "cell_type": "code",
   "execution_count": 1,
   "id": "f47e8bab",
   "metadata": {
    "scrolled": true
   },
   "outputs": [
    {
     "data": {
      "text/html": [
       "<div>\n",
       "<style scoped>\n",
       "    .dataframe tbody tr th:only-of-type {\n",
       "        vertical-align: middle;\n",
       "    }\n",
       "\n",
       "    .dataframe tbody tr th {\n",
       "        vertical-align: top;\n",
       "    }\n",
       "\n",
       "    .dataframe thead th {\n",
       "        text-align: right;\n",
       "    }\n",
       "</style>\n",
       "<table border=\"1\" class=\"dataframe\">\n",
       "  <thead>\n",
       "    <tr style=\"text-align: right;\">\n",
       "      <th></th>\n",
       "      <th>tags</th>\n",
       "      <th>path</th>\n",
       "    </tr>\n",
       "  </thead>\n",
       "  <tbody>\n",
       "    <tr>\n",
       "      <th>0</th>\n",
       "      <td>Clouds, Sky, Atmosphere, Blue Sky</td>\n",
       "      <td>Imgs/A00000000.jpg</td>\n",
       "    </tr>\n",
       "    <tr>\n",
       "      <th>1</th>\n",
       "      <td>Bird, Ornithology, Hummingbird</td>\n",
       "      <td>Imgs/A00000001.jpg</td>\n",
       "    </tr>\n",
       "    <tr>\n",
       "      <th>2</th>\n",
       "      <td>Sea, Rainbow, Rainfall, Subtropical</td>\n",
       "      <td>Imgs/A00000002.jpg</td>\n",
       "    </tr>\n",
       "    <tr>\n",
       "      <th>3</th>\n",
       "      <td>Cherry Blossoms, Road, Japan, Sakura</td>\n",
       "      <td>Imgs/A00000003.jpg</td>\n",
       "    </tr>\n",
       "    <tr>\n",
       "      <th>4</th>\n",
       "      <td>Cape Marguerite, Flower, Plant</td>\n",
       "      <td>Imgs/A00000004.jpg</td>\n",
       "    </tr>\n",
       "  </tbody>\n",
       "</table>\n",
       "</div>"
      ],
      "text/plain": [
       "                                   tags                path\n",
       "0     Clouds, Sky, Atmosphere, Blue Sky  Imgs/A00000000.jpg\n",
       "1        Bird, Ornithology, Hummingbird  Imgs/A00000001.jpg\n",
       "2   Sea, Rainbow, Rainfall, Subtropical  Imgs/A00000002.jpg\n",
       "3  Cherry Blossoms, Road, Japan, Sakura  Imgs/A00000003.jpg\n",
       "4        Cape Marguerite, Flower, Plant  Imgs/A00000004.jpg"
      ]
     },
     "execution_count": 1,
     "metadata": {},
     "output_type": "execute_result"
    }
   ],
   "source": [
    "import os\n",
    "import pandas as pd\n",
    "from tqdm import tqdm\n",
    "from shutil import copyfile as copy\n",
    "\n",
    "df = pd.read_csv('final.csv')\n",
    "df.head()"
   ]
  },
  {
   "cell_type": "markdown",
   "id": "61a20124",
   "metadata": {},
   "source": [
    "### 1. Remove Unnecessary Columns"
   ]
  },
  {
   "cell_type": "code",
   "execution_count": 2,
   "id": "10c078bd",
   "metadata": {},
   "outputs": [
    {
     "data": {
      "text/html": [
       "<div>\n",
       "<style scoped>\n",
       "    .dataframe tbody tr th:only-of-type {\n",
       "        vertical-align: middle;\n",
       "    }\n",
       "\n",
       "    .dataframe tbody tr th {\n",
       "        vertical-align: top;\n",
       "    }\n",
       "\n",
       "    .dataframe thead th {\n",
       "        text-align: right;\n",
       "    }\n",
       "</style>\n",
       "<table border=\"1\" class=\"dataframe\">\n",
       "  <thead>\n",
       "    <tr style=\"text-align: right;\">\n",
       "      <th></th>\n",
       "      <th>tags</th>\n",
       "      <th>path</th>\n",
       "    </tr>\n",
       "  </thead>\n",
       "  <tbody>\n",
       "    <tr>\n",
       "      <th>0</th>\n",
       "      <td>Clouds, Sky, Atmosphere, Blue Sky</td>\n",
       "      <td>Imgs/A00000000.jpg</td>\n",
       "    </tr>\n",
       "    <tr>\n",
       "      <th>1</th>\n",
       "      <td>Bird, Ornithology, Hummingbird</td>\n",
       "      <td>Imgs/A00000001.jpg</td>\n",
       "    </tr>\n",
       "    <tr>\n",
       "      <th>2</th>\n",
       "      <td>Sea, Rainbow, Rainfall, Subtropical</td>\n",
       "      <td>Imgs/A00000002.jpg</td>\n",
       "    </tr>\n",
       "    <tr>\n",
       "      <th>3</th>\n",
       "      <td>Cherry Blossoms, Road, Japan, Sakura</td>\n",
       "      <td>Imgs/A00000003.jpg</td>\n",
       "    </tr>\n",
       "    <tr>\n",
       "      <th>4</th>\n",
       "      <td>Cape Marguerite, Flower, Plant</td>\n",
       "      <td>Imgs/A00000004.jpg</td>\n",
       "    </tr>\n",
       "  </tbody>\n",
       "</table>\n",
       "</div>"
      ],
      "text/plain": [
       "                                   tags                path\n",
       "0     Clouds, Sky, Atmosphere, Blue Sky  Imgs/A00000000.jpg\n",
       "1        Bird, Ornithology, Hummingbird  Imgs/A00000001.jpg\n",
       "2   Sea, Rainbow, Rainfall, Subtropical  Imgs/A00000002.jpg\n",
       "3  Cherry Blossoms, Road, Japan, Sakura  Imgs/A00000003.jpg\n",
       "4        Cape Marguerite, Flower, Plant  Imgs/A00000004.jpg"
      ]
     },
     "execution_count": 2,
     "metadata": {},
     "output_type": "execute_result"
    }
   ],
   "source": [
    "# del df['img_link']\n",
    "# del df['img_id']\n",
    "# del df['likes']\n",
    "# del df['comments']\n",
    "\n",
    "df.head()"
   ]
  },
  {
   "cell_type": "markdown",
   "id": "8c88fcf5",
   "metadata": {},
   "source": [
    "### 2. Finding all the tags"
   ]
  },
  {
   "cell_type": "code",
   "execution_count": 6,
   "id": "d03b397a",
   "metadata": {},
   "outputs": [],
   "source": [
    "t = []\n",
    "\n",
    "for tags in df['tags'].fillna(''):  # Replace NaN with empty string\n",
    "    t += [tag.strip() for tag in tags.split(',')]\n",
    "\n",
    "tags = list(set(t))"
   ]
  },
  {
   "cell_type": "markdown",
   "id": "a76e1b97",
   "metadata": {},
   "source": [
    "### 3. Creating Folders for each Tag"
   ]
  },
  {
   "cell_type": "code",
   "execution_count": 7,
   "id": "5e15750c",
   "metadata": {},
   "outputs": [
    {
     "name": "stderr",
     "output_type": "stream",
     "text": [
      "100%|██████████| 64096/64096 [00:01<00:00, 41449.65it/s]\n"
     ]
    }
   ],
   "source": [
    "for tag in tqdm(tags):\n",
    "    \n",
    "    try:\n",
    "        os.mkdir('Dataset/' + tag)\n",
    "    except:\n",
    "        pass"
   ]
  },
  {
   "cell_type": "markdown",
   "id": "fb1f2173",
   "metadata": {},
   "source": [
    "### 4. Saving Images in Specific Folders"
   ]
  },
  {
   "cell_type": "code",
   "execution_count": 9,
   "id": "85993615",
   "metadata": {
    "scrolled": true
   },
   "outputs": [
    {
     "name": "stderr",
     "output_type": "stream",
     "text": [
      "100%|██████████| 205865/205865 [01:05<00:00, 3139.95it/s]"
     ]
    },
    {
     "name": "stdout",
     "output_type": "stream",
     "text": [
      "Total errors encountered: 872172\n"
     ]
    },
    {
     "name": "stderr",
     "output_type": "stream",
     "text": [
      "\n"
     ]
    }
   ],
   "source": [
    "from shutil import copy\n",
    "from tqdm import tqdm\n",
    "\n",
    "error = 0\n",
    "\n",
    "for data in tqdm(df.values[1:]):  # Skip the first row\n",
    "\n",
    "    tags = str(data[0])  # Convert to string to avoid 'float' error\n",
    "    tags = ['Dataset/' + tag.strip() + '/' for tag in tags.split(',')]  # Split and format tags\n",
    "    \n",
    "    src = data[1]\n",
    "    \n",
    "    for tag in tags:\n",
    "        dst = tag + src.split('/')[-1]  # Construct destination path\n",
    "        \n",
    "        try:\n",
    "            copy(src, dst)  # Try copying the file\n",
    "        except Exception as e:  # Catch any exceptions and log the error\n",
    "            error += 1\n",
    "            # print(f\"Error copying from {src} to {dst}: {e}\")\n",
    "\n",
    "# After the loop, print the error count\n",
    "print(f\"Total errors encountered: {error}\")\n"
   ]
  },
  {
   "cell_type": "markdown",
   "id": "7de99750",
   "metadata": {},
   "source": [
    "### 5. Checking Number of Folders"
   ]
  },
  {
   "cell_type": "code",
   "execution_count": 10,
   "id": "417e0edc",
   "metadata": {},
   "outputs": [
    {
     "name": "stdout",
     "output_type": "stream",
     "text": [
      "63978\n"
     ]
    }
   ],
   "source": [
    "folders = os.listdir('Dataset')\n",
    "\n",
    "print(len(folders))"
   ]
  },
  {
   "cell_type": "markdown",
   "id": "60399877",
   "metadata": {},
   "source": [
    "### 6. Checking number of Images in Each Folder"
   ]
  },
  {
   "cell_type": "code",
   "execution_count": 11,
   "id": "6a21eb6f",
   "metadata": {},
   "outputs": [
    {
     "name": "stderr",
     "output_type": "stream",
     "text": [
      "100%|██████████| 63978/63978 [00:02<00:00, 24334.53it/s]\n"
     ]
    }
   ],
   "source": [
    "folder_ = []\n",
    "freq    = []\n",
    "\n",
    "for folder in tqdm(folders):\n",
    "    \n",
    "    try:\n",
    "        freq.append(len(os.listdir('Dataset/' + folder)))\n",
    "        folder_.append(folder)\n",
    "\n",
    "    except:\n",
    "        pass"
   ]
  },
  {
   "cell_type": "markdown",
   "id": "aa4f10bd",
   "metadata": {},
   "source": [
    "### 7. Top 10 Folders with most number of Images"
   ]
  },
  {
   "cell_type": "code",
   "execution_count": 12,
   "id": "29cc7db1",
   "metadata": {
    "scrolled": true
   },
   "outputs": [
    {
     "data": {
      "text/html": [
       "<div>\n",
       "<style scoped>\n",
       "    .dataframe tbody tr th:only-of-type {\n",
       "        vertical-align: middle;\n",
       "    }\n",
       "\n",
       "    .dataframe tbody tr th {\n",
       "        vertical-align: top;\n",
       "    }\n",
       "\n",
       "    .dataframe thead th {\n",
       "        text-align: right;\n",
       "    }\n",
       "</style>\n",
       "<table border=\"1\" class=\"dataframe\">\n",
       "  <thead>\n",
       "    <tr style=\"text-align: right;\">\n",
       "      <th></th>\n",
       "      <th>folder</th>\n",
       "      <th>freq</th>\n",
       "    </tr>\n",
       "  </thead>\n",
       "  <tbody>\n",
       "    <tr>\n",
       "      <th>37424</th>\n",
       "      <td>Nature</td>\n",
       "      <td>24</td>\n",
       "    </tr>\n",
       "    <tr>\n",
       "      <th>20532</th>\n",
       "      <td>Flowers</td>\n",
       "      <td>18</td>\n",
       "    </tr>\n",
       "    <tr>\n",
       "      <th>20331</th>\n",
       "      <td>Flower</td>\n",
       "      <td>15</td>\n",
       "    </tr>\n",
       "    <tr>\n",
       "      <th>5759</th>\n",
       "      <td>Bird</td>\n",
       "      <td>14</td>\n",
       "    </tr>\n",
       "    <tr>\n",
       "      <th>62163</th>\n",
       "      <td>Winter</td>\n",
       "      <td>10</td>\n",
       "    </tr>\n",
       "    <tr>\n",
       "      <th>2086</th>\n",
       "      <td>Animal</td>\n",
       "      <td>9</td>\n",
       "    </tr>\n",
       "    <tr>\n",
       "      <th>52162</th>\n",
       "      <td>spring</td>\n",
       "      <td>9</td>\n",
       "    </tr>\n",
       "    <tr>\n",
       "      <th>6414</th>\n",
       "      <td>Bloom</td>\n",
       "      <td>8</td>\n",
       "    </tr>\n",
       "    <tr>\n",
       "      <th>48884</th>\n",
       "      <td>Sea</td>\n",
       "      <td>8</td>\n",
       "    </tr>\n",
       "    <tr>\n",
       "      <th>46510</th>\n",
       "      <td>Road</td>\n",
       "      <td>8</td>\n",
       "    </tr>\n",
       "  </tbody>\n",
       "</table>\n",
       "</div>"
      ],
      "text/plain": [
       "        folder  freq\n",
       "37424   Nature    24\n",
       "20532  Flowers    18\n",
       "20331   Flower    15\n",
       "5759      Bird    14\n",
       "62163   Winter    10\n",
       "2086    Animal     9\n",
       "52162   spring     9\n",
       "6414     Bloom     8\n",
       "48884      Sea     8\n",
       "46510     Road     8"
      ]
     },
     "execution_count": 12,
     "metadata": {},
     "output_type": "execute_result"
    }
   ],
   "source": [
    "df_ = pd.DataFrame()\n",
    "\n",
    "df_['folder'] = folder_\n",
    "df_['freq']   = freq\n",
    "\n",
    "df_.sort_values(by = 'freq', ascending = False).head(10)"
   ]
  },
  {
   "cell_type": "markdown",
   "id": "2f5b75e2",
   "metadata": {},
   "source": [
    "### 8. Top 10 Folders with least number of Images"
   ]
  },
  {
   "cell_type": "code",
   "execution_count": 13,
   "id": "7b194451",
   "metadata": {
    "scrolled": false
   },
   "outputs": [
    {
     "data": {
      "text/html": [
       "<div>\n",
       "<style scoped>\n",
       "    .dataframe tbody tr th:only-of-type {\n",
       "        vertical-align: middle;\n",
       "    }\n",
       "\n",
       "    .dataframe tbody tr th {\n",
       "        vertical-align: top;\n",
       "    }\n",
       "\n",
       "    .dataframe thead th {\n",
       "        text-align: right;\n",
       "    }\n",
       "</style>\n",
       "<table border=\"1\" class=\"dataframe\">\n",
       "  <thead>\n",
       "    <tr style=\"text-align: right;\">\n",
       "      <th></th>\n",
       "      <th>folder</th>\n",
       "      <th>freq</th>\n",
       "    </tr>\n",
       "  </thead>\n",
       "  <tbody>\n",
       "    <tr>\n",
       "      <th>0</th>\n",
       "      <td>#billeder</td>\n",
       "      <td>0</td>\n",
       "    </tr>\n",
       "    <tr>\n",
       "      <th>1</th>\n",
       "      <td>&amp;quot;All we are saying is give peace a chance...</td>\n",
       "      <td>0</td>\n",
       "    </tr>\n",
       "    <tr>\n",
       "      <th>2</th>\n",
       "      <td>&amp;quot;Gray wagtail&amp;quot; found in rivers and m...</td>\n",
       "      <td>0</td>\n",
       "    </tr>\n",
       "    <tr>\n",
       "      <th>3</th>\n",
       "      <td>&amp;quot;Kentish plover&amp;quot; living on the beach</td>\n",
       "      <td>0</td>\n",
       "    </tr>\n",
       "    <tr>\n",
       "      <th>4</th>\n",
       "      <td>&amp;quot;Natural Monument&amp;quot;</td>\n",
       "      <td>0</td>\n",
       "    </tr>\n",
       "    <tr>\n",
       "      <th>5</th>\n",
       "      <td>&amp;quot;Sand crab&amp;quot; that lives in a burrow o...</td>\n",
       "      <td>0</td>\n",
       "    </tr>\n",
       "    <tr>\n",
       "      <th>63742</th>\n",
       "      <td>Zucchinis</td>\n",
       "      <td>0</td>\n",
       "    </tr>\n",
       "    <tr>\n",
       "      <th>7</th>\n",
       "      <td>000 ft</td>\n",
       "      <td>0</td>\n",
       "    </tr>\n",
       "    <tr>\n",
       "      <th>8</th>\n",
       "      <td>02-Series</td>\n",
       "      <td>0</td>\n",
       "    </tr>\n",
       "    <tr>\n",
       "      <th>9</th>\n",
       "      <td>072</td>\n",
       "      <td>0</td>\n",
       "    </tr>\n",
       "  </tbody>\n",
       "</table>\n",
       "</div>"
      ],
      "text/plain": [
       "                                                  folder  freq\n",
       "0                                              #billeder     0\n",
       "1      &quot;All we are saying is give peace a chance...     0\n",
       "2      &quot;Gray wagtail&quot; found in rivers and m...     0\n",
       "3         &quot;Kentish plover&quot; living on the beach     0\n",
       "4                           &quot;Natural Monument&quot;     0\n",
       "5      &quot;Sand crab&quot; that lives in a burrow o...     0\n",
       "63742                                          Zucchinis     0\n",
       "7                                                 000 ft     0\n",
       "8                                              02-Series     0\n",
       "9                                                    072     0"
      ]
     },
     "execution_count": 13,
     "metadata": {},
     "output_type": "execute_result"
    }
   ],
   "source": [
    "df_.sort_values(by = 'freq', ascending = True).head(10)"
   ]
  },
  {
   "cell_type": "markdown",
   "id": "f22b7f96",
   "metadata": {},
   "source": [
    "### 9. How many folders are having images more than 50"
   ]
  },
  {
   "cell_type": "code",
   "execution_count": 25,
   "id": "1bfc6765",
   "metadata": {},
   "outputs": [
    {
     "data": {
      "text/html": [
       "<div>\n",
       "<style scoped>\n",
       "    .dataframe tbody tr th:only-of-type {\n",
       "        vertical-align: middle;\n",
       "    }\n",
       "\n",
       "    .dataframe tbody tr th {\n",
       "        vertical-align: top;\n",
       "    }\n",
       "\n",
       "    .dataframe thead th {\n",
       "        text-align: right;\n",
       "    }\n",
       "</style>\n",
       "<table border=\"1\" class=\"dataframe\">\n",
       "  <thead>\n",
       "    <tr style=\"text-align: right;\">\n",
       "      <th></th>\n",
       "      <th>folder</th>\n",
       "      <th>freq</th>\n",
       "    </tr>\n",
       "  </thead>\n",
       "  <tbody>\n",
       "    <tr>\n",
       "      <th>5759</th>\n",
       "      <td>Bird</td>\n",
       "      <td>14</td>\n",
       "    </tr>\n",
       "    <tr>\n",
       "      <th>20331</th>\n",
       "      <td>Flower</td>\n",
       "      <td>15</td>\n",
       "    </tr>\n",
       "    <tr>\n",
       "      <th>20532</th>\n",
       "      <td>Flowers</td>\n",
       "      <td>18</td>\n",
       "    </tr>\n",
       "    <tr>\n",
       "      <th>37424</th>\n",
       "      <td>Nature</td>\n",
       "      <td>24</td>\n",
       "    </tr>\n",
       "    <tr>\n",
       "      <th>62163</th>\n",
       "      <td>Winter</td>\n",
       "      <td>10</td>\n",
       "    </tr>\n",
       "  </tbody>\n",
       "</table>\n",
       "</div>"
      ],
      "text/plain": [
       "        folder  freq\n",
       "5759      Bird    14\n",
       "20331   Flower    15\n",
       "20532  Flowers    18\n",
       "37424   Nature    24\n",
       "62163   Winter    10"
      ]
     },
     "execution_count": 25,
     "metadata": {},
     "output_type": "execute_result"
    }
   ],
   "source": [
    "df_[df_['freq'] >= 10]"
   ]
  },
  {
   "cell_type": "markdown",
   "id": "ab1f88dd",
   "metadata": {},
   "source": [
    "### 10. Removing the Folders with less than 50 Images"
   ]
  },
  {
   "cell_type": "code",
   "execution_count": 18,
   "id": "1735ff7b",
   "metadata": {
    "scrolled": true
   },
   "outputs": [
    {
     "name": "stderr",
     "output_type": "stream",
     "text": [
      "100%|██████████| 63944/63944 [01:02<00:00, 1026.53it/s]\n"
     ]
    }
   ],
   "source": [
    "import shutil\n",
    "for i in tqdm(df_[df_['freq'] < 4]['folder']):\n",
    "    \n",
    "    \n",
    "    src = 'Dataset/' + i\n",
    "    dst = 'Temp/' + i\n",
    "    \n",
    "    shutil.move(src, dst)    "
   ]
  },
  {
   "cell_type": "code",
   "execution_count": null,
   "id": "76b0b245",
   "metadata": {},
   "outputs": [],
   "source": [
    "df = pd.read_csv('final.csv')\n",
    "\n",
    "# del df['img_link']\n",
    "# del df['img_id']\n",
    "# del df['likes']\n",
    "# del df['comments']\n",
    "\n",
    "df.to_csv('final.csv', index = False)\n"
   ]
  },
  {
   "cell_type": "code",
   "execution_count": 21,
   "id": "c08e4c70",
   "metadata": {},
   "outputs": [
    {
     "data": {
      "text/html": [
       "<div>\n",
       "<style scoped>\n",
       "    .dataframe tbody tr th:only-of-type {\n",
       "        vertical-align: middle;\n",
       "    }\n",
       "\n",
       "    .dataframe tbody tr th {\n",
       "        vertical-align: top;\n",
       "    }\n",
       "\n",
       "    .dataframe thead th {\n",
       "        text-align: right;\n",
       "    }\n",
       "</style>\n",
       "<table border=\"1\" class=\"dataframe\">\n",
       "  <thead>\n",
       "    <tr style=\"text-align: right;\">\n",
       "      <th></th>\n",
       "      <th>tags</th>\n",
       "      <th>path</th>\n",
       "    </tr>\n",
       "  </thead>\n",
       "  <tbody>\n",
       "    <tr>\n",
       "      <th>0</th>\n",
       "      <td>Clouds, Sky, Atmosphere, Blue Sky</td>\n",
       "      <td>Imgs/A00000000.jpg</td>\n",
       "    </tr>\n",
       "    <tr>\n",
       "      <th>1</th>\n",
       "      <td>Bird, Ornithology, Hummingbird</td>\n",
       "      <td>Imgs/A00000001.jpg</td>\n",
       "    </tr>\n",
       "    <tr>\n",
       "      <th>2</th>\n",
       "      <td>Sea, Rainbow, Rainfall, Subtropical</td>\n",
       "      <td>Imgs/A00000002.jpg</td>\n",
       "    </tr>\n",
       "    <tr>\n",
       "      <th>3</th>\n",
       "      <td>Cherry Blossoms, Road, Japan, Sakura</td>\n",
       "      <td>Imgs/A00000003.jpg</td>\n",
       "    </tr>\n",
       "    <tr>\n",
       "      <th>4</th>\n",
       "      <td>Cape Marguerite, Flower, Plant</td>\n",
       "      <td>Imgs/A00000004.jpg</td>\n",
       "    </tr>\n",
       "  </tbody>\n",
       "</table>\n",
       "</div>"
      ],
      "text/plain": [
       "                                   tags                path\n",
       "0     Clouds, Sky, Atmosphere, Blue Sky  Imgs/A00000000.jpg\n",
       "1        Bird, Ornithology, Hummingbird  Imgs/A00000001.jpg\n",
       "2   Sea, Rainbow, Rainfall, Subtropical  Imgs/A00000002.jpg\n",
       "3  Cherry Blossoms, Road, Japan, Sakura  Imgs/A00000003.jpg\n",
       "4        Cape Marguerite, Flower, Plant  Imgs/A00000004.jpg"
      ]
     },
     "execution_count": 21,
     "metadata": {},
     "output_type": "execute_result"
    }
   ],
   "source": [
    "df.head()\n"
   ]
  }
 ],
 "metadata": {
  "kernelspec": {
   "display_name": "Python 3",
   "language": "python",
   "name": "python3"
  },
  "language_info": {
   "codemirror_mode": {
    "name": "ipython",
    "version": 3
   },
   "file_extension": ".py",
   "mimetype": "text/x-python",
   "name": "python",
   "nbconvert_exporter": "python",
   "pygments_lexer": "ipython3",
   "version": "3.12.8"
  }
 },
 "nbformat": 4,
 "nbformat_minor": 5
}
