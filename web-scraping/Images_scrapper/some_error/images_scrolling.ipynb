{
 "cells": [
  {
   "cell_type": "code",
   "execution_count": 6,
   "id": "b7196e8f-830c-4d7b-a933-6ca9e0f6547f",
   "metadata": {},
   "outputs": [],
   "source": [
    "# !pip install numpy \n",
    "# !pip install pandas \n",
    "# !pip install chromedriver_binary\n",
    "# !pip install beautifulsoup4\n",
    "# !pip install selenium\n",
    "# !pip install webdriver-manager\n",
    "import numpy as np\n",
    "import pandas as pd\n",
    "from bs4 import BeautifulSoup\n",
    "from webdriver_manager.chrome import ChromeDriverManager\n",
    "import chromedriver_binary\n",
    "from selenium import webdriver\n",
    "import requests\n",
    "from bs4 import BeautifulSoup\n",
    "from selenium import webdriver\n",
    "from selenium.webdriver.chrome.service import Service\n",
    "from webdriver_manager.chrome import ChromeDriverManager\n",
    "browser = webdriver.Chrome(service=Service(ChromeDriverManager().install()))\n",
    "browser.get('https://stock-pictures.netlify.app')"
   ]
  },
  {
   "cell_type": "code",
   "execution_count": 7,
   "id": "c66dc71c-82d6-47d0-ab92-56cf4d6a11df",
   "metadata": {},
   "outputs": [],
   "source": [
    "soup  = BeautifulSoup(browser.page_source,'html.parser')"
   ]
  },
  {
   "cell_type": "code",
   "execution_count": 8,
   "id": "c6936320-c056-45e2-9924-18f13e6a942f",
   "metadata": {},
   "outputs": [
    {
     "data": {
      "text/plain": [
       "'https://cdn.pixabay.com/photo/2022/03/06/05/30/clouds-7050884__480.jpg'"
      ]
     },
     "execution_count": 8,
     "metadata": {},
     "output_type": "execute_result"
    }
   ],
   "source": [
    "soup.find('img').get('src')"
   ]
  },
  {
   "cell_type": "code",
   "execution_count": 9,
   "id": "6741a22a-ce44-458c-85da-8ff52526d2b9",
   "metadata": {},
   "outputs": [
    {
     "name": "stdout",
     "output_type": "stream",
     "text": [
      "['Blue', 'Sky', 'Sky,', 'Atmosphere,', 'Clouds,']\n",
      "196\n",
      "55\n",
      "**********\n",
      "['Hummingbird', 'Bird,', 'Ornithology,']\n",
      "76\n",
      "20\n",
      "**********\n",
      "['Sea,', 'Subtropical', 'Rainfall,', 'Rainbow,']\n",
      "282\n",
      "106\n",
      "**********\n",
      "['Japan,', 'Blossoms,', 'Cherry', 'Sakura', 'Road,']\n",
      "42\n",
      "11\n",
      "**********\n",
      "['Marguerite,', 'Plant', 'Flower,', 'Cape']\n",
      "39\n",
      "15\n",
      "**********\n",
      "['Rest', 'Under', 'Tree', 'The', 'Relaxing']\n",
      "522\n",
      "108\n",
      "**********\n",
      "['Rabbit,', 'Wild', 'Cottontail', 'Grass']\n",
      "51\n",
      "10\n",
      "**********\n",
      "['Spring,', 'Plant', 'Flowers,', 'Crocus,']\n",
      "135\n",
      "44\n",
      "**********\n",
      "['Table', 'Café,', 'Vacation,', 'Drink,', 'Coffee,']\n",
      "26\n",
      "5\n",
      "**********\n",
      "['Epic,', 'Fall,', 'Light', 'Nature,', 'Waterfall,']\n",
      "96\n",
      "21\n",
      "**********\n",
      "['Nature', 'Dawn,', 'Sunrise,', 'Morning,', 'Field,']\n",
      "807\n",
      "131\n",
      "**********\n",
      "['Birdwatching,', 'Bird,', 'Robin,', 'Animal']\n",
      "69\n",
      "19\n",
      "**********\n",
      "['Bloom', 'Seedlings,', 'Flowers,', 'Soil,', 'Spring']\n",
      "42\n",
      "9\n",
      "**********\n",
      "['Hills', 'Road,', 'Highway,', 'Countryside,']\n",
      "53\n",
      "14\n",
      "**********\n",
      "['City', 'Monochrome,', 'Cityscape,', 'Bridge,']\n",
      "45\n",
      "13\n",
      "**********\n",
      "['Blossoms,', 'Spring,', 'Cherry', 'Sakura,', 'Water']\n",
      "70\n",
      "12\n",
      "**********\n",
      "['Background,', 'Art', 'Eggs,', 'Template,', 'Easter,']\n",
      "5\n",
      "2\n",
      "**********\n",
      "['Species', 'Indian', 'Chat,', 'Bird,', 'Ornithology,']\n",
      "171\n",
      "53\n",
      "**********\n",
      "['Night,', 'Season', 'Village,', 'Winter,', 'Town,']\n",
      "109\n",
      "15\n",
      "**********\n",
      "['Bloom', 'Blossom,', 'Viola,', 'Flower,', 'Pansy,']\n",
      "55\n",
      "36\n",
      "**********\n",
      "['Vacations', 'Architecture,', 'Port,', 'Lake,']\n",
      "276\n",
      "49\n",
      "**********\n",
      "['Sunflowers,', 'Plant', 'Flowers,']\n",
      "54\n",
      "21\n",
      "**********\n",
      "['Morning', 'Coffee,', 'Flowers,', 'Spring,']\n",
      "40\n",
      "10\n",
      "**********\n",
      "['Wanaka,', 'Mountains', 'Lake,', 'Roys', 'Peak,']\n",
      "69\n",
      "19\n",
      "**********\n",
      "['you,', 'downloads', 'and', 'likes.', 'you', 'many', 'Thank', 'everyone.', 'for']\n",
      "197\n",
      "0\n",
      "**********\n",
      "['Exploration', 'Outdoors,', 'Nature,', 'Beach,']\n",
      "272\n",
      "150\n",
      "**********\n",
      "['sunset.', 'The', 'Danish', 'Shot', 'of', 'during', 'West', 'Coast', 'Jutland.']\n",
      "48\n",
      "11\n",
      "**********\n",
      "['Gentoo', 'Bird,', 'Penguin,', 'Animal']\n",
      "93\n",
      "22\n",
      "**********\n",
      "['Sea,', 'Heaven,', 'Tree', 'Water,', 'Lantern,', 'Beach,']\n",
      "243\n",
      "31\n",
      "**********\n",
      "['Easter', 'Bunny', 'Easter,', 'Spring,']\n",
      "17\n",
      "10\n",
      "**********\n",
      "['green', 'trees', 'daytime', 'formation', 'rock', 'during', 'on', 'lake', 'brown']\n",
      "3098\n",
      "495\n",
      "**********\n",
      "['Tower,', 'Eiffel', 'Tourist', 'Travel', 'Attraction,']\n",
      "83\n",
      "21\n",
      "**********\n",
      "['Standing', 'Stones', 'Stones,', 'Clouds,', 'Menhir,']\n",
      "64\n",
      "49\n",
      "**********\n",
      "['Path', 'Frost,', 'Winter,', 'Snow,', 'Road,', 'Trees,']\n",
      "133\n",
      "24\n",
      "**********\n",
      "['Bird,', 'Woodpecker']\n",
      "28\n",
      "20\n",
      "**********\n",
      "['Tape,', 'Cassette,', 'Retro,', 'Music,', 'Classic']\n",
      "134\n",
      "20\n",
      "**********\n",
      "['Power', 'Clouds,', 'Wind', 'Mills,', 'Energy,']\n",
      "144\n",
      "101\n",
      "**********\n",
      "['Travel,', 'Square,', 'Tourism,', 'Tartini,', 'Piran']\n",
      "70\n",
      "19\n",
      "**********\n",
      "['Eggs', 'Colored', 'Easter', 'Eggs,', 'Nest,']\n",
      "29\n",
      "0\n",
      "**********\n",
      "['Season,', 'Outdoors,', 'Winter,', 'Travel', 'Nature,']\n",
      "111\n",
      "24\n",
      "**********\n",
      "['Glacier', 'Melting', 'Dying', 'Glaciers,', 'Glacier,']\n",
      "36\n",
      "27\n",
      "**********\n",
      "['Nature', 'Green,', 'Forest,', 'Jungle,', 'Tropical,']\n",
      "135\n",
      "22\n",
      "**********\n",
      "['Bloom,', 'Tulip,', 'Blossom,', 'Petals', 'Flower,']\n",
      "92\n",
      "35\n",
      "**********\n",
      "['Petals', 'Flowers,', 'Pink']\n",
      "62\n",
      "0\n",
      "**********\n",
      "['Passion', 'Flower,', 'Passiflora,', 'Flower']\n",
      "97\n",
      "66\n",
      "**********\n",
      "['Faith,', 'Hope,', 'Prayer,', 'Religion,', 'Blessing']\n",
      "175\n",
      "57\n",
      "**********\n",
      "['Cosmos', 'Space,', 'Star,', 'Galaxy,', 'Universe,']\n",
      "45\n",
      "40\n",
      "**********\n",
      "['Insect,', 'Macro', 'Nature,', 'Dragonfly,']\n",
      "19\n",
      "3\n",
      "**********\n"
     ]
    }
   ],
   "source": [
    "data = []\n",
    "\n",
    "for sp in soup.find_all('div',class_='container'):\n",
    "    img_link = sp.find('img').get('src')\n",
    "    tags = list(set(sp.find('div',class_='tags').text[7:].split(' ')))\n",
    "    likes = int(sp.find(class_= 'likes-comments').find_all('span')[0].text.strip()[:-6])\n",
    "    comments = int(sp.find(class_= 'likes-comments').find_all('span')[1].text.strip()[:-8])\n",
    "    print(tags)\n",
    "    print(likes)\n",
    "    print(comments)\n",
    "    print(\"*\"*10)\n",
    "    data.append([img_link, tags, likes, comments])\n",
    "\n",
    "df = pd.DataFrame(data, columns = ['img_link', 'tags', 'likes', 'comments'])\n",
    "df.to_csv('images.csv', index = False)\n"
   ]
  },
  {
   "cell_type": "code",
   "execution_count": 10,
   "id": "c953a0a9-6a8b-4262-9d28-c6cbdc3888ab",
   "metadata": {},
   "outputs": [
    {
     "data": {
      "text/html": [
       "<div>\n",
       "<style scoped>\n",
       "    .dataframe tbody tr th:only-of-type {\n",
       "        vertical-align: middle;\n",
       "    }\n",
       "\n",
       "    .dataframe tbody tr th {\n",
       "        vertical-align: top;\n",
       "    }\n",
       "\n",
       "    .dataframe thead th {\n",
       "        text-align: right;\n",
       "    }\n",
       "</style>\n",
       "<table border=\"1\" class=\"dataframe\">\n",
       "  <thead>\n",
       "    <tr style=\"text-align: right;\">\n",
       "      <th></th>\n",
       "      <th>img_link</th>\n",
       "      <th>tags</th>\n",
       "      <th>likes</th>\n",
       "      <th>comments</th>\n",
       "    </tr>\n",
       "  </thead>\n",
       "  <tbody>\n",
       "    <tr>\n",
       "      <th>0</th>\n",
       "      <td>https://cdn.pixabay.com/photo/2022/03/06/05/30...</td>\n",
       "      <td>[Blue, Sky, Sky,, Atmosphere,, Clouds,]</td>\n",
       "      <td>196</td>\n",
       "      <td>55</td>\n",
       "    </tr>\n",
       "    <tr>\n",
       "      <th>1</th>\n",
       "      <td>https://cdn.pixabay.com/photo/2022/04/07/11/45...</td>\n",
       "      <td>[Hummingbird, Bird,, Ornithology,]</td>\n",
       "      <td>76</td>\n",
       "      <td>20</td>\n",
       "    </tr>\n",
       "    <tr>\n",
       "      <th>2</th>\n",
       "      <td>https://cdn.pixabay.com/photo/2022/02/28/15/28...</td>\n",
       "      <td>[Sea,, Subtropical, Rainfall,, Rainbow,]</td>\n",
       "      <td>282</td>\n",
       "      <td>106</td>\n",
       "    </tr>\n",
       "    <tr>\n",
       "      <th>3</th>\n",
       "      <td>https://cdn.pixabay.com/photo/2022/04/04/02/52...</td>\n",
       "      <td>[Japan,, Blossoms,, Cherry, Sakura, Road,]</td>\n",
       "      <td>42</td>\n",
       "      <td>11</td>\n",
       "    </tr>\n",
       "    <tr>\n",
       "      <th>4</th>\n",
       "      <td>https://cdn.pixabay.com/photo/2022/04/09/18/06...</td>\n",
       "      <td>[Marguerite,, Plant, Flower,, Cape]</td>\n",
       "      <td>39</td>\n",
       "      <td>15</td>\n",
       "    </tr>\n",
       "  </tbody>\n",
       "</table>\n",
       "</div>"
      ],
      "text/plain": [
       "                                            img_link  \\\n",
       "0  https://cdn.pixabay.com/photo/2022/03/06/05/30...   \n",
       "1  https://cdn.pixabay.com/photo/2022/04/07/11/45...   \n",
       "2  https://cdn.pixabay.com/photo/2022/02/28/15/28...   \n",
       "3  https://cdn.pixabay.com/photo/2022/04/04/02/52...   \n",
       "4  https://cdn.pixabay.com/photo/2022/04/09/18/06...   \n",
       "\n",
       "                                         tags  likes  comments  \n",
       "0     [Blue, Sky, Sky,, Atmosphere,, Clouds,]    196        55  \n",
       "1          [Hummingbird, Bird,, Ornithology,]     76        20  \n",
       "2    [Sea,, Subtropical, Rainfall,, Rainbow,]    282       106  \n",
       "3  [Japan,, Blossoms,, Cherry, Sakura, Road,]     42        11  \n",
       "4         [Marguerite,, Plant, Flower,, Cape]     39        15  "
      ]
     },
     "execution_count": 10,
     "metadata": {},
     "output_type": "execute_result"
    }
   ],
   "source": [
    "df.head()"
   ]
  },
  {
   "cell_type": "markdown",
   "id": "c4e4c3a5-0ded-4fc5-a3ae-8d1bec52bfe4",
   "metadata": {},
   "source": [
    "# downloading one images "
   ]
  },
  {
   "cell_type": "code",
   "execution_count": 11,
   "id": "ba74e705-cc75-467a-aba1-bdf380edb708",
   "metadata": {},
   "outputs": [
    {
     "data": {
      "text/plain": [
       "<Response [200]>"
      ]
     },
     "execution_count": 11,
     "metadata": {},
     "output_type": "execute_result"
    }
   ],
   "source": [
    "link = df['img_link'][0]\n",
    "# link\n",
    "res = requests.get(link)\n",
    "res"
   ]
  },
  {
   "cell_type": "code",
   "execution_count": 12,
   "id": "06775d0c-b129-45f4-a47c-c9fa3cbd6a54",
   "metadata": {},
   "outputs": [],
   "source": [
    "fd= open('imgg.png','wb')\n",
    "fd.write(res.content)\n",
    "fd.close()"
   ]
  },
  {
   "cell_type": "markdown",
   "id": "03bc8907-4cb2-4cfb-9b89-009db0051647",
   "metadata": {},
   "source": [
    "# Donwloading all Images \n"
   ]
  },
  {
   "cell_type": "code",
   "execution_count": 13,
   "id": "c203a16f-bb69-4707-bb20-f02f647c70a6",
   "metadata": {},
   "outputs": [],
   "source": [
    "\n",
    "for link in df['img_link']:\n",
    "    res = requests.get(link)\n",
    "    fd = open('Imgs/'+ link.split('/')[-1],'wb')\n",
    "    fd.write(res.content)\n",
    "    fd.close()"
   ]
  },
  {
   "cell_type": "markdown",
   "id": "8c54ade1-f962-4d26-85d9-af73b4a1127b",
   "metadata": {},
   "source": [
    "# Infinite Scrolling \n"
   ]
  },
  {
   "cell_type": "code",
   "execution_count": 7,
   "id": "69ebdf46-b5fa-4a3b-bc9a-3824b039b26b",
   "metadata": {},
   "outputs": [],
   "source": [
    "from bs4 import BeautifulSoup\n",
    "from selenium import webdriver\n",
    "from selenium.webdriver.chrome.service import Service\n",
    "import time\n",
    "from webdriver_manager.chrome import ChromeDriverManager\n",
    "from tqdm import tqdm\n",
    "link='https://stock-pictures.netlify.app'\n",
    "browser = webdriver.Chrome(service=Service(ChromeDriverManager().install()))\n",
    "browser.get(link)\n"
   ]
  },
  {
   "cell_type": "code",
   "execution_count": 8,
   "id": "91c91312-3085-4658-ac2d-f6ed9b859682",
   "metadata": {},
   "outputs": [
    {
     "name": "stderr",
     "output_type": "stream",
     "text": [
      " 19%|███████████████▎                                                                | 103/540 [00:31<02:14,  3.25it/s]\n"
     ]
    },
    {
     "ename": "KeyboardInterrupt",
     "evalue": "",
     "output_type": "error",
     "traceback": [
      "\u001b[1;31m---------------------------------------------------------------------------\u001b[0m",
      "\u001b[1;31mKeyboardInterrupt\u001b[0m                         Traceback (most recent call last)",
      "Cell \u001b[1;32mIn[8], line 4\u001b[0m\n\u001b[0;32m      2\u001b[0m \u001b[38;5;28;01mfor\u001b[39;00m i \u001b[38;5;129;01min\u001b[39;00m tqdm(\u001b[38;5;28mrange\u001b[39m(\u001b[38;5;241m0\u001b[39m,\u001b[38;5;241m540000\u001b[39m,\u001b[38;5;241m1000\u001b[39m)):\n\u001b[0;32m      3\u001b[0m \tbrowser\u001b[38;5;241m.\u001b[39mexecute_script(\u001b[38;5;124m\"\u001b[39m\u001b[38;5;124mwindow.scrollTo(0,\u001b[39m\u001b[38;5;124m\"\u001b[39m \u001b[38;5;241m+\u001b[39m \u001b[38;5;28mstr\u001b[39m(i) \u001b[38;5;241m+\u001b[39m \u001b[38;5;124m\"\u001b[39m\u001b[38;5;124m)\u001b[39m\u001b[38;5;124m\"\u001b[39m)\n\u001b[1;32m----> 4\u001b[0m \t\u001b[43mtime\u001b[49m\u001b[38;5;241;43m.\u001b[39;49m\u001b[43msleep\u001b[49m\u001b[43m(\u001b[49m\u001b[38;5;241;43m.3\u001b[39;49m\u001b[43m)\u001b[49m\n",
      "\u001b[1;31mKeyboardInterrupt\u001b[0m: "
     ]
    }
   ],
   "source": [
    "\n",
    "#Code for Infinite Scroll\n",
    "for i in tqdm(range(0,540000,1000)):\n",
    "\tbrowser.execute_script(\"window.scrollTo(0,\" + str(i) + \")\")  #it excepts the js scirpt to be passed as a string \n",
    "\ttime.sleep(.3)"
   ]
  },
  {
   "cell_type": "markdown",
   "id": "a82df187-f59e-4d02-a2a9-29965c758864",
   "metadata": {},
   "source": [
    "# Implementing dynamic Scrraping for a Website"
   ]
  },
  {
   "cell_type": "code",
   "execution_count": 1,
   "id": "208024de-cb51-4eb6-ab75-d70c5018d093",
   "metadata": {},
   "outputs": [
    {
     "name": "stderr",
     "output_type": "stream",
     "text": [
      " 54%|█████▍    | 291/540 [02:50<02:25,  1.71it/s]\n"
     ]
    },
    {
     "ename": "KeyboardInterrupt",
     "evalue": "",
     "output_type": "error",
     "traceback": [
      "\u001b[1;31m---------------------------------------------------------------------------\u001b[0m",
      "\u001b[1;31mKeyboardInterrupt\u001b[0m                         Traceback (most recent call last)",
      "Cell \u001b[1;32mIn[1], line 30\u001b[0m\n\u001b[0;32m     28\u001b[0m img_link \u001b[38;5;241m=\u001b[39m sp\u001b[38;5;241m.\u001b[39mfind(\u001b[38;5;124m'\u001b[39m\u001b[38;5;124mimg\u001b[39m\u001b[38;5;124m'\u001b[39m)\u001b[38;5;241m.\u001b[39mget(\u001b[38;5;124m'\u001b[39m\u001b[38;5;124msrc\u001b[39m\u001b[38;5;124m'\u001b[39m)\n\u001b[0;32m     29\u001b[0m tags \u001b[38;5;241m=\u001b[39m sp\u001b[38;5;241m.\u001b[39mfind(\u001b[38;5;124m'\u001b[39m\u001b[38;5;124mspan\u001b[39m\u001b[38;5;124m'\u001b[39m, class_\u001b[38;5;241m=\u001b[39m\u001b[38;5;124m'\u001b[39m\u001b[38;5;124mtag-color\u001b[39m\u001b[38;5;124m'\u001b[39m)\u001b[38;5;241m.\u001b[39mtext[\u001b[38;5;241m7\u001b[39m:]\u001b[38;5;241m.\u001b[39mstrip()\n\u001b[1;32m---> 30\u001b[0m likes \u001b[38;5;241m=\u001b[39m \u001b[38;5;28mint\u001b[39m(\u001b[43msp\u001b[49m\u001b[38;5;241;43m.\u001b[39;49m\u001b[43mfind\u001b[49m\u001b[43m(\u001b[49m\u001b[38;5;124;43m'\u001b[39;49m\u001b[38;5;124;43mdiv\u001b[39;49m\u001b[38;5;124;43m'\u001b[39;49m\u001b[43m,\u001b[49m\u001b[43m \u001b[49m\u001b[43mclass_\u001b[49m\u001b[38;5;241;43m=\u001b[39;49m\u001b[38;5;124;43m'\u001b[39;49m\u001b[38;5;124;43mlikes-comments\u001b[39;49m\u001b[38;5;124;43m'\u001b[39;49m\u001b[43m)\u001b[49m\u001b[38;5;241m.\u001b[39mfind_all(\u001b[38;5;124m'\u001b[39m\u001b[38;5;124mspan\u001b[39m\u001b[38;5;124m'\u001b[39m)[\u001b[38;5;241m0\u001b[39m]\u001b[38;5;241m.\u001b[39mtext\u001b[38;5;241m.\u001b[39mstrip()[:\u001b[38;5;241m-\u001b[39m\u001b[38;5;241m6\u001b[39m])\n\u001b[0;32m     31\u001b[0m comments \u001b[38;5;241m=\u001b[39m \u001b[38;5;28mint\u001b[39m(sp\u001b[38;5;241m.\u001b[39mfind(\u001b[38;5;124m'\u001b[39m\u001b[38;5;124mdiv\u001b[39m\u001b[38;5;124m'\u001b[39m, class_\u001b[38;5;241m=\u001b[39m\u001b[38;5;124m'\u001b[39m\u001b[38;5;124mlikes-comments\u001b[39m\u001b[38;5;124m'\u001b[39m)\u001b[38;5;241m.\u001b[39mfind_all(\u001b[38;5;124m'\u001b[39m\u001b[38;5;124mspan\u001b[39m\u001b[38;5;124m'\u001b[39m)[\u001b[38;5;241m1\u001b[39m]\u001b[38;5;241m.\u001b[39mtext\u001b[38;5;241m.\u001b[39mstrip()[:\u001b[38;5;241m-\u001b[39m\u001b[38;5;241m9\u001b[39m])\n\u001b[0;32m     33\u001b[0m \u001b[38;5;66;03m# Append extracted data to the list\u001b[39;00m\n",
      "File \u001b[1;32m~\\AppData\\Local\\Packages\\PythonSoftwareFoundation.Python.3.12_qbz5n2kfra8p0\\LocalCache\\local-packages\\Python312\\site-packages\\bs4\\element.py:2006\u001b[0m, in \u001b[0;36mTag.find\u001b[1;34m(self, name, attrs, recursive, string, **kwargs)\u001b[0m\n\u001b[0;32m   1989\u001b[0m \u001b[38;5;250m\u001b[39m\u001b[38;5;124;03m\"\"\"Look in the children of this PageElement and find the first\u001b[39;00m\n\u001b[0;32m   1990\u001b[0m \u001b[38;5;124;03mPageElement that matches the given criteria.\u001b[39;00m\n\u001b[0;32m   1991\u001b[0m \n\u001b[1;32m   (...)\u001b[0m\n\u001b[0;32m   2003\u001b[0m \u001b[38;5;124;03m:rtype: bs4.element.Tag | bs4.element.NavigableString\u001b[39;00m\n\u001b[0;32m   2004\u001b[0m \u001b[38;5;124;03m\"\"\"\u001b[39;00m\n\u001b[0;32m   2005\u001b[0m r \u001b[38;5;241m=\u001b[39m \u001b[38;5;28;01mNone\u001b[39;00m\n\u001b[1;32m-> 2006\u001b[0m l \u001b[38;5;241m=\u001b[39m \u001b[38;5;28;43mself\u001b[39;49m\u001b[38;5;241;43m.\u001b[39;49m\u001b[43mfind_all\u001b[49m\u001b[43m(\u001b[49m\u001b[43mname\u001b[49m\u001b[43m,\u001b[49m\u001b[43m \u001b[49m\u001b[43mattrs\u001b[49m\u001b[43m,\u001b[49m\u001b[43m \u001b[49m\u001b[43mrecursive\u001b[49m\u001b[43m,\u001b[49m\u001b[43m \u001b[49m\u001b[43mstring\u001b[49m\u001b[43m,\u001b[49m\u001b[43m \u001b[49m\u001b[38;5;241;43m1\u001b[39;49m\u001b[43m,\u001b[49m\u001b[43m \u001b[49m\u001b[43m_stacklevel\u001b[49m\u001b[38;5;241;43m=\u001b[39;49m\u001b[38;5;241;43m3\u001b[39;49m\u001b[43m,\u001b[49m\n\u001b[0;32m   2007\u001b[0m \u001b[43m                  \u001b[49m\u001b[38;5;241;43m*\u001b[39;49m\u001b[38;5;241;43m*\u001b[39;49m\u001b[43mkwargs\u001b[49m\u001b[43m)\u001b[49m\n\u001b[0;32m   2008\u001b[0m \u001b[38;5;28;01mif\u001b[39;00m l:\n\u001b[0;32m   2009\u001b[0m     r \u001b[38;5;241m=\u001b[39m l[\u001b[38;5;241m0\u001b[39m]\n",
      "File \u001b[1;32m~\\AppData\\Local\\Packages\\PythonSoftwareFoundation.Python.3.12_qbz5n2kfra8p0\\LocalCache\\local-packages\\Python312\\site-packages\\bs4\\element.py:2035\u001b[0m, in \u001b[0;36mTag.find_all\u001b[1;34m(self, name, attrs, recursive, string, limit, **kwargs)\u001b[0m\n\u001b[0;32m   2033\u001b[0m     generator \u001b[38;5;241m=\u001b[39m \u001b[38;5;28mself\u001b[39m\u001b[38;5;241m.\u001b[39mchildren\n\u001b[0;32m   2034\u001b[0m _stacklevel \u001b[38;5;241m=\u001b[39m kwargs\u001b[38;5;241m.\u001b[39mpop(\u001b[38;5;124m'\u001b[39m\u001b[38;5;124m_stacklevel\u001b[39m\u001b[38;5;124m'\u001b[39m, \u001b[38;5;241m2\u001b[39m)\n\u001b[1;32m-> 2035\u001b[0m \u001b[38;5;28;01mreturn\u001b[39;00m \u001b[38;5;28;43mself\u001b[39;49m\u001b[38;5;241;43m.\u001b[39;49m\u001b[43m_find_all\u001b[49m\u001b[43m(\u001b[49m\u001b[43mname\u001b[49m\u001b[43m,\u001b[49m\u001b[43m \u001b[49m\u001b[43mattrs\u001b[49m\u001b[43m,\u001b[49m\u001b[43m \u001b[49m\u001b[43mstring\u001b[49m\u001b[43m,\u001b[49m\u001b[43m \u001b[49m\u001b[43mlimit\u001b[49m\u001b[43m,\u001b[49m\u001b[43m \u001b[49m\u001b[43mgenerator\u001b[49m\u001b[43m,\u001b[49m\n\u001b[0;32m   2036\u001b[0m \u001b[43m                      \u001b[49m\u001b[43m_stacklevel\u001b[49m\u001b[38;5;241;43m=\u001b[39;49m\u001b[43m_stacklevel\u001b[49m\u001b[38;5;241;43m+\u001b[39;49m\u001b[38;5;241;43m1\u001b[39;49m\u001b[43m,\u001b[49m\u001b[43m \u001b[49m\u001b[38;5;241;43m*\u001b[39;49m\u001b[38;5;241;43m*\u001b[39;49m\u001b[43mkwargs\u001b[49m\u001b[43m)\u001b[49m\n",
      "File \u001b[1;32m~\\AppData\\Local\\Packages\\PythonSoftwareFoundation.Python.3.12_qbz5n2kfra8p0\\LocalCache\\local-packages\\Python312\\site-packages\\bs4\\element.py:837\u001b[0m, in \u001b[0;36mPageElement._find_all\u001b[1;34m(self, name, attrs, string, limit, generator, **kwargs)\u001b[0m\n\u001b[0;32m    835\u001b[0m \u001b[38;5;28;01mwhile\u001b[39;00m \u001b[38;5;28;01mTrue\u001b[39;00m:\n\u001b[0;32m    836\u001b[0m     \u001b[38;5;28;01mtry\u001b[39;00m:\n\u001b[1;32m--> 837\u001b[0m         i \u001b[38;5;241m=\u001b[39m \u001b[38;5;28;43mnext\u001b[39;49m\u001b[43m(\u001b[49m\u001b[43mgenerator\u001b[49m\u001b[43m)\u001b[49m\n\u001b[0;32m    838\u001b[0m     \u001b[38;5;28;01mexcept\u001b[39;00m \u001b[38;5;167;01mStopIteration\u001b[39;00m:\n\u001b[0;32m    839\u001b[0m         \u001b[38;5;28;01mbreak\u001b[39;00m\n",
      "File \u001b[1;32m~\\AppData\\Local\\Packages\\PythonSoftwareFoundation.Python.3.12_qbz5n2kfra8p0\\LocalCache\\local-packages\\Python312\\site-packages\\bs4\\element.py:2074\u001b[0m, in \u001b[0;36mTag.descendants\u001b[1;34m(self)\u001b[0m\n\u001b[0;32m   2072\u001b[0m current \u001b[38;5;241m=\u001b[39m \u001b[38;5;28mself\u001b[39m\u001b[38;5;241m.\u001b[39mcontents[\u001b[38;5;241m0\u001b[39m]\n\u001b[0;32m   2073\u001b[0m \u001b[38;5;28;01mwhile\u001b[39;00m current \u001b[38;5;129;01mis\u001b[39;00m \u001b[38;5;129;01mnot\u001b[39;00m stopNode:\n\u001b[1;32m-> 2074\u001b[0m     \u001b[38;5;28;01myield\u001b[39;00m current\n\u001b[0;32m   2075\u001b[0m     current \u001b[38;5;241m=\u001b[39m current\u001b[38;5;241m.\u001b[39mnext_element\n",
      "\u001b[1;31mKeyboardInterrupt\u001b[0m: "
     ]
    }
   ],
   "source": [
    "from bs4 import BeautifulSoup\n",
    "from selenium import webdriver\n",
    "from selenium.webdriver.chrome.service import Service\n",
    "import pandas as pd\n",
    "import time\n",
    "from webdriver_manager.chrome import ChromeDriverManager\n",
    "from tqdm import tqdm\n",
    "\n",
    "# Set up the web driver and open the website\n",
    "link = 'https://stock-pictures.netlify.app'\n",
    "browser = webdriver.Chrome(service=Service(ChromeDriverManager().install()))\n",
    "browser.get(link)\n",
    "\n",
    "# Initialize an empty list to store data\n",
    "data = []\n",
    "\n",
    "# Infinite scrolling and scraping ( start pixels, end  pixels , step)\n",
    "for i in tqdm(range(0, 540000, 1000)):\n",
    "    browser.execute_script(f\"window.scrollTo(0, {i})\")  # Scroll the page\n",
    "    time.sleep(0.3)  # Short delay to allow content to load\n",
    "\n",
    "    # Scrape the page after each scroll\n",
    "    soup = BeautifulSoup(browser.page_source, 'html.parser')\n",
    "\n",
    "    # Find all 'container' divs and extract details\n",
    "    for sp in soup.find_all('div', class_='container'):\n",
    "        try:\n",
    "            img_link = sp.find('img').get('src')\n",
    "            tags = sp.find('span', class_='tag-color').text[7:].strip()\n",
    "            likes = int(sp.find('div', class_='likes-comments').find_all('span')[0].text.strip()[:-6])\n",
    "            comments = int(sp.find('div', class_='likes-comments').find_all('span')[1].text.strip()[:-9])\n",
    "\n",
    "            # Append extracted data to the list\n",
    "            data.append([img_link, tags, likes, comments])\n",
    "\n",
    "        except Exception as e:\n",
    "            print(f\"Error extracting data: {e}\")\n",
    "\n",
    "# Close the browser\n",
    "browser.quit()\n",
    "\n",
    "# Creating a DataFrame and saving it to a CSV file\n",
    "df = pd.DataFrame(data, columns=['img_link', 'tags', 'likes', 'comments'])\n",
    "df.drop_duplicates(inplace=True)  # Remove duplicate entries\n",
    "df.to_csv('images.csv', index=False)\n",
    "\n",
    "print(\"Scraping completed successfully. Data saved to images.csv\")\n"
   ]
  },
  {
   "cell_type": "code",
   "execution_count": 14,
   "id": "3763cf1a-4b35-43b8-a263-c98410d2b494",
   "metadata": {},
   "outputs": [
    {
     "data": {
      "text/plain": [
       "48"
      ]
     },
     "execution_count": 14,
     "metadata": {},
     "output_type": "execute_result"
    }
   ],
   "source": [
    "len(data)"
   ]
  }
 ],
 "metadata": {
  "kernelspec": {
   "display_name": "Python 3",
   "language": "python",
   "name": "python3"
  },
  "language_info": {
   "codemirror_mode": {
    "name": "ipython",
    "version": 3
   },
   "file_extension": ".py",
   "mimetype": "text/x-python",
   "name": "python",
   "nbconvert_exporter": "python",
   "pygments_lexer": "ipython3",
   "version": "3.12.8"
  }
 },
 "nbformat": 4,
 "nbformat_minor": 5
}
