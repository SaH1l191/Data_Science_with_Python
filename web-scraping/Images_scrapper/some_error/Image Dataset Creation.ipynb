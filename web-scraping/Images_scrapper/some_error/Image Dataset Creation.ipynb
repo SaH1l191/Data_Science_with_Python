{
 "cells": [
  {
   "cell_type": "code",
   "execution_count": 1,
   "id": "f47e8bab",
   "metadata": {
    "scrolled": true
   },
   "outputs": [
    {
     "data": {
      "text/html": [
       "<div>\n",
       "<style scoped>\n",
       "    .dataframe tbody tr th:only-of-type {\n",
       "        vertical-align: middle;\n",
       "    }\n",
       "\n",
       "    .dataframe tbody tr th {\n",
       "        vertical-align: top;\n",
       "    }\n",
       "\n",
       "    .dataframe thead th {\n",
       "        text-align: right;\n",
       "    }\n",
       "</style>\n",
       "<table border=\"1\" class=\"dataframe\">\n",
       "  <thead>\n",
       "    <tr style=\"text-align: right;\">\n",
       "      <th></th>\n",
       "      <th>tags</th>\n",
       "      <th>path</th>\n",
       "    </tr>\n",
       "  </thead>\n",
       "  <tbody>\n",
       "    <tr>\n",
       "      <th>0</th>\n",
       "      <td>Clouds, Sky, Atmosphere, Blue Sky</td>\n",
       "      <td>Imgs/A00000000.jpg</td>\n",
       "    </tr>\n",
       "    <tr>\n",
       "      <th>1</th>\n",
       "      <td>Bird, Ornithology, Hummingbird</td>\n",
       "      <td>Imgs/A00000001.jpg</td>\n",
       "    </tr>\n",
       "    <tr>\n",
       "      <th>2</th>\n",
       "      <td>Sea, Rainbow, Rainfall, Subtropical</td>\n",
       "      <td>Imgs/A00000002.jpg</td>\n",
       "    </tr>\n",
       "    <tr>\n",
       "      <th>3</th>\n",
       "      <td>Cherry Blossoms, Road, Japan, Sakura</td>\n",
       "      <td>Imgs/A00000003.jpg</td>\n",
       "    </tr>\n",
       "    <tr>\n",
       "      <th>4</th>\n",
       "      <td>Cape Marguerite, Flower, Plant</td>\n",
       "      <td>Imgs/A00000004.jpg</td>\n",
       "    </tr>\n",
       "  </tbody>\n",
       "</table>\n",
       "</div>"
      ],
      "text/plain": [
       "                                   tags                path\n",
       "0     Clouds, Sky, Atmosphere, Blue Sky  Imgs/A00000000.jpg\n",
       "1        Bird, Ornithology, Hummingbird  Imgs/A00000001.jpg\n",
       "2   Sea, Rainbow, Rainfall, Subtropical  Imgs/A00000002.jpg\n",
       "3  Cherry Blossoms, Road, Japan, Sakura  Imgs/A00000003.jpg\n",
       "4        Cape Marguerite, Flower, Plant  Imgs/A00000004.jpg"
      ]
     },
     "execution_count": 1,
     "metadata": {},
     "output_type": "execute_result"
    }
   ],
   "source": [
    "import os\n",
    "import pandas as pd\n",
    "from tqdm import tqdm\n",
    "from shutil import copyfile as copy\n",
    "\n",
    "df = pd.read_csv('final.csv')\n",
    "df.head()"
   ]
  },
  {
   "cell_type": "markdown",
   "id": "61a20124",
   "metadata": {},
   "source": [
    "### 1. Remove Unnecessary Columns"
   ]
  },
  {
   "cell_type": "code",
   "execution_count": 3,
   "id": "10c078bd",
   "metadata": {},
   "outputs": [
    {
     "data": {
      "text/html": [
       "<div>\n",
       "<style scoped>\n",
       "    .dataframe tbody tr th:only-of-type {\n",
       "        vertical-align: middle;\n",
       "    }\n",
       "\n",
       "    .dataframe tbody tr th {\n",
       "        vertical-align: top;\n",
       "    }\n",
       "\n",
       "    .dataframe thead th {\n",
       "        text-align: right;\n",
       "    }\n",
       "</style>\n",
       "<table border=\"1\" class=\"dataframe\">\n",
       "  <thead>\n",
       "    <tr style=\"text-align: right;\">\n",
       "      <th></th>\n",
       "      <th>tags</th>\n",
       "      <th>path</th>\n",
       "    </tr>\n",
       "  </thead>\n",
       "  <tbody>\n",
       "    <tr>\n",
       "      <th>0</th>\n",
       "      <td>Clouds, Sky, Atmosphere, Blue Sky</td>\n",
       "      <td>Imgs/A00000000.jpg</td>\n",
       "    </tr>\n",
       "    <tr>\n",
       "      <th>1</th>\n",
       "      <td>Bird, Ornithology, Hummingbird</td>\n",
       "      <td>Imgs/A00000001.jpg</td>\n",
       "    </tr>\n",
       "    <tr>\n",
       "      <th>2</th>\n",
       "      <td>Sea, Rainbow, Rainfall, Subtropical</td>\n",
       "      <td>Imgs/A00000002.jpg</td>\n",
       "    </tr>\n",
       "    <tr>\n",
       "      <th>3</th>\n",
       "      <td>Cherry Blossoms, Road, Japan, Sakura</td>\n",
       "      <td>Imgs/A00000003.jpg</td>\n",
       "    </tr>\n",
       "    <tr>\n",
       "      <th>4</th>\n",
       "      <td>Cape Marguerite, Flower, Plant</td>\n",
       "      <td>Imgs/A00000004.jpg</td>\n",
       "    </tr>\n",
       "  </tbody>\n",
       "</table>\n",
       "</div>"
      ],
      "text/plain": [
       "                                   tags                path\n",
       "0     Clouds, Sky, Atmosphere, Blue Sky  Imgs/A00000000.jpg\n",
       "1        Bird, Ornithology, Hummingbird  Imgs/A00000001.jpg\n",
       "2   Sea, Rainbow, Rainfall, Subtropical  Imgs/A00000002.jpg\n",
       "3  Cherry Blossoms, Road, Japan, Sakura  Imgs/A00000003.jpg\n",
       "4        Cape Marguerite, Flower, Plant  Imgs/A00000004.jpg"
      ]
     },
     "execution_count": 3,
     "metadata": {},
     "output_type": "execute_result"
    }
   ],
   "source": [
    "# del df['img_link']\n",
    "# del df['img_id']\n",
    "# del df['likes']\n",
    "# del df['comments']\n",
    "\n",
    "df.head()"
   ]
  },
  {
   "cell_type": "markdown",
   "id": "8c88fcf5",
   "metadata": {},
   "source": [
    "### 2. Finding all the tags"
   ]
  },
  {
   "cell_type": "code",
   "execution_count": 36,
   "id": "d03b397a",
   "metadata": {},
   "outputs": [
    {
     "ename": "AttributeError",
     "evalue": "'float' object has no attribute 'split'",
     "output_type": "error",
     "traceback": [
      "\u001b[1;31m---------------------------------------------------------------------------\u001b[0m",
      "\u001b[1;31mAttributeError\u001b[0m                            Traceback (most recent call last)",
      "Cell \u001b[1;32mIn[36], line 5\u001b[0m\n\u001b[0;32m      1\u001b[0m t \u001b[38;5;241m=\u001b[39m []\n\u001b[0;32m      3\u001b[0m \u001b[38;5;28;01mfor\u001b[39;00m tags \u001b[38;5;129;01min\u001b[39;00m df[\u001b[38;5;124m'\u001b[39m\u001b[38;5;124mtags\u001b[39m\u001b[38;5;124m'\u001b[39m]:\n\u001b[1;32m----> 5\u001b[0m     t \u001b[38;5;241m+\u001b[39m\u001b[38;5;241m=\u001b[39m [tag\u001b[38;5;241m.\u001b[39mstrip() \u001b[38;5;28;01mfor\u001b[39;00m tag \u001b[38;5;129;01min\u001b[39;00m \u001b[43mtags\u001b[49m\u001b[38;5;241;43m.\u001b[39;49m\u001b[43msplit\u001b[49m(\u001b[38;5;124m'\u001b[39m\u001b[38;5;124m,\u001b[39m\u001b[38;5;124m'\u001b[39m)]\n\u001b[0;32m      7\u001b[0m tags \u001b[38;5;241m=\u001b[39m \u001b[38;5;28mlist\u001b[39m(\u001b[38;5;28mset\u001b[39m(t))\n",
      "\u001b[1;31mAttributeError\u001b[0m: 'float' object has no attribute 'split'"
     ]
    }
   ],
   "source": [
    "t = []\n",
    "\n",
    "for tags in df['tags']:\n",
    "    \n",
    "    t += [tag.strip() for tag in tags.split(',')]\n",
    "\n",
    "tags = list(set(t))"
   ]
  },
  {
   "cell_type": "markdown",
   "id": "a76e1b97",
   "metadata": {},
   "source": [
    "### 3. Creating Folders for each Tag"
   ]
  },
  {
   "cell_type": "code",
   "execution_count": 68,
   "id": "5e15750c",
   "metadata": {},
   "outputs": [
    {
     "name": "stderr",
     "output_type": "stream",
     "text": [
      "100%|██████████████████████████████████| 64096/64096 [00:02<00:00, 26828.99it/s]\n"
     ]
    }
   ],
   "source": [
    "for tag in tqdm(tags):\n",
    "    \n",
    "    try:\n",
    "        os.mkdir('Dataset/' + tag)\n",
    "    except:\n",
    "        pass"
   ]
  },
  {
   "cell_type": "markdown",
   "id": "fb1f2173",
   "metadata": {},
   "source": [
    "### 4. Saving Images in Specific Folders"
   ]
  },
  {
   "cell_type": "code",
   "execution_count": 105,
   "id": "85993615",
   "metadata": {
    "scrolled": true
   },
   "outputs": [
    {
     "name": "stderr",
     "output_type": "stream",
     "text": [
      "100%|██████████████████████████████████| 205866/205866 [06:58<00:00, 492.38it/s]\n"
     ]
    }
   ],
   "source": [
    "error = 0\n",
    "\n",
    "for data in tqdm(df.values):\n",
    "    \n",
    "    tags = data[0]\n",
    "    tags = ['Dataset/' + tag.strip() + '/' for tag in tags.split(',')]\n",
    "    \n",
    "    src = data[1]\n",
    "    \n",
    "    for i in tags:\n",
    "        \n",
    "        dst = i + src.split('/')[-1]\n",
    "        \n",
    "        try:\n",
    "            copy(src, dst)\n",
    "        except:\n",
    "            error += 1"
   ]
  },
  {
   "cell_type": "markdown",
   "id": "7de99750",
   "metadata": {},
   "source": [
    "### 5. Checking Number of Folders"
   ]
  },
  {
   "cell_type": "code",
   "execution_count": 110,
   "id": "417e0edc",
   "metadata": {},
   "outputs": [
    {
     "name": "stdout",
     "output_type": "stream",
     "text": [
      "64010\n"
     ]
    }
   ],
   "source": [
    "folders = os.listdir('Dataset')\n",
    "\n",
    "print(len(folders))"
   ]
  },
  {
   "cell_type": "markdown",
   "id": "60399877",
   "metadata": {},
   "source": [
    "### 6. Checking number of Images in Each Folder"
   ]
  },
  {
   "cell_type": "code",
   "execution_count": 125,
   "id": "6a21eb6f",
   "metadata": {},
   "outputs": [
    {
     "name": "stderr",
     "output_type": "stream",
     "text": [
      "100%|██████████████████████████████████| 64010/64010 [00:01<00:00, 33199.12it/s]\n"
     ]
    }
   ],
   "source": [
    "folder_ = []\n",
    "freq    = []\n",
    "\n",
    "for folder in tqdm(folders):\n",
    "    \n",
    "    try:\n",
    "        freq.append(len(os.listdir('Dataset/' + folder)))\n",
    "        folder_.append(folder)\n",
    "\n",
    "    except:\n",
    "        pass"
   ]
  },
  {
   "cell_type": "markdown",
   "id": "aa4f10bd",
   "metadata": {},
   "source": [
    "### 7. Top 10 Folders with most number of Images"
   ]
  },
  {
   "cell_type": "code",
   "execution_count": 37,
   "id": "29cc7db1",
   "metadata": {
    "scrolled": true
   },
   "outputs": [
    {
     "ename": "NameError",
     "evalue": "name 'folder_' is not defined",
     "output_type": "error",
     "traceback": [
      "\u001b[1;31m---------------------------------------------------------------------------\u001b[0m",
      "\u001b[1;31mNameError\u001b[0m                                 Traceback (most recent call last)",
      "Cell \u001b[1;32mIn[37], line 3\u001b[0m\n\u001b[0;32m      1\u001b[0m df_ \u001b[38;5;241m=\u001b[39m pd\u001b[38;5;241m.\u001b[39mDataFrame()\n\u001b[1;32m----> 3\u001b[0m df_[\u001b[38;5;124m'\u001b[39m\u001b[38;5;124mfolder\u001b[39m\u001b[38;5;124m'\u001b[39m] \u001b[38;5;241m=\u001b[39m \u001b[43mfolder_\u001b[49m\n\u001b[0;32m      4\u001b[0m df_[\u001b[38;5;124m'\u001b[39m\u001b[38;5;124mfreq\u001b[39m\u001b[38;5;124m'\u001b[39m]   \u001b[38;5;241m=\u001b[39m freq\n\u001b[0;32m      6\u001b[0m df_\u001b[38;5;241m.\u001b[39msort_values(by \u001b[38;5;241m=\u001b[39m \u001b[38;5;124m'\u001b[39m\u001b[38;5;124mfreq\u001b[39m\u001b[38;5;124m'\u001b[39m, ascending \u001b[38;5;241m=\u001b[39m \u001b[38;5;28;01mFalse\u001b[39;00m)\u001b[38;5;241m.\u001b[39mhead(\u001b[38;5;241m10\u001b[39m)\n",
      "\u001b[1;31mNameError\u001b[0m: name 'folder_' is not defined"
     ]
    }
   ],
   "source": [
    "df_ = pd.DataFrame()\n",
    "\n",
    "df_['folder'] = folder_\n",
    "df_['freq']   = freq\n",
    "\n",
    "df_.sort_values(by = 'freq', ascending = False).head(10)"
   ]
  },
  {
   "cell_type": "markdown",
   "id": "2f5b75e2",
   "metadata": {},
   "source": [
    "### 8. Top 10 Folders with least number of Images"
   ]
  },
  {
   "cell_type": "code",
   "execution_count": 134,
   "id": "7b194451",
   "metadata": {
    "scrolled": false
   },
   "outputs": [
    {
     "data": {
      "text/html": [
       "<div>\n",
       "<style scoped>\n",
       "    .dataframe tbody tr th:only-of-type {\n",
       "        vertical-align: middle;\n",
       "    }\n",
       "\n",
       "    .dataframe tbody tr th {\n",
       "        vertical-align: top;\n",
       "    }\n",
       "\n",
       "    .dataframe thead th {\n",
       "        text-align: right;\n",
       "    }\n",
       "</style>\n",
       "<table border=\"1\" class=\"dataframe\">\n",
       "  <thead>\n",
       "    <tr style=\"text-align: right;\">\n",
       "      <th></th>\n",
       "      <th>folder</th>\n",
       "      <th>freq</th>\n",
       "    </tr>\n",
       "  </thead>\n",
       "  <tbody>\n",
       "    <tr>\n",
       "      <th>31999</th>\n",
       "      <td>Karroo</td>\n",
       "      <td>1</td>\n",
       "    </tr>\n",
       "    <tr>\n",
       "      <th>37018</th>\n",
       "      <td>Snow Woman</td>\n",
       "      <td>1</td>\n",
       "    </tr>\n",
       "    <tr>\n",
       "      <th>37019</th>\n",
       "      <td>Don'T Like</td>\n",
       "      <td>1</td>\n",
       "    </tr>\n",
       "    <tr>\n",
       "      <th>37021</th>\n",
       "      <td>Arboreal</td>\n",
       "      <td>1</td>\n",
       "    </tr>\n",
       "    <tr>\n",
       "      <th>37023</th>\n",
       "      <td>Nandine</td>\n",
       "      <td>1</td>\n",
       "    </tr>\n",
       "    <tr>\n",
       "      <th>37024</th>\n",
       "      <td>Girl With Mobile</td>\n",
       "      <td>1</td>\n",
       "    </tr>\n",
       "    <tr>\n",
       "      <th>37025</th>\n",
       "      <td>Topkapä± Palace</td>\n",
       "      <td>1</td>\n",
       "    </tr>\n",
       "    <tr>\n",
       "      <th>37027</th>\n",
       "      <td>Ekh</td>\n",
       "      <td>1</td>\n",
       "    </tr>\n",
       "    <tr>\n",
       "      <th>37028</th>\n",
       "      <td>Fischer-Art In Sebnitz</td>\n",
       "      <td>1</td>\n",
       "    </tr>\n",
       "    <tr>\n",
       "      <th>37029</th>\n",
       "      <td>Five Grain Rice</td>\n",
       "      <td>1</td>\n",
       "    </tr>\n",
       "  </tbody>\n",
       "</table>\n",
       "</div>"
      ],
      "text/plain": [
       "                       folder  freq\n",
       "31999                  Karroo     1\n",
       "37018              Snow Woman     1\n",
       "37019              Don'T Like     1\n",
       "37021                Arboreal     1\n",
       "37023                 Nandine     1\n",
       "37024        Girl With Mobile     1\n",
       "37025         Topkapä± Palace     1\n",
       "37027                     Ekh     1\n",
       "37028  Fischer-Art In Sebnitz     1\n",
       "37029         Five Grain Rice     1"
      ]
     },
     "execution_count": 134,
     "metadata": {},
     "output_type": "execute_result"
    }
   ],
   "source": [
    "df_.sort_values(by = 'freq', ascending = True).head(10)"
   ]
  },
  {
   "cell_type": "markdown",
   "id": "f22b7f96",
   "metadata": {},
   "source": [
    "### 9. How many folders are having images more than 50"
   ]
  },
  {
   "cell_type": "code",
   "execution_count": 140,
   "id": "1bfc6765",
   "metadata": {},
   "outputs": [
    {
     "data": {
      "text/html": [
       "<div>\n",
       "<style scoped>\n",
       "    .dataframe tbody tr th:only-of-type {\n",
       "        vertical-align: middle;\n",
       "    }\n",
       "\n",
       "    .dataframe tbody tr th {\n",
       "        vertical-align: top;\n",
       "    }\n",
       "\n",
       "    .dataframe thead th {\n",
       "        text-align: right;\n",
       "    }\n",
       "</style>\n",
       "<table border=\"1\" class=\"dataframe\">\n",
       "  <thead>\n",
       "    <tr style=\"text-align: right;\">\n",
       "      <th></th>\n",
       "      <th>folder</th>\n",
       "      <th>freq</th>\n",
       "    </tr>\n",
       "  </thead>\n",
       "  <tbody>\n",
       "    <tr>\n",
       "      <th>36</th>\n",
       "      <td>Usa</td>\n",
       "      <td>444</td>\n",
       "    </tr>\n",
       "    <tr>\n",
       "      <th>55</th>\n",
       "      <td>Dried</td>\n",
       "      <td>95</td>\n",
       "    </tr>\n",
       "    <tr>\n",
       "      <th>61</th>\n",
       "      <td>Volkswagen</td>\n",
       "      <td>53</td>\n",
       "    </tr>\n",
       "    <tr>\n",
       "      <th>88</th>\n",
       "      <td>Hunter</td>\n",
       "      <td>54</td>\n",
       "    </tr>\n",
       "    <tr>\n",
       "      <th>109</th>\n",
       "      <td>Porsche</td>\n",
       "      <td>52</td>\n",
       "    </tr>\n",
       "    <tr>\n",
       "      <th>...</th>\n",
       "      <td>...</td>\n",
       "      <td>...</td>\n",
       "    </tr>\n",
       "    <tr>\n",
       "      <th>63909</th>\n",
       "      <td>Frogs</td>\n",
       "      <td>69</td>\n",
       "    </tr>\n",
       "    <tr>\n",
       "      <th>63923</th>\n",
       "      <td>Flow</td>\n",
       "      <td>551</td>\n",
       "    </tr>\n",
       "    <tr>\n",
       "      <th>63944</th>\n",
       "      <td>Poultry</td>\n",
       "      <td>332</td>\n",
       "    </tr>\n",
       "    <tr>\n",
       "      <th>63967</th>\n",
       "      <td>Police</td>\n",
       "      <td>61</td>\n",
       "    </tr>\n",
       "    <tr>\n",
       "      <th>63972</th>\n",
       "      <td>Exotic</td>\n",
       "      <td>264</td>\n",
       "    </tr>\n",
       "  </tbody>\n",
       "</table>\n",
       "<p>1972 rows × 2 columns</p>\n",
       "</div>"
      ],
      "text/plain": [
       "           folder  freq\n",
       "36            Usa   444\n",
       "55          Dried    95\n",
       "61     Volkswagen    53\n",
       "88         Hunter    54\n",
       "109       Porsche    52\n",
       "...           ...   ...\n",
       "63909       Frogs    69\n",
       "63923        Flow   551\n",
       "63944     Poultry   332\n",
       "63967      Police    61\n",
       "63972      Exotic   264\n",
       "\n",
       "[1972 rows x 2 columns]"
      ]
     },
     "execution_count": 140,
     "metadata": {},
     "output_type": "execute_result"
    }
   ],
   "source": [
    "df_[df_['freq'] >= 50]"
   ]
  },
  {
   "cell_type": "markdown",
   "id": "ab1f88dd",
   "metadata": {},
   "source": [
    "### 10. Removing the Folders with less than 50 Images"
   ]
  },
  {
   "cell_type": "code",
   "execution_count": 156,
   "id": "1735ff7b",
   "metadata": {
    "scrolled": true
   },
   "outputs": [
    {
     "name": "stderr",
     "output_type": "stream",
     "text": [
      "100%|██████████████████████████████████| 62028/62028 [00:05<00:00, 10766.93it/s]\n"
     ]
    }
   ],
   "source": [
    "for i in tqdm(df_[df_['freq'] < 50]['folder']):\n",
    "    \n",
    "    \n",
    "    src = 'Dataset/' + i\n",
    "    dst = 'Temp/' + i\n",
    "    \n",
    "    shutil.move(src, dst)    "
   ]
  },
  {
   "cell_type": "code",
   "execution_count": 163,
   "id": "76b0b245",
   "metadata": {},
   "outputs": [],
   "source": [
    "df = pd.read_csv('final.csv')\n",
    "\n",
    "del df['img_link']\n",
    "del df['img_id']\n",
    "del df['likes']\n",
    "del df['comments']\n",
    "\n",
    "df.to_csv('final.csv', index = False)"
   ]
  }
 ],
 "metadata": {
  "kernelspec": {
   "display_name": "Python 3",
   "language": "python",
   "name": "python3"
  },
  "language_info": {
   "codemirror_mode": {
    "name": "ipython",
    "version": 3
   },
   "file_extension": ".py",
   "mimetype": "text/x-python",
   "name": "python",
   "nbconvert_exporter": "python",
   "pygments_lexer": "ipython3",
   "version": "3.12.8"
  }
 },
 "nbformat": 4,
 "nbformat_minor": 5
}
