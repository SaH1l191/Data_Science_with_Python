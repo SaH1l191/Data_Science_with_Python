{
 "cells": [
  {
   "cell_type": "code",
   "execution_count": 4,
   "metadata": {},
   "outputs": [
    {
     "name": "stdout",
     "output_type": "stream",
     "text": [
      "even\n",
      "True\n",
      "10\n",
      "20\n",
      "30\n",
      "40\n",
      "50\n",
      "60\n",
      "70\n",
      "80\n",
      "90\n",
      "100\n",
      "2000 is not a leap year \n"
     ]
    }
   ],
   "source": [
    "n = int(input(\"enter a number\"))\n",
    "\n",
    "# if else in py   instead of else if use elif \n",
    "if n%2==0:\n",
    "    print('even')\n",
    "else:\n",
    "    print('odd')\n",
    "    \n",
    "\n",
    "#short hand if else \n",
    "print(True) if 5%2!=0 else print(False)\n",
    "\n",
    "#for loops \n",
    "for i in range(1,10 + 1):\n",
    "    print(i*10)\n",
    "\n",
    "year = 2000 \n",
    "print(f\"{year} is not a leap year \")\n",
    "\n",
    "\n"
   ]
  },
  {
   "cell_type": "code",
   "execution_count": 7,
   "metadata": {},
   "outputs": [
    {
     "name": "stdout",
     "output_type": "stream",
     "text": [
      "Index : 0,Element:Data-Science\n",
      "Index : 1,Element:Power BI\n",
      "Index : 2,Element:Python\n",
      "[0, 1, 4, 9, 16]\n"
     ]
    }
   ],
   "source": [
    "#looping \n",
    "\n",
    "#The enumerate() function is handy for obtaining both the index and \n",
    "# value during iteration\n",
    "\n",
    "\n",
    "list22  = [\"Data-Science\", \"Power BI\", \"Python\"]\n",
    "for idx,el in enumerate(list22):\n",
    "    print(f\"Index : {idx},Element:{el}\")\n",
    "\n",
    "squares = [x**2 for x in range(0,5)]\n",
    "print(squares)\n"
   ]
  },
  {
   "cell_type": "code",
   "execution_count": 9,
   "metadata": {},
   "outputs": [
    {
     "name": "stdout",
     "output_type": "stream",
     "text": [
      "513 is not an Armstrong number.\n"
     ]
    }
   ],
   "source": [
    "#check if a number is armstorng or not \n",
    "\n",
    "def check(n):\n",
    "    num_str = str(n)\n",
    "    lenn = len(num_str)\n",
    "    sm_of_digits = sum(int(digit)**lenn for digit in num_str)\n",
    "    \n",
    "\n",
    "num = int(input(\"Enter a number: \"))\n",
    "# Check and display the result\n",
    "if check(num):\n",
    "    print(f\"{num} is an Armstrong number.\")\n",
    "else:\n",
    "    print(f\"{num} is not an Armstrong number.\")"
   ]
  }
 ],
 "metadata": {
  "kernelspec": {
   "display_name": "Python 3",
   "language": "python",
   "name": "python3"
  },
  "language_info": {
   "codemirror_mode": {
    "name": "ipython",
    "version": 3
   },
   "file_extension": ".py",
   "mimetype": "text/x-python",
   "name": "python",
   "nbconvert_exporter": "python",
   "pygments_lexer": "ipython3",
   "version": "3.12.8"
  }
 },
 "nbformat": 4,
 "nbformat_minor": 2
}
