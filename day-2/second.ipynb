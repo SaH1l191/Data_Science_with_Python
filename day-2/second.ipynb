{
 "cells": [
  {
   "cell_type": "code",
   "execution_count": 2,
   "metadata": {},
   "outputs": [
    {
     "name": "stdout",
     "output_type": "stream",
     "text": [
      "even\n",
      "True\n",
      "10\n",
      "20\n",
      "30\n",
      "40\n",
      "50\n",
      "60\n",
      "70\n",
      "80\n",
      "90\n",
      "100\n",
      "2000 is not a leap year \n"
     ]
    }
   ],
   "source": [
    "n = int(input(\"enter a number\"))\n",
    "\n",
    "# if else in py   instead of else if use elif \n",
    "if n%2==0:\n",
    "    print('even')\n",
    "else:\n",
    "    print('odd')\n",
    "    \n",
    "\n",
    "#short hand if else \n",
    "print(True) if 5%2!=0 else print(False)\n",
    "\n",
    "#for loops \n",
    "for i in range(1,10 + 1):\n",
    "    print(i*10)\n",
    "\n",
    "year = 2000 \n",
    "print(f\"{year} is not a leap year \")\n",
    "\n",
    "\n"
   ]
  },
  {
   "cell_type": "code",
   "execution_count": 7,
   "metadata": {},
   "outputs": [
    {
     "name": "stdout",
     "output_type": "stream",
     "text": [
      "Index : 0,Element:Data-Science\n",
      "Index : 1,Element:Power BI\n",
      "Index : 2,Element:Python\n",
      "[0, 1, 4, 9, 16]\n"
     ]
    }
   ],
   "source": [
    "#looping \n",
    "\n",
    "#The enumerate() function is handy for obtaining both the index and \n",
    "# value during iteration\n",
    "\n",
    "\n",
    "list22  = [\"Data-Science\", \"Power BI\", \"Python\"]\n",
    "for idx,el in enumerate(list22):\n",
    "    print(f\"Index : {idx},Element:{el}\")\n",
    "\n",
    "squares = [x**2 for x in range(0,5)]\n",
    "print(squares)\n"
   ]
  },
  {
   "cell_type": "code",
   "execution_count": null,
   "metadata": {},
   "outputs": [],
   "source": []
  },
  {
   "cell_type": "code",
   "execution_count": 9,
   "metadata": {},
   "outputs": [
    {
     "name": "stdout",
     "output_type": "stream",
     "text": [
      "513 is not an Armstrong number.\n"
     ]
    }
   ],
   "source": [
    "#check if a number is armstorng or not \n",
    "\n",
    "def check(n):\n",
    "    num_str = str(n)\n",
    "    lenn = len(num_str)\n",
    "    sm_of_digits = sum(int(digit)**lenn for digit in num_str)\n",
    "    \n",
    "\n",
    "num = int(input(\"Enter a number: \"))\n",
    "# Check and display the result\n",
    "if check(num):\n",
    "    print(f\"{num} is an Armstrong number.\")\n",
    "else:\n",
    "    print(f\"{num} is not an Armstrong number.\")"
   ]
  },
  {
   "cell_type": "code",
   "execution_count": 3,
   "metadata": {},
   "outputs": [
    {
     "name": "stdout",
     "output_type": "stream",
     "text": [
      "sdaf\n",
      "['arima', True, 'asdf']\n",
      "['arima', 'sdaf', True, 4, 'asdf']\n",
      "75\n",
      "[1, 2, 3, 3, 4, 75]\n",
      "4\n",
      "9\n",
      "2\n",
      "-----\n",
      "['asdf', 4, True, 'sdaf', 'arima', 'Prima', 'saddd', 'larik', 'arima']\n",
      "['arima', 'larik']\n"
     ]
    }
   ],
   "source": [
    "\n",
    "#list is mutable and ordered \n",
    "list1 = ['asdf',4,True,\"sdaf\",\"arima\"]\n",
    "print(list1[-2])\n",
    "print(list1[::-2]) #print from reverse but step is 2\n",
    "print(list1[::-1]) #pprint in reverse fashion \n",
    "\n",
    "list1.append('Prima')  #only append single items \n",
    "list1.extend([\"saddd\",\"larik\"]) #multiple items \n",
    "list1.append(\"arima\")\n",
    "\n",
    "list2 = [1,2,3,4,75,3]\n",
    "print(max(list2))\n",
    "print(sorted(list2))\n",
    "print(list1.index('arima'))\n",
    "print(len(list1))\n",
    "print(list1.count('arima'))\n",
    "if 'asdf' in list1: print(\"is present\")\n",
    "print(\"-\"*5)\n",
    "print(list1)\n",
    "print(list1[-1:-3:-1]) # prints last three eleemnts \n",
    "\n",
    "\n",
    "\n"
   ]
  },
  {
   "cell_type": "code",
   "execution_count": 60,
   "metadata": {},
   "outputs": [
    {
     "name": "stdout",
     "output_type": "stream",
     "text": [
      "['asdf']\n",
      "2\n",
      "-----\n",
      "printing list \n",
      "your\n",
      "yoru \n",
      "andrew\n",
      "0\n"
     ]
    }
   ],
   "source": [
    "lst= [[\"asdf\"],[\"your\"],[\"yoru \",\"andrew\"]]\n",
    "print(lst[0])\n",
    "del(lst[0])  # delete a  list index\n",
    "print(len(lst))\n",
    "print(\"-\"*5)\n",
    "print(\"printing list \")\n",
    "for i in  lst:\n",
    "    for j in i:\n",
    "        print(j)    \n",
    "\n",
    "lst[0].extend([\"andrew\"])\n",
    "\n",
    "\n",
    "lst = [[\"asdf\"], [\"your\"], [\"yoru\", \"andrew\"]]\n",
    "\n",
    "if \"asdf\" in lst[0]:\n",
    "    print(lst[0].index(\"asdf\"))\n",
    "else:\n",
    "    print(\"'asdf' is not in the first sublist.\")\n",
    "\n",
    "\n"
   ]
  },
  {
   "cell_type": "code",
   "execution_count": 4,
   "metadata": {},
   "outputs": [
    {
     "name": "stdout",
     "output_type": "stream",
     "text": [
      "[4, 9, 16, 25, 36]\n",
      "[0, 2, 4, 6, 8, 10, 12, 14, 16, 18]\n",
      "[[0, 1], [0, 1], [0, 1]]\n",
      "[1, 2, 3, 4, 5, 6]\n"
     ]
    }
   ],
   "source": [
    "#List comprehensions \n",
    "\n",
    "lst =[2,3,4,5,6]\n",
    "nelst = [i**2 for i in lst] # list comprehension shorter syntax\n",
    "print(nelst)\n",
    "\n",
    "print([i for i in range(20) if i%2==0])\n",
    "\n",
    "\n",
    "#2d lists \n",
    "print([[j for j in range(2)] for i in  range(3)])\n",
    "\n",
    "#list flatenning \n",
    "lstt= [[1, 2], [3, 4], [5, 6]]\n",
    "print([num for row in lstt for num in row])\n"
   ]
  },
  {
   "cell_type": "code",
   "execution_count": 5,
   "metadata": {},
   "outputs": [
    {
     "name": "stdout",
     "output_type": "stream",
     "text": [
      "['ewr', 'TRuew', True]\n",
      "[3, 4, 5, 6]\n",
      "[True, 'TRuew', 'ewr']\n",
      "[True, 'TRuew', 'ewr', True, 'TRuew', 'ewr']\n"
     ]
    }
   ],
   "source": [
    "\n",
    "list4 = [123, 'ewr',\"TRuew\",True]\n",
    "list4.remove(123)\n",
    "print(list4)\n",
    "list33=[6,5,4,3]\n",
    "list33.sort()\n",
    "print(list33)\n",
    "list4.reverse()\n",
    "print(list4)\n",
    "print(list4 * 2)"
   ]
  },
  {
   "cell_type": "code",
   "execution_count": 66,
   "metadata": {},
   "outputs": [
    {
     "name": "stdout",
     "output_type": "stream",
     "text": [
      "again \n",
      "False\n",
      "{2: 'not again ', 3: 'false', 4: 'true', 5: 'three'}\n"
     ]
    }
   ],
   "source": [
    "#dictionary \n",
    "# unordered\n",
    "dict1 = {\n",
    "    1 : \"ashihs\",\n",
    "    2 : True,\n",
    "    3 : \"false\",\n",
    "    4:\"true\", # this would overwrite \n",
    "}\n",
    "dict2 = { \n",
    "    1 : \"again \", \n",
    "    2 : \"not again \"\n",
    "}\n",
    "removed_value = dict2.pop(1)\n",
    "print(removed_value) \n",
    "\n",
    "\n",
    "#accessing the particular leement \n",
    "# print(dict1[2])\n",
    "# print(dict1.get(2))\n",
    "\n",
    "dict1[5] = \"three\" #adding new dict entry \n",
    "\n",
    "#deleting \n",
    "del(dict1[1])\n",
    "# print(dict1)\n",
    "\n",
    "#key values \n",
    "# print(dict1.keys())\n",
    "# print(dict1.values())\n",
    "\n",
    "#iterating the dict \n",
    "# for value in dict1.keys():\n",
    "#     print(value , dict1[value])\n",
    "\n",
    "# for i,j in dict1.items():\n",
    "#     print(i , j)\n",
    "\n",
    "#check if el present or not \n",
    "print(\"True\" in dict1)\n",
    "\n",
    "\n",
    "\n",
    "\n",
    "\n",
    "#updating   dictionary 1  \n",
    "dict1.update(dict2)\n",
    "print(dict1)\n"
   ]
  },
  {
   "cell_type": "code",
   "execution_count": 74,
   "metadata": {},
   "outputs": [
    {
     "name": "stdout",
     "output_type": "stream",
     "text": [
      "sahil\n",
      "1 324\n",
      "2 32344\n",
      "3 32674\n"
     ]
    }
   ],
   "source": [
    "dict1 = {1 : {\"name\" : \"sahil\",\"phone\":\"324\"},\n",
    "          2:  {\"name\": \"riya\",\"phone\":\"32344\"},\n",
    "          3:  {\"name\" : \"avni\",\"phone\":\"32674\"}\n",
    "         }\n",
    "# print(dict1)\n",
    "print(dict1[1][\"name\"])\n",
    "#same for updating \n",
    "dict1[4] = {\"name\" :\"garima\"}\n",
    "del(dict1[4])\n",
    "\n",
    "for i in dict1.keys():\n",
    "    print(i,dict1[i][\"phone\"])\n",
    "\n"
   ]
  },
  {
   "cell_type": "code",
   "execution_count": 78,
   "metadata": {},
   "outputs": [
    {
     "name": "stdout",
     "output_type": "stream",
     "text": [
      "{2: 4, 4: 16, 6: 36, 8: 64}\n"
     ]
    }
   ],
   "source": [
    "#dicct comprehhension \n",
    "dict1 = {i:i**2 for i in range(1,9) if i%2==0}\n",
    "print(dict1)"
   ]
  },
  {
   "cell_type": "code",
   "execution_count": 4,
   "metadata": {},
   "outputs": [
    {
     "name": "stdout",
     "output_type": "stream",
     "text": [
      "{'apple': 5, 'pineapple': 9}\n",
      "{'num2': 2, 'num4': 4, 'num6': 6, 'num8': 8}\n"
     ]
    }
   ],
   "source": [
    "#dicct comprehhension \n",
    "\n",
    "#list to dic \n",
    "list1 = [\"apple\",\"pineapple\"]\n",
    "\n",
    "dic1 = { item :len(item ) for item in list1}\n",
    "\n",
    "print(dic1)\n",
    "\n",
    "\n",
    "print({'num'+str(i):i for i in range(1,10) if i%2==0})"
   ]
  },
  {
   "cell_type": "code",
   "execution_count": 9,
   "metadata": {},
   "outputs": [
    {
     "name": "stdout",
     "output_type": "stream",
     "text": [
      "{(0, 0): 1, (0, 1): 2, (0, 2): 3, (1, 0): 4, (1, 1): 5, (1, 2): 6, (2, 0): 7, (2, 1): 8, (2, 2): 9}\n"
     ]
    }
   ],
   "source": [
    "matrix = [[1, 2, 3], [4, 5, 6], [7, 8, 9]]\n",
    "final_dct = {(i, j): matrix[i][j] for i in range(3) for j in range(3)}\n",
    "\n",
    "print(final_dct)"
   ]
  },
  {
   "cell_type": "code",
   "execution_count": 10,
   "metadata": {},
   "outputs": [
    {
     "name": "stdout",
     "output_type": "stream",
     "text": [
      "First Level Key: first_level\n",
      "  Second Level Key: second_level_1\n",
      "    Third Level Key: third_level_1, Value: 1\n",
      "    Third Level Key: third_level_2, Value: 2\n",
      "  Second Level Key: second_level_2\n",
      "    Third Level Key: third_level_3, Value: 3\n",
      "    Third Level Key: third_level_4, Value: 4\n",
      "First Level Key: another_first_level\n",
      "  Second Level Key: second_level_3\n",
      "    Third Level Key: third_level_5, Value: 5\n",
      "    Third Level Key: third_level_6, Value: 6\n",
      "  Second Level Key: second_level_4\n",
      "    Third Level Key: third_level_7, Value: 7\n",
      "    Third Level Key: third_level_8, Value: 8\n"
     ]
    }
   ],
   "source": [
    "multidimensional_dict = {\n",
    "        'first_level': {\n",
    "             'second_level_1': {\n",
    "                     'third_level_1': 1,\n",
    "                     'third_level_2': 2\n",
    "               },\n",
    "        'second_level_2': {\n",
    "                    'third_level_3': 3,\n",
    "                    'third_level_4': 4\n",
    "                   }\n",
    "              },\n",
    " 'another_first_level': {\n",
    "                'second_level_3': {\n",
    "                             'third_level_5': 5,\n",
    "                             'third_level_6': 6\n",
    "                             },\n",
    "              'second_level_4': {\n",
    "                            'third_level_7': 7,\n",
    "                            'third_level_8': 8\n",
    "                    }\n",
    "             }\n",
    "        }\n",
    "for first_level_key, second_level_dict in multidimensional_dict.items():\n",
    "    print(f\"First Level Key: {first_level_key}\")\n",
    "    \n",
    "    for second_level_key, third_level_dict in second_level_dict.items():\n",
    "        print(f\"  Second Level Key: {second_level_key}\")\n",
    "        \n",
    "        for third_level_key, value in third_level_dict.items():\n",
    "            print(f\"    Third Level Key: {third_level_key}, Value: {value}\")"
   ]
  }
 ],
 "metadata": {
  "kernelspec": {
   "display_name": "Python 3",
   "language": "python",
   "name": "python3"
  },
  "language_info": {
   "codemirror_mode": {
    "name": "ipython",
    "version": 3
   },
   "file_extension": ".py",
   "mimetype": "text/x-python",
   "name": "python",
   "nbconvert_exporter": "python",
   "pygments_lexer": "ipython3",
   "version": "3.12.8"
  }
 },
 "nbformat": 4,
 "nbformat_minor": 2
}
