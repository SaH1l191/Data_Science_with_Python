{
 "cells": [
  {
   "cell_type": "code",
   "execution_count": 15,
   "metadata": {},
   "outputs": [
    {
     "name": "stdout",
     "output_type": "stream",
     "text": [
      "[1 2 3 None 4 5 None]\n",
      "None\n",
      "nan\n"
     ]
    }
   ],
   "source": [
    "import numpy as np \n",
    "\n",
    "arr = np.array([1,2,3,None, 4,5,None])\n",
    "print(arr)\n",
    "\n",
    "arr[arr == None] = np.nan # assign NAN to a none value\n",
    "# print(arr)\n",
    "\n",
    "\n",
    "print(None)\n",
    "print(np.nan)\n",
    "\n",
    "\n",
    "\n"
   ]
  },
  {
   "cell_type": "markdown",
   "metadata": {},
   "source": [
    "# Removing null values from array"
   ]
  },
  {
   "cell_type": "code",
   "execution_count": 16,
   "metadata": {},
   "outputs": [
    {
     "name": "stdout",
     "output_type": "stream",
     "text": [
      "[False False False  True False False  True]\n",
      "[ True  True  True False  True  True False]\n",
      "[1. 2. 3. 4. 5.]\n"
     ]
    }
   ],
   "source": [
    "\n",
    "arr = np.array([1,2,3,np.nan, 4,5,np.nan])\n",
    "\n",
    "print(np.isnan(arr))\n",
    "print(~np.isnan(arr))\n",
    "\n",
    "arr = arr[~np.isnan(arr)]\n",
    "print(arr)"
   ]
  },
  {
   "cell_type": "markdown",
   "metadata": {},
   "source": [
    "# Removing the NULL values "
   ]
  },
  {
   "cell_type": "code",
   "execution_count": 18,
   "metadata": {},
   "outputs": [
    {
     "name": "stdout",
     "output_type": "stream",
     "text": [
      "[False False False  True False False  True]\n",
      "[ True  True  True False  True  True False]\n",
      "[1. 2. 3. 0. 4. 5. 0.]\n"
     ]
    }
   ],
   "source": [
    "arr = np.array([1,2,3,np.nan, 4,5,np.nan])\n",
    "print(np.isnan(arr))\n",
    "print(~np.isnan(arr))\n",
    "\n",
    "arr[np.isnan(arr)] = 0\n",
    "print(arr)\n"
   ]
  },
  {
   "cell_type": "markdown",
   "metadata": {},
   "source": [
    "# Filling NULL with average values "
   ]
  },
  {
   "cell_type": "code",
   "execution_count": 23,
   "metadata": {},
   "outputs": [
    {
     "name": "stdout",
     "output_type": "stream",
     "text": [
      "[21. 22. 22. 22. 24. 25. 22.]\n"
     ]
    }
   ],
   "source": [
    "arr = np.array([21,22,22, np.nan, 24,25,np.nan])\n",
    "# print(arr)\n",
    "# print(arr[np.isnan(arr)]) # gives null values \n",
    "\n",
    "arr[np.isnan(arr)] = int(np.nanmean(arr))\n",
    "print(arr)\n"
   ]
  }
 ],
 "metadata": {
  "kernelspec": {
   "display_name": "Python 3",
   "language": "python",
   "name": "python3"
  },
  "language_info": {
   "codemirror_mode": {
    "name": "ipython",
    "version": 3
   },
   "file_extension": ".py",
   "mimetype": "text/x-python",
   "name": "python",
   "nbconvert_exporter": "python",
   "pygments_lexer": "ipython3",
   "version": "3.12.8"
  }
 },
 "nbformat": 4,
 "nbformat_minor": 2
}
