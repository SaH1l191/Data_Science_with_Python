{
 "cells": [
  {
   "cell_type": "code",
   "execution_count": 1,
   "metadata": {},
   "outputs": [
    {
     "data": {
      "text/plain": [
       "array([[ 5,  1,  7,  9,  5],\n",
       "       [ 9,  7, 10,  3,  5],\n",
       "       [ 7,  8,  3,  3,  8],\n",
       "       [10, 10,  1,  8,  7],\n",
       "       [ 8, 10,  1,  1,  4]], dtype=int32)"
      ]
     },
     "execution_count": 1,
     "metadata": {},
     "output_type": "execute_result"
    }
   ],
   "source": [
    "import numpy as np \n",
    "\n",
    "arr = np.random.randint(1,11,size=(5,5))\n",
    "arr"
   ]
  },
  {
   "cell_type": "markdown",
   "metadata": {},
   "source": [
    "# filtering \n"
   ]
  },
  {
   "cell_type": "code",
   "execution_count": 4,
   "metadata": {},
   "outputs": [
    {
     "name": "stdout",
     "output_type": "stream",
     "text": [
      "[ 7  9  9  7 10  7  8  8 10 10  8  7  8 10]\n"
     ]
    }
   ],
   "source": [
    "arr[arr>5]\n",
    "print(arr[arr > 5 ])"
   ]
  },
  {
   "cell_type": "code",
   "execution_count": 5,
   "metadata": {},
   "outputs": [
    {
     "name": "stdout",
     "output_type": "stream",
     "text": [
      "[10  8  8 10 10  8  8 10]\n"
     ]
    }
   ],
   "source": [
    "# Filter elements that are both greather than 5 and even\n",
    "\n",
    "print(arr[(arr%2==0) & (arr > 4)])"
   ]
  },
  {
   "cell_type": "code",
   "execution_count": null,
   "metadata": {},
   "outputs": [],
   "source": [
    "print(arr)\n",
    "arr1 = np.array([True, False, True,False,True])\n",
    "# only show  the rows where true condition is there \n",
    "print(arr[arr1])"
   ]
  },
  {
   "cell_type": "markdown",
   "metadata": {},
   "source": [
    "# Filtering based on indexing in 2d Array"
   ]
  },
  {
   "cell_type": "code",
   "execution_count": 9,
   "metadata": {},
   "outputs": [
    {
     "name": "stdout",
     "output_type": "stream",
     "text": [
      "[[ 5  1  7  9  5]\n",
      " [ 9  7 10  3  5]\n",
      " [ 7  8  3  3  8]\n",
      " [10 10  1  8  7]\n",
      " [ 8 10  1  1  4]]\n",
      "****************************************\n",
      "[7 8 8]\n"
     ]
    }
   ],
   "source": [
    "print(arr)\n",
    "filterr =  arr[2][arr[2,:] > 5]\n",
    "print(\"*\" * 40)\n",
    "print(filterr)"
   ]
  },
  {
   "cell_type": "markdown",
   "metadata": {},
   "source": [
    "# aggregate functions "
   ]
  },
  {
   "cell_type": "code",
   "execution_count": 13,
   "metadata": {},
   "outputs": [
    {
     "name": "stdout",
     "output_type": "stream",
     "text": [
      "15\n",
      "21\n",
      "[5 7 9]\n",
      "[ 6 15]\n"
     ]
    }
   ],
   "source": [
    "arr = np.array([1,2,3,4,5])\n",
    "print(np.sum(arr))\n",
    "\n",
    "arr = np.array([[1,2,3],[4,5,6]])\n",
    "print(np.sum(arr))\n",
    "\n",
    "print(np.sum(arr, axis = 0)) # cols \n",
    "print(np.sum(arr, axis = 1))\n"
   ]
  },
  {
   "cell_type": "code",
   "execution_count": 14,
   "metadata": {},
   "outputs": [
    {
     "name": "stdout",
     "output_type": "stream",
     "text": [
      "3.0\n",
      "3.5\n",
      "[2.5 3.5 4.5]\n",
      "[2. 5.]\n"
     ]
    }
   ],
   "source": [
    "arr = np.array([1,2,3,4,5])\n",
    "print(np.mean(arr))\n",
    "\n",
    "arr = np.array([[1,2,3],[4,5,6]])\n",
    "print(np.mean(arr))\n",
    "print(np.mean(arr, axis = 0))\n",
    "print(np.mean(arr, axis = 1))\n",
    "     "
   ]
  },
  {
   "cell_type": "code",
   "execution_count": 15,
   "metadata": {},
   "outputs": [
    {
     "name": "stdout",
     "output_type": "stream",
     "text": [
      "1.4142135623730951\n",
      "1.707825127659933\n",
      "[1.5 1.5 1.5]\n",
      "[0.81649658 0.81649658]\n"
     ]
    }
   ],
   "source": [
    "arr = np.array([1,2,3,4,5])\n",
    "print(np.std(arr))\n",
    "\n",
    "arr = np.array([[1,2,3],[4,5,6]])\n",
    "print(np.std(arr))\n",
    "print(np.std(arr, axis = 0))\n",
    "print(np.std(arr, axis = 1))"
   ]
  },
  {
   "cell_type": "code",
   "execution_count": 16,
   "metadata": {},
   "outputs": [
    {
     "name": "stdout",
     "output_type": "stream",
     "text": [
      "1\n",
      "1\n",
      "[1 2 3]\n",
      "[1 4]\n",
      "--------------------\n",
      "5\n",
      "6\n",
      "[4 5 6]\n",
      "[3 6]\n"
     ]
    }
   ],
   "source": [
    "\n",
    "arr = np.array([1,2,3,4,5])\n",
    "print(np.min(arr))\n",
    "\n",
    "arr = np.array([[1,2,3],[4,5,6]])\n",
    "print(np.min(arr))\n",
    "print(np.min(arr, axis = 0))\n",
    "print(np.min(arr, axis = 1))\n",
    "\n",
    "print('-'*20)\n",
    "\n",
    "arr = np.array([1,2,3,4,5])\n",
    "print(np.max(arr))\n",
    "\n",
    "arr = np.array([[1,2,3],[4,5,6]])\n",
    "print(np.max(arr))\n",
    "print(np.max(arr, axis = 0))\n",
    "print(np.max(arr, axis = 1))"
   ]
  }
 ],
 "metadata": {
  "kernelspec": {
   "display_name": "Python 3",
   "language": "python",
   "name": "python3"
  },
  "language_info": {
   "codemirror_mode": {
    "name": "ipython",
    "version": 3
   },
   "file_extension": ".py",
   "mimetype": "text/x-python",
   "name": "python",
   "nbconvert_exporter": "python",
   "pygments_lexer": "ipython3",
   "version": "3.12.8"
  }
 },
 "nbformat": 4,
 "nbformat_minor": 2
}
