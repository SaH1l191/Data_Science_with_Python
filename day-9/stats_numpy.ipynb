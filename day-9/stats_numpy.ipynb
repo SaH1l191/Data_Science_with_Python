{
 "cells": [
  {
   "cell_type": "code",
   "execution_count": 7,
   "metadata": {},
   "outputs": [
    {
     "name": "stdout",
     "output_type": "stream",
     "text": [
      "--------------------\n",
      "Mean      :  45.14\n",
      "Median    :  45.5\n",
      "--------------------\n",
      "Variance  :  813.4204\n",
      "Standard  :  28.52052594185458\n",
      "--------------------\n",
      "Q1        :  19.5\n",
      "Q2        :  45.5\n",
      "Q3        :  67.0\n",
      "--------------------\n",
      "IQR       :  47.5\n",
      "Skewness  :  0.15023638963047772\n",
      "Kurtosis  :  1.8498599222767877\n"
     ]
    }
   ],
   "source": [
    "import numpy as np\n",
    "\n",
    "# Generating a random array of 100 integers between 1 and 100\n",
    "arr = np.random.randint(low=1, high=101, size=100)\n",
    "\n",
    "# print(arr)\n",
    "\n",
    "mean = np.mean(arr)\n",
    "median = np.median(arr)\n",
    "\n",
    "# Computing variance and standard deviation\n",
    "variance = np.var(arr)\n",
    "std_dev = np.std(arr)\n",
    "\n",
    "print('-'*20)\n",
    "# Computing quartiles (Q1, Q2, Q3) and interquartile range (IQR)\n",
    "q1 = np.percentile(arr, 25)\n",
    "q2 = np.percentile(arr, 50)  # Median ===  50th percentile\n",
    "q3 = np.percentile(arr, 75)\n",
    "iqr = q3 - q1\n",
    "# print(iqr)\n",
    "\n",
    "# Skewness measures the asymmetry of the distribution of a dataset.\n",
    "# A positive skew means the distribution has a longer tail on the right side.\n",
    "# A negative skew means the distribution has a longer tail on the left side.\n",
    "# A skewness of 0 indicates a perfectly symmetrical distribution\n",
    "skewness = np.mean((arr - mean) ** 3) / (std_dev ** 3)\n",
    "\n",
    "\n",
    "kurtosis = np.mean((arr - mean) ** 4) / (std_dev ** 4)\n",
    "\n",
    "# Kurtosis measures the \"tailedness\" or the sharpness of the peak of the distribution.\n",
    "# A high kurtosis indicates that the distribution has heavy tails and a sharper peak (i.e., more outliers).\n",
    "# A low kurtosis indicates that the distribution has lighter tails and a flatter peak\n",
    "\n",
    "\n",
    "\n",
    "\n",
    "print('Mean      : ', mean)\n",
    "print('Median    : ', median)\n",
    "# print('Mode      : ', mode)\n",
    "print('-'*20)\n",
    "\n",
    "print('Variance  : ', variance)\n",
    "print('Standard  : ', std_dev)\n",
    "print('-'*20)\n",
    "\n",
    "print('Q1        : ', q1)\n",
    "print('Q2        : ', q2)\n",
    "print('Q3        : ', q3)\n",
    "print('-'*20)\n",
    "\n",
    "print('IQR       : ', iqr)\n",
    "print('Skewness  : ', skewness)\n",
    "print('Kurtosis  : ', kurtosis)"
   ]
  },
  {
   "cell_type": "markdown",
   "metadata": {},
   "source": [
    "# Searching and shorting in python "
   ]
  },
  {
   "cell_type": "code",
   "execution_count": 13,
   "metadata": {},
   "outputs": [
    {
     "name": "stdout",
     "output_type": "stream",
     "text": [
      "(array([1]),)\n",
      "[1]\n",
      "6\n",
      "5\n"
     ]
    }
   ],
   "source": [
    "import numpy as np\n",
    "arr = np.array([1,3,4,6,5,7,12,13])\n",
    "print(np.where(arr==3))\n",
    "index=  np.where(arr==3)[0]\n",
    "print(index)\n",
    "\n",
    "\n",
    "#  to find the element in the array that is closest to a given value.\n",
    "arr = np.array([1,3,4,6,5,7,12,13])\n",
    "index = np.argmin(abs(arr - 11))\n",
    "print(index)\n",
    "\n",
    "# binary search \n",
    "index = np.searchsorted(arr, 6)\n",
    "print(index)\n",
    "\n",
    "arr = np.array([5,7,9,0,3,1,6,2,4,8])\n",
    "\n",
    "# Quick Sort\n",
    "sorted_arr = np.sort(arr)\n",
    "sorted_arr = np.sort(arr, kind = 'quicksort')\n",
    "# print(sorted_arr)\n",
    "\n",
    "# Heap Sort\n",
    "sorted_arr = np.sort(arr, kind = 'heapsort')\n",
    "# print(sorted_arr)\n",
    "\n",
    "# Merge Sort\n",
    "sorted_arr = np.sort(arr, kind = 'mergesort')\n",
    "# print(sorted_arr)"
   ]
  },
  {
   "cell_type": "code",
   "execution_count": 19,
   "metadata": {},
   "outputs": [
    {
     "name": "stdout",
     "output_type": "stream",
     "text": [
      "[ 1.  2. nan  4.  5. nan]\n",
      "[False False  True False False  True]\n",
      "[nan nan]\n",
      "[1 2 2 2 3 3 4 5 6 7 8 9]\n",
      "[1 2 3 4 5 6 7 8 9]\n",
      "{np.int64(1), np.int64(2), np.int64(3), np.int64(4), np.int64(5), np.int64(6), np.int64(7), np.int64(8), np.int64(9)}\n"
     ]
    }
   ],
   "source": [
    "arr = np.array([1,2,np.nan,4,5,np.nan])\n",
    "print(arr)\n",
    "\n",
    "print(np.isnan(arr))\n",
    "\n",
    "\n",
    "print(arr[np.isnan(arr)])\n",
    "\n",
    "arr[arr > 7] = 7\n",
    "\n",
    "\n",
    "arr = np.array([1,2,2,2,3,3,4,5,6,7,8,9])\n",
    "print(arr)\n",
    "\n",
    "unique_arr = np.unique(arr)\n",
    "print(unique_arr)\n",
    "print(set(arr))\n"
   ]
  },
  {
   "cell_type": "markdown",
   "metadata": {},
   "source": [
    "# Data cleaning "
   ]
  },
  {
   "cell_type": "markdown",
   "metadata": {},
   "source": [
    "# categorical data to One hot encoding "
   ]
  },
  {
   "cell_type": "code",
   "execution_count": 22,
   "metadata": {},
   "outputs": [
    {
     "name": "stdout",
     "output_type": "stream",
     "text": [
      "[[1. 0. 0. 0. 0.]\n",
      " [0. 1. 0. 0. 0.]\n",
      " [0. 0. 1. 0. 0.]\n",
      " [0. 0. 0. 1. 0.]\n",
      " [0. 0. 0. 0. 1.]]\n"
     ]
    }
   ],
   "source": [
    "categorical_arr = np.array(['A', 'B', 'C', 'D', 'E'])\n",
    "numrical_arr = np.array([0, 1, 2, 3, 4])\n",
    "# 'A' is at position 0\n",
    "# 'B' is at position 1\n",
    "# 'C' is at position 2\n",
    "# 'D' is at position 3\n",
    "# 'E' is at position 4\n",
    "one_hot_arr = np.eye(5)[numrical_arr]\n",
    "print(one_hot_arr)"
   ]
  },
  {
   "cell_type": "markdown",
   "metadata": {},
   "source": [
    "# data normalization"
   ]
  },
  {
   "cell_type": "code",
   "execution_count": 25,
   "metadata": {},
   "outputs": [
    {
     "name": "stdout",
     "output_type": "stream",
     "text": [
      "[0.         0.03807615 0.05811623 0.7995992  1.        ]\n"
     ]
    }
   ],
   "source": [
    "arr = np.array([10000,200000,300000,4000000,5000000])\n",
    "  \n",
    "normalized_arr = (arr - arr.min()) / (arr.max() - arr.min())\n",
    "print(normalized_arr)\n",
    "#  all values will now come between 0 and 1\n",
    "# \n",
    "# "
   ]
  }
 ],
 "metadata": {
  "kernelspec": {
   "display_name": "Python 3",
   "language": "python",
   "name": "python3"
  },
  "language_info": {
   "codemirror_mode": {
    "name": "ipython",
    "version": 3
   },
   "file_extension": ".py",
   "mimetype": "text/x-python",
   "name": "python",
   "nbconvert_exporter": "python",
   "pygments_lexer": "ipython3",
   "version": "3.12.8"
  }
 },
 "nbformat": 4,
 "nbformat_minor": 2
}
